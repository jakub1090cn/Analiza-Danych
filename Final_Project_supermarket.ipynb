{
  "cells": [
    {
      "cell_type": "markdown",
      "metadata": {
        "id": "view-in-github",
        "colab_type": "text"
      },
      "source": [
        "<a href=\"https://colab.research.google.com/github/jakub1090cn/Analiza-Eksploracyjna-Danych-EDA-/blob/main/Final_Project_supermarket.ipynb\" target=\"_parent\"><img src=\"https://colab.research.google.com/assets/colab-badge.svg\" alt=\"Open In Colab\"/></a>"
      ]
    },
    {
      "cell_type": "code",
      "execution_count": null,
      "metadata": {
        "collapsed": true,
        "ExecuteTime": {
          "end_time": "2024-01-22T11:49:12.112004700Z",
          "start_time": "2024-01-22T11:49:12.051578800Z"
        },
        "id": "9OW9NrGcAOBi"
      },
      "outputs": [],
      "source": [
        "import pandas as pd\n",
        "import plotly.express as px"
      ]
    },
    {
      "cell_type": "markdown",
      "source": [
        "**Analiza danych 'Supermarket Sales'**\n",
        "\n",
        "Analiza została przeprowadzona na podstawie danych dostępnych na: https://www.kaggle.com/datasets/aungpyaeap/supermarket-sales/data\n",
        "\n",
        "Zbiór zawiera dane dotyczące sprzedaży w trzech marketach:\n",
        "- **Invoice id**: Komputerowo generowany numer identyfikacyjny paragonu sprzedażowego.\n",
        "- **Branch**: Oddział supercentrum (dostępne są 3 oddziały oznaczone jako A, B i C).\n",
        "- **City**: Lokalizacja supercentrów.\n",
        "- **Customer type**: Typ klientów, rejestrowany jako Członkowie dla klientów używających karty członkowskiej i Zwykli dla tych bez karty.\n",
        "- **Gender**: Płeć klienta.\n",
        "- **Product line**: Ogólne kategorie grupowania produktów - Akcesoria elektroniczne, Akcesoria modowe, Jedzenie i napoje, Zdrowie i uroda, Dom i styl życia, Sport i podróże.\n",
        "- **Unit price**: Cena każdego produktu w dolarach ($).\n",
        "- **Quantity**: Liczba produktów zakupionych przez klienta.\n",
        "- **Tax**: 5% opłata podatkowa od zakupów klienta.\n",
        "- **Total**: Całkowita cena łącznie z podatkiem.\n",
        "- **Date**: Data zakupu (dane dostępne od stycznia 2019 do marca 2019).\n",
        "- **Time**: Czas zakupu (od 10:00 do 21:00).\n",
        "- **Payment**: Metoda płatności używana przez klienta przy zakupie (dostępne 3 metody – Gotówka, Karta kredytowa i E-wallet).\n",
        "- **COGS**: Koszt sprzedanych towarów.\n",
        "- **Gross margin percentage**: Procent marży brutto.\n",
        "- **Gross income**: Dochód brutto.\n",
        "- **Rating**: Ocena stratyfikacji klienta dotycząca ich ogólnego doświadczenia z zakupów (w skali od 1 do 10)."
      ],
      "metadata": {
        "id": "18EDBa57YAhs"
      }
    },
    {
      "cell_type": "code",
      "execution_count": null,
      "outputs": [
        {
          "output_type": "execute_result",
          "data": {
            "text/plain": [
              "    Invoice ID Branch       City Customer type  Gender  \\\n",
              "0  750-67-8428      A     Yangon        Member  Female   \n",
              "1  226-31-3081      C  Naypyitaw        Normal  Female   \n",
              "2  631-41-3108      A     Yangon        Normal    Male   \n",
              "3  123-19-1176      A     Yangon        Member    Male   \n",
              "4  373-73-7910      A     Yangon        Normal    Male   \n",
              "\n",
              "             Product line  Unit price  Quantity   Tax 5%     Total       Date  \\\n",
              "0       Health and beauty       74.69         7  26.1415  548.9715   1/5/2019   \n",
              "1  Electronic accessories       15.28         5   3.8200   80.2200   3/8/2019   \n",
              "2      Home and lifestyle       46.33         7  16.2155  340.5255   3/3/2019   \n",
              "3       Health and beauty       58.22         8  23.2880  489.0480  1/27/2019   \n",
              "4       Sports and travel       86.31         7  30.2085  634.3785   2/8/2019   \n",
              "\n",
              "    Time      Payment    cogs  gross margin percentage  gross income  Rating  \n",
              "0  13:08      Ewallet  522.83                 4.761905       26.1415     9.1  \n",
              "1  10:29         Cash   76.40                 4.761905        3.8200     9.6  \n",
              "2  13:23  Credit card  324.31                 4.761905       16.2155     7.4  \n",
              "3  20:33      Ewallet  465.76                 4.761905       23.2880     8.4  \n",
              "4  10:37      Ewallet  604.17                 4.761905       30.2085     5.3  "
            ],
            "text/html": [
              "\n",
              "  <div id=\"df-cf2abaf8-28a8-4388-b8d7-3f4f9710285a\" class=\"colab-df-container\">\n",
              "    <div>\n",
              "<style scoped>\n",
              "    .dataframe tbody tr th:only-of-type {\n",
              "        vertical-align: middle;\n",
              "    }\n",
              "\n",
              "    .dataframe tbody tr th {\n",
              "        vertical-align: top;\n",
              "    }\n",
              "\n",
              "    .dataframe thead th {\n",
              "        text-align: right;\n",
              "    }\n",
              "</style>\n",
              "<table border=\"1\" class=\"dataframe\">\n",
              "  <thead>\n",
              "    <tr style=\"text-align: right;\">\n",
              "      <th></th>\n",
              "      <th>Invoice ID</th>\n",
              "      <th>Branch</th>\n",
              "      <th>City</th>\n",
              "      <th>Customer type</th>\n",
              "      <th>Gender</th>\n",
              "      <th>Product line</th>\n",
              "      <th>Unit price</th>\n",
              "      <th>Quantity</th>\n",
              "      <th>Tax 5%</th>\n",
              "      <th>Total</th>\n",
              "      <th>Date</th>\n",
              "      <th>Time</th>\n",
              "      <th>Payment</th>\n",
              "      <th>cogs</th>\n",
              "      <th>gross margin percentage</th>\n",
              "      <th>gross income</th>\n",
              "      <th>Rating</th>\n",
              "    </tr>\n",
              "  </thead>\n",
              "  <tbody>\n",
              "    <tr>\n",
              "      <th>0</th>\n",
              "      <td>750-67-8428</td>\n",
              "      <td>A</td>\n",
              "      <td>Yangon</td>\n",
              "      <td>Member</td>\n",
              "      <td>Female</td>\n",
              "      <td>Health and beauty</td>\n",
              "      <td>74.69</td>\n",
              "      <td>7</td>\n",
              "      <td>26.1415</td>\n",
              "      <td>548.9715</td>\n",
              "      <td>1/5/2019</td>\n",
              "      <td>13:08</td>\n",
              "      <td>Ewallet</td>\n",
              "      <td>522.83</td>\n",
              "      <td>4.761905</td>\n",
              "      <td>26.1415</td>\n",
              "      <td>9.1</td>\n",
              "    </tr>\n",
              "    <tr>\n",
              "      <th>1</th>\n",
              "      <td>226-31-3081</td>\n",
              "      <td>C</td>\n",
              "      <td>Naypyitaw</td>\n",
              "      <td>Normal</td>\n",
              "      <td>Female</td>\n",
              "      <td>Electronic accessories</td>\n",
              "      <td>15.28</td>\n",
              "      <td>5</td>\n",
              "      <td>3.8200</td>\n",
              "      <td>80.2200</td>\n",
              "      <td>3/8/2019</td>\n",
              "      <td>10:29</td>\n",
              "      <td>Cash</td>\n",
              "      <td>76.40</td>\n",
              "      <td>4.761905</td>\n",
              "      <td>3.8200</td>\n",
              "      <td>9.6</td>\n",
              "    </tr>\n",
              "    <tr>\n",
              "      <th>2</th>\n",
              "      <td>631-41-3108</td>\n",
              "      <td>A</td>\n",
              "      <td>Yangon</td>\n",
              "      <td>Normal</td>\n",
              "      <td>Male</td>\n",
              "      <td>Home and lifestyle</td>\n",
              "      <td>46.33</td>\n",
              "      <td>7</td>\n",
              "      <td>16.2155</td>\n",
              "      <td>340.5255</td>\n",
              "      <td>3/3/2019</td>\n",
              "      <td>13:23</td>\n",
              "      <td>Credit card</td>\n",
              "      <td>324.31</td>\n",
              "      <td>4.761905</td>\n",
              "      <td>16.2155</td>\n",
              "      <td>7.4</td>\n",
              "    </tr>\n",
              "    <tr>\n",
              "      <th>3</th>\n",
              "      <td>123-19-1176</td>\n",
              "      <td>A</td>\n",
              "      <td>Yangon</td>\n",
              "      <td>Member</td>\n",
              "      <td>Male</td>\n",
              "      <td>Health and beauty</td>\n",
              "      <td>58.22</td>\n",
              "      <td>8</td>\n",
              "      <td>23.2880</td>\n",
              "      <td>489.0480</td>\n",
              "      <td>1/27/2019</td>\n",
              "      <td>20:33</td>\n",
              "      <td>Ewallet</td>\n",
              "      <td>465.76</td>\n",
              "      <td>4.761905</td>\n",
              "      <td>23.2880</td>\n",
              "      <td>8.4</td>\n",
              "    </tr>\n",
              "    <tr>\n",
              "      <th>4</th>\n",
              "      <td>373-73-7910</td>\n",
              "      <td>A</td>\n",
              "      <td>Yangon</td>\n",
              "      <td>Normal</td>\n",
              "      <td>Male</td>\n",
              "      <td>Sports and travel</td>\n",
              "      <td>86.31</td>\n",
              "      <td>7</td>\n",
              "      <td>30.2085</td>\n",
              "      <td>634.3785</td>\n",
              "      <td>2/8/2019</td>\n",
              "      <td>10:37</td>\n",
              "      <td>Ewallet</td>\n",
              "      <td>604.17</td>\n",
              "      <td>4.761905</td>\n",
              "      <td>30.2085</td>\n",
              "      <td>5.3</td>\n",
              "    </tr>\n",
              "  </tbody>\n",
              "</table>\n",
              "</div>\n",
              "    <div class=\"colab-df-buttons\">\n",
              "\n",
              "  <div class=\"colab-df-container\">\n",
              "    <button class=\"colab-df-convert\" onclick=\"convertToInteractive('df-cf2abaf8-28a8-4388-b8d7-3f4f9710285a')\"\n",
              "            title=\"Convert this dataframe to an interactive table.\"\n",
              "            style=\"display:none;\">\n",
              "\n",
              "  <svg xmlns=\"http://www.w3.org/2000/svg\" height=\"24px\" viewBox=\"0 -960 960 960\">\n",
              "    <path d=\"M120-120v-720h720v720H120Zm60-500h600v-160H180v160Zm220 220h160v-160H400v160Zm0 220h160v-160H400v160ZM180-400h160v-160H180v160Zm440 0h160v-160H620v160ZM180-180h160v-160H180v160Zm440 0h160v-160H620v160Z\"/>\n",
              "  </svg>\n",
              "    </button>\n",
              "\n",
              "  <style>\n",
              "    .colab-df-container {\n",
              "      display:flex;\n",
              "      gap: 12px;\n",
              "    }\n",
              "\n",
              "    .colab-df-convert {\n",
              "      background-color: #E8F0FE;\n",
              "      border: none;\n",
              "      border-radius: 50%;\n",
              "      cursor: pointer;\n",
              "      display: none;\n",
              "      fill: #1967D2;\n",
              "      height: 32px;\n",
              "      padding: 0 0 0 0;\n",
              "      width: 32px;\n",
              "    }\n",
              "\n",
              "    .colab-df-convert:hover {\n",
              "      background-color: #E2EBFA;\n",
              "      box-shadow: 0px 1px 2px rgba(60, 64, 67, 0.3), 0px 1px 3px 1px rgba(60, 64, 67, 0.15);\n",
              "      fill: #174EA6;\n",
              "    }\n",
              "\n",
              "    .colab-df-buttons div {\n",
              "      margin-bottom: 4px;\n",
              "    }\n",
              "\n",
              "    [theme=dark] .colab-df-convert {\n",
              "      background-color: #3B4455;\n",
              "      fill: #D2E3FC;\n",
              "    }\n",
              "\n",
              "    [theme=dark] .colab-df-convert:hover {\n",
              "      background-color: #434B5C;\n",
              "      box-shadow: 0px 1px 3px 1px rgba(0, 0, 0, 0.15);\n",
              "      filter: drop-shadow(0px 1px 2px rgba(0, 0, 0, 0.3));\n",
              "      fill: #FFFFFF;\n",
              "    }\n",
              "  </style>\n",
              "\n",
              "    <script>\n",
              "      const buttonEl =\n",
              "        document.querySelector('#df-cf2abaf8-28a8-4388-b8d7-3f4f9710285a button.colab-df-convert');\n",
              "      buttonEl.style.display =\n",
              "        google.colab.kernel.accessAllowed ? 'block' : 'none';\n",
              "\n",
              "      async function convertToInteractive(key) {\n",
              "        const element = document.querySelector('#df-cf2abaf8-28a8-4388-b8d7-3f4f9710285a');\n",
              "        const dataTable =\n",
              "          await google.colab.kernel.invokeFunction('convertToInteractive',\n",
              "                                                    [key], {});\n",
              "        if (!dataTable) return;\n",
              "\n",
              "        const docLinkHtml = 'Like what you see? Visit the ' +\n",
              "          '<a target=\"_blank\" href=https://colab.research.google.com/notebooks/data_table.ipynb>data table notebook</a>'\n",
              "          + ' to learn more about interactive tables.';\n",
              "        element.innerHTML = '';\n",
              "        dataTable['output_type'] = 'display_data';\n",
              "        await google.colab.output.renderOutput(dataTable, element);\n",
              "        const docLink = document.createElement('div');\n",
              "        docLink.innerHTML = docLinkHtml;\n",
              "        element.appendChild(docLink);\n",
              "      }\n",
              "    </script>\n",
              "  </div>\n",
              "\n",
              "\n",
              "<div id=\"df-3546fe06-afd3-46ee-9fb9-8ca2845b6307\">\n",
              "  <button class=\"colab-df-quickchart\" onclick=\"quickchart('df-3546fe06-afd3-46ee-9fb9-8ca2845b6307')\"\n",
              "            title=\"Suggest charts\"\n",
              "            style=\"display:none;\">\n",
              "\n",
              "<svg xmlns=\"http://www.w3.org/2000/svg\" height=\"24px\"viewBox=\"0 0 24 24\"\n",
              "     width=\"24px\">\n",
              "    <g>\n",
              "        <path d=\"M19 3H5c-1.1 0-2 .9-2 2v14c0 1.1.9 2 2 2h14c1.1 0 2-.9 2-2V5c0-1.1-.9-2-2-2zM9 17H7v-7h2v7zm4 0h-2V7h2v10zm4 0h-2v-4h2v4z\"/>\n",
              "    </g>\n",
              "</svg>\n",
              "  </button>\n",
              "\n",
              "<style>\n",
              "  .colab-df-quickchart {\n",
              "      --bg-color: #E8F0FE;\n",
              "      --fill-color: #1967D2;\n",
              "      --hover-bg-color: #E2EBFA;\n",
              "      --hover-fill-color: #174EA6;\n",
              "      --disabled-fill-color: #AAA;\n",
              "      --disabled-bg-color: #DDD;\n",
              "  }\n",
              "\n",
              "  [theme=dark] .colab-df-quickchart {\n",
              "      --bg-color: #3B4455;\n",
              "      --fill-color: #D2E3FC;\n",
              "      --hover-bg-color: #434B5C;\n",
              "      --hover-fill-color: #FFFFFF;\n",
              "      --disabled-bg-color: #3B4455;\n",
              "      --disabled-fill-color: #666;\n",
              "  }\n",
              "\n",
              "  .colab-df-quickchart {\n",
              "    background-color: var(--bg-color);\n",
              "    border: none;\n",
              "    border-radius: 50%;\n",
              "    cursor: pointer;\n",
              "    display: none;\n",
              "    fill: var(--fill-color);\n",
              "    height: 32px;\n",
              "    padding: 0;\n",
              "    width: 32px;\n",
              "  }\n",
              "\n",
              "  .colab-df-quickchart:hover {\n",
              "    background-color: var(--hover-bg-color);\n",
              "    box-shadow: 0 1px 2px rgba(60, 64, 67, 0.3), 0 1px 3px 1px rgba(60, 64, 67, 0.15);\n",
              "    fill: var(--button-hover-fill-color);\n",
              "  }\n",
              "\n",
              "  .colab-df-quickchart-complete:disabled,\n",
              "  .colab-df-quickchart-complete:disabled:hover {\n",
              "    background-color: var(--disabled-bg-color);\n",
              "    fill: var(--disabled-fill-color);\n",
              "    box-shadow: none;\n",
              "  }\n",
              "\n",
              "  .colab-df-spinner {\n",
              "    border: 2px solid var(--fill-color);\n",
              "    border-color: transparent;\n",
              "    border-bottom-color: var(--fill-color);\n",
              "    animation:\n",
              "      spin 1s steps(1) infinite;\n",
              "  }\n",
              "\n",
              "  @keyframes spin {\n",
              "    0% {\n",
              "      border-color: transparent;\n",
              "      border-bottom-color: var(--fill-color);\n",
              "      border-left-color: var(--fill-color);\n",
              "    }\n",
              "    20% {\n",
              "      border-color: transparent;\n",
              "      border-left-color: var(--fill-color);\n",
              "      border-top-color: var(--fill-color);\n",
              "    }\n",
              "    30% {\n",
              "      border-color: transparent;\n",
              "      border-left-color: var(--fill-color);\n",
              "      border-top-color: var(--fill-color);\n",
              "      border-right-color: var(--fill-color);\n",
              "    }\n",
              "    40% {\n",
              "      border-color: transparent;\n",
              "      border-right-color: var(--fill-color);\n",
              "      border-top-color: var(--fill-color);\n",
              "    }\n",
              "    60% {\n",
              "      border-color: transparent;\n",
              "      border-right-color: var(--fill-color);\n",
              "    }\n",
              "    80% {\n",
              "      border-color: transparent;\n",
              "      border-right-color: var(--fill-color);\n",
              "      border-bottom-color: var(--fill-color);\n",
              "    }\n",
              "    90% {\n",
              "      border-color: transparent;\n",
              "      border-bottom-color: var(--fill-color);\n",
              "    }\n",
              "  }\n",
              "</style>\n",
              "\n",
              "  <script>\n",
              "    async function quickchart(key) {\n",
              "      const quickchartButtonEl =\n",
              "        document.querySelector('#' + key + ' button');\n",
              "      quickchartButtonEl.disabled = true;  // To prevent multiple clicks.\n",
              "      quickchartButtonEl.classList.add('colab-df-spinner');\n",
              "      try {\n",
              "        const charts = await google.colab.kernel.invokeFunction(\n",
              "            'suggestCharts', [key], {});\n",
              "      } catch (error) {\n",
              "        console.error('Error during call to suggestCharts:', error);\n",
              "      }\n",
              "      quickchartButtonEl.classList.remove('colab-df-spinner');\n",
              "      quickchartButtonEl.classList.add('colab-df-quickchart-complete');\n",
              "    }\n",
              "    (() => {\n",
              "      let quickchartButtonEl =\n",
              "        document.querySelector('#df-3546fe06-afd3-46ee-9fb9-8ca2845b6307 button');\n",
              "      quickchartButtonEl.style.display =\n",
              "        google.colab.kernel.accessAllowed ? 'block' : 'none';\n",
              "    })();\n",
              "  </script>\n",
              "</div>\n",
              "    </div>\n",
              "  </div>\n"
            ]
          },
          "metadata": {},
          "execution_count": 2
        }
      ],
      "source": [
        "df = pd.read_csv('supermarket_sales.csv')\n",
        "df.head()\n"
      ],
      "metadata": {
        "ExecuteTime": {
          "end_time": "2024-01-22T11:49:12.216768100Z",
          "start_time": "2024-01-22T11:49:12.059565200Z"
        },
        "colab": {
          "base_uri": "https://localhost:8080/",
          "height": 347
        },
        "id": "U8u7lJcmAOBj",
        "outputId": "ea83f197-e12e-432f-c766-ee06fc84486b"
      }
    },
    {
      "cell_type": "code",
      "execution_count": null,
      "outputs": [
        {
          "output_type": "display_data",
          "data": {
            "text/html": [
              "<html>\n",
              "<head><meta charset=\"utf-8\" /></head>\n",
              "<body>\n",
              "    <div>            <script src=\"https://cdnjs.cloudflare.com/ajax/libs/mathjax/2.7.5/MathJax.js?config=TeX-AMS-MML_SVG\"></script><script type=\"text/javascript\">if (window.MathJax && window.MathJax.Hub && window.MathJax.Hub.Config) {window.MathJax.Hub.Config({SVG: {font: \"STIX-Web\"}});}</script>                <script type=\"text/javascript\">window.PlotlyConfig = {MathJaxConfig: 'local'};</script>\n",
              "        <script charset=\"utf-8\" src=\"https://cdn.plot.ly/plotly-2.24.1.min.js\"></script>                <div id=\"346991af-e9d8-45f0-99a4-938d6e25b504\" class=\"plotly-graph-div\" style=\"height:525px; width:100%;\"></div>            <script type=\"text/javascript\">                                    window.PLOTLYENV=window.PLOTLYENV || {};                                    if (document.getElementById(\"346991af-e9d8-45f0-99a4-938d6e25b504\")) {                    Plotly.newPlot(                        \"346991af-e9d8-45f0-99a4-938d6e25b504\",                        [{\"alignmentgroup\":\"True\",\"hovertemplate\":\"Miasto=%{x}\\u003cbr\\u003eLiczba dokonanych zakup\\u00f3w=%{y}\\u003cextra\\u003e\\u003c\\u002fextra\\u003e\",\"legendgroup\":\"\",\"marker\":{\"color\":\"#636efa\",\"pattern\":{\"shape\":\"\"}},\"name\":\"\",\"offsetgroup\":\"\",\"orientation\":\"v\",\"showlegend\":false,\"textposition\":\"auto\",\"x\":[\"Mandalay\",\"Naypyitaw\",\"Yangon\"],\"xaxis\":\"x\",\"y\":[332,328,340],\"yaxis\":\"y\",\"type\":\"bar\"}],                        {\"template\":{\"data\":{\"histogram2dcontour\":[{\"type\":\"histogram2dcontour\",\"colorbar\":{\"outlinewidth\":0,\"ticks\":\"\"},\"colorscale\":[[0.0,\"#0d0887\"],[0.1111111111111111,\"#46039f\"],[0.2222222222222222,\"#7201a8\"],[0.3333333333333333,\"#9c179e\"],[0.4444444444444444,\"#bd3786\"],[0.5555555555555556,\"#d8576b\"],[0.6666666666666666,\"#ed7953\"],[0.7777777777777778,\"#fb9f3a\"],[0.8888888888888888,\"#fdca26\"],[1.0,\"#f0f921\"]]}],\"choropleth\":[{\"type\":\"choropleth\",\"colorbar\":{\"outlinewidth\":0,\"ticks\":\"\"}}],\"histogram2d\":[{\"type\":\"histogram2d\",\"colorbar\":{\"outlinewidth\":0,\"ticks\":\"\"},\"colorscale\":[[0.0,\"#0d0887\"],[0.1111111111111111,\"#46039f\"],[0.2222222222222222,\"#7201a8\"],[0.3333333333333333,\"#9c179e\"],[0.4444444444444444,\"#bd3786\"],[0.5555555555555556,\"#d8576b\"],[0.6666666666666666,\"#ed7953\"],[0.7777777777777778,\"#fb9f3a\"],[0.8888888888888888,\"#fdca26\"],[1.0,\"#f0f921\"]]}],\"heatmap\":[{\"type\":\"heatmap\",\"colorbar\":{\"outlinewidth\":0,\"ticks\":\"\"},\"colorscale\":[[0.0,\"#0d0887\"],[0.1111111111111111,\"#46039f\"],[0.2222222222222222,\"#7201a8\"],[0.3333333333333333,\"#9c179e\"],[0.4444444444444444,\"#bd3786\"],[0.5555555555555556,\"#d8576b\"],[0.6666666666666666,\"#ed7953\"],[0.7777777777777778,\"#fb9f3a\"],[0.8888888888888888,\"#fdca26\"],[1.0,\"#f0f921\"]]}],\"heatmapgl\":[{\"type\":\"heatmapgl\",\"colorbar\":{\"outlinewidth\":0,\"ticks\":\"\"},\"colorscale\":[[0.0,\"#0d0887\"],[0.1111111111111111,\"#46039f\"],[0.2222222222222222,\"#7201a8\"],[0.3333333333333333,\"#9c179e\"],[0.4444444444444444,\"#bd3786\"],[0.5555555555555556,\"#d8576b\"],[0.6666666666666666,\"#ed7953\"],[0.7777777777777778,\"#fb9f3a\"],[0.8888888888888888,\"#fdca26\"],[1.0,\"#f0f921\"]]}],\"contourcarpet\":[{\"type\":\"contourcarpet\",\"colorbar\":{\"outlinewidth\":0,\"ticks\":\"\"}}],\"contour\":[{\"type\":\"contour\",\"colorbar\":{\"outlinewidth\":0,\"ticks\":\"\"},\"colorscale\":[[0.0,\"#0d0887\"],[0.1111111111111111,\"#46039f\"],[0.2222222222222222,\"#7201a8\"],[0.3333333333333333,\"#9c179e\"],[0.4444444444444444,\"#bd3786\"],[0.5555555555555556,\"#d8576b\"],[0.6666666666666666,\"#ed7953\"],[0.7777777777777778,\"#fb9f3a\"],[0.8888888888888888,\"#fdca26\"],[1.0,\"#f0f921\"]]}],\"surface\":[{\"type\":\"surface\",\"colorbar\":{\"outlinewidth\":0,\"ticks\":\"\"},\"colorscale\":[[0.0,\"#0d0887\"],[0.1111111111111111,\"#46039f\"],[0.2222222222222222,\"#7201a8\"],[0.3333333333333333,\"#9c179e\"],[0.4444444444444444,\"#bd3786\"],[0.5555555555555556,\"#d8576b\"],[0.6666666666666666,\"#ed7953\"],[0.7777777777777778,\"#fb9f3a\"],[0.8888888888888888,\"#fdca26\"],[1.0,\"#f0f921\"]]}],\"mesh3d\":[{\"type\":\"mesh3d\",\"colorbar\":{\"outlinewidth\":0,\"ticks\":\"\"}}],\"scatter\":[{\"fillpattern\":{\"fillmode\":\"overlay\",\"size\":10,\"solidity\":0.2},\"type\":\"scatter\"}],\"parcoords\":[{\"type\":\"parcoords\",\"line\":{\"colorbar\":{\"outlinewidth\":0,\"ticks\":\"\"}}}],\"scatterpolargl\":[{\"type\":\"scatterpolargl\",\"marker\":{\"colorbar\":{\"outlinewidth\":0,\"ticks\":\"\"}}}],\"bar\":[{\"error_x\":{\"color\":\"#2a3f5f\"},\"error_y\":{\"color\":\"#2a3f5f\"},\"marker\":{\"line\":{\"color\":\"#E5ECF6\",\"width\":0.5},\"pattern\":{\"fillmode\":\"overlay\",\"size\":10,\"solidity\":0.2}},\"type\":\"bar\"}],\"scattergeo\":[{\"type\":\"scattergeo\",\"marker\":{\"colorbar\":{\"outlinewidth\":0,\"ticks\":\"\"}}}],\"scatterpolar\":[{\"type\":\"scatterpolar\",\"marker\":{\"colorbar\":{\"outlinewidth\":0,\"ticks\":\"\"}}}],\"histogram\":[{\"marker\":{\"pattern\":{\"fillmode\":\"overlay\",\"size\":10,\"solidity\":0.2}},\"type\":\"histogram\"}],\"scattergl\":[{\"type\":\"scattergl\",\"marker\":{\"colorbar\":{\"outlinewidth\":0,\"ticks\":\"\"}}}],\"scatter3d\":[{\"type\":\"scatter3d\",\"line\":{\"colorbar\":{\"outlinewidth\":0,\"ticks\":\"\"}},\"marker\":{\"colorbar\":{\"outlinewidth\":0,\"ticks\":\"\"}}}],\"scattermapbox\":[{\"type\":\"scattermapbox\",\"marker\":{\"colorbar\":{\"outlinewidth\":0,\"ticks\":\"\"}}}],\"scatterternary\":[{\"type\":\"scatterternary\",\"marker\":{\"colorbar\":{\"outlinewidth\":0,\"ticks\":\"\"}}}],\"scattercarpet\":[{\"type\":\"scattercarpet\",\"marker\":{\"colorbar\":{\"outlinewidth\":0,\"ticks\":\"\"}}}],\"carpet\":[{\"aaxis\":{\"endlinecolor\":\"#2a3f5f\",\"gridcolor\":\"white\",\"linecolor\":\"white\",\"minorgridcolor\":\"white\",\"startlinecolor\":\"#2a3f5f\"},\"baxis\":{\"endlinecolor\":\"#2a3f5f\",\"gridcolor\":\"white\",\"linecolor\":\"white\",\"minorgridcolor\":\"white\",\"startlinecolor\":\"#2a3f5f\"},\"type\":\"carpet\"}],\"table\":[{\"cells\":{\"fill\":{\"color\":\"#EBF0F8\"},\"line\":{\"color\":\"white\"}},\"header\":{\"fill\":{\"color\":\"#C8D4E3\"},\"line\":{\"color\":\"white\"}},\"type\":\"table\"}],\"barpolar\":[{\"marker\":{\"line\":{\"color\":\"#E5ECF6\",\"width\":0.5},\"pattern\":{\"fillmode\":\"overlay\",\"size\":10,\"solidity\":0.2}},\"type\":\"barpolar\"}],\"pie\":[{\"automargin\":true,\"type\":\"pie\"}]},\"layout\":{\"autotypenumbers\":\"strict\",\"colorway\":[\"#636efa\",\"#EF553B\",\"#00cc96\",\"#ab63fa\",\"#FFA15A\",\"#19d3f3\",\"#FF6692\",\"#B6E880\",\"#FF97FF\",\"#FECB52\"],\"font\":{\"color\":\"#2a3f5f\"},\"hovermode\":\"closest\",\"hoverlabel\":{\"align\":\"left\"},\"paper_bgcolor\":\"white\",\"plot_bgcolor\":\"#E5ECF6\",\"polar\":{\"bgcolor\":\"#E5ECF6\",\"angularaxis\":{\"gridcolor\":\"white\",\"linecolor\":\"white\",\"ticks\":\"\"},\"radialaxis\":{\"gridcolor\":\"white\",\"linecolor\":\"white\",\"ticks\":\"\"}},\"ternary\":{\"bgcolor\":\"#E5ECF6\",\"aaxis\":{\"gridcolor\":\"white\",\"linecolor\":\"white\",\"ticks\":\"\"},\"baxis\":{\"gridcolor\":\"white\",\"linecolor\":\"white\",\"ticks\":\"\"},\"caxis\":{\"gridcolor\":\"white\",\"linecolor\":\"white\",\"ticks\":\"\"}},\"coloraxis\":{\"colorbar\":{\"outlinewidth\":0,\"ticks\":\"\"}},\"colorscale\":{\"sequential\":[[0.0,\"#0d0887\"],[0.1111111111111111,\"#46039f\"],[0.2222222222222222,\"#7201a8\"],[0.3333333333333333,\"#9c179e\"],[0.4444444444444444,\"#bd3786\"],[0.5555555555555556,\"#d8576b\"],[0.6666666666666666,\"#ed7953\"],[0.7777777777777778,\"#fb9f3a\"],[0.8888888888888888,\"#fdca26\"],[1.0,\"#f0f921\"]],\"sequentialminus\":[[0.0,\"#0d0887\"],[0.1111111111111111,\"#46039f\"],[0.2222222222222222,\"#7201a8\"],[0.3333333333333333,\"#9c179e\"],[0.4444444444444444,\"#bd3786\"],[0.5555555555555556,\"#d8576b\"],[0.6666666666666666,\"#ed7953\"],[0.7777777777777778,\"#fb9f3a\"],[0.8888888888888888,\"#fdca26\"],[1.0,\"#f0f921\"]],\"diverging\":[[0,\"#8e0152\"],[0.1,\"#c51b7d\"],[0.2,\"#de77ae\"],[0.3,\"#f1b6da\"],[0.4,\"#fde0ef\"],[0.5,\"#f7f7f7\"],[0.6,\"#e6f5d0\"],[0.7,\"#b8e186\"],[0.8,\"#7fbc41\"],[0.9,\"#4d9221\"],[1,\"#276419\"]]},\"xaxis\":{\"gridcolor\":\"white\",\"linecolor\":\"white\",\"ticks\":\"\",\"title\":{\"standoff\":15},\"zerolinecolor\":\"white\",\"automargin\":true,\"zerolinewidth\":2},\"yaxis\":{\"gridcolor\":\"white\",\"linecolor\":\"white\",\"ticks\":\"\",\"title\":{\"standoff\":15},\"zerolinecolor\":\"white\",\"automargin\":true,\"zerolinewidth\":2},\"scene\":{\"xaxis\":{\"backgroundcolor\":\"#E5ECF6\",\"gridcolor\":\"white\",\"linecolor\":\"white\",\"showbackground\":true,\"ticks\":\"\",\"zerolinecolor\":\"white\",\"gridwidth\":2},\"yaxis\":{\"backgroundcolor\":\"#E5ECF6\",\"gridcolor\":\"white\",\"linecolor\":\"white\",\"showbackground\":true,\"ticks\":\"\",\"zerolinecolor\":\"white\",\"gridwidth\":2},\"zaxis\":{\"backgroundcolor\":\"#E5ECF6\",\"gridcolor\":\"white\",\"linecolor\":\"white\",\"showbackground\":true,\"ticks\":\"\",\"zerolinecolor\":\"white\",\"gridwidth\":2}},\"shapedefaults\":{\"line\":{\"color\":\"#2a3f5f\"}},\"annotationdefaults\":{\"arrowcolor\":\"#2a3f5f\",\"arrowhead\":0,\"arrowwidth\":1},\"geo\":{\"bgcolor\":\"white\",\"landcolor\":\"#E5ECF6\",\"subunitcolor\":\"white\",\"showland\":true,\"showlakes\":true,\"lakecolor\":\"white\"},\"title\":{\"x\":0.05},\"mapbox\":{\"style\":\"light\"}}},\"xaxis\":{\"anchor\":\"y\",\"domain\":[0.0,1.0],\"title\":{\"text\":\"Miasto\"}},\"yaxis\":{\"anchor\":\"x\",\"domain\":[0.0,1.0],\"title\":{\"text\":\"Liczba dokonanych zakup\\u00f3w\"}},\"legend\":{\"tracegroupgap\":0},\"title\":{\"text\":\"Liczba zakup\\u00f3w z podzia\\u0142em na miasta\"},\"barmode\":\"relative\"},                        {\"responsive\": true}                    ).then(function(){\n",
              "                            \n",
              "var gd = document.getElementById('346991af-e9d8-45f0-99a4-938d6e25b504');\n",
              "var x = new MutationObserver(function (mutations, observer) {{\n",
              "        var display = window.getComputedStyle(gd).display;\n",
              "        if (!display || display === 'none') {{\n",
              "            console.log([gd, 'removed!']);\n",
              "            Plotly.purge(gd);\n",
              "            observer.disconnect();\n",
              "        }}\n",
              "}});\n",
              "\n",
              "// Listen for the removal of the full notebook cells\n",
              "var notebookContainer = gd.closest('#notebook-container');\n",
              "if (notebookContainer) {{\n",
              "    x.observe(notebookContainer, {childList: true});\n",
              "}}\n",
              "\n",
              "// Listen for the clearing of the current output cell\n",
              "var outputEl = gd.closest('.output');\n",
              "if (outputEl) {{\n",
              "    x.observe(outputEl, {childList: true});\n",
              "}}\n",
              "\n",
              "                        })                };                            </script>        </div>\n",
              "</body>\n",
              "</html>"
            ]
          },
          "metadata": {}
        }
      ],
      "source": [
        "num_of_purchases = df.groupby('City')['Total'].count().reset_index(name='Purchases')\n",
        "fig = px.bar(num_of_purchases, x='City', y='Purchases',\n",
        "                 labels={\n",
        "                     'Purchases': 'Liczba dokonanych zakupów',\n",
        "                     'City': 'Miasto'\n",
        "                 },\n",
        "                 title='Liczba zakupów z podziałem na miasta')\n",
        "fig.show()"
      ],
      "metadata": {
        "ExecuteTime": {
          "end_time": "2024-01-22T11:49:12.219763200Z",
          "start_time": "2024-01-22T11:49:12.094056Z"
        },
        "colab": {
          "base_uri": "https://localhost:8080/",
          "height": 542
        },
        "id": "6t-otpO7AOBk",
        "outputId": "2823f653-a9b6-40a2-d519-26acf9be3b5e"
      }
    },
    {
      "cell_type": "code",
      "source": [
        "revenue_by_city = df.groupby('City')['Total'].sum().reset_index(name='Revenues')\n",
        "coordinates = {\n",
        "  'City': ['Mandalay', 'Naypyitaw', 'Yangon'],\n",
        "  'Lat': [20.98, 20.28, 16.79],\n",
        "  'Lon': [95.77, 96.27, 96.16]\n",
        "}\n",
        "coordinates_df = pd.DataFrame(coordinates)\n",
        "revenue_geo = pd.merge(revenue_by_city, coordinates_df, on='City')\n",
        "\n",
        "fig = px.scatter_geo(revenue_geo, lat='Lat', lon='Lon', size='Revenues', color='Revenues',\n",
        "                     hover_name='City', projection='natural earth',\n",
        "                     labels={'Revenues': 'Przychody'},\n",
        "                     title='Przychody z podziałem na miasta na wycinku Azji')\n",
        "\n",
        "fig.update_geos(\n",
        "  lonaxis_range=[60, 130],\n",
        "  lataxis_range=[5, 25],\n",
        "  showcountries=True,\n",
        "  countrycolor='black'\n",
        ")\n",
        "fig.show()"
      ],
      "metadata": {
        "colab": {
          "base_uri": "https://localhost:8080/",
          "height": 542
        },
        "id": "x0tXAOmtv2X5",
        "outputId": "06e8e724-c39d-4bc2-a3c6-3693ecf0911d"
      },
      "execution_count": null,
      "outputs": [
        {
          "output_type": "display_data",
          "data": {
            "text/html": [
              "<html>\n",
              "<head><meta charset=\"utf-8\" /></head>\n",
              "<body>\n",
              "    <div>            <script src=\"https://cdnjs.cloudflare.com/ajax/libs/mathjax/2.7.5/MathJax.js?config=TeX-AMS-MML_SVG\"></script><script type=\"text/javascript\">if (window.MathJax && window.MathJax.Hub && window.MathJax.Hub.Config) {window.MathJax.Hub.Config({SVG: {font: \"STIX-Web\"}});}</script>                <script type=\"text/javascript\">window.PlotlyConfig = {MathJaxConfig: 'local'};</script>\n",
              "        <script charset=\"utf-8\" src=\"https://cdn.plot.ly/plotly-2.24.1.min.js\"></script>                <div id=\"a964c8fa-fc89-469a-8fb8-45030519322e\" class=\"plotly-graph-div\" style=\"height:525px; width:100%;\"></div>            <script type=\"text/javascript\">                                    window.PLOTLYENV=window.PLOTLYENV || {};                                    if (document.getElementById(\"a964c8fa-fc89-469a-8fb8-45030519322e\")) {                    Plotly.newPlot(                        \"a964c8fa-fc89-469a-8fb8-45030519322e\",                        [{\"geo\":\"geo\",\"hovertemplate\":\"\\u003cb\\u003e%{hovertext}\\u003c\\u002fb\\u003e\\u003cbr\\u003e\\u003cbr\\u003ePrzychody=%{marker.color}\\u003cbr\\u003eLat=%{lat}\\u003cbr\\u003eLon=%{lon}\\u003cextra\\u003e\\u003c\\u002fextra\\u003e\",\"hovertext\":[\"Mandalay\",\"Naypyitaw\",\"Yangon\"],\"lat\":[20.98,20.28,16.79],\"legendgroup\":\"\",\"lon\":[95.77,96.27,96.16],\"marker\":{\"color\":[106197.672,110568.7065,106200.3705],\"coloraxis\":\"coloraxis\",\"size\":[106197.672,110568.7065,106200.3705],\"sizemode\":\"area\",\"sizeref\":276.42176625,\"symbol\":\"circle\"},\"mode\":\"markers\",\"name\":\"\",\"showlegend\":false,\"type\":\"scattergeo\"}],                        {\"template\":{\"data\":{\"histogram2dcontour\":[{\"type\":\"histogram2dcontour\",\"colorbar\":{\"outlinewidth\":0,\"ticks\":\"\"},\"colorscale\":[[0.0,\"#0d0887\"],[0.1111111111111111,\"#46039f\"],[0.2222222222222222,\"#7201a8\"],[0.3333333333333333,\"#9c179e\"],[0.4444444444444444,\"#bd3786\"],[0.5555555555555556,\"#d8576b\"],[0.6666666666666666,\"#ed7953\"],[0.7777777777777778,\"#fb9f3a\"],[0.8888888888888888,\"#fdca26\"],[1.0,\"#f0f921\"]]}],\"choropleth\":[{\"type\":\"choropleth\",\"colorbar\":{\"outlinewidth\":0,\"ticks\":\"\"}}],\"histogram2d\":[{\"type\":\"histogram2d\",\"colorbar\":{\"outlinewidth\":0,\"ticks\":\"\"},\"colorscale\":[[0.0,\"#0d0887\"],[0.1111111111111111,\"#46039f\"],[0.2222222222222222,\"#7201a8\"],[0.3333333333333333,\"#9c179e\"],[0.4444444444444444,\"#bd3786\"],[0.5555555555555556,\"#d8576b\"],[0.6666666666666666,\"#ed7953\"],[0.7777777777777778,\"#fb9f3a\"],[0.8888888888888888,\"#fdca26\"],[1.0,\"#f0f921\"]]}],\"heatmap\":[{\"type\":\"heatmap\",\"colorbar\":{\"outlinewidth\":0,\"ticks\":\"\"},\"colorscale\":[[0.0,\"#0d0887\"],[0.1111111111111111,\"#46039f\"],[0.2222222222222222,\"#7201a8\"],[0.3333333333333333,\"#9c179e\"],[0.4444444444444444,\"#bd3786\"],[0.5555555555555556,\"#d8576b\"],[0.6666666666666666,\"#ed7953\"],[0.7777777777777778,\"#fb9f3a\"],[0.8888888888888888,\"#fdca26\"],[1.0,\"#f0f921\"]]}],\"heatmapgl\":[{\"type\":\"heatmapgl\",\"colorbar\":{\"outlinewidth\":0,\"ticks\":\"\"},\"colorscale\":[[0.0,\"#0d0887\"],[0.1111111111111111,\"#46039f\"],[0.2222222222222222,\"#7201a8\"],[0.3333333333333333,\"#9c179e\"],[0.4444444444444444,\"#bd3786\"],[0.5555555555555556,\"#d8576b\"],[0.6666666666666666,\"#ed7953\"],[0.7777777777777778,\"#fb9f3a\"],[0.8888888888888888,\"#fdca26\"],[1.0,\"#f0f921\"]]}],\"contourcarpet\":[{\"type\":\"contourcarpet\",\"colorbar\":{\"outlinewidth\":0,\"ticks\":\"\"}}],\"contour\":[{\"type\":\"contour\",\"colorbar\":{\"outlinewidth\":0,\"ticks\":\"\"},\"colorscale\":[[0.0,\"#0d0887\"],[0.1111111111111111,\"#46039f\"],[0.2222222222222222,\"#7201a8\"],[0.3333333333333333,\"#9c179e\"],[0.4444444444444444,\"#bd3786\"],[0.5555555555555556,\"#d8576b\"],[0.6666666666666666,\"#ed7953\"],[0.7777777777777778,\"#fb9f3a\"],[0.8888888888888888,\"#fdca26\"],[1.0,\"#f0f921\"]]}],\"surface\":[{\"type\":\"surface\",\"colorbar\":{\"outlinewidth\":0,\"ticks\":\"\"},\"colorscale\":[[0.0,\"#0d0887\"],[0.1111111111111111,\"#46039f\"],[0.2222222222222222,\"#7201a8\"],[0.3333333333333333,\"#9c179e\"],[0.4444444444444444,\"#bd3786\"],[0.5555555555555556,\"#d8576b\"],[0.6666666666666666,\"#ed7953\"],[0.7777777777777778,\"#fb9f3a\"],[0.8888888888888888,\"#fdca26\"],[1.0,\"#f0f921\"]]}],\"mesh3d\":[{\"type\":\"mesh3d\",\"colorbar\":{\"outlinewidth\":0,\"ticks\":\"\"}}],\"scatter\":[{\"fillpattern\":{\"fillmode\":\"overlay\",\"size\":10,\"solidity\":0.2},\"type\":\"scatter\"}],\"parcoords\":[{\"type\":\"parcoords\",\"line\":{\"colorbar\":{\"outlinewidth\":0,\"ticks\":\"\"}}}],\"scatterpolargl\":[{\"type\":\"scatterpolargl\",\"marker\":{\"colorbar\":{\"outlinewidth\":0,\"ticks\":\"\"}}}],\"bar\":[{\"error_x\":{\"color\":\"#2a3f5f\"},\"error_y\":{\"color\":\"#2a3f5f\"},\"marker\":{\"line\":{\"color\":\"#E5ECF6\",\"width\":0.5},\"pattern\":{\"fillmode\":\"overlay\",\"size\":10,\"solidity\":0.2}},\"type\":\"bar\"}],\"scattergeo\":[{\"type\":\"scattergeo\",\"marker\":{\"colorbar\":{\"outlinewidth\":0,\"ticks\":\"\"}}}],\"scatterpolar\":[{\"type\":\"scatterpolar\",\"marker\":{\"colorbar\":{\"outlinewidth\":0,\"ticks\":\"\"}}}],\"histogram\":[{\"marker\":{\"pattern\":{\"fillmode\":\"overlay\",\"size\":10,\"solidity\":0.2}},\"type\":\"histogram\"}],\"scattergl\":[{\"type\":\"scattergl\",\"marker\":{\"colorbar\":{\"outlinewidth\":0,\"ticks\":\"\"}}}],\"scatter3d\":[{\"type\":\"scatter3d\",\"line\":{\"colorbar\":{\"outlinewidth\":0,\"ticks\":\"\"}},\"marker\":{\"colorbar\":{\"outlinewidth\":0,\"ticks\":\"\"}}}],\"scattermapbox\":[{\"type\":\"scattermapbox\",\"marker\":{\"colorbar\":{\"outlinewidth\":0,\"ticks\":\"\"}}}],\"scatterternary\":[{\"type\":\"scatterternary\",\"marker\":{\"colorbar\":{\"outlinewidth\":0,\"ticks\":\"\"}}}],\"scattercarpet\":[{\"type\":\"scattercarpet\",\"marker\":{\"colorbar\":{\"outlinewidth\":0,\"ticks\":\"\"}}}],\"carpet\":[{\"aaxis\":{\"endlinecolor\":\"#2a3f5f\",\"gridcolor\":\"white\",\"linecolor\":\"white\",\"minorgridcolor\":\"white\",\"startlinecolor\":\"#2a3f5f\"},\"baxis\":{\"endlinecolor\":\"#2a3f5f\",\"gridcolor\":\"white\",\"linecolor\":\"white\",\"minorgridcolor\":\"white\",\"startlinecolor\":\"#2a3f5f\"},\"type\":\"carpet\"}],\"table\":[{\"cells\":{\"fill\":{\"color\":\"#EBF0F8\"},\"line\":{\"color\":\"white\"}},\"header\":{\"fill\":{\"color\":\"#C8D4E3\"},\"line\":{\"color\":\"white\"}},\"type\":\"table\"}],\"barpolar\":[{\"marker\":{\"line\":{\"color\":\"#E5ECF6\",\"width\":0.5},\"pattern\":{\"fillmode\":\"overlay\",\"size\":10,\"solidity\":0.2}},\"type\":\"barpolar\"}],\"pie\":[{\"automargin\":true,\"type\":\"pie\"}]},\"layout\":{\"autotypenumbers\":\"strict\",\"colorway\":[\"#636efa\",\"#EF553B\",\"#00cc96\",\"#ab63fa\",\"#FFA15A\",\"#19d3f3\",\"#FF6692\",\"#B6E880\",\"#FF97FF\",\"#FECB52\"],\"font\":{\"color\":\"#2a3f5f\"},\"hovermode\":\"closest\",\"hoverlabel\":{\"align\":\"left\"},\"paper_bgcolor\":\"white\",\"plot_bgcolor\":\"#E5ECF6\",\"polar\":{\"bgcolor\":\"#E5ECF6\",\"angularaxis\":{\"gridcolor\":\"white\",\"linecolor\":\"white\",\"ticks\":\"\"},\"radialaxis\":{\"gridcolor\":\"white\",\"linecolor\":\"white\",\"ticks\":\"\"}},\"ternary\":{\"bgcolor\":\"#E5ECF6\",\"aaxis\":{\"gridcolor\":\"white\",\"linecolor\":\"white\",\"ticks\":\"\"},\"baxis\":{\"gridcolor\":\"white\",\"linecolor\":\"white\",\"ticks\":\"\"},\"caxis\":{\"gridcolor\":\"white\",\"linecolor\":\"white\",\"ticks\":\"\"}},\"coloraxis\":{\"colorbar\":{\"outlinewidth\":0,\"ticks\":\"\"}},\"colorscale\":{\"sequential\":[[0.0,\"#0d0887\"],[0.1111111111111111,\"#46039f\"],[0.2222222222222222,\"#7201a8\"],[0.3333333333333333,\"#9c179e\"],[0.4444444444444444,\"#bd3786\"],[0.5555555555555556,\"#d8576b\"],[0.6666666666666666,\"#ed7953\"],[0.7777777777777778,\"#fb9f3a\"],[0.8888888888888888,\"#fdca26\"],[1.0,\"#f0f921\"]],\"sequentialminus\":[[0.0,\"#0d0887\"],[0.1111111111111111,\"#46039f\"],[0.2222222222222222,\"#7201a8\"],[0.3333333333333333,\"#9c179e\"],[0.4444444444444444,\"#bd3786\"],[0.5555555555555556,\"#d8576b\"],[0.6666666666666666,\"#ed7953\"],[0.7777777777777778,\"#fb9f3a\"],[0.8888888888888888,\"#fdca26\"],[1.0,\"#f0f921\"]],\"diverging\":[[0,\"#8e0152\"],[0.1,\"#c51b7d\"],[0.2,\"#de77ae\"],[0.3,\"#f1b6da\"],[0.4,\"#fde0ef\"],[0.5,\"#f7f7f7\"],[0.6,\"#e6f5d0\"],[0.7,\"#b8e186\"],[0.8,\"#7fbc41\"],[0.9,\"#4d9221\"],[1,\"#276419\"]]},\"xaxis\":{\"gridcolor\":\"white\",\"linecolor\":\"white\",\"ticks\":\"\",\"title\":{\"standoff\":15},\"zerolinecolor\":\"white\",\"automargin\":true,\"zerolinewidth\":2},\"yaxis\":{\"gridcolor\":\"white\",\"linecolor\":\"white\",\"ticks\":\"\",\"title\":{\"standoff\":15},\"zerolinecolor\":\"white\",\"automargin\":true,\"zerolinewidth\":2},\"scene\":{\"xaxis\":{\"backgroundcolor\":\"#E5ECF6\",\"gridcolor\":\"white\",\"linecolor\":\"white\",\"showbackground\":true,\"ticks\":\"\",\"zerolinecolor\":\"white\",\"gridwidth\":2},\"yaxis\":{\"backgroundcolor\":\"#E5ECF6\",\"gridcolor\":\"white\",\"linecolor\":\"white\",\"showbackground\":true,\"ticks\":\"\",\"zerolinecolor\":\"white\",\"gridwidth\":2},\"zaxis\":{\"backgroundcolor\":\"#E5ECF6\",\"gridcolor\":\"white\",\"linecolor\":\"white\",\"showbackground\":true,\"ticks\":\"\",\"zerolinecolor\":\"white\",\"gridwidth\":2}},\"shapedefaults\":{\"line\":{\"color\":\"#2a3f5f\"}},\"annotationdefaults\":{\"arrowcolor\":\"#2a3f5f\",\"arrowhead\":0,\"arrowwidth\":1},\"geo\":{\"bgcolor\":\"white\",\"landcolor\":\"#E5ECF6\",\"subunitcolor\":\"white\",\"showland\":true,\"showlakes\":true,\"lakecolor\":\"white\"},\"title\":{\"x\":0.05},\"mapbox\":{\"style\":\"light\"}}},\"geo\":{\"domain\":{\"x\":[0.0,1.0],\"y\":[0.0,1.0]},\"projection\":{\"type\":\"natural earth\"},\"center\":{},\"lonaxis\":{\"range\":[60,130]},\"lataxis\":{\"range\":[5,25]},\"showcountries\":true,\"countrycolor\":\"black\"},\"coloraxis\":{\"colorbar\":{\"title\":{\"text\":\"Przychody\"}},\"colorscale\":[[0.0,\"#0d0887\"],[0.1111111111111111,\"#46039f\"],[0.2222222222222222,\"#7201a8\"],[0.3333333333333333,\"#9c179e\"],[0.4444444444444444,\"#bd3786\"],[0.5555555555555556,\"#d8576b\"],[0.6666666666666666,\"#ed7953\"],[0.7777777777777778,\"#fb9f3a\"],[0.8888888888888888,\"#fdca26\"],[1.0,\"#f0f921\"]]},\"legend\":{\"tracegroupgap\":0,\"itemsizing\":\"constant\"},\"title\":{\"text\":\"Przychody z podzia\\u0142em na miasta na wycinku Azji\"}},                        {\"responsive\": true}                    ).then(function(){\n",
              "                            \n",
              "var gd = document.getElementById('a964c8fa-fc89-469a-8fb8-45030519322e');\n",
              "var x = new MutationObserver(function (mutations, observer) {{\n",
              "        var display = window.getComputedStyle(gd).display;\n",
              "        if (!display || display === 'none') {{\n",
              "            console.log([gd, 'removed!']);\n",
              "            Plotly.purge(gd);\n",
              "            observer.disconnect();\n",
              "        }}\n",
              "}});\n",
              "\n",
              "// Listen for the removal of the full notebook cells\n",
              "var notebookContainer = gd.closest('#notebook-container');\n",
              "if (notebookContainer) {{\n",
              "    x.observe(notebookContainer, {childList: true});\n",
              "}}\n",
              "\n",
              "// Listen for the clearing of the current output cell\n",
              "var outputEl = gd.closest('.output');\n",
              "if (outputEl) {{\n",
              "    x.observe(outputEl, {childList: true});\n",
              "}}\n",
              "\n",
              "                        })                };                            </script>        </div>\n",
              "</body>\n",
              "</html>"
            ]
          },
          "metadata": {}
        }
      ]
    },
    {
      "cell_type": "code",
      "execution_count": null,
      "outputs": [
        {
          "output_type": "display_data",
          "data": {
            "text/html": [
              "<html>\n",
              "<head><meta charset=\"utf-8\" /></head>\n",
              "<body>\n",
              "    <div>            <script src=\"https://cdnjs.cloudflare.com/ajax/libs/mathjax/2.7.5/MathJax.js?config=TeX-AMS-MML_SVG\"></script><script type=\"text/javascript\">if (window.MathJax && window.MathJax.Hub && window.MathJax.Hub.Config) {window.MathJax.Hub.Config({SVG: {font: \"STIX-Web\"}});}</script>                <script type=\"text/javascript\">window.PlotlyConfig = {MathJaxConfig: 'local'};</script>\n",
              "        <script charset=\"utf-8\" src=\"https://cdn.plot.ly/plotly-2.24.1.min.js\"></script>                <div id=\"35044ab3-9404-4675-b34d-e16e5aec210f\" class=\"plotly-graph-div\" style=\"height:525px; width:100%;\"></div>            <script type=\"text/javascript\">                                    window.PLOTLYENV=window.PLOTLYENV || {};                                    if (document.getElementById(\"35044ab3-9404-4675-b34d-e16e5aec210f\")) {                    Plotly.newPlot(                        \"35044ab3-9404-4675-b34d-e16e5aec210f\",                        [{\"hovertemplate\":\"Miasto=Mandalay\\u003cbr\\u003eRating=%{x}\\u003cbr\\u003e\\u015arednia Kwota Zakupu=%{y}\\u003cextra\\u003e\\u003c\\u002fextra\\u003e\",\"legendgroup\":\"Mandalay\",\"marker\":{\"color\":\"#636efa\",\"symbol\":\"circle\"},\"mode\":\"markers\",\"name\":\"Mandalay\",\"orientation\":\"v\",\"showlegend\":true,\"x\":[4.0,4.1,4.2,4.3,4.4,4.5,4.6,4.7,4.8,4.9,5.0,5.1,5.2,5.3,5.4,5.5,5.6,5.7,5.8,5.9,6.0,6.1,6.2,6.3,6.4,6.5,6.6,6.7,6.8,6.9,7.0,7.1,7.2,7.3,7.4,7.5,7.6,7.7,7.8,7.9,8.0,8.1,8.2,8.3,8.4,8.5,8.6,8.7,8.8,8.9,9.0,9.1,9.2,9.3,9.4,9.5,9.6,9.7,9.8,9.9,10.0],\"xaxis\":\"x\",\"y\":[270.7404,144.74775,600.3045,195.699,439.43760000000003,456.64649999999995,243.6315,256.4667,306.3921,388.3411875,376.2435,357.4851,310.6404,254.984625,231.653625,512.8871999999999,424.67425000000003,259.93275,135.415875,287.994,487.83000000000004,261.527,470.40749999999997,332.74949999999995,221.389875,258.0039,240.39960000000002,240.2481666666667,115.240125,231.34650000000002,238.04200000000003,329.26425,360.654,334.5069,255.12199999999999,416.682,375.35224999999997,353.301,273.483,234.6645,271.15083333333337,225.92325,286.3,389.116,498.5589,239.83575000000002,211.25474999999997,308.4526666666667,550.935,391.12080000000003,272.94575000000003,165.648,417.60075,214.865,274.0045,254.41799999999998,308.04375,404.271,370.1124,403.7649,554.3545],\"yaxis\":\"y\",\"type\":\"scatter\"},{\"hovertemplate\":\"\\u003cb\\u003eLOWESS trendline\\u003c\\u002fb\\u003e\\u003cbr\\u003e\\u003cbr\\u003eMiasto=Mandalay\\u003cbr\\u003eRating=%{x}\\u003cbr\\u003e\\u015arednia Kwota Zakupu=%{y} \\u003cb\\u003e(trend)\\u003c\\u002fb\\u003e\\u003cextra\\u003e\\u003c\\u002fextra\\u003e\",\"legendgroup\":\"Mandalay\",\"marker\":{\"color\":\"#636efa\",\"symbol\":\"circle\"},\"mode\":\"lines\",\"name\":\"Mandalay\",\"showlegend\":false,\"x\":[4.0,4.1,4.2,4.3,4.4,4.5,4.6,4.7,4.8,4.9,5.0,5.1,5.2,5.3,5.4,5.5,5.6,5.7,5.8,5.9,6.0,6.1,6.2,6.3,6.4,6.5,6.6,6.7,6.8,6.9,7.0,7.1,7.2,7.3,7.4,7.5,7.6,7.7,7.8,7.9,8.0,8.1,8.2,8.3,8.4,8.5,8.6,8.7,8.8,8.9,9.0,9.1,9.2,9.3,9.4,9.5,9.6,9.7,9.8,9.9,10.0],\"xaxis\":\"x\",\"y\":[322.73980800286256,322.1263848429354,321.4307761500732,320.66223155670855,319.82925676404307,318.94467837228507,318.01627183784063,317.04527583408776,316.0357882379238,314.9963499651558,313.93649193895766,312.8615867777466,311.7710453813748,310.6578508611223,309.50979337271843,308.31171205935135,307.04151396829434,305.64363783306516,303.99643150045756,301.91168105604334,300.42621263832444,299.2474397847727,298.3248509167013,297.53780566183156,296.8092858393644,296.0754735790724,295.36036487174016,294.73755131267217,294.2348951455875,293.8507893120815,293.61628516411696,293.601903176993,293.8612269599088,294.42363676720316,295.3416623673172,296.5705540035228,297.97403338982474,299.4265678765389,300.90217783870037,302.44514209867356,304.0632732847166,305.7577870451317,307.1512328783228,309.26148816993344,311.77185055706974,314.4884076015929,317.3057767537243,320.1714906595068,323.0611978316126,325.96063813283786,328.8559610679369,331.73570264001404,334.596358135201,337.4420130186279,340.27692317444667,343.11088498254344,345.95881978772724,348.84004717676453,351.7746778403161,354.7786115883653,357.86404302589176],\"yaxis\":\"y\",\"type\":\"scatter\"},{\"hovertemplate\":\"Miasto=Naypyitaw\\u003cbr\\u003eRating=%{x}\\u003cbr\\u003e\\u015arednia Kwota Zakupu=%{y}\\u003cextra\\u003e\\u003c\\u002fextra\\u003e\",\"legendgroup\":\"Naypyitaw\",\"marker\":{\"color\":\"#EF553B\",\"symbol\":\"circle\"},\"mode\":\"markers\",\"name\":\"Naypyitaw\",\"orientation\":\"v\",\"showlegend\":true,\"x\":[4.0,4.1,4.2,4.3,4.4,4.5,4.6,4.7,4.8,4.9,5.0,5.1,5.2,5.3,5.4,5.5,5.6,5.7,5.8,5.9,6.0,6.1,6.2,6.3,6.4,6.5,6.6,6.7,6.8,6.9,7.0,7.1,7.2,7.3,7.4,7.5,7.6,7.7,7.8,7.9,8.0,8.1,8.2,8.3,8.4,8.5,8.6,8.7,8.8,8.9,9.0,9.1,9.2,9.3,9.4,9.5,9.6,9.7,9.8,9.9,10.0],\"xaxis\":\"x\",\"y\":[490.835625,262.9795,292.889625,327.1947,487.2,424.20525000000004,536.844,746.76,423.294375,274.085,208.0995,394.99600000000004,460.95700000000005,477.02340000000004,443.49025,295.098,257.6721,419.30069999999995,320.95875,265.137,341.49674999999996,269.4216,261.17175,162.87249999999997,168.399,271.75925,521.42475,436.69079999999997,175.76475,362.84430000000003,225.385125,238.67025,333.37850000000003,207.3267,275.611875,363.0627,472.6365,224.18025,258.2755,251.403,489.461,454.86525,331.79474999999996,300.1425,177.66466666666668,335.904,252.0695625,519.6366,505.25370000000004,195.587,476.51099999999997,404.3214,431.8895,308.8485,311.4965,342.5499,386.967,231.6951,219.54099999999997,423.381,77.931],\"yaxis\":\"y\",\"type\":\"scatter\"},{\"hovertemplate\":\"\\u003cb\\u003eLOWESS trendline\\u003c\\u002fb\\u003e\\u003cbr\\u003e\\u003cbr\\u003eMiasto=Naypyitaw\\u003cbr\\u003eRating=%{x}\\u003cbr\\u003e\\u015arednia Kwota Zakupu=%{y} \\u003cb\\u003e(trend)\\u003c\\u002fb\\u003e\\u003cextra\\u003e\\u003c\\u002fextra\\u003e\",\"legendgroup\":\"Naypyitaw\",\"marker\":{\"color\":\"#EF553B\",\"symbol\":\"circle\"},\"mode\":\"lines\",\"name\":\"Naypyitaw\",\"showlegend\":false,\"x\":[4.0,4.1,4.2,4.3,4.4,4.5,4.6,4.7,4.8,4.9,5.0,5.1,5.2,5.3,5.4,5.5,5.6,5.7,5.8,5.9,6.0,6.1,6.2,6.3,6.4,6.5,6.6,6.7,6.8,6.9,7.0,7.1,7.2,7.3,7.4,7.5,7.6,7.7,7.8,7.9,8.0,8.1,8.2,8.3,8.4,8.5,8.6,8.7,8.8,8.9,9.0,9.1,9.2,9.3,9.4,9.5,9.6,9.7,9.8,9.9,10.0],\"xaxis\":\"x\",\"y\":[422.8542128665534,417.8936462024112,412.8743739426456,407.8004245661178,402.6862540612763,397.5529171996938,392.41986721014064,387.30428229593014,382.2168887453874,377.1620769675006,372.1412431450871,367.1603068958682,362.23270977283266,357.37200995339447,352.5841693103312,347.8599586013673,343.16627834147215,338.4364387348983,333.53364227735415,328.17752223409144,323.5778782204851,319.0977876938209,314.95587470381804,311.39499824015076,308.53340698732853,306.3291502906729,304.65102661482246,303.3712005236051,302.4167896500711,301.87008825202633,301.92165214340775,302.64675209731274,304.0347506225023,306.0215707936117,308.5203481364894,311.4235639418804,314.6347475185332,318.0286626704767,321.4233925738787,324.6320513308696,327.5083148166406,329.99559186889275,331.1920159274908,331.73957314319733,331.9678372761343,332.0350912899414,332.02054225453065,331.96700461753744,331.90046986711326,331.8284030161679,331.7474105864289,331.6549215327017,331.5416668147919,331.39272451278697,331.1894954517455,330.91523632407615,330.5556900049013,330.0968184552807,329.5241797941014,328.83027025411616,328.01385155998065],\"yaxis\":\"y\",\"type\":\"scatter\"},{\"hovertemplate\":\"Miasto=Yangon\\u003cbr\\u003eRating=%{x}\\u003cbr\\u003e\\u015arednia Kwota Zakupu=%{y}\\u003cextra\\u003e\\u003c\\u002fextra\\u003e\",\"legendgroup\":\"Yangon\",\"marker\":{\"color\":\"#00cc96\",\"symbol\":\"circle\"},\"mode\":\"markers\",\"name\":\"Yangon\",\"orientation\":\"v\",\"showlegend\":true,\"x\":[4.0,4.1,4.2,4.3,4.4,4.5,4.6,4.7,4.8,4.9,5.0,5.1,5.2,5.3,5.4,5.5,5.6,5.7,5.8,5.9,6.0,6.1,6.2,6.3,6.4,6.5,6.6,6.7,6.8,6.9,7.0,7.1,7.2,7.3,7.4,7.5,7.6,7.7,7.8,7.9,8.0,8.1,8.2,8.3,8.4,8.5,8.6,8.7,8.8,8.9,9.0,9.1,9.2,9.3,9.4,9.5,9.6,9.7,9.8,9.9,10.0],\"xaxis\":\"x\",\"y\":[334.73475,228.56400000000002,354.74727272727273,492.0405,266.02975,521.17975,374.22700000000003,205.3128,306.193125,182.96775,313.810875,272.5002,340.6305,450.51300000000003,445.612125,309.498,341.21220000000005,372.51480000000004,216.36431249999998,174.3315,241.91606249999998,110.92899999999999,331.6096875,529.011,520.849,372.60510000000005,289.7179090909091,244.3623,392.2611,219.0468,295.02750000000003,246.29325,264.035625,534.4329375,485.9773333333334,332.7744,322.0231875,231.561,234.28500000000003,177.05625,357.73499999999996,126.50049999999999,199.7163,207.524625,497.96774999999997,350.71950000000004,233.11575,408.82974999999993,284.316375,398.15650000000005,353.241,278.5610625,265.55287500000003,449.85675,382.2525,217.09380000000002,301.52675,160.18449999999999,226.1398125,301.512,339.36],\"yaxis\":\"y\",\"type\":\"scatter\"},{\"hovertemplate\":\"\\u003cb\\u003eLOWESS trendline\\u003c\\u002fb\\u003e\\u003cbr\\u003e\\u003cbr\\u003eMiasto=Yangon\\u003cbr\\u003eRating=%{x}\\u003cbr\\u003e\\u015arednia Kwota Zakupu=%{y} \\u003cb\\u003e(trend)\\u003c\\u002fb\\u003e\\u003cextra\\u003e\\u003c\\u002fextra\\u003e\",\"legendgroup\":\"Yangon\",\"marker\":{\"color\":\"#00cc96\",\"symbol\":\"circle\"},\"mode\":\"lines\",\"name\":\"Yangon\",\"showlegend\":false,\"x\":[4.0,4.1,4.2,4.3,4.4,4.5,4.6,4.7,4.8,4.9,5.0,5.1,5.2,5.3,5.4,5.5,5.6,5.7,5.8,5.9,6.0,6.1,6.2,6.3,6.4,6.5,6.6,6.7,6.8,6.9,7.0,7.1,7.2,7.3,7.4,7.5,7.6,7.7,7.8,7.9,8.0,8.1,8.2,8.3,8.4,8.5,8.6,8.7,8.8,8.9,9.0,9.1,9.2,9.3,9.4,9.5,9.6,9.7,9.8,9.9,10.0],\"xaxis\":\"x\",\"y\":[331.80343446466856,330.87274891821744,329.9514427818957,329.04709767160887,328.1660029713727,327.30850953914313,326.47480596880325,325.6587433791358,324.8502231487522,324.04224609875575,323.23018869174734,322.41474985669225,321.59980167313915,320.7935059146009,320.00524061950625,319.2384559718825,318.48718459737483,317.74113765286285,316.98993516945933,316.2517193918606,315.92791518079684,315.52204533120005,315.01792171474665,314.32341438162285,313.31211266426857,311.92144814123935,310.1678345696441,308.1590782815628,306.06350433521936,304.08781032500895,302.4157990762086,301.19333870302887,300.4938662416565,300.2459612708358,300.28246584634184,300.48341186952206,300.7736373671776,301.0270890563049,301.1430676803621,301.0839964633296,300.86349033591694,300.5457066547807,300.41839916001726,300.002043857103,299.53541194558613,299.11752485332875,298.7805109262066,298.5319405394439,298.37275585473975,298.29565198731257,298.2905050036185,298.3426705481325,298.43576613107234,298.5557980314646,298.6904413646046,298.8230833631656,298.9352285666737,299.01316654450244,299.0470034015724,299.0346257797301,298.97964746215916],\"yaxis\":\"y\",\"type\":\"scatter\"}],                        {\"template\":{\"data\":{\"histogram2dcontour\":[{\"type\":\"histogram2dcontour\",\"colorbar\":{\"outlinewidth\":0,\"ticks\":\"\"},\"colorscale\":[[0.0,\"#0d0887\"],[0.1111111111111111,\"#46039f\"],[0.2222222222222222,\"#7201a8\"],[0.3333333333333333,\"#9c179e\"],[0.4444444444444444,\"#bd3786\"],[0.5555555555555556,\"#d8576b\"],[0.6666666666666666,\"#ed7953\"],[0.7777777777777778,\"#fb9f3a\"],[0.8888888888888888,\"#fdca26\"],[1.0,\"#f0f921\"]]}],\"choropleth\":[{\"type\":\"choropleth\",\"colorbar\":{\"outlinewidth\":0,\"ticks\":\"\"}}],\"histogram2d\":[{\"type\":\"histogram2d\",\"colorbar\":{\"outlinewidth\":0,\"ticks\":\"\"},\"colorscale\":[[0.0,\"#0d0887\"],[0.1111111111111111,\"#46039f\"],[0.2222222222222222,\"#7201a8\"],[0.3333333333333333,\"#9c179e\"],[0.4444444444444444,\"#bd3786\"],[0.5555555555555556,\"#d8576b\"],[0.6666666666666666,\"#ed7953\"],[0.7777777777777778,\"#fb9f3a\"],[0.8888888888888888,\"#fdca26\"],[1.0,\"#f0f921\"]]}],\"heatmap\":[{\"type\":\"heatmap\",\"colorbar\":{\"outlinewidth\":0,\"ticks\":\"\"},\"colorscale\":[[0.0,\"#0d0887\"],[0.1111111111111111,\"#46039f\"],[0.2222222222222222,\"#7201a8\"],[0.3333333333333333,\"#9c179e\"],[0.4444444444444444,\"#bd3786\"],[0.5555555555555556,\"#d8576b\"],[0.6666666666666666,\"#ed7953\"],[0.7777777777777778,\"#fb9f3a\"],[0.8888888888888888,\"#fdca26\"],[1.0,\"#f0f921\"]]}],\"heatmapgl\":[{\"type\":\"heatmapgl\",\"colorbar\":{\"outlinewidth\":0,\"ticks\":\"\"},\"colorscale\":[[0.0,\"#0d0887\"],[0.1111111111111111,\"#46039f\"],[0.2222222222222222,\"#7201a8\"],[0.3333333333333333,\"#9c179e\"],[0.4444444444444444,\"#bd3786\"],[0.5555555555555556,\"#d8576b\"],[0.6666666666666666,\"#ed7953\"],[0.7777777777777778,\"#fb9f3a\"],[0.8888888888888888,\"#fdca26\"],[1.0,\"#f0f921\"]]}],\"contourcarpet\":[{\"type\":\"contourcarpet\",\"colorbar\":{\"outlinewidth\":0,\"ticks\":\"\"}}],\"contour\":[{\"type\":\"contour\",\"colorbar\":{\"outlinewidth\":0,\"ticks\":\"\"},\"colorscale\":[[0.0,\"#0d0887\"],[0.1111111111111111,\"#46039f\"],[0.2222222222222222,\"#7201a8\"],[0.3333333333333333,\"#9c179e\"],[0.4444444444444444,\"#bd3786\"],[0.5555555555555556,\"#d8576b\"],[0.6666666666666666,\"#ed7953\"],[0.7777777777777778,\"#fb9f3a\"],[0.8888888888888888,\"#fdca26\"],[1.0,\"#f0f921\"]]}],\"surface\":[{\"type\":\"surface\",\"colorbar\":{\"outlinewidth\":0,\"ticks\":\"\"},\"colorscale\":[[0.0,\"#0d0887\"],[0.1111111111111111,\"#46039f\"],[0.2222222222222222,\"#7201a8\"],[0.3333333333333333,\"#9c179e\"],[0.4444444444444444,\"#bd3786\"],[0.5555555555555556,\"#d8576b\"],[0.6666666666666666,\"#ed7953\"],[0.7777777777777778,\"#fb9f3a\"],[0.8888888888888888,\"#fdca26\"],[1.0,\"#f0f921\"]]}],\"mesh3d\":[{\"type\":\"mesh3d\",\"colorbar\":{\"outlinewidth\":0,\"ticks\":\"\"}}],\"scatter\":[{\"fillpattern\":{\"fillmode\":\"overlay\",\"size\":10,\"solidity\":0.2},\"type\":\"scatter\"}],\"parcoords\":[{\"type\":\"parcoords\",\"line\":{\"colorbar\":{\"outlinewidth\":0,\"ticks\":\"\"}}}],\"scatterpolargl\":[{\"type\":\"scatterpolargl\",\"marker\":{\"colorbar\":{\"outlinewidth\":0,\"ticks\":\"\"}}}],\"bar\":[{\"error_x\":{\"color\":\"#2a3f5f\"},\"error_y\":{\"color\":\"#2a3f5f\"},\"marker\":{\"line\":{\"color\":\"#E5ECF6\",\"width\":0.5},\"pattern\":{\"fillmode\":\"overlay\",\"size\":10,\"solidity\":0.2}},\"type\":\"bar\"}],\"scattergeo\":[{\"type\":\"scattergeo\",\"marker\":{\"colorbar\":{\"outlinewidth\":0,\"ticks\":\"\"}}}],\"scatterpolar\":[{\"type\":\"scatterpolar\",\"marker\":{\"colorbar\":{\"outlinewidth\":0,\"ticks\":\"\"}}}],\"histogram\":[{\"marker\":{\"pattern\":{\"fillmode\":\"overlay\",\"size\":10,\"solidity\":0.2}},\"type\":\"histogram\"}],\"scattergl\":[{\"type\":\"scattergl\",\"marker\":{\"colorbar\":{\"outlinewidth\":0,\"ticks\":\"\"}}}],\"scatter3d\":[{\"type\":\"scatter3d\",\"line\":{\"colorbar\":{\"outlinewidth\":0,\"ticks\":\"\"}},\"marker\":{\"colorbar\":{\"outlinewidth\":0,\"ticks\":\"\"}}}],\"scattermapbox\":[{\"type\":\"scattermapbox\",\"marker\":{\"colorbar\":{\"outlinewidth\":0,\"ticks\":\"\"}}}],\"scatterternary\":[{\"type\":\"scatterternary\",\"marker\":{\"colorbar\":{\"outlinewidth\":0,\"ticks\":\"\"}}}],\"scattercarpet\":[{\"type\":\"scattercarpet\",\"marker\":{\"colorbar\":{\"outlinewidth\":0,\"ticks\":\"\"}}}],\"carpet\":[{\"aaxis\":{\"endlinecolor\":\"#2a3f5f\",\"gridcolor\":\"white\",\"linecolor\":\"white\",\"minorgridcolor\":\"white\",\"startlinecolor\":\"#2a3f5f\"},\"baxis\":{\"endlinecolor\":\"#2a3f5f\",\"gridcolor\":\"white\",\"linecolor\":\"white\",\"minorgridcolor\":\"white\",\"startlinecolor\":\"#2a3f5f\"},\"type\":\"carpet\"}],\"table\":[{\"cells\":{\"fill\":{\"color\":\"#EBF0F8\"},\"line\":{\"color\":\"white\"}},\"header\":{\"fill\":{\"color\":\"#C8D4E3\"},\"line\":{\"color\":\"white\"}},\"type\":\"table\"}],\"barpolar\":[{\"marker\":{\"line\":{\"color\":\"#E5ECF6\",\"width\":0.5},\"pattern\":{\"fillmode\":\"overlay\",\"size\":10,\"solidity\":0.2}},\"type\":\"barpolar\"}],\"pie\":[{\"automargin\":true,\"type\":\"pie\"}]},\"layout\":{\"autotypenumbers\":\"strict\",\"colorway\":[\"#636efa\",\"#EF553B\",\"#00cc96\",\"#ab63fa\",\"#FFA15A\",\"#19d3f3\",\"#FF6692\",\"#B6E880\",\"#FF97FF\",\"#FECB52\"],\"font\":{\"color\":\"#2a3f5f\"},\"hovermode\":\"closest\",\"hoverlabel\":{\"align\":\"left\"},\"paper_bgcolor\":\"white\",\"plot_bgcolor\":\"#E5ECF6\",\"polar\":{\"bgcolor\":\"#E5ECF6\",\"angularaxis\":{\"gridcolor\":\"white\",\"linecolor\":\"white\",\"ticks\":\"\"},\"radialaxis\":{\"gridcolor\":\"white\",\"linecolor\":\"white\",\"ticks\":\"\"}},\"ternary\":{\"bgcolor\":\"#E5ECF6\",\"aaxis\":{\"gridcolor\":\"white\",\"linecolor\":\"white\",\"ticks\":\"\"},\"baxis\":{\"gridcolor\":\"white\",\"linecolor\":\"white\",\"ticks\":\"\"},\"caxis\":{\"gridcolor\":\"white\",\"linecolor\":\"white\",\"ticks\":\"\"}},\"coloraxis\":{\"colorbar\":{\"outlinewidth\":0,\"ticks\":\"\"}},\"colorscale\":{\"sequential\":[[0.0,\"#0d0887\"],[0.1111111111111111,\"#46039f\"],[0.2222222222222222,\"#7201a8\"],[0.3333333333333333,\"#9c179e\"],[0.4444444444444444,\"#bd3786\"],[0.5555555555555556,\"#d8576b\"],[0.6666666666666666,\"#ed7953\"],[0.7777777777777778,\"#fb9f3a\"],[0.8888888888888888,\"#fdca26\"],[1.0,\"#f0f921\"]],\"sequentialminus\":[[0.0,\"#0d0887\"],[0.1111111111111111,\"#46039f\"],[0.2222222222222222,\"#7201a8\"],[0.3333333333333333,\"#9c179e\"],[0.4444444444444444,\"#bd3786\"],[0.5555555555555556,\"#d8576b\"],[0.6666666666666666,\"#ed7953\"],[0.7777777777777778,\"#fb9f3a\"],[0.8888888888888888,\"#fdca26\"],[1.0,\"#f0f921\"]],\"diverging\":[[0,\"#8e0152\"],[0.1,\"#c51b7d\"],[0.2,\"#de77ae\"],[0.3,\"#f1b6da\"],[0.4,\"#fde0ef\"],[0.5,\"#f7f7f7\"],[0.6,\"#e6f5d0\"],[0.7,\"#b8e186\"],[0.8,\"#7fbc41\"],[0.9,\"#4d9221\"],[1,\"#276419\"]]},\"xaxis\":{\"gridcolor\":\"white\",\"linecolor\":\"white\",\"ticks\":\"\",\"title\":{\"standoff\":15},\"zerolinecolor\":\"white\",\"automargin\":true,\"zerolinewidth\":2},\"yaxis\":{\"gridcolor\":\"white\",\"linecolor\":\"white\",\"ticks\":\"\",\"title\":{\"standoff\":15},\"zerolinecolor\":\"white\",\"automargin\":true,\"zerolinewidth\":2},\"scene\":{\"xaxis\":{\"backgroundcolor\":\"#E5ECF6\",\"gridcolor\":\"white\",\"linecolor\":\"white\",\"showbackground\":true,\"ticks\":\"\",\"zerolinecolor\":\"white\",\"gridwidth\":2},\"yaxis\":{\"backgroundcolor\":\"#E5ECF6\",\"gridcolor\":\"white\",\"linecolor\":\"white\",\"showbackground\":true,\"ticks\":\"\",\"zerolinecolor\":\"white\",\"gridwidth\":2},\"zaxis\":{\"backgroundcolor\":\"#E5ECF6\",\"gridcolor\":\"white\",\"linecolor\":\"white\",\"showbackground\":true,\"ticks\":\"\",\"zerolinecolor\":\"white\",\"gridwidth\":2}},\"shapedefaults\":{\"line\":{\"color\":\"#2a3f5f\"}},\"annotationdefaults\":{\"arrowcolor\":\"#2a3f5f\",\"arrowhead\":0,\"arrowwidth\":1},\"geo\":{\"bgcolor\":\"white\",\"landcolor\":\"#E5ECF6\",\"subunitcolor\":\"white\",\"showland\":true,\"showlakes\":true,\"lakecolor\":\"white\"},\"title\":{\"x\":0.05},\"mapbox\":{\"style\":\"light\"}}},\"xaxis\":{\"anchor\":\"y\",\"domain\":[0.0,1.0],\"title\":{\"text\":\"Rating\"}},\"yaxis\":{\"anchor\":\"x\",\"domain\":[0.0,1.0],\"title\":{\"text\":\"\\u015arednia Kwota Zakupu\"}},\"legend\":{\"title\":{\"text\":\"Miasto\"},\"tracegroupgap\":0},\"title\":{\"text\":\"Zale\\u017cno\\u015b\\u0107 mi\\u0119dzy ratingiem a \\u015bredni\\u0105 kwot\\u0105 zakup\\u00f3w z uwzgl\\u0119dnieniem miast\"}},                        {\"responsive\": true}                    ).then(function(){\n",
              "                            \n",
              "var gd = document.getElementById('35044ab3-9404-4675-b34d-e16e5aec210f');\n",
              "var x = new MutationObserver(function (mutations, observer) {{\n",
              "        var display = window.getComputedStyle(gd).display;\n",
              "        if (!display || display === 'none') {{\n",
              "            console.log([gd, 'removed!']);\n",
              "            Plotly.purge(gd);\n",
              "            observer.disconnect();\n",
              "        }}\n",
              "}});\n",
              "\n",
              "// Listen for the removal of the full notebook cells\n",
              "var notebookContainer = gd.closest('#notebook-container');\n",
              "if (notebookContainer) {{\n",
              "    x.observe(notebookContainer, {childList: true});\n",
              "}}\n",
              "\n",
              "// Listen for the clearing of the current output cell\n",
              "var outputEl = gd.closest('.output');\n",
              "if (outputEl) {{\n",
              "    x.observe(outputEl, {childList: true});\n",
              "}}\n",
              "\n",
              "                        })                };                            </script>        </div>\n",
              "</body>\n",
              "</html>"
            ]
          },
          "metadata": {}
        }
      ],
      "source": [
        "avg_purchase_by_rating = df.groupby(['City', 'Rating'])['Total'].mean().reset_index()\n",
        "\n",
        "fig = px.scatter(avg_purchase_by_rating, x='Rating', y='Total', color='City', trendline='lowess',\n",
        "                 labels={\n",
        "                     'Rating': 'Rating',\n",
        "                     'Total': 'Średnia Kwota Zakupu',\n",
        "                     'City': 'Miasto'\n",
        "                 },\n",
        "                 title='Zależność między ratingiem a średnią kwotą zakupów z uwzględnieniem miast')\n",
        "fig.show()"
      ],
      "metadata": {
        "ExecuteTime": {
          "end_time": "2024-01-22T11:49:12.378049700Z",
          "start_time": "2024-01-22T11:49:12.180334600Z"
        },
        "colab": {
          "base_uri": "https://localhost:8080/",
          "height": 542
        },
        "id": "N009U0BPAOBm",
        "outputId": "64cd0492-af61-4c6f-8fba-ae8a514cab5b"
      }
    },
    {
      "cell_type": "markdown",
      "source": [
        "Jak widać na wykresie powyżej, średni rating nie przekłada się na średnią kwotę zakupów."
      ],
      "metadata": {
        "id": "OHxz6_Xgj2uB"
      }
    },
    {
      "cell_type": "code",
      "execution_count": null,
      "outputs": [
        {
          "output_type": "display_data",
          "data": {
            "text/html": [
              "<html>\n",
              "<head><meta charset=\"utf-8\" /></head>\n",
              "<body>\n",
              "    <div>            <script src=\"https://cdnjs.cloudflare.com/ajax/libs/mathjax/2.7.5/MathJax.js?config=TeX-AMS-MML_SVG\"></script><script type=\"text/javascript\">if (window.MathJax && window.MathJax.Hub && window.MathJax.Hub.Config) {window.MathJax.Hub.Config({SVG: {font: \"STIX-Web\"}});}</script>                <script type=\"text/javascript\">window.PlotlyConfig = {MathJaxConfig: 'local'};</script>\n",
              "        <script charset=\"utf-8\" src=\"https://cdn.plot.ly/plotly-2.24.1.min.js\"></script>                <div id=\"566faa38-bd73-4b89-acd5-f1e6936ea020\" class=\"plotly-graph-div\" style=\"height:525px; width:100%;\"></div>            <script type=\"text/javascript\">                                    window.PLOTLYENV=window.PLOTLYENV || {};                                    if (document.getElementById(\"566faa38-bd73-4b89-acd5-f1e6936ea020\")) {                    Plotly.newPlot(                        \"566faa38-bd73-4b89-acd5-f1e6936ea020\",                        [{\"alignmentgroup\":\"True\",\"hovertemplate\":\"Miasto=%{x}\\u003cbr\\u003eRating=%{y}\\u003cextra\\u003e\\u003c\\u002fextra\\u003e\",\"legendgroup\":\"\",\"marker\":{\"color\":\"#636efa\",\"pattern\":{\"shape\":\"\"}},\"name\":\"\",\"offsetgroup\":\"\",\"orientation\":\"v\",\"showlegend\":false,\"textposition\":\"auto\",\"x\":[\"Mandalay\",\"Naypyitaw\",\"Yangon\"],\"xaxis\":\"x\",\"y\":[6.8180722891566266,7.072865853658537,7.027058823529411],\"yaxis\":\"y\",\"type\":\"bar\"}],                        {\"template\":{\"data\":{\"histogram2dcontour\":[{\"type\":\"histogram2dcontour\",\"colorbar\":{\"outlinewidth\":0,\"ticks\":\"\"},\"colorscale\":[[0.0,\"#0d0887\"],[0.1111111111111111,\"#46039f\"],[0.2222222222222222,\"#7201a8\"],[0.3333333333333333,\"#9c179e\"],[0.4444444444444444,\"#bd3786\"],[0.5555555555555556,\"#d8576b\"],[0.6666666666666666,\"#ed7953\"],[0.7777777777777778,\"#fb9f3a\"],[0.8888888888888888,\"#fdca26\"],[1.0,\"#f0f921\"]]}],\"choropleth\":[{\"type\":\"choropleth\",\"colorbar\":{\"outlinewidth\":0,\"ticks\":\"\"}}],\"histogram2d\":[{\"type\":\"histogram2d\",\"colorbar\":{\"outlinewidth\":0,\"ticks\":\"\"},\"colorscale\":[[0.0,\"#0d0887\"],[0.1111111111111111,\"#46039f\"],[0.2222222222222222,\"#7201a8\"],[0.3333333333333333,\"#9c179e\"],[0.4444444444444444,\"#bd3786\"],[0.5555555555555556,\"#d8576b\"],[0.6666666666666666,\"#ed7953\"],[0.7777777777777778,\"#fb9f3a\"],[0.8888888888888888,\"#fdca26\"],[1.0,\"#f0f921\"]]}],\"heatmap\":[{\"type\":\"heatmap\",\"colorbar\":{\"outlinewidth\":0,\"ticks\":\"\"},\"colorscale\":[[0.0,\"#0d0887\"],[0.1111111111111111,\"#46039f\"],[0.2222222222222222,\"#7201a8\"],[0.3333333333333333,\"#9c179e\"],[0.4444444444444444,\"#bd3786\"],[0.5555555555555556,\"#d8576b\"],[0.6666666666666666,\"#ed7953\"],[0.7777777777777778,\"#fb9f3a\"],[0.8888888888888888,\"#fdca26\"],[1.0,\"#f0f921\"]]}],\"heatmapgl\":[{\"type\":\"heatmapgl\",\"colorbar\":{\"outlinewidth\":0,\"ticks\":\"\"},\"colorscale\":[[0.0,\"#0d0887\"],[0.1111111111111111,\"#46039f\"],[0.2222222222222222,\"#7201a8\"],[0.3333333333333333,\"#9c179e\"],[0.4444444444444444,\"#bd3786\"],[0.5555555555555556,\"#d8576b\"],[0.6666666666666666,\"#ed7953\"],[0.7777777777777778,\"#fb9f3a\"],[0.8888888888888888,\"#fdca26\"],[1.0,\"#f0f921\"]]}],\"contourcarpet\":[{\"type\":\"contourcarpet\",\"colorbar\":{\"outlinewidth\":0,\"ticks\":\"\"}}],\"contour\":[{\"type\":\"contour\",\"colorbar\":{\"outlinewidth\":0,\"ticks\":\"\"},\"colorscale\":[[0.0,\"#0d0887\"],[0.1111111111111111,\"#46039f\"],[0.2222222222222222,\"#7201a8\"],[0.3333333333333333,\"#9c179e\"],[0.4444444444444444,\"#bd3786\"],[0.5555555555555556,\"#d8576b\"],[0.6666666666666666,\"#ed7953\"],[0.7777777777777778,\"#fb9f3a\"],[0.8888888888888888,\"#fdca26\"],[1.0,\"#f0f921\"]]}],\"surface\":[{\"type\":\"surface\",\"colorbar\":{\"outlinewidth\":0,\"ticks\":\"\"},\"colorscale\":[[0.0,\"#0d0887\"],[0.1111111111111111,\"#46039f\"],[0.2222222222222222,\"#7201a8\"],[0.3333333333333333,\"#9c179e\"],[0.4444444444444444,\"#bd3786\"],[0.5555555555555556,\"#d8576b\"],[0.6666666666666666,\"#ed7953\"],[0.7777777777777778,\"#fb9f3a\"],[0.8888888888888888,\"#fdca26\"],[1.0,\"#f0f921\"]]}],\"mesh3d\":[{\"type\":\"mesh3d\",\"colorbar\":{\"outlinewidth\":0,\"ticks\":\"\"}}],\"scatter\":[{\"fillpattern\":{\"fillmode\":\"overlay\",\"size\":10,\"solidity\":0.2},\"type\":\"scatter\"}],\"parcoords\":[{\"type\":\"parcoords\",\"line\":{\"colorbar\":{\"outlinewidth\":0,\"ticks\":\"\"}}}],\"scatterpolargl\":[{\"type\":\"scatterpolargl\",\"marker\":{\"colorbar\":{\"outlinewidth\":0,\"ticks\":\"\"}}}],\"bar\":[{\"error_x\":{\"color\":\"#2a3f5f\"},\"error_y\":{\"color\":\"#2a3f5f\"},\"marker\":{\"line\":{\"color\":\"#E5ECF6\",\"width\":0.5},\"pattern\":{\"fillmode\":\"overlay\",\"size\":10,\"solidity\":0.2}},\"type\":\"bar\"}],\"scattergeo\":[{\"type\":\"scattergeo\",\"marker\":{\"colorbar\":{\"outlinewidth\":0,\"ticks\":\"\"}}}],\"scatterpolar\":[{\"type\":\"scatterpolar\",\"marker\":{\"colorbar\":{\"outlinewidth\":0,\"ticks\":\"\"}}}],\"histogram\":[{\"marker\":{\"pattern\":{\"fillmode\":\"overlay\",\"size\":10,\"solidity\":0.2}},\"type\":\"histogram\"}],\"scattergl\":[{\"type\":\"scattergl\",\"marker\":{\"colorbar\":{\"outlinewidth\":0,\"ticks\":\"\"}}}],\"scatter3d\":[{\"type\":\"scatter3d\",\"line\":{\"colorbar\":{\"outlinewidth\":0,\"ticks\":\"\"}},\"marker\":{\"colorbar\":{\"outlinewidth\":0,\"ticks\":\"\"}}}],\"scattermapbox\":[{\"type\":\"scattermapbox\",\"marker\":{\"colorbar\":{\"outlinewidth\":0,\"ticks\":\"\"}}}],\"scatterternary\":[{\"type\":\"scatterternary\",\"marker\":{\"colorbar\":{\"outlinewidth\":0,\"ticks\":\"\"}}}],\"scattercarpet\":[{\"type\":\"scattercarpet\",\"marker\":{\"colorbar\":{\"outlinewidth\":0,\"ticks\":\"\"}}}],\"carpet\":[{\"aaxis\":{\"endlinecolor\":\"#2a3f5f\",\"gridcolor\":\"white\",\"linecolor\":\"white\",\"minorgridcolor\":\"white\",\"startlinecolor\":\"#2a3f5f\"},\"baxis\":{\"endlinecolor\":\"#2a3f5f\",\"gridcolor\":\"white\",\"linecolor\":\"white\",\"minorgridcolor\":\"white\",\"startlinecolor\":\"#2a3f5f\"},\"type\":\"carpet\"}],\"table\":[{\"cells\":{\"fill\":{\"color\":\"#EBF0F8\"},\"line\":{\"color\":\"white\"}},\"header\":{\"fill\":{\"color\":\"#C8D4E3\"},\"line\":{\"color\":\"white\"}},\"type\":\"table\"}],\"barpolar\":[{\"marker\":{\"line\":{\"color\":\"#E5ECF6\",\"width\":0.5},\"pattern\":{\"fillmode\":\"overlay\",\"size\":10,\"solidity\":0.2}},\"type\":\"barpolar\"}],\"pie\":[{\"automargin\":true,\"type\":\"pie\"}]},\"layout\":{\"autotypenumbers\":\"strict\",\"colorway\":[\"#636efa\",\"#EF553B\",\"#00cc96\",\"#ab63fa\",\"#FFA15A\",\"#19d3f3\",\"#FF6692\",\"#B6E880\",\"#FF97FF\",\"#FECB52\"],\"font\":{\"color\":\"#2a3f5f\"},\"hovermode\":\"closest\",\"hoverlabel\":{\"align\":\"left\"},\"paper_bgcolor\":\"white\",\"plot_bgcolor\":\"#E5ECF6\",\"polar\":{\"bgcolor\":\"#E5ECF6\",\"angularaxis\":{\"gridcolor\":\"white\",\"linecolor\":\"white\",\"ticks\":\"\"},\"radialaxis\":{\"gridcolor\":\"white\",\"linecolor\":\"white\",\"ticks\":\"\"}},\"ternary\":{\"bgcolor\":\"#E5ECF6\",\"aaxis\":{\"gridcolor\":\"white\",\"linecolor\":\"white\",\"ticks\":\"\"},\"baxis\":{\"gridcolor\":\"white\",\"linecolor\":\"white\",\"ticks\":\"\"},\"caxis\":{\"gridcolor\":\"white\",\"linecolor\":\"white\",\"ticks\":\"\"}},\"coloraxis\":{\"colorbar\":{\"outlinewidth\":0,\"ticks\":\"\"}},\"colorscale\":{\"sequential\":[[0.0,\"#0d0887\"],[0.1111111111111111,\"#46039f\"],[0.2222222222222222,\"#7201a8\"],[0.3333333333333333,\"#9c179e\"],[0.4444444444444444,\"#bd3786\"],[0.5555555555555556,\"#d8576b\"],[0.6666666666666666,\"#ed7953\"],[0.7777777777777778,\"#fb9f3a\"],[0.8888888888888888,\"#fdca26\"],[1.0,\"#f0f921\"]],\"sequentialminus\":[[0.0,\"#0d0887\"],[0.1111111111111111,\"#46039f\"],[0.2222222222222222,\"#7201a8\"],[0.3333333333333333,\"#9c179e\"],[0.4444444444444444,\"#bd3786\"],[0.5555555555555556,\"#d8576b\"],[0.6666666666666666,\"#ed7953\"],[0.7777777777777778,\"#fb9f3a\"],[0.8888888888888888,\"#fdca26\"],[1.0,\"#f0f921\"]],\"diverging\":[[0,\"#8e0152\"],[0.1,\"#c51b7d\"],[0.2,\"#de77ae\"],[0.3,\"#f1b6da\"],[0.4,\"#fde0ef\"],[0.5,\"#f7f7f7\"],[0.6,\"#e6f5d0\"],[0.7,\"#b8e186\"],[0.8,\"#7fbc41\"],[0.9,\"#4d9221\"],[1,\"#276419\"]]},\"xaxis\":{\"gridcolor\":\"white\",\"linecolor\":\"white\",\"ticks\":\"\",\"title\":{\"standoff\":15},\"zerolinecolor\":\"white\",\"automargin\":true,\"zerolinewidth\":2},\"yaxis\":{\"gridcolor\":\"white\",\"linecolor\":\"white\",\"ticks\":\"\",\"title\":{\"standoff\":15},\"zerolinecolor\":\"white\",\"automargin\":true,\"zerolinewidth\":2},\"scene\":{\"xaxis\":{\"backgroundcolor\":\"#E5ECF6\",\"gridcolor\":\"white\",\"linecolor\":\"white\",\"showbackground\":true,\"ticks\":\"\",\"zerolinecolor\":\"white\",\"gridwidth\":2},\"yaxis\":{\"backgroundcolor\":\"#E5ECF6\",\"gridcolor\":\"white\",\"linecolor\":\"white\",\"showbackground\":true,\"ticks\":\"\",\"zerolinecolor\":\"white\",\"gridwidth\":2},\"zaxis\":{\"backgroundcolor\":\"#E5ECF6\",\"gridcolor\":\"white\",\"linecolor\":\"white\",\"showbackground\":true,\"ticks\":\"\",\"zerolinecolor\":\"white\",\"gridwidth\":2}},\"shapedefaults\":{\"line\":{\"color\":\"#2a3f5f\"}},\"annotationdefaults\":{\"arrowcolor\":\"#2a3f5f\",\"arrowhead\":0,\"arrowwidth\":1},\"geo\":{\"bgcolor\":\"white\",\"landcolor\":\"#E5ECF6\",\"subunitcolor\":\"white\",\"showland\":true,\"showlakes\":true,\"lakecolor\":\"white\"},\"title\":{\"x\":0.05},\"mapbox\":{\"style\":\"light\"}}},\"xaxis\":{\"anchor\":\"y\",\"domain\":[0.0,1.0],\"title\":{\"text\":\"Miasto\"}},\"yaxis\":{\"anchor\":\"x\",\"domain\":[0.0,1.0],\"title\":{\"text\":\"Rating\"}},\"legend\":{\"tracegroupgap\":0},\"title\":{\"text\":\"\\u015aredni Rating klient\\u00f3w z podzia\\u0142em na miasta\"},\"barmode\":\"relative\"},                        {\"responsive\": true}                    ).then(function(){\n",
              "                            \n",
              "var gd = document.getElementById('566faa38-bd73-4b89-acd5-f1e6936ea020');\n",
              "var x = new MutationObserver(function (mutations, observer) {{\n",
              "        var display = window.getComputedStyle(gd).display;\n",
              "        if (!display || display === 'none') {{\n",
              "            console.log([gd, 'removed!']);\n",
              "            Plotly.purge(gd);\n",
              "            observer.disconnect();\n",
              "        }}\n",
              "}});\n",
              "\n",
              "// Listen for the removal of the full notebook cells\n",
              "var notebookContainer = gd.closest('#notebook-container');\n",
              "if (notebookContainer) {{\n",
              "    x.observe(notebookContainer, {childList: true});\n",
              "}}\n",
              "\n",
              "// Listen for the clearing of the current output cell\n",
              "var outputEl = gd.closest('.output');\n",
              "if (outputEl) {{\n",
              "    x.observe(outputEl, {childList: true});\n",
              "}}\n",
              "\n",
              "                        })                };                            </script>        </div>\n",
              "</body>\n",
              "</html>"
            ]
          },
          "metadata": {}
        }
      ],
      "source": [
        "avg_rating_by_city = df.groupby('City')['Rating'].mean().reset_index()\n",
        "fig = px.bar(avg_rating_by_city, x='City', y='Rating',\n",
        "                 labels={\n",
        "                     'Rating': 'Rating',\n",
        "                     'City': 'Miasto'\n",
        "                 },\n",
        "                 title='Średni Rating klientów z podziałem na miasta')\n",
        "fig.show()"
      ],
      "metadata": {
        "ExecuteTime": {
          "end_time": "2024-01-22T11:49:12.424907700Z",
          "start_time": "2024-01-22T11:49:12.274885200Z"
        },
        "colab": {
          "base_uri": "https://localhost:8080/",
          "height": 542
        },
        "id": "6XWHFpXvAOBm",
        "outputId": "9354da55-6568-4498-caa6-f2ee9882aa4a"
      }
    },
    {
      "cell_type": "markdown",
      "source": [
        "Na wykresie słupkowym można zauwayć, że Naypitaw ma największy średni rating, a najmnijeszy Mandalay."
      ],
      "metadata": {
        "id": "FzPUsom_kPSM"
      }
    },
    {
      "cell_type": "code",
      "execution_count": null,
      "outputs": [
        {
          "output_type": "display_data",
          "data": {
            "text/html": [
              "<html>\n",
              "<head><meta charset=\"utf-8\" /></head>\n",
              "<body>\n",
              "    <div>            <script src=\"https://cdnjs.cloudflare.com/ajax/libs/mathjax/2.7.5/MathJax.js?config=TeX-AMS-MML_SVG\"></script><script type=\"text/javascript\">if (window.MathJax && window.MathJax.Hub && window.MathJax.Hub.Config) {window.MathJax.Hub.Config({SVG: {font: \"STIX-Web\"}});}</script>                <script type=\"text/javascript\">window.PlotlyConfig = {MathJaxConfig: 'local'};</script>\n",
              "        <script charset=\"utf-8\" src=\"https://cdn.plot.ly/plotly-2.24.1.min.js\"></script>                <div id=\"039783e4-1f04-4b23-b06a-82239d943cad\" class=\"plotly-graph-div\" style=\"height:525px; width:100%;\"></div>            <script type=\"text/javascript\">                                    window.PLOTLYENV=window.PLOTLYENV || {};                                    if (document.getElementById(\"039783e4-1f04-4b23-b06a-82239d943cad\")) {                    Plotly.newPlot(                        \"039783e4-1f04-4b23-b06a-82239d943cad\",                        [{\"alignmentgroup\":\"True\",\"box\":{\"visible\":false},\"hovertemplate\":\"Miasto=%{x}\\u003cbr\\u003eRating=%{y}\\u003cextra\\u003e\\u003c\\u002fextra\\u003e\",\"legendgroup\":\"\",\"marker\":{\"color\":\"#636efa\"},\"name\":\"\",\"offsetgroup\":\"\",\"orientation\":\"v\",\"scalegroup\":\"True\",\"showlegend\":false,\"x\":[\"Yangon\",\"Naypyitaw\",\"Yangon\",\"Yangon\",\"Yangon\",\"Naypyitaw\",\"Yangon\",\"Naypyitaw\",\"Yangon\",\"Mandalay\",\"Mandalay\",\"Mandalay\",\"Yangon\",\"Yangon\",\"Yangon\",\"Mandalay\",\"Yangon\",\"Yangon\",\"Yangon\",\"Mandalay\",\"Naypyitaw\",\"Mandalay\",\"Mandalay\",\"Yangon\",\"Yangon\",\"Yangon\",\"Mandalay\",\"Yangon\",\"Mandalay\",\"Yangon\",\"Mandalay\",\"Mandalay\",\"Mandalay\",\"Yangon\",\"Naypyitaw\",\"Naypyitaw\",\"Yangon\",\"Yangon\",\"Naypyitaw\",\"Mandalay\",\"Mandalay\",\"Naypyitaw\",\"Mandalay\",\"Naypyitaw\",\"Naypyitaw\",\"Mandalay\",\"Mandalay\",\"Mandalay\",\"Mandalay\",\"Naypyitaw\",\"Naypyitaw\",\"Yangon\",\"Mandalay\",\"Naypyitaw\",\"Mandalay\",\"Naypyitaw\",\"Yangon\",\"Yangon\",\"Yangon\",\"Naypyitaw\",\"Naypyitaw\",\"Naypyitaw\",\"Mandalay\",\"Yangon\",\"Mandalay\",\"Yangon\",\"Naypyitaw\",\"Mandalay\",\"Yangon\",\"Yangon\",\"Naypyitaw\",\"Naypyitaw\",\"Mandalay\",\"Naypyitaw\",\"Yangon\",\"Naypyitaw\",\"Naypyitaw\",\"Yangon\",\"Naypyitaw\",\"Naypyitaw\",\"Naypyitaw\",\"Mandalay\",\"Naypyitaw\",\"Naypyitaw\",\"Naypyitaw\",\"Naypyitaw\",\"Naypyitaw\",\"Yangon\",\"Yangon\",\"Mandalay\",\"Naypyitaw\",\"Naypyitaw\",\"Yangon\",\"Mandalay\",\"Naypyitaw\",\"Yangon\",\"Mandalay\",\"Naypyitaw\",\"Yangon\",\"Mandalay\",\"Naypyitaw\",\"Naypyitaw\",\"Naypyitaw\",\"Yangon\",\"Mandalay\",\"Yangon\",\"Naypyitaw\",\"Yangon\",\"Naypyitaw\",\"Naypyitaw\",\"Mandalay\",\"Naypyitaw\",\"Mandalay\",\"Yangon\",\"Naypyitaw\",\"Naypyitaw\",\"Mandalay\",\"Mandalay\",\"Yangon\",\"Mandalay\",\"Yangon\",\"Naypyitaw\",\"Mandalay\",\"Naypyitaw\",\"Mandalay\",\"Yangon\",\"Yangon\",\"Naypyitaw\",\"Naypyitaw\",\"Mandalay\",\"Mandalay\",\"Yangon\",\"Mandalay\",\"Mandalay\",\"Naypyitaw\",\"Naypyitaw\",\"Yangon\",\"Yangon\",\"Mandalay\",\"Yangon\",\"Naypyitaw\",\"Naypyitaw\",\"Naypyitaw\",\"Naypyitaw\",\"Yangon\",\"Naypyitaw\",\"Yangon\",\"Naypyitaw\",\"Mandalay\",\"Yangon\",\"Mandalay\",\"Naypyitaw\",\"Yangon\",\"Naypyitaw\",\"Naypyitaw\",\"Yangon\",\"Mandalay\",\"Mandalay\",\"Mandalay\",\"Mandalay\",\"Naypyitaw\",\"Yangon\",\"Yangon\",\"Naypyitaw\",\"Mandalay\",\"Mandalay\",\"Naypyitaw\",\"Yangon\",\"Yangon\",\"Yangon\",\"Yangon\",\"Mandalay\",\"Naypyitaw\",\"Mandalay\",\"Mandalay\",\"Yangon\",\"Yangon\",\"Naypyitaw\",\"Yangon\",\"Naypyitaw\",\"Naypyitaw\",\"Naypyitaw\",\"Yangon\",\"Naypyitaw\",\"Yangon\",\"Mandalay\",\"Mandalay\",\"Mandalay\",\"Yangon\",\"Naypyitaw\",\"Mandalay\",\"Mandalay\",\"Naypyitaw\",\"Mandalay\",\"Yangon\",\"Naypyitaw\",\"Naypyitaw\",\"Yangon\",\"Naypyitaw\",\"Naypyitaw\",\"Naypyitaw\",\"Mandalay\",\"Naypyitaw\",\"Mandalay\",\"Mandalay\",\"Yangon\",\"Naypyitaw\",\"Naypyitaw\",\"Mandalay\",\"Mandalay\",\"Yangon\",\"Naypyitaw\",\"Mandalay\",\"Mandalay\",\"Mandalay\",\"Yangon\",\"Mandalay\",\"Yangon\",\"Mandalay\",\"Mandalay\",\"Mandalay\",\"Mandalay\",\"Naypyitaw\",\"Naypyitaw\",\"Yangon\",\"Naypyitaw\",\"Mandalay\",\"Naypyitaw\",\"Mandalay\",\"Yangon\",\"Mandalay\",\"Mandalay\",\"Mandalay\",\"Mandalay\",\"Yangon\",\"Yangon\",\"Naypyitaw\",\"Naypyitaw\",\"Mandalay\",\"Yangon\",\"Yangon\",\"Yangon\",\"Naypyitaw\",\"Yangon\",\"Mandalay\",\"Yangon\",\"Mandalay\",\"Yangon\",\"Yangon\",\"Mandalay\",\"Mandalay\",\"Naypyitaw\",\"Naypyitaw\",\"Yangon\",\"Yangon\",\"Mandalay\",\"Yangon\",\"Yangon\",\"Yangon\",\"Naypyitaw\",\"Yangon\",\"Naypyitaw\",\"Mandalay\",\"Yangon\",\"Mandalay\",\"Yangon\",\"Naypyitaw\",\"Mandalay\",\"Yangon\",\"Yangon\",\"Mandalay\",\"Naypyitaw\",\"Yangon\",\"Yangon\",\"Mandalay\",\"Mandalay\",\"Naypyitaw\",\"Naypyitaw\",\"Naypyitaw\",\"Yangon\",\"Yangon\",\"Naypyitaw\",\"Yangon\",\"Yangon\",\"Yangon\",\"Mandalay\",\"Naypyitaw\",\"Naypyitaw\",\"Mandalay\",\"Yangon\",\"Mandalay\",\"Naypyitaw\",\"Yangon\",\"Yangon\",\"Mandalay\",\"Naypyitaw\",\"Naypyitaw\",\"Yangon\",\"Yangon\",\"Naypyitaw\",\"Naypyitaw\",\"Mandalay\",\"Naypyitaw\",\"Yangon\",\"Mandalay\",\"Yangon\",\"Yangon\",\"Yangon\",\"Yangon\",\"Yangon\",\"Mandalay\",\"Naypyitaw\",\"Yangon\",\"Yangon\",\"Naypyitaw\",\"Naypyitaw\",\"Naypyitaw\",\"Naypyitaw\",\"Naypyitaw\",\"Naypyitaw\",\"Naypyitaw\",\"Naypyitaw\",\"Yangon\",\"Yangon\",\"Yangon\",\"Mandalay\",\"Yangon\",\"Naypyitaw\",\"Mandalay\",\"Yangon\",\"Mandalay\",\"Yangon\",\"Yangon\",\"Yangon\",\"Naypyitaw\",\"Yangon\",\"Yangon\",\"Mandalay\",\"Naypyitaw\",\"Mandalay\",\"Mandalay\",\"Mandalay\",\"Mandalay\",\"Naypyitaw\",\"Yangon\",\"Yangon\",\"Yangon\",\"Naypyitaw\",\"Yangon\",\"Mandalay\",\"Naypyitaw\",\"Yangon\",\"Mandalay\",\"Mandalay\",\"Naypyitaw\",\"Mandalay\",\"Naypyitaw\",\"Naypyitaw\",\"Mandalay\",\"Mandalay\",\"Yangon\",\"Naypyitaw\",\"Naypyitaw\",\"Yangon\",\"Naypyitaw\",\"Naypyitaw\",\"Naypyitaw\",\"Yangon\",\"Naypyitaw\",\"Yangon\",\"Mandalay\",\"Mandalay\",\"Naypyitaw\",\"Naypyitaw\",\"Yangon\",\"Yangon\",\"Mandalay\",\"Naypyitaw\",\"Naypyitaw\",\"Mandalay\",\"Yangon\",\"Naypyitaw\",\"Mandalay\",\"Naypyitaw\",\"Yangon\",\"Mandalay\",\"Naypyitaw\",\"Yangon\",\"Naypyitaw\",\"Mandalay\",\"Naypyitaw\",\"Mandalay\",\"Yangon\",\"Yangon\",\"Yangon\",\"Yangon\",\"Yangon\",\"Mandalay\",\"Mandalay\",\"Mandalay\",\"Naypyitaw\",\"Naypyitaw\",\"Naypyitaw\",\"Mandalay\",\"Naypyitaw\",\"Yangon\",\"Yangon\",\"Mandalay\",\"Yangon\",\"Naypyitaw\",\"Mandalay\",\"Mandalay\",\"Yangon\",\"Yangon\",\"Yangon\",\"Mandalay\",\"Naypyitaw\",\"Naypyitaw\",\"Mandalay\",\"Yangon\",\"Naypyitaw\",\"Naypyitaw\",\"Naypyitaw\",\"Mandalay\",\"Naypyitaw\",\"Mandalay\",\"Yangon\",\"Mandalay\",\"Mandalay\",\"Yangon\",\"Mandalay\",\"Naypyitaw\",\"Yangon\",\"Mandalay\",\"Mandalay\",\"Naypyitaw\",\"Naypyitaw\",\"Yangon\",\"Naypyitaw\",\"Naypyitaw\",\"Naypyitaw\",\"Mandalay\",\"Yangon\",\"Naypyitaw\",\"Yangon\",\"Mandalay\",\"Naypyitaw\",\"Naypyitaw\",\"Mandalay\",\"Mandalay\",\"Mandalay\",\"Mandalay\",\"Yangon\",\"Yangon\",\"Yangon\",\"Mandalay\",\"Mandalay\",\"Mandalay\",\"Naypyitaw\",\"Naypyitaw\",\"Naypyitaw\",\"Mandalay\",\"Naypyitaw\",\"Naypyitaw\",\"Yangon\",\"Naypyitaw\",\"Naypyitaw\",\"Mandalay\",\"Naypyitaw\",\"Naypyitaw\",\"Naypyitaw\",\"Yangon\",\"Yangon\",\"Mandalay\",\"Yangon\",\"Yangon\",\"Yangon\",\"Naypyitaw\",\"Mandalay\",\"Yangon\",\"Naypyitaw\",\"Naypyitaw\",\"Yangon\",\"Mandalay\",\"Naypyitaw\",\"Mandalay\",\"Mandalay\",\"Yangon\",\"Naypyitaw\",\"Mandalay\",\"Mandalay\",\"Yangon\",\"Mandalay\",\"Naypyitaw\",\"Mandalay\",\"Mandalay\",\"Naypyitaw\",\"Naypyitaw\",\"Mandalay\",\"Yangon\",\"Mandalay\",\"Naypyitaw\",\"Naypyitaw\",\"Mandalay\",\"Mandalay\",\"Yangon\",\"Mandalay\",\"Mandalay\",\"Mandalay\",\"Naypyitaw\",\"Mandalay\",\"Yangon\",\"Yangon\",\"Yangon\",\"Naypyitaw\",\"Naypyitaw\",\"Mandalay\",\"Naypyitaw\",\"Yangon\",\"Naypyitaw\",\"Mandalay\",\"Naypyitaw\",\"Yangon\",\"Naypyitaw\",\"Yangon\",\"Yangon\",\"Mandalay\",\"Mandalay\",\"Mandalay\",\"Yangon\",\"Yangon\",\"Yangon\",\"Mandalay\",\"Naypyitaw\",\"Yangon\",\"Naypyitaw\",\"Mandalay\",\"Yangon\",\"Yangon\",\"Naypyitaw\",\"Yangon\",\"Naypyitaw\",\"Mandalay\",\"Naypyitaw\",\"Mandalay\",\"Mandalay\",\"Yangon\",\"Yangon\",\"Mandalay\",\"Yangon\",\"Mandalay\",\"Mandalay\",\"Mandalay\",\"Naypyitaw\",\"Yangon\",\"Mandalay\",\"Mandalay\",\"Naypyitaw\",\"Yangon\",\"Yangon\",\"Mandalay\",\"Naypyitaw\",\"Mandalay\",\"Yangon\",\"Mandalay\",\"Yangon\",\"Naypyitaw\",\"Yangon\",\"Mandalay\",\"Naypyitaw\",\"Mandalay\",\"Mandalay\",\"Yangon\",\"Mandalay\",\"Yangon\",\"Mandalay\",\"Mandalay\",\"Naypyitaw\",\"Yangon\",\"Mandalay\",\"Naypyitaw\",\"Yangon\",\"Naypyitaw\",\"Mandalay\",\"Mandalay\",\"Yangon\",\"Yangon\",\"Yangon\",\"Naypyitaw\",\"Yangon\",\"Naypyitaw\",\"Naypyitaw\",\"Yangon\",\"Yangon\",\"Mandalay\",\"Mandalay\",\"Yangon\",\"Naypyitaw\",\"Naypyitaw\",\"Yangon\",\"Naypyitaw\",\"Naypyitaw\",\"Naypyitaw\",\"Mandalay\",\"Naypyitaw\",\"Mandalay\",\"Yangon\",\"Naypyitaw\",\"Yangon\",\"Mandalay\",\"Yangon\",\"Naypyitaw\",\"Mandalay\",\"Naypyitaw\",\"Yangon\",\"Yangon\",\"Mandalay\",\"Naypyitaw\",\"Yangon\",\"Naypyitaw\",\"Yangon\",\"Yangon\",\"Mandalay\",\"Mandalay\",\"Mandalay\",\"Mandalay\",\"Yangon\",\"Mandalay\",\"Yangon\",\"Yangon\",\"Yangon\",\"Yangon\",\"Yangon\",\"Mandalay\",\"Mandalay\",\"Mandalay\",\"Yangon\",\"Naypyitaw\",\"Mandalay\",\"Mandalay\",\"Mandalay\",\"Naypyitaw\",\"Mandalay\",\"Naypyitaw\",\"Naypyitaw\",\"Yangon\",\"Naypyitaw\",\"Mandalay\",\"Naypyitaw\",\"Naypyitaw\",\"Mandalay\",\"Mandalay\",\"Yangon\",\"Mandalay\",\"Mandalay\",\"Yangon\",\"Naypyitaw\",\"Yangon\",\"Yangon\",\"Yangon\",\"Mandalay\",\"Naypyitaw\",\"Mandalay\",\"Naypyitaw\",\"Naypyitaw\",\"Yangon\",\"Mandalay\",\"Mandalay\",\"Naypyitaw\",\"Mandalay\",\"Yangon\",\"Mandalay\",\"Mandalay\",\"Naypyitaw\",\"Yangon\",\"Mandalay\",\"Mandalay\",\"Yangon\",\"Naypyitaw\",\"Yangon\",\"Mandalay\",\"Mandalay\",\"Naypyitaw\",\"Yangon\",\"Mandalay\",\"Mandalay\",\"Mandalay\",\"Yangon\",\"Naypyitaw\",\"Yangon\",\"Naypyitaw\",\"Naypyitaw\",\"Yangon\",\"Naypyitaw\",\"Naypyitaw\",\"Yangon\",\"Yangon\",\"Mandalay\",\"Yangon\",\"Naypyitaw\",\"Naypyitaw\",\"Mandalay\",\"Mandalay\",\"Mandalay\",\"Mandalay\",\"Mandalay\",\"Mandalay\",\"Naypyitaw\",\"Naypyitaw\",\"Yangon\",\"Yangon\",\"Naypyitaw\",\"Naypyitaw\",\"Naypyitaw\",\"Naypyitaw\",\"Yangon\",\"Yangon\",\"Yangon\",\"Yangon\",\"Mandalay\",\"Mandalay\",\"Naypyitaw\",\"Mandalay\",\"Naypyitaw\",\"Mandalay\",\"Naypyitaw\",\"Naypyitaw\",\"Mandalay\",\"Naypyitaw\",\"Mandalay\",\"Yangon\",\"Yangon\",\"Yangon\",\"Mandalay\",\"Mandalay\",\"Naypyitaw\",\"Naypyitaw\",\"Naypyitaw\",\"Mandalay\",\"Yangon\",\"Naypyitaw\",\"Naypyitaw\",\"Yangon\",\"Yangon\",\"Naypyitaw\",\"Naypyitaw\",\"Mandalay\",\"Naypyitaw\",\"Mandalay\",\"Naypyitaw\",\"Mandalay\",\"Yangon\",\"Yangon\",\"Mandalay\",\"Naypyitaw\",\"Yangon\",\"Mandalay\",\"Yangon\",\"Yangon\",\"Yangon\",\"Mandalay\",\"Mandalay\",\"Yangon\",\"Yangon\",\"Yangon\",\"Mandalay\",\"Naypyitaw\",\"Mandalay\",\"Mandalay\",\"Yangon\",\"Mandalay\",\"Naypyitaw\",\"Naypyitaw\",\"Naypyitaw\",\"Naypyitaw\",\"Mandalay\",\"Naypyitaw\",\"Mandalay\",\"Naypyitaw\",\"Mandalay\",\"Naypyitaw\",\"Yangon\",\"Yangon\",\"Naypyitaw\",\"Naypyitaw\",\"Yangon\",\"Naypyitaw\",\"Naypyitaw\",\"Naypyitaw\",\"Yangon\",\"Yangon\",\"Naypyitaw\",\"Mandalay\",\"Yangon\",\"Yangon\",\"Mandalay\",\"Naypyitaw\",\"Yangon\",\"Mandalay\",\"Naypyitaw\",\"Mandalay\",\"Naypyitaw\",\"Naypyitaw\",\"Yangon\",\"Mandalay\",\"Yangon\",\"Yangon\",\"Yangon\",\"Mandalay\",\"Naypyitaw\",\"Mandalay\",\"Yangon\",\"Naypyitaw\",\"Yangon\",\"Yangon\",\"Mandalay\",\"Naypyitaw\",\"Yangon\",\"Mandalay\",\"Mandalay\",\"Mandalay\",\"Yangon\",\"Naypyitaw\",\"Yangon\",\"Mandalay\",\"Yangon\",\"Mandalay\",\"Yangon\",\"Naypyitaw\",\"Yangon\",\"Yangon\",\"Mandalay\",\"Mandalay\",\"Yangon\",\"Mandalay\",\"Yangon\",\"Yangon\",\"Mandalay\",\"Naypyitaw\",\"Naypyitaw\",\"Yangon\",\"Mandalay\",\"Yangon\",\"Naypyitaw\",\"Yangon\",\"Yangon\",\"Yangon\",\"Naypyitaw\",\"Naypyitaw\",\"Yangon\",\"Yangon\",\"Yangon\",\"Naypyitaw\",\"Mandalay\",\"Yangon\",\"Mandalay\",\"Mandalay\",\"Yangon\",\"Mandalay\",\"Yangon\",\"Naypyitaw\",\"Yangon\",\"Mandalay\",\"Mandalay\",\"Yangon\",\"Naypyitaw\",\"Mandalay\",\"Naypyitaw\",\"Naypyitaw\",\"Yangon\",\"Yangon\",\"Naypyitaw\",\"Mandalay\",\"Yangon\",\"Yangon\",\"Naypyitaw\",\"Naypyitaw\",\"Mandalay\",\"Yangon\",\"Mandalay\",\"Mandalay\",\"Naypyitaw\",\"Mandalay\",\"Yangon\",\"Yangon\",\"Yangon\",\"Yangon\",\"Yangon\",\"Naypyitaw\",\"Yangon\",\"Naypyitaw\",\"Mandalay\",\"Naypyitaw\",\"Mandalay\",\"Mandalay\",\"Mandalay\",\"Naypyitaw\",\"Naypyitaw\",\"Naypyitaw\",\"Yangon\",\"Naypyitaw\",\"Mandalay\",\"Yangon\",\"Yangon\",\"Naypyitaw\",\"Naypyitaw\",\"Naypyitaw\",\"Mandalay\",\"Yangon\",\"Mandalay\",\"Mandalay\",\"Naypyitaw\",\"Yangon\",\"Yangon\",\"Yangon\",\"Naypyitaw\",\"Naypyitaw\",\"Yangon\",\"Mandalay\",\"Mandalay\",\"Naypyitaw\",\"Mandalay\",\"Naypyitaw\",\"Naypyitaw\",\"Naypyitaw\",\"Mandalay\",\"Mandalay\",\"Yangon\",\"Mandalay\",\"Mandalay\",\"Mandalay\",\"Naypyitaw\",\"Yangon\",\"Naypyitaw\",\"Mandalay\",\"Naypyitaw\",\"Naypyitaw\",\"Yangon\",\"Yangon\",\"Naypyitaw\",\"Yangon\",\"Naypyitaw\",\"Yangon\",\"Yangon\",\"Yangon\",\"Yangon\",\"Naypyitaw\",\"Mandalay\",\"Naypyitaw\",\"Mandalay\",\"Mandalay\",\"Mandalay\",\"Mandalay\",\"Naypyitaw\",\"Mandalay\",\"Yangon\",\"Naypyitaw\",\"Mandalay\",\"Naypyitaw\",\"Yangon\",\"Naypyitaw\",\"Yangon\",\"Yangon\",\"Naypyitaw\",\"Mandalay\",\"Mandalay\",\"Yangon\",\"Yangon\",\"Yangon\",\"Mandalay\",\"Mandalay\",\"Mandalay\",\"Mandalay\",\"Yangon\",\"Naypyitaw\",\"Mandalay\",\"Yangon\",\"Mandalay\",\"Mandalay\",\"Mandalay\",\"Naypyitaw\",\"Yangon\",\"Yangon\",\"Naypyitaw\",\"Naypyitaw\",\"Mandalay\",\"Mandalay\",\"Mandalay\",\"Naypyitaw\",\"Mandalay\",\"Yangon\",\"Mandalay\",\"Yangon\",\"Mandalay\",\"Naypyitaw\",\"Naypyitaw\",\"Mandalay\",\"Yangon\",\"Yangon\",\"Yangon\"],\"x0\":\" \",\"xaxis\":\"x\",\"y\":[9.1,9.6,7.4,8.4,5.3,4.1,5.8,8.0,7.2,5.9,4.5,6.8,7.1,8.2,5.7,4.5,4.6,6.9,8.6,4.4,4.8,5.1,4.4,9.9,6.0,8.5,6.7,7.7,9.6,7.4,4.8,4.5,5.1,5.1,7.5,6.8,7.0,4.7,7.6,7.7,7.9,6.3,5.6,7.6,7.2,9.5,8.4,4.1,8.1,7.9,9.5,8.5,6.5,6.1,6.5,8.2,5.8,6.6,5.4,9.3,10.0,7.0,10.0,8.6,7.6,5.8,6.7,9.9,6.4,4.3,9.6,5.9,4.0,8.7,9.4,5.4,8.6,5.7,6.6,6.0,5.5,6.4,6.6,8.3,6.6,4.0,9.9,7.3,5.7,6.1,7.1,8.2,5.1,8.6,6.6,7.2,5.1,4.1,9.3,7.4,4.1,7.2,4.9,9.9,8.0,7.3,7.9,7.4,4.2,9.2,4.6,7.8,8.4,4.3,9.5,7.1,5.3,5.2,6.0,4.1,5.2,6.5,4.2,4.6,7.3,4.5,9.0,5.9,8.5,7.2,7.5,8.3,7.4,8.8,5.3,6.2,8.8,9.8,8.2,9.2,5.4,8.1,9.1,8.4,8.0,9.5,9.2,5.6,6.2,4.9,4.8,7.3,7.4,9.9,9.3,9.0,6.1,9.7,6.0,10.0,8.3,6.0,7.0,6.5,5.9,5.6,4.8,8.7,6.5,8.5,5.5,9.4,6.3,9.8,8.7,8.8,9.6,4.8,4.4,9.9,5.7,7.7,8.0,5.7,6.7,8.0,7.5,7.0,9.9,5.9,7.2,4.6,9.2,5.7,9.9,5.0,4.9,6.1,8.2,5.5,6.8,6.6,9.8,8.7,5.4,7.9,9.7,7.8,5.1,6.5,5.9,8.8,4.9,4.4,6.5,8.3,8.5,5.5,8.7,7.9,6.1,5.4,9.4,8.2,6.2,9.7,4.0,9.7,5.3,7.4,6.5,8.7,8.0,6.7,6.5,4.1,4.9,8.6,4.3,4.9,5.6,5.8,6.0,4.2,8.3,5.7,4.8,6.8,8.8,4.2,6.4,8.4,7.2,5.2,8.9,9.0,9.7,8.7,6.5,6.9,6.2,5.6,5.7,4.2,7.9,8.7,6.9,9.5,4.4,7.0,6.3,9.7,8.8,5.1,7.9,6.2,7.1,6.4,5.7,9.6,6.4,7.9,6.5,8.5,9.1,7.6,6.9,9.5,5.2,4.2,7.0,6.0,4.7,7.1,5.9,7.5,6.4,5.8,4.5,7.7,6.7,4.7,4.4,4.7,8.6,4.3,9.6,4.1,4.7,7.8,5.5,9.7,4.4,5.0,4.4,5.2,7.3,4.9,8.1,8.4,5.5,8.4,9.8,6.7,9.4,6.4,5.4,8.6,4.0,7.6,6.8,9.1,5.5,7.9,8.5,9.1,7.5,5.2,9.5,8.9,7.8,8.9,7.7,9.3,6.2,7.6,7.3,4.7,5.1,4.8,6.6,5.5,8.5,4.8,8.4,7.8,9.3,5.2,6.5,5.6,7.4,9.1,8.0,7.2,7.1,9.1,5.6,6.0,5.4,7.8,9.9,4.9,5.2,8.9,9.1,7.0,9.6,8.7,9.4,4.0,7.5,4.2,9.9,4.2,9.9,5.8,6.0,10.0,9.5,6.6,8.1,9.7,7.2,6.2,7.3,4.3,4.6,5.8,8.3,8.0,9.4,6.2,9.8,9.6,4.9,8.0,7.8,4.1,5.5,5.4,5.1,6.9,7.8,6.6,9.2,7.8,8.7,9.2,8.3,8.2,7.5,9.8,8.7,6.7,5.0,7.0,8.9,8.0,6.9,7.3,6.9,5.7,6.4,9.6,6.8,9.0,9.6,7.7,7.0,6.5,8.1,4.3,6.5,9.5,9.7,9.5,8.9,6.5,5.3,9.6,6.7,7.6,4.8,5.5,4.7,6.9,4.5,6.2,7.6,7.9,4.5,8.7,6.1,6.4,9.1,7.1,7.7,4.5,7.2,8.4,5.4,9.7,5.5,4.6,6.6,6.3,4.2,4.4,6.7,6.7,8.4,6.2,5.0,6.0,7.0,6.6,7.3,8.3,4.3,9.8,8.2,7.2,8.7,8.4,7.1,5.5,8.5,6.2,8.9,9.6,5.4,9.1,9.0,6.3,9.5,9.8,6.7,7.7,7.0,5.1,6.2,6.1,9.3,7.6,8.2,8.5,9.8,8.7,9.7,4.3,7.7,7.3,5.9,5.0,8.0,7.1,9.0,6.7,6.1,9.3,7.0,7.2,8.2,8.4,6.2,7.4,5.0,6.9,4.9,5.1,9.1,7.1,5.0,5.5,9.2,4.9,8.9,6.0,4.2,7.3,6.5,8.9,9.7,8.6,6.9,7.7,9.5,4.5,5.6,8.2,7.3,4.4,5.7,5.0,9.0,6.3,9.4,7.7,5.5,4.1,7.6,8.6,8.3,8.1,8.6,6.3,5.8,6.2,7.7,8.1,7.3,8.4,8.0,9.5,7.0,9.8,9.2,7.7,5.3,4.4,4.3,9.4,9.8,4.8,5.3,8.7,9.5,5.3,9.2,9.6,6.4,4.5,6.9,7.8,4.5,8.6,5.2,6.4,5.2,8.9,6.2,6.7,7.2,9.0,4.2,4.2,6.9,4.4,4.0,8.5,9.2,9.8,4.9,4.4,6.8,9.1,8.7,5.0,7.5,8.2,6.7,5.4,7.0,4.7,5.0,5.0,6.0,6.3,8.5,7.5,6.4,4.7,6.0,4.0,5.5,8.7,7.4,5.6,6.3,7.1,7.8,9.9,7.3,5.1,9.4,5.8,8.0,7.9,5.9,4.9,9.3,7.9,5.9,9.9,7.7,7.6,7.7,6.4,4.4,4.1,4.4,5.5,4.0,9.3,4.8,4.6,7.3,6.0,8.1,9.4,6.5,7.0,7.1,6.6,4.9,6.4,8.0,4.3,6.1,7.5,6.7,5.2,8.8,9.5,7.6,6.6,6.9,4.3,7.8,8.0,9.6,4.3,5.0,9.2,6.3,8.9,7.6,4.8,9.1,6.1,9.1,8.3,7.2,6.0,8.5,6.6,4.5,8.1,7.2,6.1,7.1,5.1,7.9,7.4,7.4,6.6,5.9,8.9,6.8,9.3,4.4,4.8,9.5,8.9,6.4,6.0,8.1,9.0,6.0,9.8,8.5,8.8,8.8,9.5,5.6,8.6,5.2,5.8,8.0,9.0,4.1,8.6,7.0,8.4,7.4,6.2,4.9,4.5,5.6,8.0,5.6,4.2,9.9,7.6,6.6,4.7,9.8,6.3,7.9,7.7,4.5,8.0,5.7,6.3,6.0,8.0,4.2,9.6,6.1,5.6,8.3,7.8,4.1,8.8,4.1,9.0,5.5,9.3,5.6,9.7,4.0,9.2,4.9,9.3,6.6,4.3,5.5,8.1,9.8,9.4,7.9,5.1,6.9,8.0,8.0,4.2,8.5,9.0,8.6,6.0,6.2,5.0,6.5,6.0,5.0,5.0,9.2,9.6,8.4,6.0,6.7,4.1,5.9,8.7,4.5,6.6,7.7,8.5,5.2,4.3,7.6,9.5,4.1,9.2,5.4,5.8,5.6,5.1,5.8,5.0,7.9,6.0,5.0,8.9,5.9,5.9,9.7,8.6,4.0,4.2,9.2,9.2,5.0,10.0,8.8,4.2,6.3,8.2,5.1,5.0,7.0,7.8,4.3,7.0,6.6,7.3,6.5,4.9,4.3,9.3,7.1,9.6,6.2,9.9,5.9,6.3,4.0,6.1,4.5,8.6,6.0,9.5,9.9,7.5,7.6,5.0,6.7,9.5,6.8,5.6,7.2,8.1,8.6,9.4,8.9,4.2,5.0,8.8,5.3,4.6,7.5,5.1,4.2,8.1,6.0,7.9,8.8,6.6,6.2,4.2,7.3,8.6,6.8,7.6,5.8,4.1,9.3,6.8,8.7,6.3,5.1,7.0,5.2,6.6,6.5,9.0,5.2,6.8,7.6,7.2,7.1,9.5,5.1,7.6,9.8,5.1,7.5,7.4,4.2,5.9,6.9,6.6,5.7,5.3,4.2,7.3,5.3,4.7,7.9,8.9,9.3,4.7,8.7,7.6,5.7,6.8,5.4,7.1,7.8,8.4,9.8,9.8,7.4,6.7,6.4,5.8,7.2,9.3,9.5,9.0,9.0,6.7,5.5,5.4,8.2,7.0,8.5,4.9,5.1,6.5,9.8,8.4,7.4,6.1,6.0,8.5,4.3,6.2,4.3,8.4,4.5,6.0,8.8,6.6,5.9,6.2,4.4,7.7,4.1,6.6],\"y0\":\" \",\"yaxis\":\"y\",\"type\":\"violin\"}],                        {\"template\":{\"data\":{\"histogram2dcontour\":[{\"type\":\"histogram2dcontour\",\"colorbar\":{\"outlinewidth\":0,\"ticks\":\"\"},\"colorscale\":[[0.0,\"#0d0887\"],[0.1111111111111111,\"#46039f\"],[0.2222222222222222,\"#7201a8\"],[0.3333333333333333,\"#9c179e\"],[0.4444444444444444,\"#bd3786\"],[0.5555555555555556,\"#d8576b\"],[0.6666666666666666,\"#ed7953\"],[0.7777777777777778,\"#fb9f3a\"],[0.8888888888888888,\"#fdca26\"],[1.0,\"#f0f921\"]]}],\"choropleth\":[{\"type\":\"choropleth\",\"colorbar\":{\"outlinewidth\":0,\"ticks\":\"\"}}],\"histogram2d\":[{\"type\":\"histogram2d\",\"colorbar\":{\"outlinewidth\":0,\"ticks\":\"\"},\"colorscale\":[[0.0,\"#0d0887\"],[0.1111111111111111,\"#46039f\"],[0.2222222222222222,\"#7201a8\"],[0.3333333333333333,\"#9c179e\"],[0.4444444444444444,\"#bd3786\"],[0.5555555555555556,\"#d8576b\"],[0.6666666666666666,\"#ed7953\"],[0.7777777777777778,\"#fb9f3a\"],[0.8888888888888888,\"#fdca26\"],[1.0,\"#f0f921\"]]}],\"heatmap\":[{\"type\":\"heatmap\",\"colorbar\":{\"outlinewidth\":0,\"ticks\":\"\"},\"colorscale\":[[0.0,\"#0d0887\"],[0.1111111111111111,\"#46039f\"],[0.2222222222222222,\"#7201a8\"],[0.3333333333333333,\"#9c179e\"],[0.4444444444444444,\"#bd3786\"],[0.5555555555555556,\"#d8576b\"],[0.6666666666666666,\"#ed7953\"],[0.7777777777777778,\"#fb9f3a\"],[0.8888888888888888,\"#fdca26\"],[1.0,\"#f0f921\"]]}],\"heatmapgl\":[{\"type\":\"heatmapgl\",\"colorbar\":{\"outlinewidth\":0,\"ticks\":\"\"},\"colorscale\":[[0.0,\"#0d0887\"],[0.1111111111111111,\"#46039f\"],[0.2222222222222222,\"#7201a8\"],[0.3333333333333333,\"#9c179e\"],[0.4444444444444444,\"#bd3786\"],[0.5555555555555556,\"#d8576b\"],[0.6666666666666666,\"#ed7953\"],[0.7777777777777778,\"#fb9f3a\"],[0.8888888888888888,\"#fdca26\"],[1.0,\"#f0f921\"]]}],\"contourcarpet\":[{\"type\":\"contourcarpet\",\"colorbar\":{\"outlinewidth\":0,\"ticks\":\"\"}}],\"contour\":[{\"type\":\"contour\",\"colorbar\":{\"outlinewidth\":0,\"ticks\":\"\"},\"colorscale\":[[0.0,\"#0d0887\"],[0.1111111111111111,\"#46039f\"],[0.2222222222222222,\"#7201a8\"],[0.3333333333333333,\"#9c179e\"],[0.4444444444444444,\"#bd3786\"],[0.5555555555555556,\"#d8576b\"],[0.6666666666666666,\"#ed7953\"],[0.7777777777777778,\"#fb9f3a\"],[0.8888888888888888,\"#fdca26\"],[1.0,\"#f0f921\"]]}],\"surface\":[{\"type\":\"surface\",\"colorbar\":{\"outlinewidth\":0,\"ticks\":\"\"},\"colorscale\":[[0.0,\"#0d0887\"],[0.1111111111111111,\"#46039f\"],[0.2222222222222222,\"#7201a8\"],[0.3333333333333333,\"#9c179e\"],[0.4444444444444444,\"#bd3786\"],[0.5555555555555556,\"#d8576b\"],[0.6666666666666666,\"#ed7953\"],[0.7777777777777778,\"#fb9f3a\"],[0.8888888888888888,\"#fdca26\"],[1.0,\"#f0f921\"]]}],\"mesh3d\":[{\"type\":\"mesh3d\",\"colorbar\":{\"outlinewidth\":0,\"ticks\":\"\"}}],\"scatter\":[{\"fillpattern\":{\"fillmode\":\"overlay\",\"size\":10,\"solidity\":0.2},\"type\":\"scatter\"}],\"parcoords\":[{\"type\":\"parcoords\",\"line\":{\"colorbar\":{\"outlinewidth\":0,\"ticks\":\"\"}}}],\"scatterpolargl\":[{\"type\":\"scatterpolargl\",\"marker\":{\"colorbar\":{\"outlinewidth\":0,\"ticks\":\"\"}}}],\"bar\":[{\"error_x\":{\"color\":\"#2a3f5f\"},\"error_y\":{\"color\":\"#2a3f5f\"},\"marker\":{\"line\":{\"color\":\"#E5ECF6\",\"width\":0.5},\"pattern\":{\"fillmode\":\"overlay\",\"size\":10,\"solidity\":0.2}},\"type\":\"bar\"}],\"scattergeo\":[{\"type\":\"scattergeo\",\"marker\":{\"colorbar\":{\"outlinewidth\":0,\"ticks\":\"\"}}}],\"scatterpolar\":[{\"type\":\"scatterpolar\",\"marker\":{\"colorbar\":{\"outlinewidth\":0,\"ticks\":\"\"}}}],\"histogram\":[{\"marker\":{\"pattern\":{\"fillmode\":\"overlay\",\"size\":10,\"solidity\":0.2}},\"type\":\"histogram\"}],\"scattergl\":[{\"type\":\"scattergl\",\"marker\":{\"colorbar\":{\"outlinewidth\":0,\"ticks\":\"\"}}}],\"scatter3d\":[{\"type\":\"scatter3d\",\"line\":{\"colorbar\":{\"outlinewidth\":0,\"ticks\":\"\"}},\"marker\":{\"colorbar\":{\"outlinewidth\":0,\"ticks\":\"\"}}}],\"scattermapbox\":[{\"type\":\"scattermapbox\",\"marker\":{\"colorbar\":{\"outlinewidth\":0,\"ticks\":\"\"}}}],\"scatterternary\":[{\"type\":\"scatterternary\",\"marker\":{\"colorbar\":{\"outlinewidth\":0,\"ticks\":\"\"}}}],\"scattercarpet\":[{\"type\":\"scattercarpet\",\"marker\":{\"colorbar\":{\"outlinewidth\":0,\"ticks\":\"\"}}}],\"carpet\":[{\"aaxis\":{\"endlinecolor\":\"#2a3f5f\",\"gridcolor\":\"white\",\"linecolor\":\"white\",\"minorgridcolor\":\"white\",\"startlinecolor\":\"#2a3f5f\"},\"baxis\":{\"endlinecolor\":\"#2a3f5f\",\"gridcolor\":\"white\",\"linecolor\":\"white\",\"minorgridcolor\":\"white\",\"startlinecolor\":\"#2a3f5f\"},\"type\":\"carpet\"}],\"table\":[{\"cells\":{\"fill\":{\"color\":\"#EBF0F8\"},\"line\":{\"color\":\"white\"}},\"header\":{\"fill\":{\"color\":\"#C8D4E3\"},\"line\":{\"color\":\"white\"}},\"type\":\"table\"}],\"barpolar\":[{\"marker\":{\"line\":{\"color\":\"#E5ECF6\",\"width\":0.5},\"pattern\":{\"fillmode\":\"overlay\",\"size\":10,\"solidity\":0.2}},\"type\":\"barpolar\"}],\"pie\":[{\"automargin\":true,\"type\":\"pie\"}]},\"layout\":{\"autotypenumbers\":\"strict\",\"colorway\":[\"#636efa\",\"#EF553B\",\"#00cc96\",\"#ab63fa\",\"#FFA15A\",\"#19d3f3\",\"#FF6692\",\"#B6E880\",\"#FF97FF\",\"#FECB52\"],\"font\":{\"color\":\"#2a3f5f\"},\"hovermode\":\"closest\",\"hoverlabel\":{\"align\":\"left\"},\"paper_bgcolor\":\"white\",\"plot_bgcolor\":\"#E5ECF6\",\"polar\":{\"bgcolor\":\"#E5ECF6\",\"angularaxis\":{\"gridcolor\":\"white\",\"linecolor\":\"white\",\"ticks\":\"\"},\"radialaxis\":{\"gridcolor\":\"white\",\"linecolor\":\"white\",\"ticks\":\"\"}},\"ternary\":{\"bgcolor\":\"#E5ECF6\",\"aaxis\":{\"gridcolor\":\"white\",\"linecolor\":\"white\",\"ticks\":\"\"},\"baxis\":{\"gridcolor\":\"white\",\"linecolor\":\"white\",\"ticks\":\"\"},\"caxis\":{\"gridcolor\":\"white\",\"linecolor\":\"white\",\"ticks\":\"\"}},\"coloraxis\":{\"colorbar\":{\"outlinewidth\":0,\"ticks\":\"\"}},\"colorscale\":{\"sequential\":[[0.0,\"#0d0887\"],[0.1111111111111111,\"#46039f\"],[0.2222222222222222,\"#7201a8\"],[0.3333333333333333,\"#9c179e\"],[0.4444444444444444,\"#bd3786\"],[0.5555555555555556,\"#d8576b\"],[0.6666666666666666,\"#ed7953\"],[0.7777777777777778,\"#fb9f3a\"],[0.8888888888888888,\"#fdca26\"],[1.0,\"#f0f921\"]],\"sequentialminus\":[[0.0,\"#0d0887\"],[0.1111111111111111,\"#46039f\"],[0.2222222222222222,\"#7201a8\"],[0.3333333333333333,\"#9c179e\"],[0.4444444444444444,\"#bd3786\"],[0.5555555555555556,\"#d8576b\"],[0.6666666666666666,\"#ed7953\"],[0.7777777777777778,\"#fb9f3a\"],[0.8888888888888888,\"#fdca26\"],[1.0,\"#f0f921\"]],\"diverging\":[[0,\"#8e0152\"],[0.1,\"#c51b7d\"],[0.2,\"#de77ae\"],[0.3,\"#f1b6da\"],[0.4,\"#fde0ef\"],[0.5,\"#f7f7f7\"],[0.6,\"#e6f5d0\"],[0.7,\"#b8e186\"],[0.8,\"#7fbc41\"],[0.9,\"#4d9221\"],[1,\"#276419\"]]},\"xaxis\":{\"gridcolor\":\"white\",\"linecolor\":\"white\",\"ticks\":\"\",\"title\":{\"standoff\":15},\"zerolinecolor\":\"white\",\"automargin\":true,\"zerolinewidth\":2},\"yaxis\":{\"gridcolor\":\"white\",\"linecolor\":\"white\",\"ticks\":\"\",\"title\":{\"standoff\":15},\"zerolinecolor\":\"white\",\"automargin\":true,\"zerolinewidth\":2},\"scene\":{\"xaxis\":{\"backgroundcolor\":\"#E5ECF6\",\"gridcolor\":\"white\",\"linecolor\":\"white\",\"showbackground\":true,\"ticks\":\"\",\"zerolinecolor\":\"white\",\"gridwidth\":2},\"yaxis\":{\"backgroundcolor\":\"#E5ECF6\",\"gridcolor\":\"white\",\"linecolor\":\"white\",\"showbackground\":true,\"ticks\":\"\",\"zerolinecolor\":\"white\",\"gridwidth\":2},\"zaxis\":{\"backgroundcolor\":\"#E5ECF6\",\"gridcolor\":\"white\",\"linecolor\":\"white\",\"showbackground\":true,\"ticks\":\"\",\"zerolinecolor\":\"white\",\"gridwidth\":2}},\"shapedefaults\":{\"line\":{\"color\":\"#2a3f5f\"}},\"annotationdefaults\":{\"arrowcolor\":\"#2a3f5f\",\"arrowhead\":0,\"arrowwidth\":1},\"geo\":{\"bgcolor\":\"white\",\"landcolor\":\"#E5ECF6\",\"subunitcolor\":\"white\",\"showland\":true,\"showlakes\":true,\"lakecolor\":\"white\"},\"title\":{\"x\":0.05},\"mapbox\":{\"style\":\"light\"}}},\"xaxis\":{\"anchor\":\"y\",\"domain\":[0.0,1.0],\"title\":{\"text\":\"Miasto\"}},\"yaxis\":{\"anchor\":\"x\",\"domain\":[0.0,1.0],\"title\":{\"text\":\"Rating\"}},\"legend\":{\"tracegroupgap\":0},\"title\":{\"text\":\"Rozk\\u0142ad Ratingu klient\\u00f3w z podzia\\u0142em na miasta\"},\"violinmode\":\"group\"},                        {\"responsive\": true}                    ).then(function(){\n",
              "                            \n",
              "var gd = document.getElementById('039783e4-1f04-4b23-b06a-82239d943cad');\n",
              "var x = new MutationObserver(function (mutations, observer) {{\n",
              "        var display = window.getComputedStyle(gd).display;\n",
              "        if (!display || display === 'none') {{\n",
              "            console.log([gd, 'removed!']);\n",
              "            Plotly.purge(gd);\n",
              "            observer.disconnect();\n",
              "        }}\n",
              "}});\n",
              "\n",
              "// Listen for the removal of the full notebook cells\n",
              "var notebookContainer = gd.closest('#notebook-container');\n",
              "if (notebookContainer) {{\n",
              "    x.observe(notebookContainer, {childList: true});\n",
              "}}\n",
              "\n",
              "// Listen for the clearing of the current output cell\n",
              "var outputEl = gd.closest('.output');\n",
              "if (outputEl) {{\n",
              "    x.observe(outputEl, {childList: true});\n",
              "}}\n",
              "\n",
              "                        })                };                            </script>        </div>\n",
              "</body>\n",
              "</html>"
            ]
          },
          "metadata": {}
        }
      ],
      "source": [
        "fig = px.violin(df, x='City', y='Rating',\n",
        "                 labels={\n",
        "                     'Rating': 'Rating',\n",
        "                     'City': 'Miasto'\n",
        "                 },\n",
        "                 title='Rozkład Ratingu klientów z podziałem na miasta')\n",
        "fig.show()"
      ],
      "metadata": {
        "ExecuteTime": {
          "end_time": "2024-01-22T11:49:12.470650100Z",
          "start_time": "2024-01-22T11:49:12.357249Z"
        },
        "colab": {
          "base_uri": "https://localhost:8080/",
          "height": 542
        },
        "id": "hll24ZTVAOBn",
        "outputId": "89451f28-4c2c-4ff7-ecb8-63359130ddbe"
      }
    },
    {
      "cell_type": "markdown",
      "source": [
        "Natomiat rozkład ratingu z podziałem na miasta wygląda podobnie w każdym z trzech przypadków."
      ],
      "metadata": {
        "id": "Cee--afHkdtY"
      }
    },
    {
      "cell_type": "markdown",
      "source": [
        "**Test statystyczny ANOVA**\n",
        "\n",
        "Na wykresach wyraźnie widać, że sklep w Mandalay ma najniższą średnią ocenę. Na tej podstawie można założyć, że oceny sklepu w Mandalay są niższe niż sklepów w pozostałych miastach. Przeprowadzę test statystyczny mający potwierdzić tę obserwację.\n",
        "Do przeprowadzenia testu ANOVA wymagane jest sprawdzenie warunków:\n",
        "- zmienne muszą mieć rozkład normalny, co można sprawdzić testem Shapiro-Wilka,\n",
        "- brak outlierów, który można stwierdzić na podstawie wykresu pudełkowego,\n",
        "- homogeniczność wariancji między grupami weryfikowana testem Leven'a\n",
        "- równoliczność grup.\n",
        "\n",
        "W pierwszej kolejności sprawdzę powyższe założenia:"
      ],
      "metadata": {
        "id": "m6EpiQIRMgx6"
      }
    },
    {
      "cell_type": "code",
      "source": [
        "import scipy.stats as stats\n",
        "\n",
        "filtered_df = df[df['City'].isin(['Mandalay', 'Naypyitaw', 'Yangon'])]\n",
        "\n",
        "print('Statystyka Shapiro-Wilka:')\n",
        "for city in filtered_df['City'].unique():\n",
        "    result = stats.shapiro(filtered_df[filtered_df['City'] == city]['Rating'])\n",
        "    print(f'City: {city},  p-value: {result.pvalue}')\n",
        "\n",
        "result = stats.levene(filtered_df[filtered_df['City'] == 'Mandalay']['Rating'],\n",
        "                       filtered_df[filtered_df['City'] == 'Naypyitaw']['Rating'],\n",
        "                       filtered_df[filtered_df['City'] == 'Yangon']['Rating'])\n",
        "print(f'\\nTest Levene\\'a, p-value: {result.pvalue}\\n')\n",
        "\n",
        "fig = px.box(filtered_df, x='City', y='Rating', title='Sprawdzenie outlierów')\n",
        "fig.show()\n",
        "\n",
        "print(filtered_df.groupby('City').size())\n"
      ],
      "metadata": {
        "colab": {
          "base_uri": "https://localhost:8080/",
          "height": 750
        },
        "id": "brcFYOzzMmnL",
        "outputId": "59421b94-9e46-46e8-9501-4412f6422772"
      },
      "execution_count": null,
      "outputs": [
        {
          "output_type": "stream",
          "name": "stdout",
          "text": [
            "Statystyka Shapiro-Wilka:\n",
            "City: Yangon,  p-value: 1.5700766908821606e-08\n",
            "City: Naypyitaw,  p-value: 2.8268669183262318e-08\n",
            "City: Mandalay,  p-value: 4.01483220002774e-08\n",
            "\n",
            "Test Levene'a, p-value: 0.9583492264513054\n",
            "\n"
          ]
        },
        {
          "output_type": "display_data",
          "data": {
            "text/html": [
              "<html>\n",
              "<head><meta charset=\"utf-8\" /></head>\n",
              "<body>\n",
              "    <div>            <script src=\"https://cdnjs.cloudflare.com/ajax/libs/mathjax/2.7.5/MathJax.js?config=TeX-AMS-MML_SVG\"></script><script type=\"text/javascript\">if (window.MathJax && window.MathJax.Hub && window.MathJax.Hub.Config) {window.MathJax.Hub.Config({SVG: {font: \"STIX-Web\"}});}</script>                <script type=\"text/javascript\">window.PlotlyConfig = {MathJaxConfig: 'local'};</script>\n",
              "        <script charset=\"utf-8\" src=\"https://cdn.plot.ly/plotly-2.24.1.min.js\"></script>                <div id=\"094dd89f-fd17-46cf-91c2-b8315b28a6d8\" class=\"plotly-graph-div\" style=\"height:525px; width:100%;\"></div>            <script type=\"text/javascript\">                                    window.PLOTLYENV=window.PLOTLYENV || {};                                    if (document.getElementById(\"094dd89f-fd17-46cf-91c2-b8315b28a6d8\")) {                    Plotly.newPlot(                        \"094dd89f-fd17-46cf-91c2-b8315b28a6d8\",                        [{\"alignmentgroup\":\"True\",\"hovertemplate\":\"City=%{x}\\u003cbr\\u003eRating=%{y}\\u003cextra\\u003e\\u003c\\u002fextra\\u003e\",\"legendgroup\":\"\",\"marker\":{\"color\":\"#636efa\"},\"name\":\"\",\"notched\":false,\"offsetgroup\":\"\",\"orientation\":\"v\",\"showlegend\":false,\"x\":[\"Yangon\",\"Naypyitaw\",\"Yangon\",\"Yangon\",\"Yangon\",\"Naypyitaw\",\"Yangon\",\"Naypyitaw\",\"Yangon\",\"Mandalay\",\"Mandalay\",\"Mandalay\",\"Yangon\",\"Yangon\",\"Yangon\",\"Mandalay\",\"Yangon\",\"Yangon\",\"Yangon\",\"Mandalay\",\"Naypyitaw\",\"Mandalay\",\"Mandalay\",\"Yangon\",\"Yangon\",\"Yangon\",\"Mandalay\",\"Yangon\",\"Mandalay\",\"Yangon\",\"Mandalay\",\"Mandalay\",\"Mandalay\",\"Yangon\",\"Naypyitaw\",\"Naypyitaw\",\"Yangon\",\"Yangon\",\"Naypyitaw\",\"Mandalay\",\"Mandalay\",\"Naypyitaw\",\"Mandalay\",\"Naypyitaw\",\"Naypyitaw\",\"Mandalay\",\"Mandalay\",\"Mandalay\",\"Mandalay\",\"Naypyitaw\",\"Naypyitaw\",\"Yangon\",\"Mandalay\",\"Naypyitaw\",\"Mandalay\",\"Naypyitaw\",\"Yangon\",\"Yangon\",\"Yangon\",\"Naypyitaw\",\"Naypyitaw\",\"Naypyitaw\",\"Mandalay\",\"Yangon\",\"Mandalay\",\"Yangon\",\"Naypyitaw\",\"Mandalay\",\"Yangon\",\"Yangon\",\"Naypyitaw\",\"Naypyitaw\",\"Mandalay\",\"Naypyitaw\",\"Yangon\",\"Naypyitaw\",\"Naypyitaw\",\"Yangon\",\"Naypyitaw\",\"Naypyitaw\",\"Naypyitaw\",\"Mandalay\",\"Naypyitaw\",\"Naypyitaw\",\"Naypyitaw\",\"Naypyitaw\",\"Naypyitaw\",\"Yangon\",\"Yangon\",\"Mandalay\",\"Naypyitaw\",\"Naypyitaw\",\"Yangon\",\"Mandalay\",\"Naypyitaw\",\"Yangon\",\"Mandalay\",\"Naypyitaw\",\"Yangon\",\"Mandalay\",\"Naypyitaw\",\"Naypyitaw\",\"Naypyitaw\",\"Yangon\",\"Mandalay\",\"Yangon\",\"Naypyitaw\",\"Yangon\",\"Naypyitaw\",\"Naypyitaw\",\"Mandalay\",\"Naypyitaw\",\"Mandalay\",\"Yangon\",\"Naypyitaw\",\"Naypyitaw\",\"Mandalay\",\"Mandalay\",\"Yangon\",\"Mandalay\",\"Yangon\",\"Naypyitaw\",\"Mandalay\",\"Naypyitaw\",\"Mandalay\",\"Yangon\",\"Yangon\",\"Naypyitaw\",\"Naypyitaw\",\"Mandalay\",\"Mandalay\",\"Yangon\",\"Mandalay\",\"Mandalay\",\"Naypyitaw\",\"Naypyitaw\",\"Yangon\",\"Yangon\",\"Mandalay\",\"Yangon\",\"Naypyitaw\",\"Naypyitaw\",\"Naypyitaw\",\"Naypyitaw\",\"Yangon\",\"Naypyitaw\",\"Yangon\",\"Naypyitaw\",\"Mandalay\",\"Yangon\",\"Mandalay\",\"Naypyitaw\",\"Yangon\",\"Naypyitaw\",\"Naypyitaw\",\"Yangon\",\"Mandalay\",\"Mandalay\",\"Mandalay\",\"Mandalay\",\"Naypyitaw\",\"Yangon\",\"Yangon\",\"Naypyitaw\",\"Mandalay\",\"Mandalay\",\"Naypyitaw\",\"Yangon\",\"Yangon\",\"Yangon\",\"Yangon\",\"Mandalay\",\"Naypyitaw\",\"Mandalay\",\"Mandalay\",\"Yangon\",\"Yangon\",\"Naypyitaw\",\"Yangon\",\"Naypyitaw\",\"Naypyitaw\",\"Naypyitaw\",\"Yangon\",\"Naypyitaw\",\"Yangon\",\"Mandalay\",\"Mandalay\",\"Mandalay\",\"Yangon\",\"Naypyitaw\",\"Mandalay\",\"Mandalay\",\"Naypyitaw\",\"Mandalay\",\"Yangon\",\"Naypyitaw\",\"Naypyitaw\",\"Yangon\",\"Naypyitaw\",\"Naypyitaw\",\"Naypyitaw\",\"Mandalay\",\"Naypyitaw\",\"Mandalay\",\"Mandalay\",\"Yangon\",\"Naypyitaw\",\"Naypyitaw\",\"Mandalay\",\"Mandalay\",\"Yangon\",\"Naypyitaw\",\"Mandalay\",\"Mandalay\",\"Mandalay\",\"Yangon\",\"Mandalay\",\"Yangon\",\"Mandalay\",\"Mandalay\",\"Mandalay\",\"Mandalay\",\"Naypyitaw\",\"Naypyitaw\",\"Yangon\",\"Naypyitaw\",\"Mandalay\",\"Naypyitaw\",\"Mandalay\",\"Yangon\",\"Mandalay\",\"Mandalay\",\"Mandalay\",\"Mandalay\",\"Yangon\",\"Yangon\",\"Naypyitaw\",\"Naypyitaw\",\"Mandalay\",\"Yangon\",\"Yangon\",\"Yangon\",\"Naypyitaw\",\"Yangon\",\"Mandalay\",\"Yangon\",\"Mandalay\",\"Yangon\",\"Yangon\",\"Mandalay\",\"Mandalay\",\"Naypyitaw\",\"Naypyitaw\",\"Yangon\",\"Yangon\",\"Mandalay\",\"Yangon\",\"Yangon\",\"Yangon\",\"Naypyitaw\",\"Yangon\",\"Naypyitaw\",\"Mandalay\",\"Yangon\",\"Mandalay\",\"Yangon\",\"Naypyitaw\",\"Mandalay\",\"Yangon\",\"Yangon\",\"Mandalay\",\"Naypyitaw\",\"Yangon\",\"Yangon\",\"Mandalay\",\"Mandalay\",\"Naypyitaw\",\"Naypyitaw\",\"Naypyitaw\",\"Yangon\",\"Yangon\",\"Naypyitaw\",\"Yangon\",\"Yangon\",\"Yangon\",\"Mandalay\",\"Naypyitaw\",\"Naypyitaw\",\"Mandalay\",\"Yangon\",\"Mandalay\",\"Naypyitaw\",\"Yangon\",\"Yangon\",\"Mandalay\",\"Naypyitaw\",\"Naypyitaw\",\"Yangon\",\"Yangon\",\"Naypyitaw\",\"Naypyitaw\",\"Mandalay\",\"Naypyitaw\",\"Yangon\",\"Mandalay\",\"Yangon\",\"Yangon\",\"Yangon\",\"Yangon\",\"Yangon\",\"Mandalay\",\"Naypyitaw\",\"Yangon\",\"Yangon\",\"Naypyitaw\",\"Naypyitaw\",\"Naypyitaw\",\"Naypyitaw\",\"Naypyitaw\",\"Naypyitaw\",\"Naypyitaw\",\"Naypyitaw\",\"Yangon\",\"Yangon\",\"Yangon\",\"Mandalay\",\"Yangon\",\"Naypyitaw\",\"Mandalay\",\"Yangon\",\"Mandalay\",\"Yangon\",\"Yangon\",\"Yangon\",\"Naypyitaw\",\"Yangon\",\"Yangon\",\"Mandalay\",\"Naypyitaw\",\"Mandalay\",\"Mandalay\",\"Mandalay\",\"Mandalay\",\"Naypyitaw\",\"Yangon\",\"Yangon\",\"Yangon\",\"Naypyitaw\",\"Yangon\",\"Mandalay\",\"Naypyitaw\",\"Yangon\",\"Mandalay\",\"Mandalay\",\"Naypyitaw\",\"Mandalay\",\"Naypyitaw\",\"Naypyitaw\",\"Mandalay\",\"Mandalay\",\"Yangon\",\"Naypyitaw\",\"Naypyitaw\",\"Yangon\",\"Naypyitaw\",\"Naypyitaw\",\"Naypyitaw\",\"Yangon\",\"Naypyitaw\",\"Yangon\",\"Mandalay\",\"Mandalay\",\"Naypyitaw\",\"Naypyitaw\",\"Yangon\",\"Yangon\",\"Mandalay\",\"Naypyitaw\",\"Naypyitaw\",\"Mandalay\",\"Yangon\",\"Naypyitaw\",\"Mandalay\",\"Naypyitaw\",\"Yangon\",\"Mandalay\",\"Naypyitaw\",\"Yangon\",\"Naypyitaw\",\"Mandalay\",\"Naypyitaw\",\"Mandalay\",\"Yangon\",\"Yangon\",\"Yangon\",\"Yangon\",\"Yangon\",\"Mandalay\",\"Mandalay\",\"Mandalay\",\"Naypyitaw\",\"Naypyitaw\",\"Naypyitaw\",\"Mandalay\",\"Naypyitaw\",\"Yangon\",\"Yangon\",\"Mandalay\",\"Yangon\",\"Naypyitaw\",\"Mandalay\",\"Mandalay\",\"Yangon\",\"Yangon\",\"Yangon\",\"Mandalay\",\"Naypyitaw\",\"Naypyitaw\",\"Mandalay\",\"Yangon\",\"Naypyitaw\",\"Naypyitaw\",\"Naypyitaw\",\"Mandalay\",\"Naypyitaw\",\"Mandalay\",\"Yangon\",\"Mandalay\",\"Mandalay\",\"Yangon\",\"Mandalay\",\"Naypyitaw\",\"Yangon\",\"Mandalay\",\"Mandalay\",\"Naypyitaw\",\"Naypyitaw\",\"Yangon\",\"Naypyitaw\",\"Naypyitaw\",\"Naypyitaw\",\"Mandalay\",\"Yangon\",\"Naypyitaw\",\"Yangon\",\"Mandalay\",\"Naypyitaw\",\"Naypyitaw\",\"Mandalay\",\"Mandalay\",\"Mandalay\",\"Mandalay\",\"Yangon\",\"Yangon\",\"Yangon\",\"Mandalay\",\"Mandalay\",\"Mandalay\",\"Naypyitaw\",\"Naypyitaw\",\"Naypyitaw\",\"Mandalay\",\"Naypyitaw\",\"Naypyitaw\",\"Yangon\",\"Naypyitaw\",\"Naypyitaw\",\"Mandalay\",\"Naypyitaw\",\"Naypyitaw\",\"Naypyitaw\",\"Yangon\",\"Yangon\",\"Mandalay\",\"Yangon\",\"Yangon\",\"Yangon\",\"Naypyitaw\",\"Mandalay\",\"Yangon\",\"Naypyitaw\",\"Naypyitaw\",\"Yangon\",\"Mandalay\",\"Naypyitaw\",\"Mandalay\",\"Mandalay\",\"Yangon\",\"Naypyitaw\",\"Mandalay\",\"Mandalay\",\"Yangon\",\"Mandalay\",\"Naypyitaw\",\"Mandalay\",\"Mandalay\",\"Naypyitaw\",\"Naypyitaw\",\"Mandalay\",\"Yangon\",\"Mandalay\",\"Naypyitaw\",\"Naypyitaw\",\"Mandalay\",\"Mandalay\",\"Yangon\",\"Mandalay\",\"Mandalay\",\"Mandalay\",\"Naypyitaw\",\"Mandalay\",\"Yangon\",\"Yangon\",\"Yangon\",\"Naypyitaw\",\"Naypyitaw\",\"Mandalay\",\"Naypyitaw\",\"Yangon\",\"Naypyitaw\",\"Mandalay\",\"Naypyitaw\",\"Yangon\",\"Naypyitaw\",\"Yangon\",\"Yangon\",\"Mandalay\",\"Mandalay\",\"Mandalay\",\"Yangon\",\"Yangon\",\"Yangon\",\"Mandalay\",\"Naypyitaw\",\"Yangon\",\"Naypyitaw\",\"Mandalay\",\"Yangon\",\"Yangon\",\"Naypyitaw\",\"Yangon\",\"Naypyitaw\",\"Mandalay\",\"Naypyitaw\",\"Mandalay\",\"Mandalay\",\"Yangon\",\"Yangon\",\"Mandalay\",\"Yangon\",\"Mandalay\",\"Mandalay\",\"Mandalay\",\"Naypyitaw\",\"Yangon\",\"Mandalay\",\"Mandalay\",\"Naypyitaw\",\"Yangon\",\"Yangon\",\"Mandalay\",\"Naypyitaw\",\"Mandalay\",\"Yangon\",\"Mandalay\",\"Yangon\",\"Naypyitaw\",\"Yangon\",\"Mandalay\",\"Naypyitaw\",\"Mandalay\",\"Mandalay\",\"Yangon\",\"Mandalay\",\"Yangon\",\"Mandalay\",\"Mandalay\",\"Naypyitaw\",\"Yangon\",\"Mandalay\",\"Naypyitaw\",\"Yangon\",\"Naypyitaw\",\"Mandalay\",\"Mandalay\",\"Yangon\",\"Yangon\",\"Yangon\",\"Naypyitaw\",\"Yangon\",\"Naypyitaw\",\"Naypyitaw\",\"Yangon\",\"Yangon\",\"Mandalay\",\"Mandalay\",\"Yangon\",\"Naypyitaw\",\"Naypyitaw\",\"Yangon\",\"Naypyitaw\",\"Naypyitaw\",\"Naypyitaw\",\"Mandalay\",\"Naypyitaw\",\"Mandalay\",\"Yangon\",\"Naypyitaw\",\"Yangon\",\"Mandalay\",\"Yangon\",\"Naypyitaw\",\"Mandalay\",\"Naypyitaw\",\"Yangon\",\"Yangon\",\"Mandalay\",\"Naypyitaw\",\"Yangon\",\"Naypyitaw\",\"Yangon\",\"Yangon\",\"Mandalay\",\"Mandalay\",\"Mandalay\",\"Mandalay\",\"Yangon\",\"Mandalay\",\"Yangon\",\"Yangon\",\"Yangon\",\"Yangon\",\"Yangon\",\"Mandalay\",\"Mandalay\",\"Mandalay\",\"Yangon\",\"Naypyitaw\",\"Mandalay\",\"Mandalay\",\"Mandalay\",\"Naypyitaw\",\"Mandalay\",\"Naypyitaw\",\"Naypyitaw\",\"Yangon\",\"Naypyitaw\",\"Mandalay\",\"Naypyitaw\",\"Naypyitaw\",\"Mandalay\",\"Mandalay\",\"Yangon\",\"Mandalay\",\"Mandalay\",\"Yangon\",\"Naypyitaw\",\"Yangon\",\"Yangon\",\"Yangon\",\"Mandalay\",\"Naypyitaw\",\"Mandalay\",\"Naypyitaw\",\"Naypyitaw\",\"Yangon\",\"Mandalay\",\"Mandalay\",\"Naypyitaw\",\"Mandalay\",\"Yangon\",\"Mandalay\",\"Mandalay\",\"Naypyitaw\",\"Yangon\",\"Mandalay\",\"Mandalay\",\"Yangon\",\"Naypyitaw\",\"Yangon\",\"Mandalay\",\"Mandalay\",\"Naypyitaw\",\"Yangon\",\"Mandalay\",\"Mandalay\",\"Mandalay\",\"Yangon\",\"Naypyitaw\",\"Yangon\",\"Naypyitaw\",\"Naypyitaw\",\"Yangon\",\"Naypyitaw\",\"Naypyitaw\",\"Yangon\",\"Yangon\",\"Mandalay\",\"Yangon\",\"Naypyitaw\",\"Naypyitaw\",\"Mandalay\",\"Mandalay\",\"Mandalay\",\"Mandalay\",\"Mandalay\",\"Mandalay\",\"Naypyitaw\",\"Naypyitaw\",\"Yangon\",\"Yangon\",\"Naypyitaw\",\"Naypyitaw\",\"Naypyitaw\",\"Naypyitaw\",\"Yangon\",\"Yangon\",\"Yangon\",\"Yangon\",\"Mandalay\",\"Mandalay\",\"Naypyitaw\",\"Mandalay\",\"Naypyitaw\",\"Mandalay\",\"Naypyitaw\",\"Naypyitaw\",\"Mandalay\",\"Naypyitaw\",\"Mandalay\",\"Yangon\",\"Yangon\",\"Yangon\",\"Mandalay\",\"Mandalay\",\"Naypyitaw\",\"Naypyitaw\",\"Naypyitaw\",\"Mandalay\",\"Yangon\",\"Naypyitaw\",\"Naypyitaw\",\"Yangon\",\"Yangon\",\"Naypyitaw\",\"Naypyitaw\",\"Mandalay\",\"Naypyitaw\",\"Mandalay\",\"Naypyitaw\",\"Mandalay\",\"Yangon\",\"Yangon\",\"Mandalay\",\"Naypyitaw\",\"Yangon\",\"Mandalay\",\"Yangon\",\"Yangon\",\"Yangon\",\"Mandalay\",\"Mandalay\",\"Yangon\",\"Yangon\",\"Yangon\",\"Mandalay\",\"Naypyitaw\",\"Mandalay\",\"Mandalay\",\"Yangon\",\"Mandalay\",\"Naypyitaw\",\"Naypyitaw\",\"Naypyitaw\",\"Naypyitaw\",\"Mandalay\",\"Naypyitaw\",\"Mandalay\",\"Naypyitaw\",\"Mandalay\",\"Naypyitaw\",\"Yangon\",\"Yangon\",\"Naypyitaw\",\"Naypyitaw\",\"Yangon\",\"Naypyitaw\",\"Naypyitaw\",\"Naypyitaw\",\"Yangon\",\"Yangon\",\"Naypyitaw\",\"Mandalay\",\"Yangon\",\"Yangon\",\"Mandalay\",\"Naypyitaw\",\"Yangon\",\"Mandalay\",\"Naypyitaw\",\"Mandalay\",\"Naypyitaw\",\"Naypyitaw\",\"Yangon\",\"Mandalay\",\"Yangon\",\"Yangon\",\"Yangon\",\"Mandalay\",\"Naypyitaw\",\"Mandalay\",\"Yangon\",\"Naypyitaw\",\"Yangon\",\"Yangon\",\"Mandalay\",\"Naypyitaw\",\"Yangon\",\"Mandalay\",\"Mandalay\",\"Mandalay\",\"Yangon\",\"Naypyitaw\",\"Yangon\",\"Mandalay\",\"Yangon\",\"Mandalay\",\"Yangon\",\"Naypyitaw\",\"Yangon\",\"Yangon\",\"Mandalay\",\"Mandalay\",\"Yangon\",\"Mandalay\",\"Yangon\",\"Yangon\",\"Mandalay\",\"Naypyitaw\",\"Naypyitaw\",\"Yangon\",\"Mandalay\",\"Yangon\",\"Naypyitaw\",\"Yangon\",\"Yangon\",\"Yangon\",\"Naypyitaw\",\"Naypyitaw\",\"Yangon\",\"Yangon\",\"Yangon\",\"Naypyitaw\",\"Mandalay\",\"Yangon\",\"Mandalay\",\"Mandalay\",\"Yangon\",\"Mandalay\",\"Yangon\",\"Naypyitaw\",\"Yangon\",\"Mandalay\",\"Mandalay\",\"Yangon\",\"Naypyitaw\",\"Mandalay\",\"Naypyitaw\",\"Naypyitaw\",\"Yangon\",\"Yangon\",\"Naypyitaw\",\"Mandalay\",\"Yangon\",\"Yangon\",\"Naypyitaw\",\"Naypyitaw\",\"Mandalay\",\"Yangon\",\"Mandalay\",\"Mandalay\",\"Naypyitaw\",\"Mandalay\",\"Yangon\",\"Yangon\",\"Yangon\",\"Yangon\",\"Yangon\",\"Naypyitaw\",\"Yangon\",\"Naypyitaw\",\"Mandalay\",\"Naypyitaw\",\"Mandalay\",\"Mandalay\",\"Mandalay\",\"Naypyitaw\",\"Naypyitaw\",\"Naypyitaw\",\"Yangon\",\"Naypyitaw\",\"Mandalay\",\"Yangon\",\"Yangon\",\"Naypyitaw\",\"Naypyitaw\",\"Naypyitaw\",\"Mandalay\",\"Yangon\",\"Mandalay\",\"Mandalay\",\"Naypyitaw\",\"Yangon\",\"Yangon\",\"Yangon\",\"Naypyitaw\",\"Naypyitaw\",\"Yangon\",\"Mandalay\",\"Mandalay\",\"Naypyitaw\",\"Mandalay\",\"Naypyitaw\",\"Naypyitaw\",\"Naypyitaw\",\"Mandalay\",\"Mandalay\",\"Yangon\",\"Mandalay\",\"Mandalay\",\"Mandalay\",\"Naypyitaw\",\"Yangon\",\"Naypyitaw\",\"Mandalay\",\"Naypyitaw\",\"Naypyitaw\",\"Yangon\",\"Yangon\",\"Naypyitaw\",\"Yangon\",\"Naypyitaw\",\"Yangon\",\"Yangon\",\"Yangon\",\"Yangon\",\"Naypyitaw\",\"Mandalay\",\"Naypyitaw\",\"Mandalay\",\"Mandalay\",\"Mandalay\",\"Mandalay\",\"Naypyitaw\",\"Mandalay\",\"Yangon\",\"Naypyitaw\",\"Mandalay\",\"Naypyitaw\",\"Yangon\",\"Naypyitaw\",\"Yangon\",\"Yangon\",\"Naypyitaw\",\"Mandalay\",\"Mandalay\",\"Yangon\",\"Yangon\",\"Yangon\",\"Mandalay\",\"Mandalay\",\"Mandalay\",\"Mandalay\",\"Yangon\",\"Naypyitaw\",\"Mandalay\",\"Yangon\",\"Mandalay\",\"Mandalay\",\"Mandalay\",\"Naypyitaw\",\"Yangon\",\"Yangon\",\"Naypyitaw\",\"Naypyitaw\",\"Mandalay\",\"Mandalay\",\"Mandalay\",\"Naypyitaw\",\"Mandalay\",\"Yangon\",\"Mandalay\",\"Yangon\",\"Mandalay\",\"Naypyitaw\",\"Naypyitaw\",\"Mandalay\",\"Yangon\",\"Yangon\",\"Yangon\"],\"x0\":\" \",\"xaxis\":\"x\",\"y\":[9.1,9.6,7.4,8.4,5.3,4.1,5.8,8.0,7.2,5.9,4.5,6.8,7.1,8.2,5.7,4.5,4.6,6.9,8.6,4.4,4.8,5.1,4.4,9.9,6.0,8.5,6.7,7.7,9.6,7.4,4.8,4.5,5.1,5.1,7.5,6.8,7.0,4.7,7.6,7.7,7.9,6.3,5.6,7.6,7.2,9.5,8.4,4.1,8.1,7.9,9.5,8.5,6.5,6.1,6.5,8.2,5.8,6.6,5.4,9.3,10.0,7.0,10.0,8.6,7.6,5.8,6.7,9.9,6.4,4.3,9.6,5.9,4.0,8.7,9.4,5.4,8.6,5.7,6.6,6.0,5.5,6.4,6.6,8.3,6.6,4.0,9.9,7.3,5.7,6.1,7.1,8.2,5.1,8.6,6.6,7.2,5.1,4.1,9.3,7.4,4.1,7.2,4.9,9.9,8.0,7.3,7.9,7.4,4.2,9.2,4.6,7.8,8.4,4.3,9.5,7.1,5.3,5.2,6.0,4.1,5.2,6.5,4.2,4.6,7.3,4.5,9.0,5.9,8.5,7.2,7.5,8.3,7.4,8.8,5.3,6.2,8.8,9.8,8.2,9.2,5.4,8.1,9.1,8.4,8.0,9.5,9.2,5.6,6.2,4.9,4.8,7.3,7.4,9.9,9.3,9.0,6.1,9.7,6.0,10.0,8.3,6.0,7.0,6.5,5.9,5.6,4.8,8.7,6.5,8.5,5.5,9.4,6.3,9.8,8.7,8.8,9.6,4.8,4.4,9.9,5.7,7.7,8.0,5.7,6.7,8.0,7.5,7.0,9.9,5.9,7.2,4.6,9.2,5.7,9.9,5.0,4.9,6.1,8.2,5.5,6.8,6.6,9.8,8.7,5.4,7.9,9.7,7.8,5.1,6.5,5.9,8.8,4.9,4.4,6.5,8.3,8.5,5.5,8.7,7.9,6.1,5.4,9.4,8.2,6.2,9.7,4.0,9.7,5.3,7.4,6.5,8.7,8.0,6.7,6.5,4.1,4.9,8.6,4.3,4.9,5.6,5.8,6.0,4.2,8.3,5.7,4.8,6.8,8.8,4.2,6.4,8.4,7.2,5.2,8.9,9.0,9.7,8.7,6.5,6.9,6.2,5.6,5.7,4.2,7.9,8.7,6.9,9.5,4.4,7.0,6.3,9.7,8.8,5.1,7.9,6.2,7.1,6.4,5.7,9.6,6.4,7.9,6.5,8.5,9.1,7.6,6.9,9.5,5.2,4.2,7.0,6.0,4.7,7.1,5.9,7.5,6.4,5.8,4.5,7.7,6.7,4.7,4.4,4.7,8.6,4.3,9.6,4.1,4.7,7.8,5.5,9.7,4.4,5.0,4.4,5.2,7.3,4.9,8.1,8.4,5.5,8.4,9.8,6.7,9.4,6.4,5.4,8.6,4.0,7.6,6.8,9.1,5.5,7.9,8.5,9.1,7.5,5.2,9.5,8.9,7.8,8.9,7.7,9.3,6.2,7.6,7.3,4.7,5.1,4.8,6.6,5.5,8.5,4.8,8.4,7.8,9.3,5.2,6.5,5.6,7.4,9.1,8.0,7.2,7.1,9.1,5.6,6.0,5.4,7.8,9.9,4.9,5.2,8.9,9.1,7.0,9.6,8.7,9.4,4.0,7.5,4.2,9.9,4.2,9.9,5.8,6.0,10.0,9.5,6.6,8.1,9.7,7.2,6.2,7.3,4.3,4.6,5.8,8.3,8.0,9.4,6.2,9.8,9.6,4.9,8.0,7.8,4.1,5.5,5.4,5.1,6.9,7.8,6.6,9.2,7.8,8.7,9.2,8.3,8.2,7.5,9.8,8.7,6.7,5.0,7.0,8.9,8.0,6.9,7.3,6.9,5.7,6.4,9.6,6.8,9.0,9.6,7.7,7.0,6.5,8.1,4.3,6.5,9.5,9.7,9.5,8.9,6.5,5.3,9.6,6.7,7.6,4.8,5.5,4.7,6.9,4.5,6.2,7.6,7.9,4.5,8.7,6.1,6.4,9.1,7.1,7.7,4.5,7.2,8.4,5.4,9.7,5.5,4.6,6.6,6.3,4.2,4.4,6.7,6.7,8.4,6.2,5.0,6.0,7.0,6.6,7.3,8.3,4.3,9.8,8.2,7.2,8.7,8.4,7.1,5.5,8.5,6.2,8.9,9.6,5.4,9.1,9.0,6.3,9.5,9.8,6.7,7.7,7.0,5.1,6.2,6.1,9.3,7.6,8.2,8.5,9.8,8.7,9.7,4.3,7.7,7.3,5.9,5.0,8.0,7.1,9.0,6.7,6.1,9.3,7.0,7.2,8.2,8.4,6.2,7.4,5.0,6.9,4.9,5.1,9.1,7.1,5.0,5.5,9.2,4.9,8.9,6.0,4.2,7.3,6.5,8.9,9.7,8.6,6.9,7.7,9.5,4.5,5.6,8.2,7.3,4.4,5.7,5.0,9.0,6.3,9.4,7.7,5.5,4.1,7.6,8.6,8.3,8.1,8.6,6.3,5.8,6.2,7.7,8.1,7.3,8.4,8.0,9.5,7.0,9.8,9.2,7.7,5.3,4.4,4.3,9.4,9.8,4.8,5.3,8.7,9.5,5.3,9.2,9.6,6.4,4.5,6.9,7.8,4.5,8.6,5.2,6.4,5.2,8.9,6.2,6.7,7.2,9.0,4.2,4.2,6.9,4.4,4.0,8.5,9.2,9.8,4.9,4.4,6.8,9.1,8.7,5.0,7.5,8.2,6.7,5.4,7.0,4.7,5.0,5.0,6.0,6.3,8.5,7.5,6.4,4.7,6.0,4.0,5.5,8.7,7.4,5.6,6.3,7.1,7.8,9.9,7.3,5.1,9.4,5.8,8.0,7.9,5.9,4.9,9.3,7.9,5.9,9.9,7.7,7.6,7.7,6.4,4.4,4.1,4.4,5.5,4.0,9.3,4.8,4.6,7.3,6.0,8.1,9.4,6.5,7.0,7.1,6.6,4.9,6.4,8.0,4.3,6.1,7.5,6.7,5.2,8.8,9.5,7.6,6.6,6.9,4.3,7.8,8.0,9.6,4.3,5.0,9.2,6.3,8.9,7.6,4.8,9.1,6.1,9.1,8.3,7.2,6.0,8.5,6.6,4.5,8.1,7.2,6.1,7.1,5.1,7.9,7.4,7.4,6.6,5.9,8.9,6.8,9.3,4.4,4.8,9.5,8.9,6.4,6.0,8.1,9.0,6.0,9.8,8.5,8.8,8.8,9.5,5.6,8.6,5.2,5.8,8.0,9.0,4.1,8.6,7.0,8.4,7.4,6.2,4.9,4.5,5.6,8.0,5.6,4.2,9.9,7.6,6.6,4.7,9.8,6.3,7.9,7.7,4.5,8.0,5.7,6.3,6.0,8.0,4.2,9.6,6.1,5.6,8.3,7.8,4.1,8.8,4.1,9.0,5.5,9.3,5.6,9.7,4.0,9.2,4.9,9.3,6.6,4.3,5.5,8.1,9.8,9.4,7.9,5.1,6.9,8.0,8.0,4.2,8.5,9.0,8.6,6.0,6.2,5.0,6.5,6.0,5.0,5.0,9.2,9.6,8.4,6.0,6.7,4.1,5.9,8.7,4.5,6.6,7.7,8.5,5.2,4.3,7.6,9.5,4.1,9.2,5.4,5.8,5.6,5.1,5.8,5.0,7.9,6.0,5.0,8.9,5.9,5.9,9.7,8.6,4.0,4.2,9.2,9.2,5.0,10.0,8.8,4.2,6.3,8.2,5.1,5.0,7.0,7.8,4.3,7.0,6.6,7.3,6.5,4.9,4.3,9.3,7.1,9.6,6.2,9.9,5.9,6.3,4.0,6.1,4.5,8.6,6.0,9.5,9.9,7.5,7.6,5.0,6.7,9.5,6.8,5.6,7.2,8.1,8.6,9.4,8.9,4.2,5.0,8.8,5.3,4.6,7.5,5.1,4.2,8.1,6.0,7.9,8.8,6.6,6.2,4.2,7.3,8.6,6.8,7.6,5.8,4.1,9.3,6.8,8.7,6.3,5.1,7.0,5.2,6.6,6.5,9.0,5.2,6.8,7.6,7.2,7.1,9.5,5.1,7.6,9.8,5.1,7.5,7.4,4.2,5.9,6.9,6.6,5.7,5.3,4.2,7.3,5.3,4.7,7.9,8.9,9.3,4.7,8.7,7.6,5.7,6.8,5.4,7.1,7.8,8.4,9.8,9.8,7.4,6.7,6.4,5.8,7.2,9.3,9.5,9.0,9.0,6.7,5.5,5.4,8.2,7.0,8.5,4.9,5.1,6.5,9.8,8.4,7.4,6.1,6.0,8.5,4.3,6.2,4.3,8.4,4.5,6.0,8.8,6.6,5.9,6.2,4.4,7.7,4.1,6.6],\"y0\":\" \",\"yaxis\":\"y\",\"type\":\"box\"}],                        {\"template\":{\"data\":{\"histogram2dcontour\":[{\"type\":\"histogram2dcontour\",\"colorbar\":{\"outlinewidth\":0,\"ticks\":\"\"},\"colorscale\":[[0.0,\"#0d0887\"],[0.1111111111111111,\"#46039f\"],[0.2222222222222222,\"#7201a8\"],[0.3333333333333333,\"#9c179e\"],[0.4444444444444444,\"#bd3786\"],[0.5555555555555556,\"#d8576b\"],[0.6666666666666666,\"#ed7953\"],[0.7777777777777778,\"#fb9f3a\"],[0.8888888888888888,\"#fdca26\"],[1.0,\"#f0f921\"]]}],\"choropleth\":[{\"type\":\"choropleth\",\"colorbar\":{\"outlinewidth\":0,\"ticks\":\"\"}}],\"histogram2d\":[{\"type\":\"histogram2d\",\"colorbar\":{\"outlinewidth\":0,\"ticks\":\"\"},\"colorscale\":[[0.0,\"#0d0887\"],[0.1111111111111111,\"#46039f\"],[0.2222222222222222,\"#7201a8\"],[0.3333333333333333,\"#9c179e\"],[0.4444444444444444,\"#bd3786\"],[0.5555555555555556,\"#d8576b\"],[0.6666666666666666,\"#ed7953\"],[0.7777777777777778,\"#fb9f3a\"],[0.8888888888888888,\"#fdca26\"],[1.0,\"#f0f921\"]]}],\"heatmap\":[{\"type\":\"heatmap\",\"colorbar\":{\"outlinewidth\":0,\"ticks\":\"\"},\"colorscale\":[[0.0,\"#0d0887\"],[0.1111111111111111,\"#46039f\"],[0.2222222222222222,\"#7201a8\"],[0.3333333333333333,\"#9c179e\"],[0.4444444444444444,\"#bd3786\"],[0.5555555555555556,\"#d8576b\"],[0.6666666666666666,\"#ed7953\"],[0.7777777777777778,\"#fb9f3a\"],[0.8888888888888888,\"#fdca26\"],[1.0,\"#f0f921\"]]}],\"heatmapgl\":[{\"type\":\"heatmapgl\",\"colorbar\":{\"outlinewidth\":0,\"ticks\":\"\"},\"colorscale\":[[0.0,\"#0d0887\"],[0.1111111111111111,\"#46039f\"],[0.2222222222222222,\"#7201a8\"],[0.3333333333333333,\"#9c179e\"],[0.4444444444444444,\"#bd3786\"],[0.5555555555555556,\"#d8576b\"],[0.6666666666666666,\"#ed7953\"],[0.7777777777777778,\"#fb9f3a\"],[0.8888888888888888,\"#fdca26\"],[1.0,\"#f0f921\"]]}],\"contourcarpet\":[{\"type\":\"contourcarpet\",\"colorbar\":{\"outlinewidth\":0,\"ticks\":\"\"}}],\"contour\":[{\"type\":\"contour\",\"colorbar\":{\"outlinewidth\":0,\"ticks\":\"\"},\"colorscale\":[[0.0,\"#0d0887\"],[0.1111111111111111,\"#46039f\"],[0.2222222222222222,\"#7201a8\"],[0.3333333333333333,\"#9c179e\"],[0.4444444444444444,\"#bd3786\"],[0.5555555555555556,\"#d8576b\"],[0.6666666666666666,\"#ed7953\"],[0.7777777777777778,\"#fb9f3a\"],[0.8888888888888888,\"#fdca26\"],[1.0,\"#f0f921\"]]}],\"surface\":[{\"type\":\"surface\",\"colorbar\":{\"outlinewidth\":0,\"ticks\":\"\"},\"colorscale\":[[0.0,\"#0d0887\"],[0.1111111111111111,\"#46039f\"],[0.2222222222222222,\"#7201a8\"],[0.3333333333333333,\"#9c179e\"],[0.4444444444444444,\"#bd3786\"],[0.5555555555555556,\"#d8576b\"],[0.6666666666666666,\"#ed7953\"],[0.7777777777777778,\"#fb9f3a\"],[0.8888888888888888,\"#fdca26\"],[1.0,\"#f0f921\"]]}],\"mesh3d\":[{\"type\":\"mesh3d\",\"colorbar\":{\"outlinewidth\":0,\"ticks\":\"\"}}],\"scatter\":[{\"fillpattern\":{\"fillmode\":\"overlay\",\"size\":10,\"solidity\":0.2},\"type\":\"scatter\"}],\"parcoords\":[{\"type\":\"parcoords\",\"line\":{\"colorbar\":{\"outlinewidth\":0,\"ticks\":\"\"}}}],\"scatterpolargl\":[{\"type\":\"scatterpolargl\",\"marker\":{\"colorbar\":{\"outlinewidth\":0,\"ticks\":\"\"}}}],\"bar\":[{\"error_x\":{\"color\":\"#2a3f5f\"},\"error_y\":{\"color\":\"#2a3f5f\"},\"marker\":{\"line\":{\"color\":\"#E5ECF6\",\"width\":0.5},\"pattern\":{\"fillmode\":\"overlay\",\"size\":10,\"solidity\":0.2}},\"type\":\"bar\"}],\"scattergeo\":[{\"type\":\"scattergeo\",\"marker\":{\"colorbar\":{\"outlinewidth\":0,\"ticks\":\"\"}}}],\"scatterpolar\":[{\"type\":\"scatterpolar\",\"marker\":{\"colorbar\":{\"outlinewidth\":0,\"ticks\":\"\"}}}],\"histogram\":[{\"marker\":{\"pattern\":{\"fillmode\":\"overlay\",\"size\":10,\"solidity\":0.2}},\"type\":\"histogram\"}],\"scattergl\":[{\"type\":\"scattergl\",\"marker\":{\"colorbar\":{\"outlinewidth\":0,\"ticks\":\"\"}}}],\"scatter3d\":[{\"type\":\"scatter3d\",\"line\":{\"colorbar\":{\"outlinewidth\":0,\"ticks\":\"\"}},\"marker\":{\"colorbar\":{\"outlinewidth\":0,\"ticks\":\"\"}}}],\"scattermapbox\":[{\"type\":\"scattermapbox\",\"marker\":{\"colorbar\":{\"outlinewidth\":0,\"ticks\":\"\"}}}],\"scatterternary\":[{\"type\":\"scatterternary\",\"marker\":{\"colorbar\":{\"outlinewidth\":0,\"ticks\":\"\"}}}],\"scattercarpet\":[{\"type\":\"scattercarpet\",\"marker\":{\"colorbar\":{\"outlinewidth\":0,\"ticks\":\"\"}}}],\"carpet\":[{\"aaxis\":{\"endlinecolor\":\"#2a3f5f\",\"gridcolor\":\"white\",\"linecolor\":\"white\",\"minorgridcolor\":\"white\",\"startlinecolor\":\"#2a3f5f\"},\"baxis\":{\"endlinecolor\":\"#2a3f5f\",\"gridcolor\":\"white\",\"linecolor\":\"white\",\"minorgridcolor\":\"white\",\"startlinecolor\":\"#2a3f5f\"},\"type\":\"carpet\"}],\"table\":[{\"cells\":{\"fill\":{\"color\":\"#EBF0F8\"},\"line\":{\"color\":\"white\"}},\"header\":{\"fill\":{\"color\":\"#C8D4E3\"},\"line\":{\"color\":\"white\"}},\"type\":\"table\"}],\"barpolar\":[{\"marker\":{\"line\":{\"color\":\"#E5ECF6\",\"width\":0.5},\"pattern\":{\"fillmode\":\"overlay\",\"size\":10,\"solidity\":0.2}},\"type\":\"barpolar\"}],\"pie\":[{\"automargin\":true,\"type\":\"pie\"}]},\"layout\":{\"autotypenumbers\":\"strict\",\"colorway\":[\"#636efa\",\"#EF553B\",\"#00cc96\",\"#ab63fa\",\"#FFA15A\",\"#19d3f3\",\"#FF6692\",\"#B6E880\",\"#FF97FF\",\"#FECB52\"],\"font\":{\"color\":\"#2a3f5f\"},\"hovermode\":\"closest\",\"hoverlabel\":{\"align\":\"left\"},\"paper_bgcolor\":\"white\",\"plot_bgcolor\":\"#E5ECF6\",\"polar\":{\"bgcolor\":\"#E5ECF6\",\"angularaxis\":{\"gridcolor\":\"white\",\"linecolor\":\"white\",\"ticks\":\"\"},\"radialaxis\":{\"gridcolor\":\"white\",\"linecolor\":\"white\",\"ticks\":\"\"}},\"ternary\":{\"bgcolor\":\"#E5ECF6\",\"aaxis\":{\"gridcolor\":\"white\",\"linecolor\":\"white\",\"ticks\":\"\"},\"baxis\":{\"gridcolor\":\"white\",\"linecolor\":\"white\",\"ticks\":\"\"},\"caxis\":{\"gridcolor\":\"white\",\"linecolor\":\"white\",\"ticks\":\"\"}},\"coloraxis\":{\"colorbar\":{\"outlinewidth\":0,\"ticks\":\"\"}},\"colorscale\":{\"sequential\":[[0.0,\"#0d0887\"],[0.1111111111111111,\"#46039f\"],[0.2222222222222222,\"#7201a8\"],[0.3333333333333333,\"#9c179e\"],[0.4444444444444444,\"#bd3786\"],[0.5555555555555556,\"#d8576b\"],[0.6666666666666666,\"#ed7953\"],[0.7777777777777778,\"#fb9f3a\"],[0.8888888888888888,\"#fdca26\"],[1.0,\"#f0f921\"]],\"sequentialminus\":[[0.0,\"#0d0887\"],[0.1111111111111111,\"#46039f\"],[0.2222222222222222,\"#7201a8\"],[0.3333333333333333,\"#9c179e\"],[0.4444444444444444,\"#bd3786\"],[0.5555555555555556,\"#d8576b\"],[0.6666666666666666,\"#ed7953\"],[0.7777777777777778,\"#fb9f3a\"],[0.8888888888888888,\"#fdca26\"],[1.0,\"#f0f921\"]],\"diverging\":[[0,\"#8e0152\"],[0.1,\"#c51b7d\"],[0.2,\"#de77ae\"],[0.3,\"#f1b6da\"],[0.4,\"#fde0ef\"],[0.5,\"#f7f7f7\"],[0.6,\"#e6f5d0\"],[0.7,\"#b8e186\"],[0.8,\"#7fbc41\"],[0.9,\"#4d9221\"],[1,\"#276419\"]]},\"xaxis\":{\"gridcolor\":\"white\",\"linecolor\":\"white\",\"ticks\":\"\",\"title\":{\"standoff\":15},\"zerolinecolor\":\"white\",\"automargin\":true,\"zerolinewidth\":2},\"yaxis\":{\"gridcolor\":\"white\",\"linecolor\":\"white\",\"ticks\":\"\",\"title\":{\"standoff\":15},\"zerolinecolor\":\"white\",\"automargin\":true,\"zerolinewidth\":2},\"scene\":{\"xaxis\":{\"backgroundcolor\":\"#E5ECF6\",\"gridcolor\":\"white\",\"linecolor\":\"white\",\"showbackground\":true,\"ticks\":\"\",\"zerolinecolor\":\"white\",\"gridwidth\":2},\"yaxis\":{\"backgroundcolor\":\"#E5ECF6\",\"gridcolor\":\"white\",\"linecolor\":\"white\",\"showbackground\":true,\"ticks\":\"\",\"zerolinecolor\":\"white\",\"gridwidth\":2},\"zaxis\":{\"backgroundcolor\":\"#E5ECF6\",\"gridcolor\":\"white\",\"linecolor\":\"white\",\"showbackground\":true,\"ticks\":\"\",\"zerolinecolor\":\"white\",\"gridwidth\":2}},\"shapedefaults\":{\"line\":{\"color\":\"#2a3f5f\"}},\"annotationdefaults\":{\"arrowcolor\":\"#2a3f5f\",\"arrowhead\":0,\"arrowwidth\":1},\"geo\":{\"bgcolor\":\"white\",\"landcolor\":\"#E5ECF6\",\"subunitcolor\":\"white\",\"showland\":true,\"showlakes\":true,\"lakecolor\":\"white\"},\"title\":{\"x\":0.05},\"mapbox\":{\"style\":\"light\"}}},\"xaxis\":{\"anchor\":\"y\",\"domain\":[0.0,1.0],\"title\":{\"text\":\"City\"}},\"yaxis\":{\"anchor\":\"x\",\"domain\":[0.0,1.0],\"title\":{\"text\":\"Rating\"}},\"legend\":{\"tracegroupgap\":0},\"title\":{\"text\":\"Sprawdzenie outlier\\u00f3w\"},\"boxmode\":\"group\"},                        {\"responsive\": true}                    ).then(function(){\n",
              "                            \n",
              "var gd = document.getElementById('094dd89f-fd17-46cf-91c2-b8315b28a6d8');\n",
              "var x = new MutationObserver(function (mutations, observer) {{\n",
              "        var display = window.getComputedStyle(gd).display;\n",
              "        if (!display || display === 'none') {{\n",
              "            console.log([gd, 'removed!']);\n",
              "            Plotly.purge(gd);\n",
              "            observer.disconnect();\n",
              "        }}\n",
              "}});\n",
              "\n",
              "// Listen for the removal of the full notebook cells\n",
              "var notebookContainer = gd.closest('#notebook-container');\n",
              "if (notebookContainer) {{\n",
              "    x.observe(notebookContainer, {childList: true});\n",
              "}}\n",
              "\n",
              "// Listen for the clearing of the current output cell\n",
              "var outputEl = gd.closest('.output');\n",
              "if (outputEl) {{\n",
              "    x.observe(outputEl, {childList: true});\n",
              "}}\n",
              "\n",
              "                        })                };                            </script>        </div>\n",
              "</body>\n",
              "</html>"
            ]
          },
          "metadata": {}
        },
        {
          "output_type": "stream",
          "name": "stdout",
          "text": [
            "City\n",
            "Mandalay     332\n",
            "Naypyitaw    328\n",
            "Yangon       340\n",
            "dtype: int64\n"
          ]
        }
      ]
    },
    {
      "cell_type": "markdown",
      "source": [
        "Założenia testu ANOVA nie są spełnione. Warunek równoliczności grup nie pozwala nam wykorzystać tego testu. Z tego powodu wykonam test Kruskala-Wallisa:"
      ],
      "metadata": {
        "id": "JKI3AFGiXqrL"
      }
    },
    {
      "cell_type": "code",
      "source": [
        "result = stats.kruskal(filtered_df[filtered_df['City'] == 'Mandalay']['Rating'],\n",
        "                       filtered_df[filtered_df['City'] == 'Naypyitaw']['Rating'],\n",
        "                       filtered_df[filtered_df['City'] == 'Yangon']['Rating'])\n",
        "\n",
        "print('Statystyka testu Kruskala-Wallisa:', result.statistic)\n",
        "print('P-wartość:', result.pvalue)"
      ],
      "metadata": {
        "colab": {
          "base_uri": "https://localhost:8080/"
        },
        "id": "ZgPNvf8ZSeaA",
        "outputId": "de3eae7c-1682-4be5-8c09-06851b67aac3"
      },
      "execution_count": null,
      "outputs": [
        {
          "output_type": "stream",
          "name": "stdout",
          "text": [
            "Statystyka testu Kruskala-Wallisa: 4.086085882493156\n",
            "P-wartość: 0.12963364254056914\n"
          ]
        }
      ]
    },
    {
      "cell_type": "markdown",
      "source": [
        "'p-value' jest większe od 0,05. Nie ma podstaw do stwierdzenia, że między ratingiem poszczególnych sklepów istnieje różnica istotna statystycznie."
      ],
      "metadata": {
        "id": "Kqd7WtmXZjoL"
      }
    },
    {
      "cell_type": "code",
      "execution_count": null,
      "outputs": [
        {
          "output_type": "display_data",
          "data": {
            "text/html": [
              "<html>\n",
              "<head><meta charset=\"utf-8\" /></head>\n",
              "<body>\n",
              "    <div>            <script src=\"https://cdnjs.cloudflare.com/ajax/libs/mathjax/2.7.5/MathJax.js?config=TeX-AMS-MML_SVG\"></script><script type=\"text/javascript\">if (window.MathJax && window.MathJax.Hub && window.MathJax.Hub.Config) {window.MathJax.Hub.Config({SVG: {font: \"STIX-Web\"}});}</script>                <script type=\"text/javascript\">window.PlotlyConfig = {MathJaxConfig: 'local'};</script>\n",
              "        <script charset=\"utf-8\" src=\"https://cdn.plot.ly/plotly-2.24.1.min.js\"></script>                <div id=\"1769e5e8-9fc1-4dae-9171-e8b7b80bb06e\" class=\"plotly-graph-div\" style=\"height:525px; width:100%;\"></div>            <script type=\"text/javascript\">                                    window.PLOTLYENV=window.PLOTLYENV || {};                                    if (document.getElementById(\"1769e5e8-9fc1-4dae-9171-e8b7b80bb06e\")) {                    Plotly.newPlot(                        \"1769e5e8-9fc1-4dae-9171-e8b7b80bb06e\",                        [{\"hovertemplate\":\"P\\u0142e\\u0107=Female\\u003cbr\\u003eGodzina=%{x}\\u003cbr\\u003eLiczba os\\u00f3b robi\\u0105cych zakupy=%{y}\\u003cextra\\u003e\\u003c\\u002fextra\\u003e\",\"legendgroup\":\"Female\",\"line\":{\"color\":\"#636efa\",\"dash\":\"solid\"},\"marker\":{\"symbol\":\"circle\"},\"mode\":\"lines+markers\",\"name\":\"Female\",\"orientation\":\"v\",\"showlegend\":true,\"x\":[10,11,12,13,14,15,16,17,18,19,20],\"xaxis\":\"x\",\"y\":[62,47,46,61,39,42,36,38,45,54,31],\"yaxis\":\"y\",\"type\":\"scatter\"},{\"hovertemplate\":\"P\\u0142e\\u0107=Male\\u003cbr\\u003eGodzina=%{x}\\u003cbr\\u003eLiczba os\\u00f3b robi\\u0105cych zakupy=%{y}\\u003cextra\\u003e\\u003c\\u002fextra\\u003e\",\"legendgroup\":\"Male\",\"line\":{\"color\":\"#EF553B\",\"dash\":\"solid\"},\"marker\":{\"symbol\":\"circle\"},\"mode\":\"lines+markers\",\"name\":\"Male\",\"orientation\":\"v\",\"showlegend\":true,\"x\":[10,11,12,13,14,15,16,17,18,19,20],\"xaxis\":\"x\",\"y\":[39,43,43,42,44,60,41,36,48,59,44],\"yaxis\":\"y\",\"type\":\"scatter\"}],                        {\"template\":{\"data\":{\"histogram2dcontour\":[{\"type\":\"histogram2dcontour\",\"colorbar\":{\"outlinewidth\":0,\"ticks\":\"\"},\"colorscale\":[[0.0,\"#0d0887\"],[0.1111111111111111,\"#46039f\"],[0.2222222222222222,\"#7201a8\"],[0.3333333333333333,\"#9c179e\"],[0.4444444444444444,\"#bd3786\"],[0.5555555555555556,\"#d8576b\"],[0.6666666666666666,\"#ed7953\"],[0.7777777777777778,\"#fb9f3a\"],[0.8888888888888888,\"#fdca26\"],[1.0,\"#f0f921\"]]}],\"choropleth\":[{\"type\":\"choropleth\",\"colorbar\":{\"outlinewidth\":0,\"ticks\":\"\"}}],\"histogram2d\":[{\"type\":\"histogram2d\",\"colorbar\":{\"outlinewidth\":0,\"ticks\":\"\"},\"colorscale\":[[0.0,\"#0d0887\"],[0.1111111111111111,\"#46039f\"],[0.2222222222222222,\"#7201a8\"],[0.3333333333333333,\"#9c179e\"],[0.4444444444444444,\"#bd3786\"],[0.5555555555555556,\"#d8576b\"],[0.6666666666666666,\"#ed7953\"],[0.7777777777777778,\"#fb9f3a\"],[0.8888888888888888,\"#fdca26\"],[1.0,\"#f0f921\"]]}],\"heatmap\":[{\"type\":\"heatmap\",\"colorbar\":{\"outlinewidth\":0,\"ticks\":\"\"},\"colorscale\":[[0.0,\"#0d0887\"],[0.1111111111111111,\"#46039f\"],[0.2222222222222222,\"#7201a8\"],[0.3333333333333333,\"#9c179e\"],[0.4444444444444444,\"#bd3786\"],[0.5555555555555556,\"#d8576b\"],[0.6666666666666666,\"#ed7953\"],[0.7777777777777778,\"#fb9f3a\"],[0.8888888888888888,\"#fdca26\"],[1.0,\"#f0f921\"]]}],\"heatmapgl\":[{\"type\":\"heatmapgl\",\"colorbar\":{\"outlinewidth\":0,\"ticks\":\"\"},\"colorscale\":[[0.0,\"#0d0887\"],[0.1111111111111111,\"#46039f\"],[0.2222222222222222,\"#7201a8\"],[0.3333333333333333,\"#9c179e\"],[0.4444444444444444,\"#bd3786\"],[0.5555555555555556,\"#d8576b\"],[0.6666666666666666,\"#ed7953\"],[0.7777777777777778,\"#fb9f3a\"],[0.8888888888888888,\"#fdca26\"],[1.0,\"#f0f921\"]]}],\"contourcarpet\":[{\"type\":\"contourcarpet\",\"colorbar\":{\"outlinewidth\":0,\"ticks\":\"\"}}],\"contour\":[{\"type\":\"contour\",\"colorbar\":{\"outlinewidth\":0,\"ticks\":\"\"},\"colorscale\":[[0.0,\"#0d0887\"],[0.1111111111111111,\"#46039f\"],[0.2222222222222222,\"#7201a8\"],[0.3333333333333333,\"#9c179e\"],[0.4444444444444444,\"#bd3786\"],[0.5555555555555556,\"#d8576b\"],[0.6666666666666666,\"#ed7953\"],[0.7777777777777778,\"#fb9f3a\"],[0.8888888888888888,\"#fdca26\"],[1.0,\"#f0f921\"]]}],\"surface\":[{\"type\":\"surface\",\"colorbar\":{\"outlinewidth\":0,\"ticks\":\"\"},\"colorscale\":[[0.0,\"#0d0887\"],[0.1111111111111111,\"#46039f\"],[0.2222222222222222,\"#7201a8\"],[0.3333333333333333,\"#9c179e\"],[0.4444444444444444,\"#bd3786\"],[0.5555555555555556,\"#d8576b\"],[0.6666666666666666,\"#ed7953\"],[0.7777777777777778,\"#fb9f3a\"],[0.8888888888888888,\"#fdca26\"],[1.0,\"#f0f921\"]]}],\"mesh3d\":[{\"type\":\"mesh3d\",\"colorbar\":{\"outlinewidth\":0,\"ticks\":\"\"}}],\"scatter\":[{\"fillpattern\":{\"fillmode\":\"overlay\",\"size\":10,\"solidity\":0.2},\"type\":\"scatter\"}],\"parcoords\":[{\"type\":\"parcoords\",\"line\":{\"colorbar\":{\"outlinewidth\":0,\"ticks\":\"\"}}}],\"scatterpolargl\":[{\"type\":\"scatterpolargl\",\"marker\":{\"colorbar\":{\"outlinewidth\":0,\"ticks\":\"\"}}}],\"bar\":[{\"error_x\":{\"color\":\"#2a3f5f\"},\"error_y\":{\"color\":\"#2a3f5f\"},\"marker\":{\"line\":{\"color\":\"#E5ECF6\",\"width\":0.5},\"pattern\":{\"fillmode\":\"overlay\",\"size\":10,\"solidity\":0.2}},\"type\":\"bar\"}],\"scattergeo\":[{\"type\":\"scattergeo\",\"marker\":{\"colorbar\":{\"outlinewidth\":0,\"ticks\":\"\"}}}],\"scatterpolar\":[{\"type\":\"scatterpolar\",\"marker\":{\"colorbar\":{\"outlinewidth\":0,\"ticks\":\"\"}}}],\"histogram\":[{\"marker\":{\"pattern\":{\"fillmode\":\"overlay\",\"size\":10,\"solidity\":0.2}},\"type\":\"histogram\"}],\"scattergl\":[{\"type\":\"scattergl\",\"marker\":{\"colorbar\":{\"outlinewidth\":0,\"ticks\":\"\"}}}],\"scatter3d\":[{\"type\":\"scatter3d\",\"line\":{\"colorbar\":{\"outlinewidth\":0,\"ticks\":\"\"}},\"marker\":{\"colorbar\":{\"outlinewidth\":0,\"ticks\":\"\"}}}],\"scattermapbox\":[{\"type\":\"scattermapbox\",\"marker\":{\"colorbar\":{\"outlinewidth\":0,\"ticks\":\"\"}}}],\"scatterternary\":[{\"type\":\"scatterternary\",\"marker\":{\"colorbar\":{\"outlinewidth\":0,\"ticks\":\"\"}}}],\"scattercarpet\":[{\"type\":\"scattercarpet\",\"marker\":{\"colorbar\":{\"outlinewidth\":0,\"ticks\":\"\"}}}],\"carpet\":[{\"aaxis\":{\"endlinecolor\":\"#2a3f5f\",\"gridcolor\":\"white\",\"linecolor\":\"white\",\"minorgridcolor\":\"white\",\"startlinecolor\":\"#2a3f5f\"},\"baxis\":{\"endlinecolor\":\"#2a3f5f\",\"gridcolor\":\"white\",\"linecolor\":\"white\",\"minorgridcolor\":\"white\",\"startlinecolor\":\"#2a3f5f\"},\"type\":\"carpet\"}],\"table\":[{\"cells\":{\"fill\":{\"color\":\"#EBF0F8\"},\"line\":{\"color\":\"white\"}},\"header\":{\"fill\":{\"color\":\"#C8D4E3\"},\"line\":{\"color\":\"white\"}},\"type\":\"table\"}],\"barpolar\":[{\"marker\":{\"line\":{\"color\":\"#E5ECF6\",\"width\":0.5},\"pattern\":{\"fillmode\":\"overlay\",\"size\":10,\"solidity\":0.2}},\"type\":\"barpolar\"}],\"pie\":[{\"automargin\":true,\"type\":\"pie\"}]},\"layout\":{\"autotypenumbers\":\"strict\",\"colorway\":[\"#636efa\",\"#EF553B\",\"#00cc96\",\"#ab63fa\",\"#FFA15A\",\"#19d3f3\",\"#FF6692\",\"#B6E880\",\"#FF97FF\",\"#FECB52\"],\"font\":{\"color\":\"#2a3f5f\"},\"hovermode\":\"closest\",\"hoverlabel\":{\"align\":\"left\"},\"paper_bgcolor\":\"white\",\"plot_bgcolor\":\"#E5ECF6\",\"polar\":{\"bgcolor\":\"#E5ECF6\",\"angularaxis\":{\"gridcolor\":\"white\",\"linecolor\":\"white\",\"ticks\":\"\"},\"radialaxis\":{\"gridcolor\":\"white\",\"linecolor\":\"white\",\"ticks\":\"\"}},\"ternary\":{\"bgcolor\":\"#E5ECF6\",\"aaxis\":{\"gridcolor\":\"white\",\"linecolor\":\"white\",\"ticks\":\"\"},\"baxis\":{\"gridcolor\":\"white\",\"linecolor\":\"white\",\"ticks\":\"\"},\"caxis\":{\"gridcolor\":\"white\",\"linecolor\":\"white\",\"ticks\":\"\"}},\"coloraxis\":{\"colorbar\":{\"outlinewidth\":0,\"ticks\":\"\"}},\"colorscale\":{\"sequential\":[[0.0,\"#0d0887\"],[0.1111111111111111,\"#46039f\"],[0.2222222222222222,\"#7201a8\"],[0.3333333333333333,\"#9c179e\"],[0.4444444444444444,\"#bd3786\"],[0.5555555555555556,\"#d8576b\"],[0.6666666666666666,\"#ed7953\"],[0.7777777777777778,\"#fb9f3a\"],[0.8888888888888888,\"#fdca26\"],[1.0,\"#f0f921\"]],\"sequentialminus\":[[0.0,\"#0d0887\"],[0.1111111111111111,\"#46039f\"],[0.2222222222222222,\"#7201a8\"],[0.3333333333333333,\"#9c179e\"],[0.4444444444444444,\"#bd3786\"],[0.5555555555555556,\"#d8576b\"],[0.6666666666666666,\"#ed7953\"],[0.7777777777777778,\"#fb9f3a\"],[0.8888888888888888,\"#fdca26\"],[1.0,\"#f0f921\"]],\"diverging\":[[0,\"#8e0152\"],[0.1,\"#c51b7d\"],[0.2,\"#de77ae\"],[0.3,\"#f1b6da\"],[0.4,\"#fde0ef\"],[0.5,\"#f7f7f7\"],[0.6,\"#e6f5d0\"],[0.7,\"#b8e186\"],[0.8,\"#7fbc41\"],[0.9,\"#4d9221\"],[1,\"#276419\"]]},\"xaxis\":{\"gridcolor\":\"white\",\"linecolor\":\"white\",\"ticks\":\"\",\"title\":{\"standoff\":15},\"zerolinecolor\":\"white\",\"automargin\":true,\"zerolinewidth\":2},\"yaxis\":{\"gridcolor\":\"white\",\"linecolor\":\"white\",\"ticks\":\"\",\"title\":{\"standoff\":15},\"zerolinecolor\":\"white\",\"automargin\":true,\"zerolinewidth\":2},\"scene\":{\"xaxis\":{\"backgroundcolor\":\"#E5ECF6\",\"gridcolor\":\"white\",\"linecolor\":\"white\",\"showbackground\":true,\"ticks\":\"\",\"zerolinecolor\":\"white\",\"gridwidth\":2},\"yaxis\":{\"backgroundcolor\":\"#E5ECF6\",\"gridcolor\":\"white\",\"linecolor\":\"white\",\"showbackground\":true,\"ticks\":\"\",\"zerolinecolor\":\"white\",\"gridwidth\":2},\"zaxis\":{\"backgroundcolor\":\"#E5ECF6\",\"gridcolor\":\"white\",\"linecolor\":\"white\",\"showbackground\":true,\"ticks\":\"\",\"zerolinecolor\":\"white\",\"gridwidth\":2}},\"shapedefaults\":{\"line\":{\"color\":\"#2a3f5f\"}},\"annotationdefaults\":{\"arrowcolor\":\"#2a3f5f\",\"arrowhead\":0,\"arrowwidth\":1},\"geo\":{\"bgcolor\":\"white\",\"landcolor\":\"#E5ECF6\",\"subunitcolor\":\"white\",\"showland\":true,\"showlakes\":true,\"lakecolor\":\"white\"},\"title\":{\"x\":0.05},\"mapbox\":{\"style\":\"light\"}}},\"xaxis\":{\"anchor\":\"y\",\"domain\":[0.0,1.0],\"title\":{\"text\":\"Godzina\"}},\"yaxis\":{\"anchor\":\"x\",\"domain\":[0.0,1.0],\"title\":{\"text\":\"Liczba os\\u00f3b robi\\u0105cych zakupy\"}},\"legend\":{\"title\":{\"text\":\"P\\u0142e\\u0107\"},\"tracegroupgap\":0},\"title\":{\"text\":\"Liczba dokonanych zakup\\u00f3w w poszczeg\\u00f3lnych godzinach z podzia\\u0142em na p\\u0142e\\u0107\"}},                        {\"responsive\": true}                    ).then(function(){\n",
              "                            \n",
              "var gd = document.getElementById('1769e5e8-9fc1-4dae-9171-e8b7b80bb06e');\n",
              "var x = new MutationObserver(function (mutations, observer) {{\n",
              "        var display = window.getComputedStyle(gd).display;\n",
              "        if (!display || display === 'none') {{\n",
              "            console.log([gd, 'removed!']);\n",
              "            Plotly.purge(gd);\n",
              "            observer.disconnect();\n",
              "        }}\n",
              "}});\n",
              "\n",
              "// Listen for the removal of the full notebook cells\n",
              "var notebookContainer = gd.closest('#notebook-container');\n",
              "if (notebookContainer) {{\n",
              "    x.observe(notebookContainer, {childList: true});\n",
              "}}\n",
              "\n",
              "// Listen for the clearing of the current output cell\n",
              "var outputEl = gd.closest('.output');\n",
              "if (outputEl) {{\n",
              "    x.observe(outputEl, {childList: true});\n",
              "}}\n",
              "\n",
              "                        })                };                            </script>        </div>\n",
              "</body>\n",
              "</html>"
            ]
          },
          "metadata": {}
        }
      ],
      "source": [
        "df['Time'] = pd.to_datetime(df['Time'], format='%H:%M')\n",
        "df['Hour'] = df['Time'].dt.hour\n",
        "\n",
        "count_gender_hour = df.groupby(['Gender', 'Hour']).size().reset_index(name='Liczba osób')\n",
        "\n",
        "\n",
        "fig = px.line(count_gender_hour, x='Hour', y='Liczba osób', color='Gender',\n",
        "              labels={'Hour': 'Godzina', 'Gender': 'Płeć', 'Liczba osób': 'Liczba osób robiących zakupy'},\n",
        "              title='Liczba dokonanych zakupów w poszczególnych godzinach z podziałem na płeć')\n",
        "\n",
        "fig.update_traces(mode='lines+markers')\n",
        "fig.show()"
      ],
      "metadata": {
        "ExecuteTime": {
          "end_time": "2024-01-22T11:49:12.508809300Z",
          "start_time": "2024-01-22T11:49:12.413594Z"
        },
        "colab": {
          "base_uri": "https://localhost:8080/",
          "height": 542
        },
        "id": "wDYRyO4ZAOBo",
        "outputId": "b33d17fb-6c7f-4adf-b52e-c80782ec1ce0"
      }
    },
    {
      "cell_type": "markdown",
      "source": [
        "Wykres liniowy wskazuje, że do południa więcej zakupów dokonują kobiety, natomiast po południu dominują mężczyźni. Warto zwrócić uwagę na fakt, że piki zakupowe mają miejsce cztery razy w ciągu dnia."
      ],
      "metadata": {
        "id": "VRz3YzE5ktzs"
      }
    },
    {
      "cell_type": "code",
      "execution_count": null,
      "outputs": [
        {
          "output_type": "display_data",
          "data": {
            "text/html": [
              "<html>\n",
              "<head><meta charset=\"utf-8\" /></head>\n",
              "<body>\n",
              "    <div>            <script src=\"https://cdnjs.cloudflare.com/ajax/libs/mathjax/2.7.5/MathJax.js?config=TeX-AMS-MML_SVG\"></script><script type=\"text/javascript\">if (window.MathJax && window.MathJax.Hub && window.MathJax.Hub.Config) {window.MathJax.Hub.Config({SVG: {font: \"STIX-Web\"}});}</script>                <script type=\"text/javascript\">window.PlotlyConfig = {MathJaxConfig: 'local'};</script>\n",
              "        <script charset=\"utf-8\" src=\"https://cdn.plot.ly/plotly-2.24.1.min.js\"></script>                <div id=\"13aacf08-14a3-43cd-80d2-80f2b47972fe\" class=\"plotly-graph-div\" style=\"height:525px; width:100%;\"></div>            <script type=\"text/javascript\">                                    window.PLOTLYENV=window.PLOTLYENV || {};                                    if (document.getElementById(\"13aacf08-14a3-43cd-80d2-80f2b47972fe\")) {                    Plotly.newPlot(                        \"13aacf08-14a3-43cd-80d2-80f2b47972fe\",                        [{\"hovertemplate\":\"Godzina=%{x}\\u003cbr\\u003eRevenue=%{y}\\u003cextra\\u003e\\u003c\\u002fextra\\u003e\",\"legendgroup\":\"\",\"line\":{\"color\":\"#636efa\",\"dash\":\"solid\"},\"marker\":{\"symbol\":\"circle\"},\"mode\":\"lines\",\"name\":\"\",\"orientation\":\"v\",\"showlegend\":false,\"x\":[10,11,12,13,14,15,16,17,18,19,20],\"xaxis\":\"x\",\"y\":[101,90,89,103,83,102,77,74,93,113,75],\"yaxis\":\"y\",\"type\":\"scatter\"}],                        {\"template\":{\"data\":{\"histogram2dcontour\":[{\"type\":\"histogram2dcontour\",\"colorbar\":{\"outlinewidth\":0,\"ticks\":\"\"},\"colorscale\":[[0.0,\"#0d0887\"],[0.1111111111111111,\"#46039f\"],[0.2222222222222222,\"#7201a8\"],[0.3333333333333333,\"#9c179e\"],[0.4444444444444444,\"#bd3786\"],[0.5555555555555556,\"#d8576b\"],[0.6666666666666666,\"#ed7953\"],[0.7777777777777778,\"#fb9f3a\"],[0.8888888888888888,\"#fdca26\"],[1.0,\"#f0f921\"]]}],\"choropleth\":[{\"type\":\"choropleth\",\"colorbar\":{\"outlinewidth\":0,\"ticks\":\"\"}}],\"histogram2d\":[{\"type\":\"histogram2d\",\"colorbar\":{\"outlinewidth\":0,\"ticks\":\"\"},\"colorscale\":[[0.0,\"#0d0887\"],[0.1111111111111111,\"#46039f\"],[0.2222222222222222,\"#7201a8\"],[0.3333333333333333,\"#9c179e\"],[0.4444444444444444,\"#bd3786\"],[0.5555555555555556,\"#d8576b\"],[0.6666666666666666,\"#ed7953\"],[0.7777777777777778,\"#fb9f3a\"],[0.8888888888888888,\"#fdca26\"],[1.0,\"#f0f921\"]]}],\"heatmap\":[{\"type\":\"heatmap\",\"colorbar\":{\"outlinewidth\":0,\"ticks\":\"\"},\"colorscale\":[[0.0,\"#0d0887\"],[0.1111111111111111,\"#46039f\"],[0.2222222222222222,\"#7201a8\"],[0.3333333333333333,\"#9c179e\"],[0.4444444444444444,\"#bd3786\"],[0.5555555555555556,\"#d8576b\"],[0.6666666666666666,\"#ed7953\"],[0.7777777777777778,\"#fb9f3a\"],[0.8888888888888888,\"#fdca26\"],[1.0,\"#f0f921\"]]}],\"heatmapgl\":[{\"type\":\"heatmapgl\",\"colorbar\":{\"outlinewidth\":0,\"ticks\":\"\"},\"colorscale\":[[0.0,\"#0d0887\"],[0.1111111111111111,\"#46039f\"],[0.2222222222222222,\"#7201a8\"],[0.3333333333333333,\"#9c179e\"],[0.4444444444444444,\"#bd3786\"],[0.5555555555555556,\"#d8576b\"],[0.6666666666666666,\"#ed7953\"],[0.7777777777777778,\"#fb9f3a\"],[0.8888888888888888,\"#fdca26\"],[1.0,\"#f0f921\"]]}],\"contourcarpet\":[{\"type\":\"contourcarpet\",\"colorbar\":{\"outlinewidth\":0,\"ticks\":\"\"}}],\"contour\":[{\"type\":\"contour\",\"colorbar\":{\"outlinewidth\":0,\"ticks\":\"\"},\"colorscale\":[[0.0,\"#0d0887\"],[0.1111111111111111,\"#46039f\"],[0.2222222222222222,\"#7201a8\"],[0.3333333333333333,\"#9c179e\"],[0.4444444444444444,\"#bd3786\"],[0.5555555555555556,\"#d8576b\"],[0.6666666666666666,\"#ed7953\"],[0.7777777777777778,\"#fb9f3a\"],[0.8888888888888888,\"#fdca26\"],[1.0,\"#f0f921\"]]}],\"surface\":[{\"type\":\"surface\",\"colorbar\":{\"outlinewidth\":0,\"ticks\":\"\"},\"colorscale\":[[0.0,\"#0d0887\"],[0.1111111111111111,\"#46039f\"],[0.2222222222222222,\"#7201a8\"],[0.3333333333333333,\"#9c179e\"],[0.4444444444444444,\"#bd3786\"],[0.5555555555555556,\"#d8576b\"],[0.6666666666666666,\"#ed7953\"],[0.7777777777777778,\"#fb9f3a\"],[0.8888888888888888,\"#fdca26\"],[1.0,\"#f0f921\"]]}],\"mesh3d\":[{\"type\":\"mesh3d\",\"colorbar\":{\"outlinewidth\":0,\"ticks\":\"\"}}],\"scatter\":[{\"fillpattern\":{\"fillmode\":\"overlay\",\"size\":10,\"solidity\":0.2},\"type\":\"scatter\"}],\"parcoords\":[{\"type\":\"parcoords\",\"line\":{\"colorbar\":{\"outlinewidth\":0,\"ticks\":\"\"}}}],\"scatterpolargl\":[{\"type\":\"scatterpolargl\",\"marker\":{\"colorbar\":{\"outlinewidth\":0,\"ticks\":\"\"}}}],\"bar\":[{\"error_x\":{\"color\":\"#2a3f5f\"},\"error_y\":{\"color\":\"#2a3f5f\"},\"marker\":{\"line\":{\"color\":\"#E5ECF6\",\"width\":0.5},\"pattern\":{\"fillmode\":\"overlay\",\"size\":10,\"solidity\":0.2}},\"type\":\"bar\"}],\"scattergeo\":[{\"type\":\"scattergeo\",\"marker\":{\"colorbar\":{\"outlinewidth\":0,\"ticks\":\"\"}}}],\"scatterpolar\":[{\"type\":\"scatterpolar\",\"marker\":{\"colorbar\":{\"outlinewidth\":0,\"ticks\":\"\"}}}],\"histogram\":[{\"marker\":{\"pattern\":{\"fillmode\":\"overlay\",\"size\":10,\"solidity\":0.2}},\"type\":\"histogram\"}],\"scattergl\":[{\"type\":\"scattergl\",\"marker\":{\"colorbar\":{\"outlinewidth\":0,\"ticks\":\"\"}}}],\"scatter3d\":[{\"type\":\"scatter3d\",\"line\":{\"colorbar\":{\"outlinewidth\":0,\"ticks\":\"\"}},\"marker\":{\"colorbar\":{\"outlinewidth\":0,\"ticks\":\"\"}}}],\"scattermapbox\":[{\"type\":\"scattermapbox\",\"marker\":{\"colorbar\":{\"outlinewidth\":0,\"ticks\":\"\"}}}],\"scatterternary\":[{\"type\":\"scatterternary\",\"marker\":{\"colorbar\":{\"outlinewidth\":0,\"ticks\":\"\"}}}],\"scattercarpet\":[{\"type\":\"scattercarpet\",\"marker\":{\"colorbar\":{\"outlinewidth\":0,\"ticks\":\"\"}}}],\"carpet\":[{\"aaxis\":{\"endlinecolor\":\"#2a3f5f\",\"gridcolor\":\"white\",\"linecolor\":\"white\",\"minorgridcolor\":\"white\",\"startlinecolor\":\"#2a3f5f\"},\"baxis\":{\"endlinecolor\":\"#2a3f5f\",\"gridcolor\":\"white\",\"linecolor\":\"white\",\"minorgridcolor\":\"white\",\"startlinecolor\":\"#2a3f5f\"},\"type\":\"carpet\"}],\"table\":[{\"cells\":{\"fill\":{\"color\":\"#EBF0F8\"},\"line\":{\"color\":\"white\"}},\"header\":{\"fill\":{\"color\":\"#C8D4E3\"},\"line\":{\"color\":\"white\"}},\"type\":\"table\"}],\"barpolar\":[{\"marker\":{\"line\":{\"color\":\"#E5ECF6\",\"width\":0.5},\"pattern\":{\"fillmode\":\"overlay\",\"size\":10,\"solidity\":0.2}},\"type\":\"barpolar\"}],\"pie\":[{\"automargin\":true,\"type\":\"pie\"}]},\"layout\":{\"autotypenumbers\":\"strict\",\"colorway\":[\"#636efa\",\"#EF553B\",\"#00cc96\",\"#ab63fa\",\"#FFA15A\",\"#19d3f3\",\"#FF6692\",\"#B6E880\",\"#FF97FF\",\"#FECB52\"],\"font\":{\"color\":\"#2a3f5f\"},\"hovermode\":\"closest\",\"hoverlabel\":{\"align\":\"left\"},\"paper_bgcolor\":\"white\",\"plot_bgcolor\":\"#E5ECF6\",\"polar\":{\"bgcolor\":\"#E5ECF6\",\"angularaxis\":{\"gridcolor\":\"white\",\"linecolor\":\"white\",\"ticks\":\"\"},\"radialaxis\":{\"gridcolor\":\"white\",\"linecolor\":\"white\",\"ticks\":\"\"}},\"ternary\":{\"bgcolor\":\"#E5ECF6\",\"aaxis\":{\"gridcolor\":\"white\",\"linecolor\":\"white\",\"ticks\":\"\"},\"baxis\":{\"gridcolor\":\"white\",\"linecolor\":\"white\",\"ticks\":\"\"},\"caxis\":{\"gridcolor\":\"white\",\"linecolor\":\"white\",\"ticks\":\"\"}},\"coloraxis\":{\"colorbar\":{\"outlinewidth\":0,\"ticks\":\"\"}},\"colorscale\":{\"sequential\":[[0.0,\"#0d0887\"],[0.1111111111111111,\"#46039f\"],[0.2222222222222222,\"#7201a8\"],[0.3333333333333333,\"#9c179e\"],[0.4444444444444444,\"#bd3786\"],[0.5555555555555556,\"#d8576b\"],[0.6666666666666666,\"#ed7953\"],[0.7777777777777778,\"#fb9f3a\"],[0.8888888888888888,\"#fdca26\"],[1.0,\"#f0f921\"]],\"sequentialminus\":[[0.0,\"#0d0887\"],[0.1111111111111111,\"#46039f\"],[0.2222222222222222,\"#7201a8\"],[0.3333333333333333,\"#9c179e\"],[0.4444444444444444,\"#bd3786\"],[0.5555555555555556,\"#d8576b\"],[0.6666666666666666,\"#ed7953\"],[0.7777777777777778,\"#fb9f3a\"],[0.8888888888888888,\"#fdca26\"],[1.0,\"#f0f921\"]],\"diverging\":[[0,\"#8e0152\"],[0.1,\"#c51b7d\"],[0.2,\"#de77ae\"],[0.3,\"#f1b6da\"],[0.4,\"#fde0ef\"],[0.5,\"#f7f7f7\"],[0.6,\"#e6f5d0\"],[0.7,\"#b8e186\"],[0.8,\"#7fbc41\"],[0.9,\"#4d9221\"],[1,\"#276419\"]]},\"xaxis\":{\"gridcolor\":\"white\",\"linecolor\":\"white\",\"ticks\":\"\",\"title\":{\"standoff\":15},\"zerolinecolor\":\"white\",\"automargin\":true,\"zerolinewidth\":2},\"yaxis\":{\"gridcolor\":\"white\",\"linecolor\":\"white\",\"ticks\":\"\",\"title\":{\"standoff\":15},\"zerolinecolor\":\"white\",\"automargin\":true,\"zerolinewidth\":2},\"scene\":{\"xaxis\":{\"backgroundcolor\":\"#E5ECF6\",\"gridcolor\":\"white\",\"linecolor\":\"white\",\"showbackground\":true,\"ticks\":\"\",\"zerolinecolor\":\"white\",\"gridwidth\":2},\"yaxis\":{\"backgroundcolor\":\"#E5ECF6\",\"gridcolor\":\"white\",\"linecolor\":\"white\",\"showbackground\":true,\"ticks\":\"\",\"zerolinecolor\":\"white\",\"gridwidth\":2},\"zaxis\":{\"backgroundcolor\":\"#E5ECF6\",\"gridcolor\":\"white\",\"linecolor\":\"white\",\"showbackground\":true,\"ticks\":\"\",\"zerolinecolor\":\"white\",\"gridwidth\":2}},\"shapedefaults\":{\"line\":{\"color\":\"#2a3f5f\"}},\"annotationdefaults\":{\"arrowcolor\":\"#2a3f5f\",\"arrowhead\":0,\"arrowwidth\":1},\"geo\":{\"bgcolor\":\"white\",\"landcolor\":\"#E5ECF6\",\"subunitcolor\":\"white\",\"showland\":true,\"showlakes\":true,\"lakecolor\":\"white\"},\"title\":{\"x\":0.05},\"mapbox\":{\"style\":\"light\"}}},\"xaxis\":{\"anchor\":\"y\",\"domain\":[0.0,1.0],\"title\":{\"text\":\"Godzina\"}},\"yaxis\":{\"anchor\":\"x\",\"domain\":[0.0,1.0],\"title\":{\"text\":\"Revenue\"}},\"legend\":{\"tracegroupgap\":0},\"title\":{\"text\":\"Przych\\u00f3d w poszczeg\\u00f3lnych godzinach\"}},                        {\"responsive\": true}                    ).then(function(){\n",
              "                            \n",
              "var gd = document.getElementById('13aacf08-14a3-43cd-80d2-80f2b47972fe');\n",
              "var x = new MutationObserver(function (mutations, observer) {{\n",
              "        var display = window.getComputedStyle(gd).display;\n",
              "        if (!display || display === 'none') {{\n",
              "            console.log([gd, 'removed!']);\n",
              "            Plotly.purge(gd);\n",
              "            observer.disconnect();\n",
              "        }}\n",
              "}});\n",
              "\n",
              "// Listen for the removal of the full notebook cells\n",
              "var notebookContainer = gd.closest('#notebook-container');\n",
              "if (notebookContainer) {{\n",
              "    x.observe(notebookContainer, {childList: true});\n",
              "}}\n",
              "\n",
              "// Listen for the clearing of the current output cell\n",
              "var outputEl = gd.closest('.output');\n",
              "if (outputEl) {{\n",
              "    x.observe(outputEl, {childList: true});\n",
              "}}\n",
              "\n",
              "                        })                };                            </script>        </div>\n",
              "</body>\n",
              "</html>"
            ]
          },
          "metadata": {}
        }
      ],
      "source": [
        "count_income = df.groupby('Hour')['Total'].count().reset_index(name='Revenue')\n",
        "fig = px.line(count_income, x='Hour', y='Revenue',\n",
        "             labels={'Hour': 'Godzina', 'Income': 'Przychód'},\n",
        "             title='Przychód w poszczególnych godzinach')\n",
        "fig.show()"
      ],
      "metadata": {
        "ExecuteTime": {
          "end_time": "2024-01-22T11:49:12.549073Z",
          "start_time": "2024-01-22T11:49:12.483641400Z"
        },
        "colab": {
          "base_uri": "https://localhost:8080/",
          "height": 542
        },
        "id": "0vou_nXIAOBp",
        "outputId": "980f70e0-8fae-4c69-8c04-714cca23ca9a"
      }
    },
    {
      "cell_type": "markdown",
      "source": [
        "Czas największych przychodów przypada na godziny, w których najwięcej dokonywanych jest najwięcej transakcji."
      ],
      "metadata": {
        "id": "TyceC6TplRWE"
      }
    },
    {
      "cell_type": "code",
      "execution_count": null,
      "outputs": [
        {
          "output_type": "display_data",
          "data": {
            "text/html": [
              "<html>\n",
              "<head><meta charset=\"utf-8\" /></head>\n",
              "<body>\n",
              "    <div>            <script src=\"https://cdnjs.cloudflare.com/ajax/libs/mathjax/2.7.5/MathJax.js?config=TeX-AMS-MML_SVG\"></script><script type=\"text/javascript\">if (window.MathJax && window.MathJax.Hub && window.MathJax.Hub.Config) {window.MathJax.Hub.Config({SVG: {font: \"STIX-Web\"}});}</script>                <script type=\"text/javascript\">window.PlotlyConfig = {MathJaxConfig: 'local'};</script>\n",
              "        <script charset=\"utf-8\" src=\"https://cdn.plot.ly/plotly-2.24.1.min.js\"></script>                <div id=\"b36348ea-1a6a-4baf-8e3e-1e0401dfd48a\" class=\"plotly-graph-div\" style=\"height:525px; width:100%;\"></div>            <script type=\"text/javascript\">                                    window.PLOTLYENV=window.PLOTLYENV || {};                                    if (document.getElementById(\"b36348ea-1a6a-4baf-8e3e-1e0401dfd48a\")) {                    Plotly.newPlot(                        \"b36348ea-1a6a-4baf-8e3e-1e0401dfd48a\",                        [{\"alignmentgroup\":\"True\",\"hovertemplate\":\"P\\u0142e\\u0107=Female\\u003cbr\\u003eMiasto=%{x}\\u003cbr\\u003eLiczba os\\u00f3b robi\\u0105cych zakupy=%{y}\\u003cextra\\u003e\\u003c\\u002fextra\\u003e\",\"legendgroup\":\"Female\",\"marker\":{\"color\":\"#636efa\",\"pattern\":{\"shape\":\"\"}},\"name\":\"Female\",\"offsetgroup\":\"Female\",\"orientation\":\"v\",\"showlegend\":true,\"textposition\":\"auto\",\"x\":[\"Mandalay\",\"Naypyitaw\",\"Yangon\"],\"xaxis\":\"x\",\"y\":[162,178,161],\"yaxis\":\"y\",\"type\":\"bar\"},{\"alignmentgroup\":\"True\",\"hovertemplate\":\"P\\u0142e\\u0107=Male\\u003cbr\\u003eMiasto=%{x}\\u003cbr\\u003eLiczba os\\u00f3b robi\\u0105cych zakupy=%{y}\\u003cextra\\u003e\\u003c\\u002fextra\\u003e\",\"legendgroup\":\"Male\",\"marker\":{\"color\":\"#EF553B\",\"pattern\":{\"shape\":\"\"}},\"name\":\"Male\",\"offsetgroup\":\"Male\",\"orientation\":\"v\",\"showlegend\":true,\"textposition\":\"auto\",\"x\":[\"Mandalay\",\"Naypyitaw\",\"Yangon\"],\"xaxis\":\"x\",\"y\":[170,150,179],\"yaxis\":\"y\",\"type\":\"bar\"}],                        {\"template\":{\"data\":{\"histogram2dcontour\":[{\"type\":\"histogram2dcontour\",\"colorbar\":{\"outlinewidth\":0,\"ticks\":\"\"},\"colorscale\":[[0.0,\"#0d0887\"],[0.1111111111111111,\"#46039f\"],[0.2222222222222222,\"#7201a8\"],[0.3333333333333333,\"#9c179e\"],[0.4444444444444444,\"#bd3786\"],[0.5555555555555556,\"#d8576b\"],[0.6666666666666666,\"#ed7953\"],[0.7777777777777778,\"#fb9f3a\"],[0.8888888888888888,\"#fdca26\"],[1.0,\"#f0f921\"]]}],\"choropleth\":[{\"type\":\"choropleth\",\"colorbar\":{\"outlinewidth\":0,\"ticks\":\"\"}}],\"histogram2d\":[{\"type\":\"histogram2d\",\"colorbar\":{\"outlinewidth\":0,\"ticks\":\"\"},\"colorscale\":[[0.0,\"#0d0887\"],[0.1111111111111111,\"#46039f\"],[0.2222222222222222,\"#7201a8\"],[0.3333333333333333,\"#9c179e\"],[0.4444444444444444,\"#bd3786\"],[0.5555555555555556,\"#d8576b\"],[0.6666666666666666,\"#ed7953\"],[0.7777777777777778,\"#fb9f3a\"],[0.8888888888888888,\"#fdca26\"],[1.0,\"#f0f921\"]]}],\"heatmap\":[{\"type\":\"heatmap\",\"colorbar\":{\"outlinewidth\":0,\"ticks\":\"\"},\"colorscale\":[[0.0,\"#0d0887\"],[0.1111111111111111,\"#46039f\"],[0.2222222222222222,\"#7201a8\"],[0.3333333333333333,\"#9c179e\"],[0.4444444444444444,\"#bd3786\"],[0.5555555555555556,\"#d8576b\"],[0.6666666666666666,\"#ed7953\"],[0.7777777777777778,\"#fb9f3a\"],[0.8888888888888888,\"#fdca26\"],[1.0,\"#f0f921\"]]}],\"heatmapgl\":[{\"type\":\"heatmapgl\",\"colorbar\":{\"outlinewidth\":0,\"ticks\":\"\"},\"colorscale\":[[0.0,\"#0d0887\"],[0.1111111111111111,\"#46039f\"],[0.2222222222222222,\"#7201a8\"],[0.3333333333333333,\"#9c179e\"],[0.4444444444444444,\"#bd3786\"],[0.5555555555555556,\"#d8576b\"],[0.6666666666666666,\"#ed7953\"],[0.7777777777777778,\"#fb9f3a\"],[0.8888888888888888,\"#fdca26\"],[1.0,\"#f0f921\"]]}],\"contourcarpet\":[{\"type\":\"contourcarpet\",\"colorbar\":{\"outlinewidth\":0,\"ticks\":\"\"}}],\"contour\":[{\"type\":\"contour\",\"colorbar\":{\"outlinewidth\":0,\"ticks\":\"\"},\"colorscale\":[[0.0,\"#0d0887\"],[0.1111111111111111,\"#46039f\"],[0.2222222222222222,\"#7201a8\"],[0.3333333333333333,\"#9c179e\"],[0.4444444444444444,\"#bd3786\"],[0.5555555555555556,\"#d8576b\"],[0.6666666666666666,\"#ed7953\"],[0.7777777777777778,\"#fb9f3a\"],[0.8888888888888888,\"#fdca26\"],[1.0,\"#f0f921\"]]}],\"surface\":[{\"type\":\"surface\",\"colorbar\":{\"outlinewidth\":0,\"ticks\":\"\"},\"colorscale\":[[0.0,\"#0d0887\"],[0.1111111111111111,\"#46039f\"],[0.2222222222222222,\"#7201a8\"],[0.3333333333333333,\"#9c179e\"],[0.4444444444444444,\"#bd3786\"],[0.5555555555555556,\"#d8576b\"],[0.6666666666666666,\"#ed7953\"],[0.7777777777777778,\"#fb9f3a\"],[0.8888888888888888,\"#fdca26\"],[1.0,\"#f0f921\"]]}],\"mesh3d\":[{\"type\":\"mesh3d\",\"colorbar\":{\"outlinewidth\":0,\"ticks\":\"\"}}],\"scatter\":[{\"fillpattern\":{\"fillmode\":\"overlay\",\"size\":10,\"solidity\":0.2},\"type\":\"scatter\"}],\"parcoords\":[{\"type\":\"parcoords\",\"line\":{\"colorbar\":{\"outlinewidth\":0,\"ticks\":\"\"}}}],\"scatterpolargl\":[{\"type\":\"scatterpolargl\",\"marker\":{\"colorbar\":{\"outlinewidth\":0,\"ticks\":\"\"}}}],\"bar\":[{\"error_x\":{\"color\":\"#2a3f5f\"},\"error_y\":{\"color\":\"#2a3f5f\"},\"marker\":{\"line\":{\"color\":\"#E5ECF6\",\"width\":0.5},\"pattern\":{\"fillmode\":\"overlay\",\"size\":10,\"solidity\":0.2}},\"type\":\"bar\"}],\"scattergeo\":[{\"type\":\"scattergeo\",\"marker\":{\"colorbar\":{\"outlinewidth\":0,\"ticks\":\"\"}}}],\"scatterpolar\":[{\"type\":\"scatterpolar\",\"marker\":{\"colorbar\":{\"outlinewidth\":0,\"ticks\":\"\"}}}],\"histogram\":[{\"marker\":{\"pattern\":{\"fillmode\":\"overlay\",\"size\":10,\"solidity\":0.2}},\"type\":\"histogram\"}],\"scattergl\":[{\"type\":\"scattergl\",\"marker\":{\"colorbar\":{\"outlinewidth\":0,\"ticks\":\"\"}}}],\"scatter3d\":[{\"type\":\"scatter3d\",\"line\":{\"colorbar\":{\"outlinewidth\":0,\"ticks\":\"\"}},\"marker\":{\"colorbar\":{\"outlinewidth\":0,\"ticks\":\"\"}}}],\"scattermapbox\":[{\"type\":\"scattermapbox\",\"marker\":{\"colorbar\":{\"outlinewidth\":0,\"ticks\":\"\"}}}],\"scatterternary\":[{\"type\":\"scatterternary\",\"marker\":{\"colorbar\":{\"outlinewidth\":0,\"ticks\":\"\"}}}],\"scattercarpet\":[{\"type\":\"scattercarpet\",\"marker\":{\"colorbar\":{\"outlinewidth\":0,\"ticks\":\"\"}}}],\"carpet\":[{\"aaxis\":{\"endlinecolor\":\"#2a3f5f\",\"gridcolor\":\"white\",\"linecolor\":\"white\",\"minorgridcolor\":\"white\",\"startlinecolor\":\"#2a3f5f\"},\"baxis\":{\"endlinecolor\":\"#2a3f5f\",\"gridcolor\":\"white\",\"linecolor\":\"white\",\"minorgridcolor\":\"white\",\"startlinecolor\":\"#2a3f5f\"},\"type\":\"carpet\"}],\"table\":[{\"cells\":{\"fill\":{\"color\":\"#EBF0F8\"},\"line\":{\"color\":\"white\"}},\"header\":{\"fill\":{\"color\":\"#C8D4E3\"},\"line\":{\"color\":\"white\"}},\"type\":\"table\"}],\"barpolar\":[{\"marker\":{\"line\":{\"color\":\"#E5ECF6\",\"width\":0.5},\"pattern\":{\"fillmode\":\"overlay\",\"size\":10,\"solidity\":0.2}},\"type\":\"barpolar\"}],\"pie\":[{\"automargin\":true,\"type\":\"pie\"}]},\"layout\":{\"autotypenumbers\":\"strict\",\"colorway\":[\"#636efa\",\"#EF553B\",\"#00cc96\",\"#ab63fa\",\"#FFA15A\",\"#19d3f3\",\"#FF6692\",\"#B6E880\",\"#FF97FF\",\"#FECB52\"],\"font\":{\"color\":\"#2a3f5f\"},\"hovermode\":\"closest\",\"hoverlabel\":{\"align\":\"left\"},\"paper_bgcolor\":\"white\",\"plot_bgcolor\":\"#E5ECF6\",\"polar\":{\"bgcolor\":\"#E5ECF6\",\"angularaxis\":{\"gridcolor\":\"white\",\"linecolor\":\"white\",\"ticks\":\"\"},\"radialaxis\":{\"gridcolor\":\"white\",\"linecolor\":\"white\",\"ticks\":\"\"}},\"ternary\":{\"bgcolor\":\"#E5ECF6\",\"aaxis\":{\"gridcolor\":\"white\",\"linecolor\":\"white\",\"ticks\":\"\"},\"baxis\":{\"gridcolor\":\"white\",\"linecolor\":\"white\",\"ticks\":\"\"},\"caxis\":{\"gridcolor\":\"white\",\"linecolor\":\"white\",\"ticks\":\"\"}},\"coloraxis\":{\"colorbar\":{\"outlinewidth\":0,\"ticks\":\"\"}},\"colorscale\":{\"sequential\":[[0.0,\"#0d0887\"],[0.1111111111111111,\"#46039f\"],[0.2222222222222222,\"#7201a8\"],[0.3333333333333333,\"#9c179e\"],[0.4444444444444444,\"#bd3786\"],[0.5555555555555556,\"#d8576b\"],[0.6666666666666666,\"#ed7953\"],[0.7777777777777778,\"#fb9f3a\"],[0.8888888888888888,\"#fdca26\"],[1.0,\"#f0f921\"]],\"sequentialminus\":[[0.0,\"#0d0887\"],[0.1111111111111111,\"#46039f\"],[0.2222222222222222,\"#7201a8\"],[0.3333333333333333,\"#9c179e\"],[0.4444444444444444,\"#bd3786\"],[0.5555555555555556,\"#d8576b\"],[0.6666666666666666,\"#ed7953\"],[0.7777777777777778,\"#fb9f3a\"],[0.8888888888888888,\"#fdca26\"],[1.0,\"#f0f921\"]],\"diverging\":[[0,\"#8e0152\"],[0.1,\"#c51b7d\"],[0.2,\"#de77ae\"],[0.3,\"#f1b6da\"],[0.4,\"#fde0ef\"],[0.5,\"#f7f7f7\"],[0.6,\"#e6f5d0\"],[0.7,\"#b8e186\"],[0.8,\"#7fbc41\"],[0.9,\"#4d9221\"],[1,\"#276419\"]]},\"xaxis\":{\"gridcolor\":\"white\",\"linecolor\":\"white\",\"ticks\":\"\",\"title\":{\"standoff\":15},\"zerolinecolor\":\"white\",\"automargin\":true,\"zerolinewidth\":2},\"yaxis\":{\"gridcolor\":\"white\",\"linecolor\":\"white\",\"ticks\":\"\",\"title\":{\"standoff\":15},\"zerolinecolor\":\"white\",\"automargin\":true,\"zerolinewidth\":2},\"scene\":{\"xaxis\":{\"backgroundcolor\":\"#E5ECF6\",\"gridcolor\":\"white\",\"linecolor\":\"white\",\"showbackground\":true,\"ticks\":\"\",\"zerolinecolor\":\"white\",\"gridwidth\":2},\"yaxis\":{\"backgroundcolor\":\"#E5ECF6\",\"gridcolor\":\"white\",\"linecolor\":\"white\",\"showbackground\":true,\"ticks\":\"\",\"zerolinecolor\":\"white\",\"gridwidth\":2},\"zaxis\":{\"backgroundcolor\":\"#E5ECF6\",\"gridcolor\":\"white\",\"linecolor\":\"white\",\"showbackground\":true,\"ticks\":\"\",\"zerolinecolor\":\"white\",\"gridwidth\":2}},\"shapedefaults\":{\"line\":{\"color\":\"#2a3f5f\"}},\"annotationdefaults\":{\"arrowcolor\":\"#2a3f5f\",\"arrowhead\":0,\"arrowwidth\":1},\"geo\":{\"bgcolor\":\"white\",\"landcolor\":\"#E5ECF6\",\"subunitcolor\":\"white\",\"showland\":true,\"showlakes\":true,\"lakecolor\":\"white\"},\"title\":{\"x\":0.05},\"mapbox\":{\"style\":\"light\"}}},\"xaxis\":{\"anchor\":\"y\",\"domain\":[0.0,1.0],\"title\":{\"text\":\"Miasto\"}},\"yaxis\":{\"anchor\":\"x\",\"domain\":[0.0,1.0],\"title\":{\"text\":\"Liczba os\\u00f3b robi\\u0105cych zakupy\"}},\"legend\":{\"title\":{\"text\":\"P\\u0142e\\u0107\"},\"tracegroupgap\":0},\"title\":{\"text\":\"Liczba os\\u00f3b robi\\u0105cych zakupy w poszczeg\\u00f3lnych miastach z podzia\\u0142em na p\\u0142e\\u0107\"},\"barmode\":\"group\"},                        {\"responsive\": true}                    ).then(function(){\n",
              "                            \n",
              "var gd = document.getElementById('b36348ea-1a6a-4baf-8e3e-1e0401dfd48a');\n",
              "var x = new MutationObserver(function (mutations, observer) {{\n",
              "        var display = window.getComputedStyle(gd).display;\n",
              "        if (!display || display === 'none') {{\n",
              "            console.log([gd, 'removed!']);\n",
              "            Plotly.purge(gd);\n",
              "            observer.disconnect();\n",
              "        }}\n",
              "}});\n",
              "\n",
              "// Listen for the removal of the full notebook cells\n",
              "var notebookContainer = gd.closest('#notebook-container');\n",
              "if (notebookContainer) {{\n",
              "    x.observe(notebookContainer, {childList: true});\n",
              "}}\n",
              "\n",
              "// Listen for the clearing of the current output cell\n",
              "var outputEl = gd.closest('.output');\n",
              "if (outputEl) {{\n",
              "    x.observe(outputEl, {childList: true});\n",
              "}}\n",
              "\n",
              "                        })                };                            </script>        </div>\n",
              "</body>\n",
              "</html>"
            ]
          },
          "metadata": {}
        }
      ],
      "source": [
        "count_gender_city = df.groupby(['City', 'Gender']).size().reset_index(name='Liczba osób')\n",
        "fig = px.bar(count_gender_city, x='City', y='Liczba osób', color='Gender', barmode='group',\n",
        "             labels={'City': 'Miasto', 'Gender': 'Płeć', 'Liczba osób': 'Liczba osób robiących zakupy'},\n",
        "             title='Liczba osób robiących zakupy w poszczególnych miastach z podziałem na płeć')\n",
        "fig.show()"
      ],
      "metadata": {
        "ExecuteTime": {
          "end_time": "2024-01-22T11:49:12.607875400Z",
          "start_time": "2024-01-22T11:49:12.528523300Z"
        },
        "colab": {
          "base_uri": "https://localhost:8080/",
          "height": 542
        },
        "id": "PffoO4ZBAOBq",
        "outputId": "1cb00456-e928-4a39-de28-a8a1e4f9251a"
      }
    },
    {
      "cell_type": "markdown",
      "source": [
        "Liczby mężczyzn i kobiet robiących zakupy w poszczególnych sklepach są zbliżone do siebie, jednak można zauważyć, że w Naypyitaw występuje przewaga kobiet, a w pozostałych miastach nieduża przewaga mężczyzn"
      ],
      "metadata": {
        "id": "csjwWtIblgbc"
      }
    },
    {
      "cell_type": "code",
      "execution_count": null,
      "outputs": [
        {
          "output_type": "display_data",
          "data": {
            "text/html": [
              "<html>\n",
              "<head><meta charset=\"utf-8\" /></head>\n",
              "<body>\n",
              "    <div>            <script src=\"https://cdnjs.cloudflare.com/ajax/libs/mathjax/2.7.5/MathJax.js?config=TeX-AMS-MML_SVG\"></script><script type=\"text/javascript\">if (window.MathJax && window.MathJax.Hub && window.MathJax.Hub.Config) {window.MathJax.Hub.Config({SVG: {font: \"STIX-Web\"}});}</script>                <script type=\"text/javascript\">window.PlotlyConfig = {MathJaxConfig: 'local'};</script>\n",
              "        <script charset=\"utf-8\" src=\"https://cdn.plot.ly/plotly-2.24.1.min.js\"></script>                <div id=\"33dbcdeb-5049-4415-9518-0cb76e50e825\" class=\"plotly-graph-div\" style=\"height:525px; width:100%;\"></div>            <script type=\"text/javascript\">                                    window.PLOTLYENV=window.PLOTLYENV || {};                                    if (document.getElementById(\"33dbcdeb-5049-4415-9518-0cb76e50e825\")) {                    Plotly.newPlot(                        \"33dbcdeb-5049-4415-9518-0cb76e50e825\",                        [{\"alignmentgroup\":\"True\",\"hovertemplate\":\"P\\u0142e\\u0107=Female\\u003cbr\\u003eProdukty=%{x}\\u003cbr\\u003eLiczba zakup\\u00f3w=%{y}\\u003cextra\\u003e\\u003c\\u002fextra\\u003e\",\"legendgroup\":\"Female\",\"marker\":{\"color\":\"#636efa\",\"pattern\":{\"shape\":\"\"}},\"name\":\"Female\",\"offsetgroup\":\"Female\",\"orientation\":\"v\",\"showlegend\":true,\"textposition\":\"auto\",\"x\":[\"Electronic accessories\",\"Fashion accessories\",\"Food and beverages\",\"Health and beauty\",\"Home and lifestyle\",\"Sports and travel\"],\"xaxis\":\"x\",\"y\":[84,96,90,64,79,88],\"yaxis\":\"y\",\"type\":\"bar\"},{\"alignmentgroup\":\"True\",\"hovertemplate\":\"P\\u0142e\\u0107=Male\\u003cbr\\u003eProdukty=%{x}\\u003cbr\\u003eLiczba zakup\\u00f3w=%{y}\\u003cextra\\u003e\\u003c\\u002fextra\\u003e\",\"legendgroup\":\"Male\",\"marker\":{\"color\":\"#EF553B\",\"pattern\":{\"shape\":\"\"}},\"name\":\"Male\",\"offsetgroup\":\"Male\",\"orientation\":\"v\",\"showlegend\":true,\"textposition\":\"auto\",\"x\":[\"Electronic accessories\",\"Fashion accessories\",\"Food and beverages\",\"Health and beauty\",\"Home and lifestyle\",\"Sports and travel\"],\"xaxis\":\"x\",\"y\":[86,82,84,88,81,78],\"yaxis\":\"y\",\"type\":\"bar\"}],                        {\"template\":{\"data\":{\"histogram2dcontour\":[{\"type\":\"histogram2dcontour\",\"colorbar\":{\"outlinewidth\":0,\"ticks\":\"\"},\"colorscale\":[[0.0,\"#0d0887\"],[0.1111111111111111,\"#46039f\"],[0.2222222222222222,\"#7201a8\"],[0.3333333333333333,\"#9c179e\"],[0.4444444444444444,\"#bd3786\"],[0.5555555555555556,\"#d8576b\"],[0.6666666666666666,\"#ed7953\"],[0.7777777777777778,\"#fb9f3a\"],[0.8888888888888888,\"#fdca26\"],[1.0,\"#f0f921\"]]}],\"choropleth\":[{\"type\":\"choropleth\",\"colorbar\":{\"outlinewidth\":0,\"ticks\":\"\"}}],\"histogram2d\":[{\"type\":\"histogram2d\",\"colorbar\":{\"outlinewidth\":0,\"ticks\":\"\"},\"colorscale\":[[0.0,\"#0d0887\"],[0.1111111111111111,\"#46039f\"],[0.2222222222222222,\"#7201a8\"],[0.3333333333333333,\"#9c179e\"],[0.4444444444444444,\"#bd3786\"],[0.5555555555555556,\"#d8576b\"],[0.6666666666666666,\"#ed7953\"],[0.7777777777777778,\"#fb9f3a\"],[0.8888888888888888,\"#fdca26\"],[1.0,\"#f0f921\"]]}],\"heatmap\":[{\"type\":\"heatmap\",\"colorbar\":{\"outlinewidth\":0,\"ticks\":\"\"},\"colorscale\":[[0.0,\"#0d0887\"],[0.1111111111111111,\"#46039f\"],[0.2222222222222222,\"#7201a8\"],[0.3333333333333333,\"#9c179e\"],[0.4444444444444444,\"#bd3786\"],[0.5555555555555556,\"#d8576b\"],[0.6666666666666666,\"#ed7953\"],[0.7777777777777778,\"#fb9f3a\"],[0.8888888888888888,\"#fdca26\"],[1.0,\"#f0f921\"]]}],\"heatmapgl\":[{\"type\":\"heatmapgl\",\"colorbar\":{\"outlinewidth\":0,\"ticks\":\"\"},\"colorscale\":[[0.0,\"#0d0887\"],[0.1111111111111111,\"#46039f\"],[0.2222222222222222,\"#7201a8\"],[0.3333333333333333,\"#9c179e\"],[0.4444444444444444,\"#bd3786\"],[0.5555555555555556,\"#d8576b\"],[0.6666666666666666,\"#ed7953\"],[0.7777777777777778,\"#fb9f3a\"],[0.8888888888888888,\"#fdca26\"],[1.0,\"#f0f921\"]]}],\"contourcarpet\":[{\"type\":\"contourcarpet\",\"colorbar\":{\"outlinewidth\":0,\"ticks\":\"\"}}],\"contour\":[{\"type\":\"contour\",\"colorbar\":{\"outlinewidth\":0,\"ticks\":\"\"},\"colorscale\":[[0.0,\"#0d0887\"],[0.1111111111111111,\"#46039f\"],[0.2222222222222222,\"#7201a8\"],[0.3333333333333333,\"#9c179e\"],[0.4444444444444444,\"#bd3786\"],[0.5555555555555556,\"#d8576b\"],[0.6666666666666666,\"#ed7953\"],[0.7777777777777778,\"#fb9f3a\"],[0.8888888888888888,\"#fdca26\"],[1.0,\"#f0f921\"]]}],\"surface\":[{\"type\":\"surface\",\"colorbar\":{\"outlinewidth\":0,\"ticks\":\"\"},\"colorscale\":[[0.0,\"#0d0887\"],[0.1111111111111111,\"#46039f\"],[0.2222222222222222,\"#7201a8\"],[0.3333333333333333,\"#9c179e\"],[0.4444444444444444,\"#bd3786\"],[0.5555555555555556,\"#d8576b\"],[0.6666666666666666,\"#ed7953\"],[0.7777777777777778,\"#fb9f3a\"],[0.8888888888888888,\"#fdca26\"],[1.0,\"#f0f921\"]]}],\"mesh3d\":[{\"type\":\"mesh3d\",\"colorbar\":{\"outlinewidth\":0,\"ticks\":\"\"}}],\"scatter\":[{\"fillpattern\":{\"fillmode\":\"overlay\",\"size\":10,\"solidity\":0.2},\"type\":\"scatter\"}],\"parcoords\":[{\"type\":\"parcoords\",\"line\":{\"colorbar\":{\"outlinewidth\":0,\"ticks\":\"\"}}}],\"scatterpolargl\":[{\"type\":\"scatterpolargl\",\"marker\":{\"colorbar\":{\"outlinewidth\":0,\"ticks\":\"\"}}}],\"bar\":[{\"error_x\":{\"color\":\"#2a3f5f\"},\"error_y\":{\"color\":\"#2a3f5f\"},\"marker\":{\"line\":{\"color\":\"#E5ECF6\",\"width\":0.5},\"pattern\":{\"fillmode\":\"overlay\",\"size\":10,\"solidity\":0.2}},\"type\":\"bar\"}],\"scattergeo\":[{\"type\":\"scattergeo\",\"marker\":{\"colorbar\":{\"outlinewidth\":0,\"ticks\":\"\"}}}],\"scatterpolar\":[{\"type\":\"scatterpolar\",\"marker\":{\"colorbar\":{\"outlinewidth\":0,\"ticks\":\"\"}}}],\"histogram\":[{\"marker\":{\"pattern\":{\"fillmode\":\"overlay\",\"size\":10,\"solidity\":0.2}},\"type\":\"histogram\"}],\"scattergl\":[{\"type\":\"scattergl\",\"marker\":{\"colorbar\":{\"outlinewidth\":0,\"ticks\":\"\"}}}],\"scatter3d\":[{\"type\":\"scatter3d\",\"line\":{\"colorbar\":{\"outlinewidth\":0,\"ticks\":\"\"}},\"marker\":{\"colorbar\":{\"outlinewidth\":0,\"ticks\":\"\"}}}],\"scattermapbox\":[{\"type\":\"scattermapbox\",\"marker\":{\"colorbar\":{\"outlinewidth\":0,\"ticks\":\"\"}}}],\"scatterternary\":[{\"type\":\"scatterternary\",\"marker\":{\"colorbar\":{\"outlinewidth\":0,\"ticks\":\"\"}}}],\"scattercarpet\":[{\"type\":\"scattercarpet\",\"marker\":{\"colorbar\":{\"outlinewidth\":0,\"ticks\":\"\"}}}],\"carpet\":[{\"aaxis\":{\"endlinecolor\":\"#2a3f5f\",\"gridcolor\":\"white\",\"linecolor\":\"white\",\"minorgridcolor\":\"white\",\"startlinecolor\":\"#2a3f5f\"},\"baxis\":{\"endlinecolor\":\"#2a3f5f\",\"gridcolor\":\"white\",\"linecolor\":\"white\",\"minorgridcolor\":\"white\",\"startlinecolor\":\"#2a3f5f\"},\"type\":\"carpet\"}],\"table\":[{\"cells\":{\"fill\":{\"color\":\"#EBF0F8\"},\"line\":{\"color\":\"white\"}},\"header\":{\"fill\":{\"color\":\"#C8D4E3\"},\"line\":{\"color\":\"white\"}},\"type\":\"table\"}],\"barpolar\":[{\"marker\":{\"line\":{\"color\":\"#E5ECF6\",\"width\":0.5},\"pattern\":{\"fillmode\":\"overlay\",\"size\":10,\"solidity\":0.2}},\"type\":\"barpolar\"}],\"pie\":[{\"automargin\":true,\"type\":\"pie\"}]},\"layout\":{\"autotypenumbers\":\"strict\",\"colorway\":[\"#636efa\",\"#EF553B\",\"#00cc96\",\"#ab63fa\",\"#FFA15A\",\"#19d3f3\",\"#FF6692\",\"#B6E880\",\"#FF97FF\",\"#FECB52\"],\"font\":{\"color\":\"#2a3f5f\"},\"hovermode\":\"closest\",\"hoverlabel\":{\"align\":\"left\"},\"paper_bgcolor\":\"white\",\"plot_bgcolor\":\"#E5ECF6\",\"polar\":{\"bgcolor\":\"#E5ECF6\",\"angularaxis\":{\"gridcolor\":\"white\",\"linecolor\":\"white\",\"ticks\":\"\"},\"radialaxis\":{\"gridcolor\":\"white\",\"linecolor\":\"white\",\"ticks\":\"\"}},\"ternary\":{\"bgcolor\":\"#E5ECF6\",\"aaxis\":{\"gridcolor\":\"white\",\"linecolor\":\"white\",\"ticks\":\"\"},\"baxis\":{\"gridcolor\":\"white\",\"linecolor\":\"white\",\"ticks\":\"\"},\"caxis\":{\"gridcolor\":\"white\",\"linecolor\":\"white\",\"ticks\":\"\"}},\"coloraxis\":{\"colorbar\":{\"outlinewidth\":0,\"ticks\":\"\"}},\"colorscale\":{\"sequential\":[[0.0,\"#0d0887\"],[0.1111111111111111,\"#46039f\"],[0.2222222222222222,\"#7201a8\"],[0.3333333333333333,\"#9c179e\"],[0.4444444444444444,\"#bd3786\"],[0.5555555555555556,\"#d8576b\"],[0.6666666666666666,\"#ed7953\"],[0.7777777777777778,\"#fb9f3a\"],[0.8888888888888888,\"#fdca26\"],[1.0,\"#f0f921\"]],\"sequentialminus\":[[0.0,\"#0d0887\"],[0.1111111111111111,\"#46039f\"],[0.2222222222222222,\"#7201a8\"],[0.3333333333333333,\"#9c179e\"],[0.4444444444444444,\"#bd3786\"],[0.5555555555555556,\"#d8576b\"],[0.6666666666666666,\"#ed7953\"],[0.7777777777777778,\"#fb9f3a\"],[0.8888888888888888,\"#fdca26\"],[1.0,\"#f0f921\"]],\"diverging\":[[0,\"#8e0152\"],[0.1,\"#c51b7d\"],[0.2,\"#de77ae\"],[0.3,\"#f1b6da\"],[0.4,\"#fde0ef\"],[0.5,\"#f7f7f7\"],[0.6,\"#e6f5d0\"],[0.7,\"#b8e186\"],[0.8,\"#7fbc41\"],[0.9,\"#4d9221\"],[1,\"#276419\"]]},\"xaxis\":{\"gridcolor\":\"white\",\"linecolor\":\"white\",\"ticks\":\"\",\"title\":{\"standoff\":15},\"zerolinecolor\":\"white\",\"automargin\":true,\"zerolinewidth\":2},\"yaxis\":{\"gridcolor\":\"white\",\"linecolor\":\"white\",\"ticks\":\"\",\"title\":{\"standoff\":15},\"zerolinecolor\":\"white\",\"automargin\":true,\"zerolinewidth\":2},\"scene\":{\"xaxis\":{\"backgroundcolor\":\"#E5ECF6\",\"gridcolor\":\"white\",\"linecolor\":\"white\",\"showbackground\":true,\"ticks\":\"\",\"zerolinecolor\":\"white\",\"gridwidth\":2},\"yaxis\":{\"backgroundcolor\":\"#E5ECF6\",\"gridcolor\":\"white\",\"linecolor\":\"white\",\"showbackground\":true,\"ticks\":\"\",\"zerolinecolor\":\"white\",\"gridwidth\":2},\"zaxis\":{\"backgroundcolor\":\"#E5ECF6\",\"gridcolor\":\"white\",\"linecolor\":\"white\",\"showbackground\":true,\"ticks\":\"\",\"zerolinecolor\":\"white\",\"gridwidth\":2}},\"shapedefaults\":{\"line\":{\"color\":\"#2a3f5f\"}},\"annotationdefaults\":{\"arrowcolor\":\"#2a3f5f\",\"arrowhead\":0,\"arrowwidth\":1},\"geo\":{\"bgcolor\":\"white\",\"landcolor\":\"#E5ECF6\",\"subunitcolor\":\"white\",\"showland\":true,\"showlakes\":true,\"lakecolor\":\"white\"},\"title\":{\"x\":0.05},\"mapbox\":{\"style\":\"light\"}}},\"xaxis\":{\"anchor\":\"y\",\"domain\":[0.0,1.0],\"title\":{\"text\":\"Produkty\"}},\"yaxis\":{\"anchor\":\"x\",\"domain\":[0.0,1.0],\"title\":{\"text\":\"Liczba zakup\\u00f3w\"}},\"legend\":{\"title\":{\"text\":\"P\\u0142e\\u0107\"},\"tracegroupgap\":0},\"title\":{\"text\":\"Liczba zakupionych artyku\\u0142\\u00f3w z podzia\\u0142em na p\\u0142e\\u0107\"},\"barmode\":\"group\"},                        {\"responsive\": true}                    ).then(function(){\n",
              "                            \n",
              "var gd = document.getElementById('33dbcdeb-5049-4415-9518-0cb76e50e825');\n",
              "var x = new MutationObserver(function (mutations, observer) {{\n",
              "        var display = window.getComputedStyle(gd).display;\n",
              "        if (!display || display === 'none') {{\n",
              "            console.log([gd, 'removed!']);\n",
              "            Plotly.purge(gd);\n",
              "            observer.disconnect();\n",
              "        }}\n",
              "}});\n",
              "\n",
              "// Listen for the removal of the full notebook cells\n",
              "var notebookContainer = gd.closest('#notebook-container');\n",
              "if (notebookContainer) {{\n",
              "    x.observe(notebookContainer, {childList: true});\n",
              "}}\n",
              "\n",
              "// Listen for the clearing of the current output cell\n",
              "var outputEl = gd.closest('.output');\n",
              "if (outputEl) {{\n",
              "    x.observe(outputEl, {childList: true});\n",
              "}}\n",
              "\n",
              "                        })                };                            </script>        </div>\n",
              "</body>\n",
              "</html>"
            ]
          },
          "metadata": {}
        }
      ],
      "source": [
        "df['Date'] = pd.to_datetime(df['Date'])\n",
        "df['Month'] = df['Date'].dt.month\n",
        "products_by_gender = df.groupby(['Gender', 'Product line']).size().reset_index(name='Liczba zakupów')\n",
        "\n",
        "fig = px.bar(products_by_gender, x='Product line', y='Liczba zakupów', color='Gender', barmode='group',\n",
        "             labels={'Product line': 'Produkty', 'Liczba zakupów': 'Liczba zakupów', 'Gender': 'Płeć'},\n",
        "             title='Liczba zakupionych artykułów z podziałem na płeć')\n",
        "\n",
        "fig.show()"
      ],
      "metadata": {
        "ExecuteTime": {
          "end_time": "2024-01-22T11:49:12.663044500Z",
          "start_time": "2024-01-22T11:49:12.587339300Z"
        },
        "colab": {
          "base_uri": "https://localhost:8080/",
          "height": 542
        },
        "id": "0t_iykoeAOBq",
        "outputId": "17fe8904-50cd-416f-b1ce-e906b225f323"
      }
    },
    {
      "cell_type": "markdown",
      "source": [
        "Powyższy wykres wskazuje, że mężczyźni zdecydowanie częściej kupują produkty związane ze zdrowiem i urodą. Kobiety najczęściej kupują akcesoria modowe. W pozostałych przypadkach liczba zakupów kobiet i mężczyzn jest porównywalna."
      ],
      "metadata": {
        "id": "Nhm7mZDpl8ix"
      }
    },
    {
      "cell_type": "code",
      "execution_count": null,
      "outputs": [
        {
          "output_type": "display_data",
          "data": {
            "text/html": [
              "<html>\n",
              "<head><meta charset=\"utf-8\" /></head>\n",
              "<body>\n",
              "    <div>            <script src=\"https://cdnjs.cloudflare.com/ajax/libs/mathjax/2.7.5/MathJax.js?config=TeX-AMS-MML_SVG\"></script><script type=\"text/javascript\">if (window.MathJax && window.MathJax.Hub && window.MathJax.Hub.Config) {window.MathJax.Hub.Config({SVG: {font: \"STIX-Web\"}});}</script>                <script type=\"text/javascript\">window.PlotlyConfig = {MathJaxConfig: 'local'};</script>\n",
              "        <script charset=\"utf-8\" src=\"https://cdn.plot.ly/plotly-2.24.1.min.js\"></script>                <div id=\"330c6efa-ed5e-4bf8-8e2f-ffe9a988b941\" class=\"plotly-graph-div\" style=\"height:525px; width:100%;\"></div>            <script type=\"text/javascript\">                                    window.PLOTLYENV=window.PLOTLYENV || {};                                    if (document.getElementById(\"330c6efa-ed5e-4bf8-8e2f-ffe9a988b941\")) {                    Plotly.newPlot(                        \"330c6efa-ed5e-4bf8-8e2f-ffe9a988b941\",                        [{\"alignmentgroup\":\"True\",\"hovertemplate\":\"Typ Klienta=Member\\u003cbr\\u003eMiasto=%{x}\\u003cbr\\u003eLiczba os\\u00f3b=%{y}\\u003cextra\\u003e\\u003c\\u002fextra\\u003e\",\"legendgroup\":\"Member\",\"marker\":{\"color\":\"#636efa\",\"pattern\":{\"shape\":\"\"}},\"name\":\"Member\",\"offsetgroup\":\"Member\",\"orientation\":\"v\",\"showlegend\":true,\"textposition\":\"auto\",\"x\":[\"Mandalay\",\"Naypyitaw\",\"Yangon\"],\"xaxis\":\"x\",\"y\":[165,169,167],\"yaxis\":\"y\",\"type\":\"bar\"},{\"alignmentgroup\":\"True\",\"hovertemplate\":\"Typ Klienta=Normal\\u003cbr\\u003eMiasto=%{x}\\u003cbr\\u003eLiczba os\\u00f3b=%{y}\\u003cextra\\u003e\\u003c\\u002fextra\\u003e\",\"legendgroup\":\"Normal\",\"marker\":{\"color\":\"#EF553B\",\"pattern\":{\"shape\":\"\"}},\"name\":\"Normal\",\"offsetgroup\":\"Normal\",\"orientation\":\"v\",\"showlegend\":true,\"textposition\":\"auto\",\"x\":[\"Mandalay\",\"Naypyitaw\",\"Yangon\"],\"xaxis\":\"x\",\"y\":[167,159,173],\"yaxis\":\"y\",\"type\":\"bar\"}],                        {\"template\":{\"data\":{\"histogram2dcontour\":[{\"type\":\"histogram2dcontour\",\"colorbar\":{\"outlinewidth\":0,\"ticks\":\"\"},\"colorscale\":[[0.0,\"#0d0887\"],[0.1111111111111111,\"#46039f\"],[0.2222222222222222,\"#7201a8\"],[0.3333333333333333,\"#9c179e\"],[0.4444444444444444,\"#bd3786\"],[0.5555555555555556,\"#d8576b\"],[0.6666666666666666,\"#ed7953\"],[0.7777777777777778,\"#fb9f3a\"],[0.8888888888888888,\"#fdca26\"],[1.0,\"#f0f921\"]]}],\"choropleth\":[{\"type\":\"choropleth\",\"colorbar\":{\"outlinewidth\":0,\"ticks\":\"\"}}],\"histogram2d\":[{\"type\":\"histogram2d\",\"colorbar\":{\"outlinewidth\":0,\"ticks\":\"\"},\"colorscale\":[[0.0,\"#0d0887\"],[0.1111111111111111,\"#46039f\"],[0.2222222222222222,\"#7201a8\"],[0.3333333333333333,\"#9c179e\"],[0.4444444444444444,\"#bd3786\"],[0.5555555555555556,\"#d8576b\"],[0.6666666666666666,\"#ed7953\"],[0.7777777777777778,\"#fb9f3a\"],[0.8888888888888888,\"#fdca26\"],[1.0,\"#f0f921\"]]}],\"heatmap\":[{\"type\":\"heatmap\",\"colorbar\":{\"outlinewidth\":0,\"ticks\":\"\"},\"colorscale\":[[0.0,\"#0d0887\"],[0.1111111111111111,\"#46039f\"],[0.2222222222222222,\"#7201a8\"],[0.3333333333333333,\"#9c179e\"],[0.4444444444444444,\"#bd3786\"],[0.5555555555555556,\"#d8576b\"],[0.6666666666666666,\"#ed7953\"],[0.7777777777777778,\"#fb9f3a\"],[0.8888888888888888,\"#fdca26\"],[1.0,\"#f0f921\"]]}],\"heatmapgl\":[{\"type\":\"heatmapgl\",\"colorbar\":{\"outlinewidth\":0,\"ticks\":\"\"},\"colorscale\":[[0.0,\"#0d0887\"],[0.1111111111111111,\"#46039f\"],[0.2222222222222222,\"#7201a8\"],[0.3333333333333333,\"#9c179e\"],[0.4444444444444444,\"#bd3786\"],[0.5555555555555556,\"#d8576b\"],[0.6666666666666666,\"#ed7953\"],[0.7777777777777778,\"#fb9f3a\"],[0.8888888888888888,\"#fdca26\"],[1.0,\"#f0f921\"]]}],\"contourcarpet\":[{\"type\":\"contourcarpet\",\"colorbar\":{\"outlinewidth\":0,\"ticks\":\"\"}}],\"contour\":[{\"type\":\"contour\",\"colorbar\":{\"outlinewidth\":0,\"ticks\":\"\"},\"colorscale\":[[0.0,\"#0d0887\"],[0.1111111111111111,\"#46039f\"],[0.2222222222222222,\"#7201a8\"],[0.3333333333333333,\"#9c179e\"],[0.4444444444444444,\"#bd3786\"],[0.5555555555555556,\"#d8576b\"],[0.6666666666666666,\"#ed7953\"],[0.7777777777777778,\"#fb9f3a\"],[0.8888888888888888,\"#fdca26\"],[1.0,\"#f0f921\"]]}],\"surface\":[{\"type\":\"surface\",\"colorbar\":{\"outlinewidth\":0,\"ticks\":\"\"},\"colorscale\":[[0.0,\"#0d0887\"],[0.1111111111111111,\"#46039f\"],[0.2222222222222222,\"#7201a8\"],[0.3333333333333333,\"#9c179e\"],[0.4444444444444444,\"#bd3786\"],[0.5555555555555556,\"#d8576b\"],[0.6666666666666666,\"#ed7953\"],[0.7777777777777778,\"#fb9f3a\"],[0.8888888888888888,\"#fdca26\"],[1.0,\"#f0f921\"]]}],\"mesh3d\":[{\"type\":\"mesh3d\",\"colorbar\":{\"outlinewidth\":0,\"ticks\":\"\"}}],\"scatter\":[{\"fillpattern\":{\"fillmode\":\"overlay\",\"size\":10,\"solidity\":0.2},\"type\":\"scatter\"}],\"parcoords\":[{\"type\":\"parcoords\",\"line\":{\"colorbar\":{\"outlinewidth\":0,\"ticks\":\"\"}}}],\"scatterpolargl\":[{\"type\":\"scatterpolargl\",\"marker\":{\"colorbar\":{\"outlinewidth\":0,\"ticks\":\"\"}}}],\"bar\":[{\"error_x\":{\"color\":\"#2a3f5f\"},\"error_y\":{\"color\":\"#2a3f5f\"},\"marker\":{\"line\":{\"color\":\"#E5ECF6\",\"width\":0.5},\"pattern\":{\"fillmode\":\"overlay\",\"size\":10,\"solidity\":0.2}},\"type\":\"bar\"}],\"scattergeo\":[{\"type\":\"scattergeo\",\"marker\":{\"colorbar\":{\"outlinewidth\":0,\"ticks\":\"\"}}}],\"scatterpolar\":[{\"type\":\"scatterpolar\",\"marker\":{\"colorbar\":{\"outlinewidth\":0,\"ticks\":\"\"}}}],\"histogram\":[{\"marker\":{\"pattern\":{\"fillmode\":\"overlay\",\"size\":10,\"solidity\":0.2}},\"type\":\"histogram\"}],\"scattergl\":[{\"type\":\"scattergl\",\"marker\":{\"colorbar\":{\"outlinewidth\":0,\"ticks\":\"\"}}}],\"scatter3d\":[{\"type\":\"scatter3d\",\"line\":{\"colorbar\":{\"outlinewidth\":0,\"ticks\":\"\"}},\"marker\":{\"colorbar\":{\"outlinewidth\":0,\"ticks\":\"\"}}}],\"scattermapbox\":[{\"type\":\"scattermapbox\",\"marker\":{\"colorbar\":{\"outlinewidth\":0,\"ticks\":\"\"}}}],\"scatterternary\":[{\"type\":\"scatterternary\",\"marker\":{\"colorbar\":{\"outlinewidth\":0,\"ticks\":\"\"}}}],\"scattercarpet\":[{\"type\":\"scattercarpet\",\"marker\":{\"colorbar\":{\"outlinewidth\":0,\"ticks\":\"\"}}}],\"carpet\":[{\"aaxis\":{\"endlinecolor\":\"#2a3f5f\",\"gridcolor\":\"white\",\"linecolor\":\"white\",\"minorgridcolor\":\"white\",\"startlinecolor\":\"#2a3f5f\"},\"baxis\":{\"endlinecolor\":\"#2a3f5f\",\"gridcolor\":\"white\",\"linecolor\":\"white\",\"minorgridcolor\":\"white\",\"startlinecolor\":\"#2a3f5f\"},\"type\":\"carpet\"}],\"table\":[{\"cells\":{\"fill\":{\"color\":\"#EBF0F8\"},\"line\":{\"color\":\"white\"}},\"header\":{\"fill\":{\"color\":\"#C8D4E3\"},\"line\":{\"color\":\"white\"}},\"type\":\"table\"}],\"barpolar\":[{\"marker\":{\"line\":{\"color\":\"#E5ECF6\",\"width\":0.5},\"pattern\":{\"fillmode\":\"overlay\",\"size\":10,\"solidity\":0.2}},\"type\":\"barpolar\"}],\"pie\":[{\"automargin\":true,\"type\":\"pie\"}]},\"layout\":{\"autotypenumbers\":\"strict\",\"colorway\":[\"#636efa\",\"#EF553B\",\"#00cc96\",\"#ab63fa\",\"#FFA15A\",\"#19d3f3\",\"#FF6692\",\"#B6E880\",\"#FF97FF\",\"#FECB52\"],\"font\":{\"color\":\"#2a3f5f\"},\"hovermode\":\"closest\",\"hoverlabel\":{\"align\":\"left\"},\"paper_bgcolor\":\"white\",\"plot_bgcolor\":\"#E5ECF6\",\"polar\":{\"bgcolor\":\"#E5ECF6\",\"angularaxis\":{\"gridcolor\":\"white\",\"linecolor\":\"white\",\"ticks\":\"\"},\"radialaxis\":{\"gridcolor\":\"white\",\"linecolor\":\"white\",\"ticks\":\"\"}},\"ternary\":{\"bgcolor\":\"#E5ECF6\",\"aaxis\":{\"gridcolor\":\"white\",\"linecolor\":\"white\",\"ticks\":\"\"},\"baxis\":{\"gridcolor\":\"white\",\"linecolor\":\"white\",\"ticks\":\"\"},\"caxis\":{\"gridcolor\":\"white\",\"linecolor\":\"white\",\"ticks\":\"\"}},\"coloraxis\":{\"colorbar\":{\"outlinewidth\":0,\"ticks\":\"\"}},\"colorscale\":{\"sequential\":[[0.0,\"#0d0887\"],[0.1111111111111111,\"#46039f\"],[0.2222222222222222,\"#7201a8\"],[0.3333333333333333,\"#9c179e\"],[0.4444444444444444,\"#bd3786\"],[0.5555555555555556,\"#d8576b\"],[0.6666666666666666,\"#ed7953\"],[0.7777777777777778,\"#fb9f3a\"],[0.8888888888888888,\"#fdca26\"],[1.0,\"#f0f921\"]],\"sequentialminus\":[[0.0,\"#0d0887\"],[0.1111111111111111,\"#46039f\"],[0.2222222222222222,\"#7201a8\"],[0.3333333333333333,\"#9c179e\"],[0.4444444444444444,\"#bd3786\"],[0.5555555555555556,\"#d8576b\"],[0.6666666666666666,\"#ed7953\"],[0.7777777777777778,\"#fb9f3a\"],[0.8888888888888888,\"#fdca26\"],[1.0,\"#f0f921\"]],\"diverging\":[[0,\"#8e0152\"],[0.1,\"#c51b7d\"],[0.2,\"#de77ae\"],[0.3,\"#f1b6da\"],[0.4,\"#fde0ef\"],[0.5,\"#f7f7f7\"],[0.6,\"#e6f5d0\"],[0.7,\"#b8e186\"],[0.8,\"#7fbc41\"],[0.9,\"#4d9221\"],[1,\"#276419\"]]},\"xaxis\":{\"gridcolor\":\"white\",\"linecolor\":\"white\",\"ticks\":\"\",\"title\":{\"standoff\":15},\"zerolinecolor\":\"white\",\"automargin\":true,\"zerolinewidth\":2},\"yaxis\":{\"gridcolor\":\"white\",\"linecolor\":\"white\",\"ticks\":\"\",\"title\":{\"standoff\":15},\"zerolinecolor\":\"white\",\"automargin\":true,\"zerolinewidth\":2},\"scene\":{\"xaxis\":{\"backgroundcolor\":\"#E5ECF6\",\"gridcolor\":\"white\",\"linecolor\":\"white\",\"showbackground\":true,\"ticks\":\"\",\"zerolinecolor\":\"white\",\"gridwidth\":2},\"yaxis\":{\"backgroundcolor\":\"#E5ECF6\",\"gridcolor\":\"white\",\"linecolor\":\"white\",\"showbackground\":true,\"ticks\":\"\",\"zerolinecolor\":\"white\",\"gridwidth\":2},\"zaxis\":{\"backgroundcolor\":\"#E5ECF6\",\"gridcolor\":\"white\",\"linecolor\":\"white\",\"showbackground\":true,\"ticks\":\"\",\"zerolinecolor\":\"white\",\"gridwidth\":2}},\"shapedefaults\":{\"line\":{\"color\":\"#2a3f5f\"}},\"annotationdefaults\":{\"arrowcolor\":\"#2a3f5f\",\"arrowhead\":0,\"arrowwidth\":1},\"geo\":{\"bgcolor\":\"white\",\"landcolor\":\"#E5ECF6\",\"subunitcolor\":\"white\",\"showland\":true,\"showlakes\":true,\"lakecolor\":\"white\"},\"title\":{\"x\":0.05},\"mapbox\":{\"style\":\"light\"}}},\"xaxis\":{\"anchor\":\"y\",\"domain\":[0.0,1.0],\"title\":{\"text\":\"Miasto\"}},\"yaxis\":{\"anchor\":\"x\",\"domain\":[0.0,1.0],\"title\":{\"text\":\"Liczba os\\u00f3b\"}},\"legend\":{\"title\":{\"text\":\"Typ Klienta\"},\"tracegroupgap\":0},\"title\":{\"text\":\"Liczba os\\u00f3b posiadaj\\u0105cych kart\\u0119 cz\\u0142onkowsk\\u0105 i nie, w poszczeg\\u00f3lnych miastach\"},\"barmode\":\"group\"},                        {\"responsive\": true}                    ).then(function(){\n",
              "                            \n",
              "var gd = document.getElementById('330c6efa-ed5e-4bf8-8e2f-ffe9a988b941');\n",
              "var x = new MutationObserver(function (mutations, observer) {{\n",
              "        var display = window.getComputedStyle(gd).display;\n",
              "        if (!display || display === 'none') {{\n",
              "            console.log([gd, 'removed!']);\n",
              "            Plotly.purge(gd);\n",
              "            observer.disconnect();\n",
              "        }}\n",
              "}});\n",
              "\n",
              "// Listen for the removal of the full notebook cells\n",
              "var notebookContainer = gd.closest('#notebook-container');\n",
              "if (notebookContainer) {{\n",
              "    x.observe(notebookContainer, {childList: true});\n",
              "}}\n",
              "\n",
              "// Listen for the clearing of the current output cell\n",
              "var outputEl = gd.closest('.output');\n",
              "if (outputEl) {{\n",
              "    x.observe(outputEl, {childList: true});\n",
              "}}\n",
              "\n",
              "                        })                };                            </script>        </div>\n",
              "</body>\n",
              "</html>"
            ]
          },
          "metadata": {}
        }
      ],
      "source": [
        "count_member_city = df.groupby(['City', 'Customer type']).size().reset_index(name='Liczba osób')\n",
        "fig = px.bar(count_member_city, x='City', y='Liczba osób', color='Customer type', barmode='group',\n",
        "             labels={'City': 'Miasto', 'Customer type': 'Typ Klienta', 'Liczba osób': 'Liczba osób'},\n",
        "             title='Liczba osób posiadających kartę członkowską i nie, w poszczególnych miastach')\n",
        "fig.show()"
      ],
      "metadata": {
        "ExecuteTime": {
          "end_time": "2024-01-22T11:49:12.725024300Z",
          "start_time": "2024-01-22T11:49:12.666698400Z"
        },
        "colab": {
          "base_uri": "https://localhost:8080/",
          "height": 542
        },
        "id": "4XRGfgEpAOBq",
        "outputId": "96015324-b212-4f22-ae45-2b8231811beb"
      }
    },
    {
      "cell_type": "markdown",
      "source": [
        "Zakupy w badanych sklepach są dokonywane przez klientów zwykłych i członków w podobnej ilości. Jedynie w Naypyitaw występuje niewielka przewaga członków nad klientami zwykłymi."
      ],
      "metadata": {
        "id": "0wqmTa3Smoa0"
      }
    },
    {
      "cell_type": "code",
      "execution_count": null,
      "outputs": [
        {
          "output_type": "display_data",
          "data": {
            "text/html": [
              "<html>\n",
              "<head><meta charset=\"utf-8\" /></head>\n",
              "<body>\n",
              "    <div>            <script src=\"https://cdnjs.cloudflare.com/ajax/libs/mathjax/2.7.5/MathJax.js?config=TeX-AMS-MML_SVG\"></script><script type=\"text/javascript\">if (window.MathJax && window.MathJax.Hub && window.MathJax.Hub.Config) {window.MathJax.Hub.Config({SVG: {font: \"STIX-Web\"}});}</script>                <script type=\"text/javascript\">window.PlotlyConfig = {MathJaxConfig: 'local'};</script>\n",
              "        <script charset=\"utf-8\" src=\"https://cdn.plot.ly/plotly-2.24.1.min.js\"></script>                <div id=\"df6ae63b-c54d-48db-807b-b177dd1df4ef\" class=\"plotly-graph-div\" style=\"height:525px; width:100%;\"></div>            <script type=\"text/javascript\">                                    window.PLOTLYENV=window.PLOTLYENV || {};                                    if (document.getElementById(\"df6ae63b-c54d-48db-807b-b177dd1df4ef\")) {                    Plotly.newPlot(                        \"df6ae63b-c54d-48db-807b-b177dd1df4ef\",                        [{\"alignmentgroup\":\"True\",\"hovertemplate\":\"Customer type=Member\\u003cbr\\u003eProduct line=%{x}\\u003cbr\\u003eLiczba zakup\\u00f3w=%{y}\\u003cextra\\u003e\\u003c\\u002fextra\\u003e\",\"legendgroup\":\"Member\",\"marker\":{\"color\":\"#636efa\",\"pattern\":{\"shape\":\"\"}},\"name\":\"Member\",\"offsetgroup\":\"Member\",\"orientation\":\"v\",\"showlegend\":true,\"textposition\":\"auto\",\"x\":[\"Electronic accessories\",\"Fashion accessories\",\"Food and beverages\",\"Health and beauty\",\"Home and lifestyle\",\"Sports and travel\"],\"xaxis\":\"x\",\"y\":[78,86,94,73,83,87],\"yaxis\":\"y\",\"type\":\"bar\"},{\"alignmentgroup\":\"True\",\"hovertemplate\":\"Customer type=Normal\\u003cbr\\u003eProduct line=%{x}\\u003cbr\\u003eLiczba zakup\\u00f3w=%{y}\\u003cextra\\u003e\\u003c\\u002fextra\\u003e\",\"legendgroup\":\"Normal\",\"marker\":{\"color\":\"#EF553B\",\"pattern\":{\"shape\":\"\"}},\"name\":\"Normal\",\"offsetgroup\":\"Normal\",\"orientation\":\"v\",\"showlegend\":true,\"textposition\":\"auto\",\"x\":[\"Electronic accessories\",\"Fashion accessories\",\"Food and beverages\",\"Health and beauty\",\"Home and lifestyle\",\"Sports and travel\"],\"xaxis\":\"x\",\"y\":[92,92,80,79,77,79],\"yaxis\":\"y\",\"type\":\"bar\"}],                        {\"template\":{\"data\":{\"histogram2dcontour\":[{\"type\":\"histogram2dcontour\",\"colorbar\":{\"outlinewidth\":0,\"ticks\":\"\"},\"colorscale\":[[0.0,\"#0d0887\"],[0.1111111111111111,\"#46039f\"],[0.2222222222222222,\"#7201a8\"],[0.3333333333333333,\"#9c179e\"],[0.4444444444444444,\"#bd3786\"],[0.5555555555555556,\"#d8576b\"],[0.6666666666666666,\"#ed7953\"],[0.7777777777777778,\"#fb9f3a\"],[0.8888888888888888,\"#fdca26\"],[1.0,\"#f0f921\"]]}],\"choropleth\":[{\"type\":\"choropleth\",\"colorbar\":{\"outlinewidth\":0,\"ticks\":\"\"}}],\"histogram2d\":[{\"type\":\"histogram2d\",\"colorbar\":{\"outlinewidth\":0,\"ticks\":\"\"},\"colorscale\":[[0.0,\"#0d0887\"],[0.1111111111111111,\"#46039f\"],[0.2222222222222222,\"#7201a8\"],[0.3333333333333333,\"#9c179e\"],[0.4444444444444444,\"#bd3786\"],[0.5555555555555556,\"#d8576b\"],[0.6666666666666666,\"#ed7953\"],[0.7777777777777778,\"#fb9f3a\"],[0.8888888888888888,\"#fdca26\"],[1.0,\"#f0f921\"]]}],\"heatmap\":[{\"type\":\"heatmap\",\"colorbar\":{\"outlinewidth\":0,\"ticks\":\"\"},\"colorscale\":[[0.0,\"#0d0887\"],[0.1111111111111111,\"#46039f\"],[0.2222222222222222,\"#7201a8\"],[0.3333333333333333,\"#9c179e\"],[0.4444444444444444,\"#bd3786\"],[0.5555555555555556,\"#d8576b\"],[0.6666666666666666,\"#ed7953\"],[0.7777777777777778,\"#fb9f3a\"],[0.8888888888888888,\"#fdca26\"],[1.0,\"#f0f921\"]]}],\"heatmapgl\":[{\"type\":\"heatmapgl\",\"colorbar\":{\"outlinewidth\":0,\"ticks\":\"\"},\"colorscale\":[[0.0,\"#0d0887\"],[0.1111111111111111,\"#46039f\"],[0.2222222222222222,\"#7201a8\"],[0.3333333333333333,\"#9c179e\"],[0.4444444444444444,\"#bd3786\"],[0.5555555555555556,\"#d8576b\"],[0.6666666666666666,\"#ed7953\"],[0.7777777777777778,\"#fb9f3a\"],[0.8888888888888888,\"#fdca26\"],[1.0,\"#f0f921\"]]}],\"contourcarpet\":[{\"type\":\"contourcarpet\",\"colorbar\":{\"outlinewidth\":0,\"ticks\":\"\"}}],\"contour\":[{\"type\":\"contour\",\"colorbar\":{\"outlinewidth\":0,\"ticks\":\"\"},\"colorscale\":[[0.0,\"#0d0887\"],[0.1111111111111111,\"#46039f\"],[0.2222222222222222,\"#7201a8\"],[0.3333333333333333,\"#9c179e\"],[0.4444444444444444,\"#bd3786\"],[0.5555555555555556,\"#d8576b\"],[0.6666666666666666,\"#ed7953\"],[0.7777777777777778,\"#fb9f3a\"],[0.8888888888888888,\"#fdca26\"],[1.0,\"#f0f921\"]]}],\"surface\":[{\"type\":\"surface\",\"colorbar\":{\"outlinewidth\":0,\"ticks\":\"\"},\"colorscale\":[[0.0,\"#0d0887\"],[0.1111111111111111,\"#46039f\"],[0.2222222222222222,\"#7201a8\"],[0.3333333333333333,\"#9c179e\"],[0.4444444444444444,\"#bd3786\"],[0.5555555555555556,\"#d8576b\"],[0.6666666666666666,\"#ed7953\"],[0.7777777777777778,\"#fb9f3a\"],[0.8888888888888888,\"#fdca26\"],[1.0,\"#f0f921\"]]}],\"mesh3d\":[{\"type\":\"mesh3d\",\"colorbar\":{\"outlinewidth\":0,\"ticks\":\"\"}}],\"scatter\":[{\"fillpattern\":{\"fillmode\":\"overlay\",\"size\":10,\"solidity\":0.2},\"type\":\"scatter\"}],\"parcoords\":[{\"type\":\"parcoords\",\"line\":{\"colorbar\":{\"outlinewidth\":0,\"ticks\":\"\"}}}],\"scatterpolargl\":[{\"type\":\"scatterpolargl\",\"marker\":{\"colorbar\":{\"outlinewidth\":0,\"ticks\":\"\"}}}],\"bar\":[{\"error_x\":{\"color\":\"#2a3f5f\"},\"error_y\":{\"color\":\"#2a3f5f\"},\"marker\":{\"line\":{\"color\":\"#E5ECF6\",\"width\":0.5},\"pattern\":{\"fillmode\":\"overlay\",\"size\":10,\"solidity\":0.2}},\"type\":\"bar\"}],\"scattergeo\":[{\"type\":\"scattergeo\",\"marker\":{\"colorbar\":{\"outlinewidth\":0,\"ticks\":\"\"}}}],\"scatterpolar\":[{\"type\":\"scatterpolar\",\"marker\":{\"colorbar\":{\"outlinewidth\":0,\"ticks\":\"\"}}}],\"histogram\":[{\"marker\":{\"pattern\":{\"fillmode\":\"overlay\",\"size\":10,\"solidity\":0.2}},\"type\":\"histogram\"}],\"scattergl\":[{\"type\":\"scattergl\",\"marker\":{\"colorbar\":{\"outlinewidth\":0,\"ticks\":\"\"}}}],\"scatter3d\":[{\"type\":\"scatter3d\",\"line\":{\"colorbar\":{\"outlinewidth\":0,\"ticks\":\"\"}},\"marker\":{\"colorbar\":{\"outlinewidth\":0,\"ticks\":\"\"}}}],\"scattermapbox\":[{\"type\":\"scattermapbox\",\"marker\":{\"colorbar\":{\"outlinewidth\":0,\"ticks\":\"\"}}}],\"scatterternary\":[{\"type\":\"scatterternary\",\"marker\":{\"colorbar\":{\"outlinewidth\":0,\"ticks\":\"\"}}}],\"scattercarpet\":[{\"type\":\"scattercarpet\",\"marker\":{\"colorbar\":{\"outlinewidth\":0,\"ticks\":\"\"}}}],\"carpet\":[{\"aaxis\":{\"endlinecolor\":\"#2a3f5f\",\"gridcolor\":\"white\",\"linecolor\":\"white\",\"minorgridcolor\":\"white\",\"startlinecolor\":\"#2a3f5f\"},\"baxis\":{\"endlinecolor\":\"#2a3f5f\",\"gridcolor\":\"white\",\"linecolor\":\"white\",\"minorgridcolor\":\"white\",\"startlinecolor\":\"#2a3f5f\"},\"type\":\"carpet\"}],\"table\":[{\"cells\":{\"fill\":{\"color\":\"#EBF0F8\"},\"line\":{\"color\":\"white\"}},\"header\":{\"fill\":{\"color\":\"#C8D4E3\"},\"line\":{\"color\":\"white\"}},\"type\":\"table\"}],\"barpolar\":[{\"marker\":{\"line\":{\"color\":\"#E5ECF6\",\"width\":0.5},\"pattern\":{\"fillmode\":\"overlay\",\"size\":10,\"solidity\":0.2}},\"type\":\"barpolar\"}],\"pie\":[{\"automargin\":true,\"type\":\"pie\"}]},\"layout\":{\"autotypenumbers\":\"strict\",\"colorway\":[\"#636efa\",\"#EF553B\",\"#00cc96\",\"#ab63fa\",\"#FFA15A\",\"#19d3f3\",\"#FF6692\",\"#B6E880\",\"#FF97FF\",\"#FECB52\"],\"font\":{\"color\":\"#2a3f5f\"},\"hovermode\":\"closest\",\"hoverlabel\":{\"align\":\"left\"},\"paper_bgcolor\":\"white\",\"plot_bgcolor\":\"#E5ECF6\",\"polar\":{\"bgcolor\":\"#E5ECF6\",\"angularaxis\":{\"gridcolor\":\"white\",\"linecolor\":\"white\",\"ticks\":\"\"},\"radialaxis\":{\"gridcolor\":\"white\",\"linecolor\":\"white\",\"ticks\":\"\"}},\"ternary\":{\"bgcolor\":\"#E5ECF6\",\"aaxis\":{\"gridcolor\":\"white\",\"linecolor\":\"white\",\"ticks\":\"\"},\"baxis\":{\"gridcolor\":\"white\",\"linecolor\":\"white\",\"ticks\":\"\"},\"caxis\":{\"gridcolor\":\"white\",\"linecolor\":\"white\",\"ticks\":\"\"}},\"coloraxis\":{\"colorbar\":{\"outlinewidth\":0,\"ticks\":\"\"}},\"colorscale\":{\"sequential\":[[0.0,\"#0d0887\"],[0.1111111111111111,\"#46039f\"],[0.2222222222222222,\"#7201a8\"],[0.3333333333333333,\"#9c179e\"],[0.4444444444444444,\"#bd3786\"],[0.5555555555555556,\"#d8576b\"],[0.6666666666666666,\"#ed7953\"],[0.7777777777777778,\"#fb9f3a\"],[0.8888888888888888,\"#fdca26\"],[1.0,\"#f0f921\"]],\"sequentialminus\":[[0.0,\"#0d0887\"],[0.1111111111111111,\"#46039f\"],[0.2222222222222222,\"#7201a8\"],[0.3333333333333333,\"#9c179e\"],[0.4444444444444444,\"#bd3786\"],[0.5555555555555556,\"#d8576b\"],[0.6666666666666666,\"#ed7953\"],[0.7777777777777778,\"#fb9f3a\"],[0.8888888888888888,\"#fdca26\"],[1.0,\"#f0f921\"]],\"diverging\":[[0,\"#8e0152\"],[0.1,\"#c51b7d\"],[0.2,\"#de77ae\"],[0.3,\"#f1b6da\"],[0.4,\"#fde0ef\"],[0.5,\"#f7f7f7\"],[0.6,\"#e6f5d0\"],[0.7,\"#b8e186\"],[0.8,\"#7fbc41\"],[0.9,\"#4d9221\"],[1,\"#276419\"]]},\"xaxis\":{\"gridcolor\":\"white\",\"linecolor\":\"white\",\"ticks\":\"\",\"title\":{\"standoff\":15},\"zerolinecolor\":\"white\",\"automargin\":true,\"zerolinewidth\":2},\"yaxis\":{\"gridcolor\":\"white\",\"linecolor\":\"white\",\"ticks\":\"\",\"title\":{\"standoff\":15},\"zerolinecolor\":\"white\",\"automargin\":true,\"zerolinewidth\":2},\"scene\":{\"xaxis\":{\"backgroundcolor\":\"#E5ECF6\",\"gridcolor\":\"white\",\"linecolor\":\"white\",\"showbackground\":true,\"ticks\":\"\",\"zerolinecolor\":\"white\",\"gridwidth\":2},\"yaxis\":{\"backgroundcolor\":\"#E5ECF6\",\"gridcolor\":\"white\",\"linecolor\":\"white\",\"showbackground\":true,\"ticks\":\"\",\"zerolinecolor\":\"white\",\"gridwidth\":2},\"zaxis\":{\"backgroundcolor\":\"#E5ECF6\",\"gridcolor\":\"white\",\"linecolor\":\"white\",\"showbackground\":true,\"ticks\":\"\",\"zerolinecolor\":\"white\",\"gridwidth\":2}},\"shapedefaults\":{\"line\":{\"color\":\"#2a3f5f\"}},\"annotationdefaults\":{\"arrowcolor\":\"#2a3f5f\",\"arrowhead\":0,\"arrowwidth\":1},\"geo\":{\"bgcolor\":\"white\",\"landcolor\":\"#E5ECF6\",\"subunitcolor\":\"white\",\"showland\":true,\"showlakes\":true,\"lakecolor\":\"white\"},\"title\":{\"x\":0.05},\"mapbox\":{\"style\":\"light\"}}},\"xaxis\":{\"anchor\":\"y\",\"domain\":[0.0,1.0],\"title\":{\"text\":\"Product line\"}},\"yaxis\":{\"anchor\":\"x\",\"domain\":[0.0,1.0],\"title\":{\"text\":\"Liczba zakup\\u00f3w\"}},\"legend\":{\"title\":{\"text\":\"Customer type\"},\"tracegroupgap\":0},\"title\":{\"text\":\"Por\\u00f3wnanie zakup\\u00f3w produkt\\u00f3w przez cz\\u0142onk\\u00f3w i zwyk\\u0142ych klient\\u00f3w\"},\"barmode\":\"group\"},                        {\"responsive\": true}                    ).then(function(){\n",
              "                            \n",
              "var gd = document.getElementById('df6ae63b-c54d-48db-807b-b177dd1df4ef');\n",
              "var x = new MutationObserver(function (mutations, observer) {{\n",
              "        var display = window.getComputedStyle(gd).display;\n",
              "        if (!display || display === 'none') {{\n",
              "            console.log([gd, 'removed!']);\n",
              "            Plotly.purge(gd);\n",
              "            observer.disconnect();\n",
              "        }}\n",
              "}});\n",
              "\n",
              "// Listen for the removal of the full notebook cells\n",
              "var notebookContainer = gd.closest('#notebook-container');\n",
              "if (notebookContainer) {{\n",
              "    x.observe(notebookContainer, {childList: true});\n",
              "}}\n",
              "\n",
              "// Listen for the clearing of the current output cell\n",
              "var outputEl = gd.closest('.output');\n",
              "if (outputEl) {{\n",
              "    x.observe(outputEl, {childList: true});\n",
              "}}\n",
              "\n",
              "                        })                };                            </script>        </div>\n",
              "</body>\n",
              "</html>"
            ]
          },
          "metadata": {}
        }
      ],
      "source": [
        "count_products = df.groupby(['Customer type', 'Product line']).size().reset_index(name='Liczba zakupów')\n",
        "fig = px.bar(count_products, x='Product line', y='Liczba zakupów', color='Customer type', barmode='group',\n",
        "             title='Porównanie zakupów produktów przez członków i zwykłych klientów')\n",
        "fig.show()"
      ],
      "metadata": {
        "ExecuteTime": {
          "end_time": "2024-01-22T11:49:12.827556900Z",
          "start_time": "2024-01-22T11:49:12.721851900Z"
        },
        "colab": {
          "base_uri": "https://localhost:8080/",
          "height": 542
        },
        "id": "MOP-fBHjAOBr",
        "outputId": "5aa38ffa-f96c-4870-a61e-029a284801f7"
      }
    },
    {
      "cell_type": "markdown",
      "source": [
        "Jak widać na wykresie, klienci mający status członka częściej kupują artykuły spożywcze, sportowe i związane z domem i style życia. W pozostałych przypadkach posiadanie statusu członka nie wpływa na zwiększoną ilość zakupów."
      ],
      "metadata": {
        "id": "aAhoo0RTnBWM"
      }
    },
    {
      "cell_type": "code",
      "execution_count": null,
      "outputs": [
        {
          "output_type": "display_data",
          "data": {
            "text/html": [
              "<html>\n",
              "<head><meta charset=\"utf-8\" /></head>\n",
              "<body>\n",
              "    <div>            <script src=\"https://cdnjs.cloudflare.com/ajax/libs/mathjax/2.7.5/MathJax.js?config=TeX-AMS-MML_SVG\"></script><script type=\"text/javascript\">if (window.MathJax && window.MathJax.Hub && window.MathJax.Hub.Config) {window.MathJax.Hub.Config({SVG: {font: \"STIX-Web\"}});}</script>                <script type=\"text/javascript\">window.PlotlyConfig = {MathJaxConfig: 'local'};</script>\n",
              "        <script charset=\"utf-8\" src=\"https://cdn.plot.ly/plotly-2.24.1.min.js\"></script>                <div id=\"b1ccb7e8-76cd-46bd-83e2-ed80b7106b33\" class=\"plotly-graph-div\" style=\"height:525px; width:100%;\"></div>            <script type=\"text/javascript\">                                    window.PLOTLYENV=window.PLOTLYENV || {};                                    if (document.getElementById(\"b1ccb7e8-76cd-46bd-83e2-ed80b7106b33\")) {                    Plotly.newPlot(                        \"b1ccb7e8-76cd-46bd-83e2-ed80b7106b33\",                        [{\"alignmentgroup\":\"True\",\"hovertemplate\":\"Rodzaj artyku\\u0142\\u00f3w=%{x}\\u003cbr\\u003eCena zakup\\u00f3w=%{y}\\u003cextra\\u003e\\u003c\\u002fextra\\u003e\",\"legendgroup\":\"\",\"marker\":{\"color\":\"#636efa\"},\"name\":\"\",\"notched\":false,\"offsetgroup\":\"\",\"orientation\":\"v\",\"showlegend\":false,\"x\":[\"Health and beauty\",\"Electronic accessories\",\"Home and lifestyle\",\"Health and beauty\",\"Sports and travel\",\"Electronic accessories\",\"Electronic accessories\",\"Home and lifestyle\",\"Health and beauty\",\"Food and beverages\",\"Fashion accessories\",\"Electronic accessories\",\"Electronic accessories\",\"Food and beverages\",\"Health and beauty\",\"Sports and travel\",\"Health and beauty\",\"Sports and travel\",\"Food and beverages\",\"Home and lifestyle\",\"Electronic accessories\",\"Health and beauty\",\"Home and lifestyle\",\"Electronic accessories\",\"Sports and travel\",\"Home and lifestyle\",\"Fashion accessories\",\"Fashion accessories\",\"Food and beverages\",\"Health and beauty\",\"Fashion accessories\",\"Sports and travel\",\"Sports and travel\",\"Health and beauty\",\"Food and beverages\",\"Sports and travel\",\"Sports and travel\",\"Electronic accessories\",\"Health and beauty\",\"Home and lifestyle\",\"Home and lifestyle\",\"Home and lifestyle\",\"Sports and travel\",\"Food and beverages\",\"Health and beauty\",\"Electronic accessories\",\"Health and beauty\",\"Food and beverages\",\"Electronic accessories\",\"Fashion accessories\",\"Food and beverages\",\"Food and beverages\",\"Fashion accessories\",\"Fashion accessories\",\"Home and lifestyle\",\"Electronic accessories\",\"Home and lifestyle\",\"Health and beauty\",\"Home and lifestyle\",\"Electronic accessories\",\"Sports and travel\",\"Home and lifestyle\",\"Sports and travel\",\"Sports and travel\",\"Health and beauty\",\"Health and beauty\",\"Health and beauty\",\"Fashion accessories\",\"Sports and travel\",\"Health and beauty\",\"Food and beverages\",\"Fashion accessories\",\"Food and beverages\",\"Electronic accessories\",\"Home and lifestyle\",\"Electronic accessories\",\"Fashion accessories\",\"Fashion accessories\",\"Food and beverages\",\"Health and beauty\",\"Health and beauty\",\"Food and beverages\",\"Food and beverages\",\"Food and beverages\",\"Sports and travel\",\"Sports and travel\",\"Fashion accessories\",\"Food and beverages\",\"Sports and travel\",\"Health and beauty\",\"Home and lifestyle\",\"Sports and travel\",\"Sports and travel\",\"Health and beauty\",\"Health and beauty\",\"Electronic accessories\",\"Health and beauty\",\"Electronic accessories\",\"Food and beverages\",\"Home and lifestyle\",\"Fashion accessories\",\"Fashion accessories\",\"Electronic accessories\",\"Food and beverages\",\"Health and beauty\",\"Electronic accessories\",\"Fashion accessories\",\"Sports and travel\",\"Food and beverages\",\"Electronic accessories\",\"Sports and travel\",\"Health and beauty\",\"Fashion accessories\",\"Home and lifestyle\",\"Home and lifestyle\",\"Fashion accessories\",\"Fashion accessories\",\"Fashion accessories\",\"Food and beverages\",\"Home and lifestyle\",\"Electronic accessories\",\"Sports and travel\",\"Sports and travel\",\"Home and lifestyle\",\"Fashion accessories\",\"Home and lifestyle\",\"Sports and travel\",\"Fashion accessories\",\"Food and beverages\",\"Sports and travel\",\"Fashion accessories\",\"Sports and travel\",\"Sports and travel\",\"Electronic accessories\",\"Health and beauty\",\"Fashion accessories\",\"Electronic accessories\",\"Home and lifestyle\",\"Sports and travel\",\"Sports and travel\",\"Sports and travel\",\"Health and beauty\",\"Health and beauty\",\"Food and beverages\",\"Home and lifestyle\",\"Health and beauty\",\"Fashion accessories\",\"Health and beauty\",\"Home and lifestyle\",\"Health and beauty\",\"Fashion accessories\",\"Sports and travel\",\"Fashion accessories\",\"Food and beverages\",\"Sports and travel\",\"Food and beverages\",\"Electronic accessories\",\"Home and lifestyle\",\"Health and beauty\",\"Sports and travel\",\"Food and beverages\",\"Sports and travel\",\"Food and beverages\",\"Sports and travel\",\"Food and beverages\",\"Health and beauty\",\"Home and lifestyle\",\"Fashion accessories\",\"Food and beverages\",\"Sports and travel\",\"Health and beauty\",\"Food and beverages\",\"Electronic accessories\",\"Electronic accessories\",\"Food and beverages\",\"Home and lifestyle\",\"Food and beverages\",\"Fashion accessories\",\"Food and beverages\",\"Health and beauty\",\"Fashion accessories\",\"Food and beverages\",\"Sports and travel\",\"Health and beauty\",\"Sports and travel\",\"Food and beverages\",\"Home and lifestyle\",\"Home and lifestyle\",\"Home and lifestyle\",\"Home and lifestyle\",\"Home and lifestyle\",\"Fashion accessories\",\"Food and beverages\",\"Home and lifestyle\",\"Electronic accessories\",\"Fashion accessories\",\"Health and beauty\",\"Home and lifestyle\",\"Health and beauty\",\"Food and beverages\",\"Sports and travel\",\"Electronic accessories\",\"Electronic accessories\",\"Health and beauty\",\"Home and lifestyle\",\"Health and beauty\",\"Electronic accessories\",\"Home and lifestyle\",\"Fashion accessories\",\"Electronic accessories\",\"Electronic accessories\",\"Food and beverages\",\"Home and lifestyle\",\"Sports and travel\",\"Sports and travel\",\"Home and lifestyle\",\"Sports and travel\",\"Electronic accessories\",\"Fashion accessories\",\"Food and beverages\",\"Electronic accessories\",\"Food and beverages\",\"Electronic accessories\",\"Fashion accessories\",\"Food and beverages\",\"Sports and travel\",\"Health and beauty\",\"Electronic accessories\",\"Electronic accessories\",\"Home and lifestyle\",\"Fashion accessories\",\"Electronic accessories\",\"Health and beauty\",\"Fashion accessories\",\"Health and beauty\",\"Sports and travel\",\"Health and beauty\",\"Fashion accessories\",\"Electronic accessories\",\"Fashion accessories\",\"Food and beverages\",\"Health and beauty\",\"Fashion accessories\",\"Home and lifestyle\",\"Home and lifestyle\",\"Home and lifestyle\",\"Electronic accessories\",\"Fashion accessories\",\"Electronic accessories\",\"Food and beverages\",\"Food and beverages\",\"Fashion accessories\",\"Sports and travel\",\"Home and lifestyle\",\"Home and lifestyle\",\"Fashion accessories\",\"Electronic accessories\",\"Home and lifestyle\",\"Electronic accessories\",\"Electronic accessories\",\"Electronic accessories\",\"Fashion accessories\",\"Fashion accessories\",\"Sports and travel\",\"Sports and travel\",\"Sports and travel\",\"Home and lifestyle\",\"Food and beverages\",\"Home and lifestyle\",\"Home and lifestyle\",\"Sports and travel\",\"Health and beauty\",\"Home and lifestyle\",\"Home and lifestyle\",\"Health and beauty\",\"Fashion accessories\",\"Home and lifestyle\",\"Fashion accessories\",\"Fashion accessories\",\"Sports and travel\",\"Home and lifestyle\",\"Home and lifestyle\",\"Sports and travel\",\"Health and beauty\",\"Health and beauty\",\"Health and beauty\",\"Home and lifestyle\",\"Sports and travel\",\"Food and beverages\",\"Home and lifestyle\",\"Electronic accessories\",\"Electronic accessories\",\"Electronic accessories\",\"Food and beverages\",\"Health and beauty\",\"Electronic accessories\",\"Electronic accessories\",\"Home and lifestyle\",\"Home and lifestyle\",\"Home and lifestyle\",\"Fashion accessories\",\"Health and beauty\",\"Food and beverages\",\"Electronic accessories\",\"Electronic accessories\",\"Electronic accessories\",\"Sports and travel\",\"Home and lifestyle\",\"Electronic accessories\",\"Fashion accessories\",\"Sports and travel\",\"Fashion accessories\",\"Food and beverages\",\"Health and beauty\",\"Electronic accessories\",\"Food and beverages\",\"Food and beverages\",\"Electronic accessories\",\"Health and beauty\",\"Health and beauty\",\"Food and beverages\",\"Health and beauty\",\"Health and beauty\",\"Fashion accessories\",\"Home and lifestyle\",\"Sports and travel\",\"Food and beverages\",\"Food and beverages\",\"Health and beauty\",\"Electronic accessories\",\"Home and lifestyle\",\"Food and beverages\",\"Fashion accessories\",\"Food and beverages\",\"Sports and travel\",\"Electronic accessories\",\"Fashion accessories\",\"Sports and travel\",\"Electronic accessories\",\"Food and beverages\",\"Electronic accessories\",\"Health and beauty\",\"Health and beauty\",\"Food and beverages\",\"Sports and travel\",\"Fashion accessories\",\"Electronic accessories\",\"Home and lifestyle\",\"Electronic accessories\",\"Health and beauty\",\"Fashion accessories\",\"Electronic accessories\",\"Fashion accessories\",\"Home and lifestyle\",\"Electronic accessories\",\"Food and beverages\",\"Fashion accessories\",\"Sports and travel\",\"Electronic accessories\",\"Sports and travel\",\"Food and beverages\",\"Food and beverages\",\"Food and beverages\",\"Home and lifestyle\",\"Food and beverages\",\"Fashion accessories\",\"Electronic accessories\",\"Home and lifestyle\",\"Sports and travel\",\"Electronic accessories\",\"Electronic accessories\",\"Fashion accessories\",\"Home and lifestyle\",\"Fashion accessories\",\"Home and lifestyle\",\"Fashion accessories\",\"Home and lifestyle\",\"Sports and travel\",\"Fashion accessories\",\"Electronic accessories\",\"Sports and travel\",\"Electronic accessories\",\"Food and beverages\",\"Food and beverages\",\"Food and beverages\",\"Sports and travel\",\"Food and beverages\",\"Health and beauty\",\"Fashion accessories\",\"Food and beverages\",\"Fashion accessories\",\"Fashion accessories\",\"Electronic accessories\",\"Sports and travel\",\"Health and beauty\",\"Health and beauty\",\"Food and beverages\",\"Home and lifestyle\",\"Health and beauty\",\"Electronic accessories\",\"Food and beverages\",\"Home and lifestyle\",\"Home and lifestyle\",\"Fashion accessories\",\"Fashion accessories\",\"Sports and travel\",\"Food and beverages\",\"Fashion accessories\",\"Home and lifestyle\",\"Fashion accessories\",\"Health and beauty\",\"Sports and travel\",\"Health and beauty\",\"Sports and travel\",\"Home and lifestyle\",\"Health and beauty\",\"Home and lifestyle\",\"Health and beauty\",\"Health and beauty\",\"Electronic accessories\",\"Food and beverages\",\"Electronic accessories\",\"Fashion accessories\",\"Fashion accessories\",\"Fashion accessories\",\"Fashion accessories\",\"Health and beauty\",\"Food and beverages\",\"Sports and travel\",\"Home and lifestyle\",\"Fashion accessories\",\"Food and beverages\",\"Electronic accessories\",\"Fashion accessories\",\"Fashion accessories\",\"Sports and travel\",\"Sports and travel\",\"Home and lifestyle\",\"Food and beverages\",\"Electronic accessories\",\"Food and beverages\",\"Sports and travel\",\"Home and lifestyle\",\"Fashion accessories\",\"Sports and travel\",\"Health and beauty\",\"Food and beverages\",\"Fashion accessories\",\"Health and beauty\",\"Sports and travel\",\"Electronic accessories\",\"Electronic accessories\",\"Food and beverages\",\"Health and beauty\",\"Electronic accessories\",\"Fashion accessories\",\"Food and beverages\",\"Electronic accessories\",\"Electronic accessories\",\"Food and beverages\",\"Food and beverages\",\"Food and beverages\",\"Sports and travel\",\"Food and beverages\",\"Food and beverages\",\"Sports and travel\",\"Health and beauty\",\"Sports and travel\",\"Food and beverages\",\"Electronic accessories\",\"Home and lifestyle\",\"Sports and travel\",\"Fashion accessories\",\"Health and beauty\",\"Electronic accessories\",\"Health and beauty\",\"Sports and travel\",\"Electronic accessories\",\"Sports and travel\",\"Electronic accessories\",\"Food and beverages\",\"Electronic accessories\",\"Sports and travel\",\"Home and lifestyle\",\"Sports and travel\",\"Sports and travel\",\"Fashion accessories\",\"Fashion accessories\",\"Home and lifestyle\",\"Home and lifestyle\",\"Fashion accessories\",\"Fashion accessories\",\"Health and beauty\",\"Home and lifestyle\",\"Fashion accessories\",\"Sports and travel\",\"Electronic accessories\",\"Food and beverages\",\"Sports and travel\",\"Sports and travel\",\"Sports and travel\",\"Fashion accessories\",\"Home and lifestyle\",\"Sports and travel\",\"Sports and travel\",\"Electronic accessories\",\"Sports and travel\",\"Food and beverages\",\"Health and beauty\",\"Home and lifestyle\",\"Sports and travel\",\"Home and lifestyle\",\"Fashion accessories\",\"Electronic accessories\",\"Sports and travel\",\"Fashion accessories\",\"Health and beauty\",\"Home and lifestyle\",\"Home and lifestyle\",\"Sports and travel\",\"Electronic accessories\",\"Home and lifestyle\",\"Home and lifestyle\",\"Health and beauty\",\"Food and beverages\",\"Sports and travel\",\"Fashion accessories\",\"Fashion accessories\",\"Food and beverages\",\"Sports and travel\",\"Health and beauty\",\"Fashion accessories\",\"Electronic accessories\",\"Food and beverages\",\"Home and lifestyle\",\"Home and lifestyle\",\"Fashion accessories\",\"Home and lifestyle\",\"Fashion accessories\",\"Food and beverages\",\"Home and lifestyle\",\"Health and beauty\",\"Sports and travel\",\"Electronic accessories\",\"Food and beverages\",\"Home and lifestyle\",\"Fashion accessories\",\"Sports and travel\",\"Sports and travel\",\"Electronic accessories\",\"Fashion accessories\",\"Fashion accessories\",\"Health and beauty\",\"Electronic accessories\",\"Electronic accessories\",\"Home and lifestyle\",\"Fashion accessories\",\"Food and beverages\",\"Food and beverages\",\"Home and lifestyle\",\"Electronic accessories\",\"Food and beverages\",\"Electronic accessories\",\"Electronic accessories\",\"Fashion accessories\",\"Food and beverages\",\"Sports and travel\",\"Fashion accessories\",\"Fashion accessories\",\"Sports and travel\",\"Home and lifestyle\",\"Sports and travel\",\"Food and beverages\",\"Food and beverages\",\"Sports and travel\",\"Fashion accessories\",\"Food and beverages\",\"Food and beverages\",\"Health and beauty\",\"Health and beauty\",\"Food and beverages\",\"Health and beauty\",\"Fashion accessories\",\"Fashion accessories\",\"Sports and travel\",\"Health and beauty\",\"Food and beverages\",\"Sports and travel\",\"Fashion accessories\",\"Health and beauty\",\"Health and beauty\",\"Home and lifestyle\",\"Sports and travel\",\"Sports and travel\",\"Sports and travel\",\"Health and beauty\",\"Food and beverages\",\"Sports and travel\",\"Fashion accessories\",\"Home and lifestyle\",\"Electronic accessories\",\"Fashion accessories\",\"Food and beverages\",\"Sports and travel\",\"Fashion accessories\",\"Home and lifestyle\",\"Fashion accessories\",\"Food and beverages\",\"Fashion accessories\",\"Food and beverages\",\"Electronic accessories\",\"Food and beverages\",\"Fashion accessories\",\"Sports and travel\",\"Food and beverages\",\"Sports and travel\",\"Sports and travel\",\"Electronic accessories\",\"Food and beverages\",\"Fashion accessories\",\"Food and beverages\",\"Food and beverages\",\"Home and lifestyle\",\"Fashion accessories\",\"Fashion accessories\",\"Food and beverages\",\"Sports and travel\",\"Health and beauty\",\"Home and lifestyle\",\"Fashion accessories\",\"Sports and travel\",\"Electronic accessories\",\"Food and beverages\",\"Home and lifestyle\",\"Food and beverages\",\"Health and beauty\",\"Health and beauty\",\"Electronic accessories\",\"Food and beverages\",\"Fashion accessories\",\"Food and beverages\",\"Electronic accessories\",\"Electronic accessories\",\"Food and beverages\",\"Electronic accessories\",\"Home and lifestyle\",\"Health and beauty\",\"Fashion accessories\",\"Sports and travel\",\"Electronic accessories\",\"Electronic accessories\",\"Health and beauty\",\"Home and lifestyle\",\"Sports and travel\",\"Fashion accessories\",\"Electronic accessories\",\"Electronic accessories\",\"Fashion accessories\",\"Sports and travel\",\"Fashion accessories\",\"Sports and travel\",\"Sports and travel\",\"Fashion accessories\",\"Food and beverages\",\"Sports and travel\",\"Fashion accessories\",\"Food and beverages\",\"Health and beauty\",\"Health and beauty\",\"Sports and travel\",\"Fashion accessories\",\"Food and beverages\",\"Health and beauty\",\"Health and beauty\",\"Electronic accessories\",\"Fashion accessories\",\"Sports and travel\",\"Food and beverages\",\"Health and beauty\",\"Food and beverages\",\"Electronic accessories\",\"Sports and travel\",\"Fashion accessories\",\"Fashion accessories\",\"Sports and travel\",\"Home and lifestyle\",\"Sports and travel\",\"Home and lifestyle\",\"Sports and travel\",\"Food and beverages\",\"Sports and travel\",\"Food and beverages\",\"Health and beauty\",\"Fashion accessories\",\"Food and beverages\",\"Home and lifestyle\",\"Sports and travel\",\"Home and lifestyle\",\"Electronic accessories\",\"Home and lifestyle\",\"Fashion accessories\",\"Food and beverages\",\"Fashion accessories\",\"Health and beauty\",\"Home and lifestyle\",\"Health and beauty\",\"Electronic accessories\",\"Food and beverages\",\"Fashion accessories\",\"Sports and travel\",\"Food and beverages\",\"Home and lifestyle\",\"Electronic accessories\",\"Health and beauty\",\"Fashion accessories\",\"Health and beauty\",\"Fashion accessories\",\"Electronic accessories\",\"Fashion accessories\",\"Fashion accessories\",\"Fashion accessories\",\"Sports and travel\",\"Home and lifestyle\",\"Food and beverages\",\"Food and beverages\",\"Health and beauty\",\"Home and lifestyle\",\"Sports and travel\",\"Fashion accessories\",\"Home and lifestyle\",\"Fashion accessories\",\"Health and beauty\",\"Fashion accessories\",\"Electronic accessories\",\"Food and beverages\",\"Health and beauty\",\"Home and lifestyle\",\"Electronic accessories\",\"Electronic accessories\",\"Home and lifestyle\",\"Home and lifestyle\",\"Food and beverages\",\"Sports and travel\",\"Home and lifestyle\",\"Sports and travel\",\"Food and beverages\",\"Fashion accessories\",\"Home and lifestyle\",\"Home and lifestyle\",\"Health and beauty\",\"Fashion accessories\",\"Food and beverages\",\"Electronic accessories\",\"Home and lifestyle\",\"Fashion accessories\",\"Fashion accessories\",\"Electronic accessories\",\"Home and lifestyle\",\"Food and beverages\",\"Food and beverages\",\"Food and beverages\",\"Electronic accessories\",\"Fashion accessories\",\"Health and beauty\",\"Health and beauty\",\"Home and lifestyle\",\"Fashion accessories\",\"Sports and travel\",\"Electronic accessories\",\"Home and lifestyle\",\"Sports and travel\",\"Health and beauty\",\"Sports and travel\",\"Food and beverages\",\"Food and beverages\",\"Food and beverages\",\"Health and beauty\",\"Sports and travel\",\"Sports and travel\",\"Electronic accessories\",\"Health and beauty\",\"Sports and travel\",\"Fashion accessories\",\"Home and lifestyle\",\"Health and beauty\",\"Electronic accessories\",\"Electronic accessories\",\"Health and beauty\",\"Health and beauty\",\"Sports and travel\",\"Fashion accessories\",\"Health and beauty\",\"Home and lifestyle\",\"Electronic accessories\",\"Electronic accessories\",\"Fashion accessories\",\"Home and lifestyle\",\"Sports and travel\",\"Health and beauty\",\"Home and lifestyle\",\"Sports and travel\",\"Electronic accessories\",\"Fashion accessories\",\"Fashion accessories\",\"Electronic accessories\",\"Home and lifestyle\",\"Sports and travel\",\"Electronic accessories\",\"Health and beauty\",\"Fashion accessories\",\"Health and beauty\",\"Electronic accessories\",\"Sports and travel\",\"Electronic accessories\",\"Electronic accessories\",\"Food and beverages\",\"Fashion accessories\",\"Food and beverages\",\"Health and beauty\",\"Food and beverages\",\"Electronic accessories\",\"Home and lifestyle\",\"Sports and travel\",\"Health and beauty\",\"Sports and travel\",\"Sports and travel\",\"Health and beauty\",\"Fashion accessories\",\"Electronic accessories\",\"Electronic accessories\",\"Electronic accessories\",\"Health and beauty\",\"Sports and travel\",\"Health and beauty\",\"Home and lifestyle\",\"Fashion accessories\",\"Fashion accessories\",\"Sports and travel\",\"Electronic accessories\",\"Sports and travel\",\"Fashion accessories\",\"Electronic accessories\",\"Sports and travel\",\"Food and beverages\",\"Fashion accessories\",\"Electronic accessories\",\"Electronic accessories\",\"Sports and travel\",\"Food and beverages\",\"Fashion accessories\",\"Fashion accessories\",\"Fashion accessories\",\"Health and beauty\",\"Electronic accessories\",\"Health and beauty\",\"Fashion accessories\",\"Food and beverages\",\"Home and lifestyle\",\"Health and beauty\",\"Food and beverages\",\"Home and lifestyle\",\"Sports and travel\",\"Home and lifestyle\",\"Home and lifestyle\",\"Electronic accessories\",\"Health and beauty\",\"Sports and travel\",\"Health and beauty\",\"Food and beverages\",\"Sports and travel\",\"Food and beverages\",\"Fashion accessories\",\"Electronic accessories\",\"Sports and travel\",\"Home and lifestyle\",\"Home and lifestyle\",\"Fashion accessories\",\"Electronic accessories\",\"Electronic accessories\",\"Electronic accessories\",\"Food and beverages\",\"Fashion accessories\",\"Sports and travel\",\"Home and lifestyle\",\"Food and beverages\",\"Sports and travel\",\"Food and beverages\",\"Electronic accessories\",\"Fashion accessories\",\"Sports and travel\",\"Health and beauty\",\"Electronic accessories\",\"Fashion accessories\",\"Electronic accessories\",\"Electronic accessories\",\"Health and beauty\",\"Fashion accessories\",\"Food and beverages\",\"Health and beauty\",\"Food and beverages\",\"Electronic accessories\",\"Home and lifestyle\",\"Health and beauty\",\"Food and beverages\",\"Health and beauty\",\"Home and lifestyle\",\"Health and beauty\",\"Health and beauty\",\"Food and beverages\",\"Home and lifestyle\",\"Food and beverages\",\"Electronic accessories\",\"Home and lifestyle\",\"Fashion accessories\",\"Food and beverages\",\"Electronic accessories\",\"Sports and travel\",\"Fashion accessories\",\"Home and lifestyle\",\"Electronic accessories\",\"Home and lifestyle\",\"Home and lifestyle\",\"Home and lifestyle\",\"Sports and travel\",\"Sports and travel\",\"Electronic accessories\",\"Sports and travel\",\"Health and beauty\",\"Electronic accessories\",\"Sports and travel\",\"Home and lifestyle\",\"Fashion accessories\",\"Food and beverages\",\"Health and beauty\",\"Home and lifestyle\",\"Home and lifestyle\",\"Health and beauty\",\"Sports and travel\",\"Health and beauty\",\"Food and beverages\",\"Food and beverages\",\"Fashion accessories\",\"Home and lifestyle\",\"Health and beauty\",\"Health and beauty\",\"Electronic accessories\",\"Electronic accessories\",\"Fashion accessories\",\"Home and lifestyle\",\"Food and beverages\",\"Health and beauty\",\"Home and lifestyle\",\"Food and beverages\",\"Food and beverages\",\"Home and lifestyle\",\"Fashion accessories\",\"Food and beverages\",\"Electronic accessories\",\"Home and lifestyle\",\"Food and beverages\",\"Fashion accessories\",\"Electronic accessories\",\"Fashion accessories\",\"Electronic accessories\",\"Food and beverages\",\"Electronic accessories\",\"Home and lifestyle\",\"Home and lifestyle\",\"Health and beauty\",\"Electronic accessories\",\"Food and beverages\",\"Home and lifestyle\",\"Electronic accessories\",\"Home and lifestyle\",\"Fashion accessories\",\"Fashion accessories\",\"Food and beverages\",\"Food and beverages\",\"Electronic accessories\",\"Food and beverages\",\"Food and beverages\",\"Health and beauty\",\"Sports and travel\",\"Health and beauty\",\"Electronic accessories\",\"Fashion accessories\",\"Health and beauty\",\"Health and beauty\",\"Electronic accessories\",\"Health and beauty\",\"Food and beverages\",\"Sports and travel\",\"Electronic accessories\",\"Fashion accessories\",\"Electronic accessories\",\"Health and beauty\",\"Home and lifestyle\",\"Food and beverages\",\"Home and lifestyle\",\"Fashion accessories\"],\"x0\":\" \",\"xaxis\":\"x\",\"y\":[522.83,76.4,324.31,465.76,604.17,597.73,413.04,735.6,72.52,164.52,57.92,102.04,234.75,431.9,713.8,562.32,482.51,435.66,164.01,80.6,430.2,263.94,66.4,172.8,265.89,420.72,33.52,175.34,441.8,224.01,470.65,702.63,670.24,193.16,397.68,68.12,313.1,547.92,439.36,240.96,86.72,112.22,414.72,789.6,30.74,375.84,510.21,180.09,113.58,826.3,639.8,222.95,71.48,15.43,32.32,687.84,88.68,716.8,723.5,183.66,74.22,334.38,495.63,158.1,302.96,158.7,66.94,585.66,787.7,18.33,894.8,621.2,145.56,455.46,672.03,416.5,441.36,180.09,783.1,101.9,595.14,290.04,154.0,321.44,244.55,581.42,382.6,345.66,42.47,461.94,189.52,448.6,153.86,579.24,89.75,97.16,878.7,74.7,158.25,496.2,48.71,706.95,207.63,349.56,212.45,886.7,164.28,372.78,305.82,819.7,32.98,294.63,509.88,522.63,727.11,81.06,109.7,51.36,109.6,106.88,796.48,399.84,899.64,511.28,451.76,655.83,161.25,285.57,548.32,812.52,277.34,552.78,139.36,524.7,487.8,270.66,131.55,206.52,519.1,580.0,898.0,905.0,686.0,30.41,467.7,277.56,301.4,264.56,574.88,259.68,366.16,241.92,749.16,98.88,647.76,461.45,72.17,251.4,874.98,560.34,345.44,63.69,320.53,152.8,399.0,340.56,955.8,989.8,307.68,486.64,350.05,400.25,166.8,317.34,158.32,304.56,177.36,157.57,443.28,260.4,449.82,307.76,155.0,274.48,86.38,54.24,755.92,185.88,74.07,279.24,231.12,147.04,790.2,102.2,163.55,74.29,87.4,25.29,166.0,356.95,114.9,229.96,429.87,259.0,88.85,207.27,599.85,285.3,91.11,897.57,236.07,839.34,461.8,139.26,207.27,18.28,123.85,283.92,758.96,172.02,272.1,434.56,59.05,12.54,86.5,174.32,624.33,148.24,544.2,507.36,162.74,31.77,756.81,295.28,519.4,186.28,87.05,221.1,66.1,89.69,224.46,119.54,186.4,250.6,750.96,380.72,244.2,89.7,310.88,511.42,418.95,351.9,28.78,95.0,471.2,130.48,66.35,155.46,129.0,263.76,675.54,65.8,153.2,222.4,54.45,688.8,141.88,746.0,282.96,355.4,337.15,42.24,193.86,24.06,598.26,335.79,218.2,381.68,709.9,440.2,559.68,37.0,15.34,598.98,190.68,333.4,74.86,213.75,339.57,664.16,403.0,194.95,62.48,72.72,181.1,259.6,115.36,470.28,240.04,88.61,199.64,39.01,48.61,204.76,119.68,505.4,281.61,710.32,79.44,163.82,479.58,138.66,71.15,139.95,781.3,198.74,63.24,373.95,207.69,176.28,206.37,39.42,91.56,308.85,129.12,390.96,498.9,377.04,204.52,145.44,198.18,98.7,385.1,46.96,73.5,142.25,687.6,347.7,142.95,385.38,144.27,391.79,538.3,485.15,133.95,701.37,71.95,714.0,182.14,135.0,993.0,361.83,383.11,243.0,30.24,356.56,375.5,954.4,82.5,74.97,647.68,755.76,199.58,439.32,164.96,326.72,461.88,263.76,143.6,193.5,183.82,121.92,420.66,252.48,335.45,483.5,318.42,668.43,387.92,94.6,329.32,53.22,498.45,299.56,204.7,75.82,280.62,323.2,486.63,127.54,241.44,379.5,76.82,522.6,79.74,387.5,271.35,122.31,246.36,173.16,236.58,184.88,13.98,198.75,684.53,269.04,68.95,274.84,226.12,119.1,342.1,43.74,104.85,77.52,407.44,96.11,181.52,81.51,114.44,176.54,115.8,252.15,972.1,203.36,16.28,365.49,372.19,62.61,336.35,906.5,138.16,86.54,140.76,668.78,47.44,893.16,331.72,203.94,68.16,326.88,87.2,707.44,802.89,12.78,133.7,19.15,276.6,137.22,27.07,39.12,448.26,132.06,318.05,25.0,83.08,147.8,696.6,793.9,465.7,35.89,202.6,730.5,295.8,22.62,256.7,545.5,260.05,222.12,21.58,98.84,502.62,160.2,431.3,580.56,322.2,195.54,166.3,336.28,343.7,38.6,527.76,328.0,185.7,603.8,369.8,197.96,410.9,148.6,22.96,699.12,69.4,196.6,202.56,121.2,199.78,607.36,126.44,541.44,98.13,412.16,73.97,31.9,138.8,186.62,88.45,193.44,145.5,504.3,306.45,95.7,635.18,214.55,379.96,696.85,408.73,51.47,274.3,196.95,69.46,359.6,137.13,499.02,224.64,125.74,490.26,457.05,156.84,119.72,543.6,882.81,152.58,693.44,229.5,146.79,141.6,116.69,73.96,97.94,292.2,524.88,92.04,75.88,80.72,112.62,71.2,155.24,294.2,548.55,257.7,396.36,171.81,488.79,524.16,133.26,135.24,112.44,144.08,985.2,249.96,217.26,194.22,892.0,339.36,447.06,198.5,812.1,493.3,591.66,559.02,517.86,410.2,266.7,70.91,144.78,429.55,569.17,241.2,127.08,257.08,139.02,81.66,310.72,185.96,72.32,189.18,206.84,157.02,215.3,596.1,73.1,279.18,169.68,45.58,225.6,290.4,44.46,156.6,419.94,184.25,140.64,83.08,64.99,775.6,327.06,363.23,127.0,375.55,199.16,30.61,115.78,28.96,890.73,279.66,80.93,674.5,348.48,435.6,439.55,591.18,260.76,215.04,91.61,662.13,832.5,91.35,157.76,121.74,825.8,159.9,12.09,641.9,234.93,167.54,299.1,239.73,664.7,202.65,46.2,88.15,157.26,296.37,708.4,111.34,580.16,60.25,174.24,421.26,33.63,30.98,247.4,378.3,334.86,727.8,335.88,240.72,47.07,99.69,264.45,139.65,55.45,128.91,119.98,352.5,871.0,197.6,194.52,173.22,71.88,286.26,81.24,560.4,186.8,220.23,269.12,454.8,167.54,448.56,293.88,589.5,291.0,39.48,34.81,295.92,42.96,138.48,98.2,129.66,635.6,145.76,201.3,631.71,385.28,486.3,513.66,473.4,436.85,108.16,248.76,626.22,975.0,483.28,96.96,197.7,724.23,795.51,502.39,172.0,68.98,124.96,77.1,483.72,302.12,698.67,124.65,789.6,178.4,500.22,35.82,136.14,104.88,178.92,815.67,132.36,257.39,93.36,228.0,166.71,697.4,389.04,365.26,89.28,168.0,19.7,531.16,53.72,819.5,568.4,587.6,732.48,845.64,389.27,84.83,143.26,75.38,253.36,38.42,652.3,52.65,110.61,568.61,89.28,136.4,174.2,366.4,254.61,778.32,285.92,579.12,188.5,221.56,772.0,721.3,511.04,53.45,222.0,763.68,228.18,82.14,382.56,68.58,382.16,601.09,475.93,52.42,131.3,144.3,457.17,93.38,126.25,790.83,174.4,379.04,30.62,352.08,50.8,522.06,575.12,54.95,181.41,412.37,46.41,274.2,973.7,648.2,93.22,54.36,60.87,244.9,92.78,433.45,138.06,241.6,471.73,440.64,680.31,309.88,186.36,200.92,17.75,621.8,86.0,402.6,324.85,95.15,388.96,425.68,318.08,271.04,384.64,235.8,211.56,95.36,10.17,206.13,420.56,88.04,648.99,123.84,649.5,742.2,84.48,250.28,94.8,91.3,285.11,52.38,192.7,267.78,558.7,175.32,155.82,60.3,78.94,29.74,21.32,281.34,73.26,22.38,655.92,594.6,74.1,196.96,372.33,527.9,479.75,328.59,168.96,113.24,345.54,428.67,86.27,25.52,101.52,357.49,238.77,101.43,724.24,125.64,72.93,258.36,173.74,56.5,214.3,534.36,93.16,522.08,52.35,39.75,720.16,96.8,332.1,81.44,319.9,206.52,166.68,319.06,87.9,734.7,97.52,769.2,418.3,463.28,462.45,141.9,302.7,793.28,425.18,283.62,599.2,315.36,403.56,183.88,138.65,80.71,116.64,313.52,846.1,414.4,159.08,490.1,87.45,224.52,744.96,410.72,298.8,212.94,42.85,378.68,206.91,78.78,322.11,98.22,25.46,581.98,211.32,55.12,88.31,356.58,794.25,50.62,599.52,166.7,744.4,448.56,378.9,257.16,552.23,447.4,276.27,343.74,266.08,898.38,456.8,253.95,70.56,657.16,168.5,53.78,179.05,211.44,119.73,65.7,251.4,84.16,395.46,297.99,454.41,276.12,158.0,887.94,91.98,41.78,15.5,290.46,66.66,76.54,299.7,243.03,47.4,172.45,846.3,258.37,609.56,240.24,172.26,99.84,298.64,159.6,25.45,67.77,238.36,232.6,877.32,699.72,674.59,318.55,29.52,496.0,823.4,602.96,282.8,766.0,116.06,174.9,60.95,40.35,973.8,31.84,65.82,618.38],\"y0\":\" \",\"yaxis\":\"y\",\"type\":\"box\"}],                        {\"template\":{\"data\":{\"histogram2dcontour\":[{\"type\":\"histogram2dcontour\",\"colorbar\":{\"outlinewidth\":0,\"ticks\":\"\"},\"colorscale\":[[0.0,\"#0d0887\"],[0.1111111111111111,\"#46039f\"],[0.2222222222222222,\"#7201a8\"],[0.3333333333333333,\"#9c179e\"],[0.4444444444444444,\"#bd3786\"],[0.5555555555555556,\"#d8576b\"],[0.6666666666666666,\"#ed7953\"],[0.7777777777777778,\"#fb9f3a\"],[0.8888888888888888,\"#fdca26\"],[1.0,\"#f0f921\"]]}],\"choropleth\":[{\"type\":\"choropleth\",\"colorbar\":{\"outlinewidth\":0,\"ticks\":\"\"}}],\"histogram2d\":[{\"type\":\"histogram2d\",\"colorbar\":{\"outlinewidth\":0,\"ticks\":\"\"},\"colorscale\":[[0.0,\"#0d0887\"],[0.1111111111111111,\"#46039f\"],[0.2222222222222222,\"#7201a8\"],[0.3333333333333333,\"#9c179e\"],[0.4444444444444444,\"#bd3786\"],[0.5555555555555556,\"#d8576b\"],[0.6666666666666666,\"#ed7953\"],[0.7777777777777778,\"#fb9f3a\"],[0.8888888888888888,\"#fdca26\"],[1.0,\"#f0f921\"]]}],\"heatmap\":[{\"type\":\"heatmap\",\"colorbar\":{\"outlinewidth\":0,\"ticks\":\"\"},\"colorscale\":[[0.0,\"#0d0887\"],[0.1111111111111111,\"#46039f\"],[0.2222222222222222,\"#7201a8\"],[0.3333333333333333,\"#9c179e\"],[0.4444444444444444,\"#bd3786\"],[0.5555555555555556,\"#d8576b\"],[0.6666666666666666,\"#ed7953\"],[0.7777777777777778,\"#fb9f3a\"],[0.8888888888888888,\"#fdca26\"],[1.0,\"#f0f921\"]]}],\"heatmapgl\":[{\"type\":\"heatmapgl\",\"colorbar\":{\"outlinewidth\":0,\"ticks\":\"\"},\"colorscale\":[[0.0,\"#0d0887\"],[0.1111111111111111,\"#46039f\"],[0.2222222222222222,\"#7201a8\"],[0.3333333333333333,\"#9c179e\"],[0.4444444444444444,\"#bd3786\"],[0.5555555555555556,\"#d8576b\"],[0.6666666666666666,\"#ed7953\"],[0.7777777777777778,\"#fb9f3a\"],[0.8888888888888888,\"#fdca26\"],[1.0,\"#f0f921\"]]}],\"contourcarpet\":[{\"type\":\"contourcarpet\",\"colorbar\":{\"outlinewidth\":0,\"ticks\":\"\"}}],\"contour\":[{\"type\":\"contour\",\"colorbar\":{\"outlinewidth\":0,\"ticks\":\"\"},\"colorscale\":[[0.0,\"#0d0887\"],[0.1111111111111111,\"#46039f\"],[0.2222222222222222,\"#7201a8\"],[0.3333333333333333,\"#9c179e\"],[0.4444444444444444,\"#bd3786\"],[0.5555555555555556,\"#d8576b\"],[0.6666666666666666,\"#ed7953\"],[0.7777777777777778,\"#fb9f3a\"],[0.8888888888888888,\"#fdca26\"],[1.0,\"#f0f921\"]]}],\"surface\":[{\"type\":\"surface\",\"colorbar\":{\"outlinewidth\":0,\"ticks\":\"\"},\"colorscale\":[[0.0,\"#0d0887\"],[0.1111111111111111,\"#46039f\"],[0.2222222222222222,\"#7201a8\"],[0.3333333333333333,\"#9c179e\"],[0.4444444444444444,\"#bd3786\"],[0.5555555555555556,\"#d8576b\"],[0.6666666666666666,\"#ed7953\"],[0.7777777777777778,\"#fb9f3a\"],[0.8888888888888888,\"#fdca26\"],[1.0,\"#f0f921\"]]}],\"mesh3d\":[{\"type\":\"mesh3d\",\"colorbar\":{\"outlinewidth\":0,\"ticks\":\"\"}}],\"scatter\":[{\"fillpattern\":{\"fillmode\":\"overlay\",\"size\":10,\"solidity\":0.2},\"type\":\"scatter\"}],\"parcoords\":[{\"type\":\"parcoords\",\"line\":{\"colorbar\":{\"outlinewidth\":0,\"ticks\":\"\"}}}],\"scatterpolargl\":[{\"type\":\"scatterpolargl\",\"marker\":{\"colorbar\":{\"outlinewidth\":0,\"ticks\":\"\"}}}],\"bar\":[{\"error_x\":{\"color\":\"#2a3f5f\"},\"error_y\":{\"color\":\"#2a3f5f\"},\"marker\":{\"line\":{\"color\":\"#E5ECF6\",\"width\":0.5},\"pattern\":{\"fillmode\":\"overlay\",\"size\":10,\"solidity\":0.2}},\"type\":\"bar\"}],\"scattergeo\":[{\"type\":\"scattergeo\",\"marker\":{\"colorbar\":{\"outlinewidth\":0,\"ticks\":\"\"}}}],\"scatterpolar\":[{\"type\":\"scatterpolar\",\"marker\":{\"colorbar\":{\"outlinewidth\":0,\"ticks\":\"\"}}}],\"histogram\":[{\"marker\":{\"pattern\":{\"fillmode\":\"overlay\",\"size\":10,\"solidity\":0.2}},\"type\":\"histogram\"}],\"scattergl\":[{\"type\":\"scattergl\",\"marker\":{\"colorbar\":{\"outlinewidth\":0,\"ticks\":\"\"}}}],\"scatter3d\":[{\"type\":\"scatter3d\",\"line\":{\"colorbar\":{\"outlinewidth\":0,\"ticks\":\"\"}},\"marker\":{\"colorbar\":{\"outlinewidth\":0,\"ticks\":\"\"}}}],\"scattermapbox\":[{\"type\":\"scattermapbox\",\"marker\":{\"colorbar\":{\"outlinewidth\":0,\"ticks\":\"\"}}}],\"scatterternary\":[{\"type\":\"scatterternary\",\"marker\":{\"colorbar\":{\"outlinewidth\":0,\"ticks\":\"\"}}}],\"scattercarpet\":[{\"type\":\"scattercarpet\",\"marker\":{\"colorbar\":{\"outlinewidth\":0,\"ticks\":\"\"}}}],\"carpet\":[{\"aaxis\":{\"endlinecolor\":\"#2a3f5f\",\"gridcolor\":\"white\",\"linecolor\":\"white\",\"minorgridcolor\":\"white\",\"startlinecolor\":\"#2a3f5f\"},\"baxis\":{\"endlinecolor\":\"#2a3f5f\",\"gridcolor\":\"white\",\"linecolor\":\"white\",\"minorgridcolor\":\"white\",\"startlinecolor\":\"#2a3f5f\"},\"type\":\"carpet\"}],\"table\":[{\"cells\":{\"fill\":{\"color\":\"#EBF0F8\"},\"line\":{\"color\":\"white\"}},\"header\":{\"fill\":{\"color\":\"#C8D4E3\"},\"line\":{\"color\":\"white\"}},\"type\":\"table\"}],\"barpolar\":[{\"marker\":{\"line\":{\"color\":\"#E5ECF6\",\"width\":0.5},\"pattern\":{\"fillmode\":\"overlay\",\"size\":10,\"solidity\":0.2}},\"type\":\"barpolar\"}],\"pie\":[{\"automargin\":true,\"type\":\"pie\"}]},\"layout\":{\"autotypenumbers\":\"strict\",\"colorway\":[\"#636efa\",\"#EF553B\",\"#00cc96\",\"#ab63fa\",\"#FFA15A\",\"#19d3f3\",\"#FF6692\",\"#B6E880\",\"#FF97FF\",\"#FECB52\"],\"font\":{\"color\":\"#2a3f5f\"},\"hovermode\":\"closest\",\"hoverlabel\":{\"align\":\"left\"},\"paper_bgcolor\":\"white\",\"plot_bgcolor\":\"#E5ECF6\",\"polar\":{\"bgcolor\":\"#E5ECF6\",\"angularaxis\":{\"gridcolor\":\"white\",\"linecolor\":\"white\",\"ticks\":\"\"},\"radialaxis\":{\"gridcolor\":\"white\",\"linecolor\":\"white\",\"ticks\":\"\"}},\"ternary\":{\"bgcolor\":\"#E5ECF6\",\"aaxis\":{\"gridcolor\":\"white\",\"linecolor\":\"white\",\"ticks\":\"\"},\"baxis\":{\"gridcolor\":\"white\",\"linecolor\":\"white\",\"ticks\":\"\"},\"caxis\":{\"gridcolor\":\"white\",\"linecolor\":\"white\",\"ticks\":\"\"}},\"coloraxis\":{\"colorbar\":{\"outlinewidth\":0,\"ticks\":\"\"}},\"colorscale\":{\"sequential\":[[0.0,\"#0d0887\"],[0.1111111111111111,\"#46039f\"],[0.2222222222222222,\"#7201a8\"],[0.3333333333333333,\"#9c179e\"],[0.4444444444444444,\"#bd3786\"],[0.5555555555555556,\"#d8576b\"],[0.6666666666666666,\"#ed7953\"],[0.7777777777777778,\"#fb9f3a\"],[0.8888888888888888,\"#fdca26\"],[1.0,\"#f0f921\"]],\"sequentialminus\":[[0.0,\"#0d0887\"],[0.1111111111111111,\"#46039f\"],[0.2222222222222222,\"#7201a8\"],[0.3333333333333333,\"#9c179e\"],[0.4444444444444444,\"#bd3786\"],[0.5555555555555556,\"#d8576b\"],[0.6666666666666666,\"#ed7953\"],[0.7777777777777778,\"#fb9f3a\"],[0.8888888888888888,\"#fdca26\"],[1.0,\"#f0f921\"]],\"diverging\":[[0,\"#8e0152\"],[0.1,\"#c51b7d\"],[0.2,\"#de77ae\"],[0.3,\"#f1b6da\"],[0.4,\"#fde0ef\"],[0.5,\"#f7f7f7\"],[0.6,\"#e6f5d0\"],[0.7,\"#b8e186\"],[0.8,\"#7fbc41\"],[0.9,\"#4d9221\"],[1,\"#276419\"]]},\"xaxis\":{\"gridcolor\":\"white\",\"linecolor\":\"white\",\"ticks\":\"\",\"title\":{\"standoff\":15},\"zerolinecolor\":\"white\",\"automargin\":true,\"zerolinewidth\":2},\"yaxis\":{\"gridcolor\":\"white\",\"linecolor\":\"white\",\"ticks\":\"\",\"title\":{\"standoff\":15},\"zerolinecolor\":\"white\",\"automargin\":true,\"zerolinewidth\":2},\"scene\":{\"xaxis\":{\"backgroundcolor\":\"#E5ECF6\",\"gridcolor\":\"white\",\"linecolor\":\"white\",\"showbackground\":true,\"ticks\":\"\",\"zerolinecolor\":\"white\",\"gridwidth\":2},\"yaxis\":{\"backgroundcolor\":\"#E5ECF6\",\"gridcolor\":\"white\",\"linecolor\":\"white\",\"showbackground\":true,\"ticks\":\"\",\"zerolinecolor\":\"white\",\"gridwidth\":2},\"zaxis\":{\"backgroundcolor\":\"#E5ECF6\",\"gridcolor\":\"white\",\"linecolor\":\"white\",\"showbackground\":true,\"ticks\":\"\",\"zerolinecolor\":\"white\",\"gridwidth\":2}},\"shapedefaults\":{\"line\":{\"color\":\"#2a3f5f\"}},\"annotationdefaults\":{\"arrowcolor\":\"#2a3f5f\",\"arrowhead\":0,\"arrowwidth\":1},\"geo\":{\"bgcolor\":\"white\",\"landcolor\":\"#E5ECF6\",\"subunitcolor\":\"white\",\"showland\":true,\"showlakes\":true,\"lakecolor\":\"white\"},\"title\":{\"x\":0.05},\"mapbox\":{\"style\":\"light\"}}},\"xaxis\":{\"anchor\":\"y\",\"domain\":[0.0,1.0],\"title\":{\"text\":\"Rodzaj artyku\\u0142\\u00f3w\"}},\"yaxis\":{\"anchor\":\"x\",\"domain\":[0.0,1.0],\"title\":{\"text\":\"Cena zakup\\u00f3w\"}},\"legend\":{\"tracegroupgap\":0},\"title\":{\"text\":\"Cena pojedynczych zakup\\u00f3w a rodzaj artyku\\u0142\\u00f3w\"},\"boxmode\":\"group\"},                        {\"responsive\": true}                    ).then(function(){\n",
              "                            \n",
              "var gd = document.getElementById('b1ccb7e8-76cd-46bd-83e2-ed80b7106b33');\n",
              "var x = new MutationObserver(function (mutations, observer) {{\n",
              "        var display = window.getComputedStyle(gd).display;\n",
              "        if (!display || display === 'none') {{\n",
              "            console.log([gd, 'removed!']);\n",
              "            Plotly.purge(gd);\n",
              "            observer.disconnect();\n",
              "        }}\n",
              "}});\n",
              "\n",
              "// Listen for the removal of the full notebook cells\n",
              "var notebookContainer = gd.closest('#notebook-container');\n",
              "if (notebookContainer) {{\n",
              "    x.observe(notebookContainer, {childList: true});\n",
              "}}\n",
              "\n",
              "// Listen for the clearing of the current output cell\n",
              "var outputEl = gd.closest('.output');\n",
              "if (outputEl) {{\n",
              "    x.observe(outputEl, {childList: true});\n",
              "}}\n",
              "\n",
              "                        })                };                            </script>        </div>\n",
              "</body>\n",
              "</html>"
            ]
          },
          "metadata": {}
        }
      ],
      "source": [
        "fig = px.box(df, x='Product line', y='cogs',\n",
        "             labels={'Product line': 'Rodzaj artykułów', 'cogs': 'Cena zakupów'},\n",
        "             title='Cena pojedynczych zakupów a rodzaj artykułów')\n",
        "fig.show()"
      ],
      "metadata": {
        "ExecuteTime": {
          "end_time": "2024-01-22T11:49:12.875357200Z",
          "start_time": "2024-01-22T11:49:12.827556900Z"
        },
        "colab": {
          "base_uri": "https://localhost:8080/",
          "height": 542
        },
        "id": "v9uIN2a1AOBr",
        "outputId": "d61b825d-1c72-4c21-aa93-6f448db3ae1f"
      }
    },
    {
      "cell_type": "markdown",
      "source": [
        "Pojeyncze zakupy związane z poszczególnymi kategoriami produktów są zbliżone cenowo. Zwracając uwagę na górną granicę można wywnioskować, że częściej zdaża się klientom zapłacić więcej za produkty związane z domem i stylem życia. Natomiast mediana tych zakupów nie wyróżnia się spośród pozostałych kategorii produktowych."
      ],
      "metadata": {
        "id": "1TtLZ-CBnkbv"
      }
    },
    {
      "cell_type": "code",
      "execution_count": null,
      "outputs": [
        {
          "output_type": "display_data",
          "data": {
            "text/html": [
              "<html>\n",
              "<head><meta charset=\"utf-8\" /></head>\n",
              "<body>\n",
              "    <div>            <script src=\"https://cdnjs.cloudflare.com/ajax/libs/mathjax/2.7.5/MathJax.js?config=TeX-AMS-MML_SVG\"></script><script type=\"text/javascript\">if (window.MathJax && window.MathJax.Hub && window.MathJax.Hub.Config) {window.MathJax.Hub.Config({SVG: {font: \"STIX-Web\"}});}</script>                <script type=\"text/javascript\">window.PlotlyConfig = {MathJaxConfig: 'local'};</script>\n",
              "        <script charset=\"utf-8\" src=\"https://cdn.plot.ly/plotly-2.24.1.min.js\"></script>                <div id=\"34d6b9d6-df33-4477-bf60-ede58271907f\" class=\"plotly-graph-div\" style=\"height:525px; width:100%;\"></div>            <script type=\"text/javascript\">                                    window.PLOTLYENV=window.PLOTLYENV || {};                                    if (document.getElementById(\"34d6b9d6-df33-4477-bf60-ede58271907f\")) {                    Plotly.newPlot(                        \"34d6b9d6-df33-4477-bf60-ede58271907f\",                        [{\"alignmentgroup\":\"True\",\"hovertemplate\":\"Rodzaj klienta=%{x}\\u003cbr\\u003eCena zakup\\u00f3w=%{y}\\u003cextra\\u003e\\u003c\\u002fextra\\u003e\",\"legendgroup\":\"\",\"marker\":{\"color\":\"#636efa\"},\"name\":\"\",\"notched\":false,\"offsetgroup\":\"\",\"orientation\":\"v\",\"showlegend\":false,\"x\":[\"Member\",\"Normal\",\"Normal\",\"Member\",\"Normal\",\"Normal\",\"Member\",\"Normal\",\"Member\",\"Member\",\"Member\",\"Member\",\"Normal\",\"Normal\",\"Normal\",\"Member\",\"Member\",\"Normal\",\"Normal\",\"Normal\",\"Member\",\"Normal\",\"Normal\",\"Normal\",\"Member\",\"Member\",\"Normal\",\"Normal\",\"Normal\",\"Normal\",\"Normal\",\"Member\",\"Normal\",\"Normal\",\"Member\",\"Member\",\"Member\",\"Normal\",\"Normal\",\"Member\",\"Member\",\"Member\",\"Member\",\"Member\",\"Member\",\"Member\",\"Member\",\"Member\",\"Member\",\"Member\",\"Member\",\"Member\",\"Member\",\"Member\",\"Normal\",\"Normal\",\"Member\",\"Normal\",\"Member\",\"Normal\",\"Member\",\"Normal\",\"Member\",\"Member\",\"Member\",\"Member\",\"Normal\",\"Member\",\"Normal\",\"Member\",\"Normal\",\"Normal\",\"Member\",\"Normal\",\"Normal\",\"Normal\",\"Member\",\"Member\",\"Member\",\"Normal\",\"Normal\",\"Normal\",\"Normal\",\"Member\",\"Member\",\"Normal\",\"Normal\",\"Member\",\"Normal\",\"Normal\",\"Member\",\"Normal\",\"Member\",\"Member\",\"Normal\",\"Normal\",\"Normal\",\"Normal\",\"Normal\",\"Normal\",\"Member\",\"Normal\",\"Normal\",\"Normal\",\"Normal\",\"Member\",\"Normal\",\"Normal\",\"Normal\",\"Member\",\"Member\",\"Member\",\"Normal\",\"Member\",\"Member\",\"Normal\",\"Member\",\"Member\",\"Normal\",\"Normal\",\"Normal\",\"Member\",\"Member\",\"Member\",\"Member\",\"Normal\",\"Normal\",\"Normal\",\"Member\",\"Normal\",\"Normal\",\"Member\",\"Normal\",\"Member\",\"Normal\",\"Normal\",\"Normal\",\"Member\",\"Normal\",\"Normal\",\"Member\",\"Member\",\"Member\",\"Member\",\"Normal\",\"Normal\",\"Member\",\"Normal\",\"Member\",\"Normal\",\"Member\",\"Member\",\"Normal\",\"Normal\",\"Normal\",\"Member\",\"Member\",\"Normal\",\"Member\",\"Normal\",\"Normal\",\"Normal\",\"Normal\",\"Normal\",\"Normal\",\"Member\",\"Normal\",\"Normal\",\"Normal\",\"Member\",\"Normal\",\"Member\",\"Normal\",\"Member\",\"Normal\",\"Member\",\"Member\",\"Normal\",\"Normal\",\"Member\",\"Normal\",\"Member\",\"Member\",\"Normal\",\"Normal\",\"Member\",\"Member\",\"Member\",\"Normal\",\"Normal\",\"Normal\",\"Normal\",\"Normal\",\"Normal\",\"Normal\",\"Member\",\"Member\",\"Normal\",\"Normal\",\"Member\",\"Member\",\"Member\",\"Normal\",\"Member\",\"Member\",\"Normal\",\"Member\",\"Member\",\"Normal\",\"Normal\",\"Normal\",\"Normal\",\"Normal\",\"Normal\",\"Member\",\"Normal\",\"Normal\",\"Member\",\"Normal\",\"Normal\",\"Normal\",\"Normal\",\"Normal\",\"Member\",\"Normal\",\"Member\",\"Member\",\"Member\",\"Member\",\"Normal\",\"Normal\",\"Member\",\"Normal\",\"Member\",\"Member\",\"Normal\",\"Normal\",\"Member\",\"Member\",\"Normal\",\"Normal\",\"Normal\",\"Member\",\"Member\",\"Normal\",\"Member\",\"Member\",\"Member\",\"Member\",\"Normal\",\"Member\",\"Member\",\"Normal\",\"Normal\",\"Member\",\"Member\",\"Member\",\"Member\",\"Member\",\"Member\",\"Normal\",\"Normal\",\"Member\",\"Member\",\"Normal\",\"Member\",\"Normal\",\"Member\",\"Member\",\"Member\",\"Normal\",\"Member\",\"Member\",\"Normal\",\"Normal\",\"Normal\",\"Member\",\"Normal\",\"Member\",\"Member\",\"Normal\",\"Normal\",\"Normal\",\"Member\",\"Member\",\"Normal\",\"Member\",\"Normal\",\"Normal\",\"Member\",\"Member\",\"Normal\",\"Member\",\"Member\",\"Normal\",\"Member\",\"Normal\",\"Member\",\"Member\",\"Member\",\"Normal\",\"Member\",\"Normal\",\"Normal\",\"Normal\",\"Member\",\"Normal\",\"Member\",\"Member\",\"Normal\",\"Member\",\"Member\",\"Member\",\"Member\",\"Member\",\"Member\",\"Member\",\"Member\",\"Member\",\"Member\",\"Normal\",\"Normal\",\"Normal\",\"Normal\",\"Normal\",\"Normal\",\"Member\",\"Member\",\"Member\",\"Member\",\"Normal\",\"Normal\",\"Normal\",\"Member\",\"Member\",\"Member\",\"Normal\",\"Normal\",\"Normal\",\"Member\",\"Member\",\"Member\",\"Member\",\"Normal\",\"Normal\",\"Normal\",\"Member\",\"Member\",\"Normal\",\"Normal\",\"Member\",\"Normal\",\"Member\",\"Member\",\"Normal\",\"Member\",\"Normal\",\"Normal\",\"Normal\",\"Normal\",\"Member\",\"Normal\",\"Normal\",\"Normal\",\"Normal\",\"Normal\",\"Normal\",\"Member\",\"Normal\",\"Member\",\"Member\",\"Normal\",\"Normal\",\"Normal\",\"Normal\",\"Member\",\"Member\",\"Normal\",\"Member\",\"Normal\",\"Member\",\"Normal\",\"Normal\",\"Member\",\"Normal\",\"Member\",\"Normal\",\"Normal\",\"Member\",\"Normal\",\"Member\",\"Normal\",\"Member\",\"Member\",\"Normal\",\"Normal\",\"Normal\",\"Normal\",\"Member\",\"Member\",\"Normal\",\"Normal\",\"Member\",\"Normal\",\"Member\",\"Member\",\"Normal\",\"Member\",\"Normal\",\"Normal\",\"Normal\",\"Normal\",\"Member\",\"Normal\",\"Normal\",\"Normal\",\"Normal\",\"Member\",\"Normal\",\"Member\",\"Member\",\"Normal\",\"Member\",\"Member\",\"Normal\",\"Member\",\"Member\",\"Member\",\"Normal\",\"Member\",\"Normal\",\"Normal\",\"Normal\",\"Normal\",\"Normal\",\"Normal\",\"Member\",\"Normal\",\"Member\",\"Normal\",\"Member\",\"Member\",\"Member\",\"Normal\",\"Normal\",\"Member\",\"Member\",\"Normal\",\"Member\",\"Member\",\"Normal\",\"Normal\",\"Normal\",\"Normal\",\"Member\",\"Member\",\"Member\",\"Normal\",\"Member\",\"Normal\",\"Normal\",\"Member\",\"Normal\",\"Member\",\"Member\",\"Member\",\"Member\",\"Normal\",\"Normal\",\"Member\",\"Member\",\"Member\",\"Member\",\"Member\",\"Member\",\"Normal\",\"Normal\",\"Normal\",\"Normal\",\"Normal\",\"Normal\",\"Normal\",\"Normal\",\"Member\",\"Member\",\"Member\",\"Normal\",\"Normal\",\"Normal\",\"Member\",\"Normal\",\"Member\",\"Member\",\"Member\",\"Normal\",\"Normal\",\"Normal\",\"Normal\",\"Member\",\"Member\",\"Member\",\"Member\",\"Normal\",\"Normal\",\"Normal\",\"Member\",\"Member\",\"Normal\",\"Member\",\"Member\",\"Member\",\"Normal\",\"Normal\",\"Normal\",\"Member\",\"Member\",\"Member\",\"Member\",\"Normal\",\"Member\",\"Normal\",\"Member\",\"Member\",\"Normal\",\"Normal\",\"Member\",\"Normal\",\"Member\",\"Member\",\"Normal\",\"Normal\",\"Member\",\"Normal\",\"Normal\",\"Normal\",\"Normal\",\"Member\",\"Normal\",\"Normal\",\"Member\",\"Normal\",\"Member\",\"Member\",\"Member\",\"Normal\",\"Member\",\"Normal\",\"Normal\",\"Normal\",\"Normal\",\"Normal\",\"Normal\",\"Normal\",\"Normal\",\"Member\",\"Normal\",\"Member\",\"Member\",\"Member\",\"Member\",\"Normal\",\"Normal\",\"Normal\",\"Member\",\"Normal\",\"Normal\",\"Normal\",\"Normal\",\"Normal\",\"Normal\",\"Member\",\"Member\",\"Member\",\"Normal\",\"Normal\",\"Member\",\"Normal\",\"Normal\",\"Normal\",\"Normal\",\"Normal\",\"Member\",\"Member\",\"Member\",\"Normal\",\"Normal\",\"Normal\",\"Normal\",\"Normal\",\"Normal\",\"Member\",\"Member\",\"Member\",\"Member\",\"Member\",\"Normal\",\"Normal\",\"Normal\",\"Normal\",\"Member\",\"Normal\",\"Normal\",\"Normal\",\"Normal\",\"Member\",\"Normal\",\"Member\",\"Member\",\"Normal\",\"Member\",\"Normal\",\"Member\",\"Member\",\"Member\",\"Member\",\"Member\",\"Member\",\"Member\",\"Member\",\"Member\",\"Normal\",\"Member\",\"Member\",\"Normal\",\"Member\",\"Member\",\"Normal\",\"Member\",\"Member\",\"Normal\",\"Normal\",\"Normal\",\"Member\",\"Normal\",\"Member\",\"Member\",\"Normal\",\"Normal\",\"Member\",\"Normal\",\"Member\",\"Member\",\"Member\",\"Member\",\"Member\",\"Member\",\"Normal\",\"Member\",\"Member\",\"Normal\",\"Normal\",\"Normal\",\"Member\",\"Member\",\"Member\",\"Normal\",\"Normal\",\"Member\",\"Member\",\"Member\",\"Normal\",\"Member\",\"Member\",\"Member\",\"Normal\",\"Normal\",\"Member\",\"Normal\",\"Member\",\"Normal\",\"Member\",\"Member\",\"Normal\",\"Normal\",\"Normal\",\"Member\",\"Member\",\"Member\",\"Normal\",\"Member\",\"Member\",\"Normal\",\"Normal\",\"Member\",\"Member\",\"Member\",\"Member\",\"Member\",\"Member\",\"Normal\",\"Member\",\"Member\",\"Member\",\"Member\",\"Normal\",\"Member\",\"Member\",\"Normal\",\"Member\",\"Normal\",\"Normal\",\"Normal\",\"Member\",\"Member\",\"Member\",\"Normal\",\"Normal\",\"Member\",\"Normal\",\"Normal\",\"Member\",\"Member\",\"Normal\",\"Normal\",\"Member\",\"Normal\",\"Member\",\"Member\",\"Normal\",\"Member\",\"Normal\",\"Member\",\"Normal\",\"Member\",\"Member\",\"Member\",\"Member\",\"Normal\",\"Normal\",\"Member\",\"Member\",\"Normal\",\"Member\",\"Normal\",\"Member\",\"Member\",\"Member\",\"Normal\",\"Member\",\"Normal\",\"Normal\",\"Normal\",\"Member\",\"Member\",\"Member\",\"Member\",\"Member\",\"Member\",\"Member\",\"Member\",\"Member\",\"Normal\",\"Member\",\"Normal\",\"Member\",\"Normal\",\"Member\",\"Normal\",\"Member\",\"Normal\",\"Member\",\"Normal\",\"Member\",\"Member\",\"Member\",\"Normal\",\"Normal\",\"Normal\",\"Normal\",\"Normal\",\"Member\",\"Member\",\"Member\",\"Normal\",\"Member\",\"Normal\",\"Member\",\"Normal\",\"Member\",\"Member\",\"Normal\",\"Normal\",\"Member\",\"Normal\",\"Member\",\"Normal\",\"Normal\",\"Normal\",\"Member\",\"Normal\",\"Normal\",\"Member\",\"Normal\",\"Member\",\"Normal\",\"Normal\",\"Member\",\"Member\",\"Normal\",\"Member\",\"Normal\",\"Member\",\"Member\",\"Member\",\"Member\",\"Normal\",\"Normal\",\"Normal\",\"Normal\",\"Normal\",\"Normal\",\"Normal\",\"Member\",\"Normal\",\"Member\",\"Normal\",\"Normal\",\"Normal\",\"Member\",\"Member\",\"Normal\",\"Member\",\"Member\",\"Normal\",\"Member\",\"Member\",\"Member\",\"Member\",\"Normal\",\"Member\",\"Normal\",\"Normal\",\"Member\",\"Member\",\"Member\",\"Normal\",\"Member\",\"Normal\",\"Normal\",\"Member\",\"Normal\",\"Normal\",\"Member\",\"Member\",\"Normal\",\"Member\",\"Member\",\"Normal\",\"Member\",\"Normal\",\"Normal\",\"Normal\",\"Normal\",\"Normal\",\"Member\",\"Normal\",\"Normal\",\"Member\",\"Normal\",\"Member\",\"Member\",\"Member\",\"Normal\",\"Normal\",\"Member\",\"Member\",\"Member\",\"Member\",\"Member\",\"Normal\",\"Member\",\"Normal\",\"Member\",\"Member\",\"Member\",\"Normal\",\"Member\",\"Member\",\"Normal\",\"Member\",\"Member\",\"Member\",\"Member\",\"Member\",\"Member\",\"Normal\",\"Member\",\"Member\",\"Normal\",\"Member\",\"Normal\",\"Normal\",\"Member\",\"Normal\",\"Member\",\"Normal\",\"Normal\",\"Member\",\"Member\",\"Member\",\"Member\",\"Normal\",\"Member\",\"Normal\",\"Normal\",\"Member\",\"Normal\",\"Normal\",\"Member\",\"Normal\",\"Member\",\"Normal\",\"Normal\",\"Member\",\"Member\",\"Normal\",\"Member\",\"Normal\",\"Normal\",\"Member\",\"Member\",\"Normal\",\"Member\",\"Normal\",\"Member\",\"Normal\",\"Member\",\"Member\",\"Normal\",\"Normal\",\"Normal\",\"Member\",\"Normal\",\"Normal\",\"Normal\",\"Member\",\"Normal\",\"Normal\",\"Member\",\"Normal\",\"Normal\",\"Member\",\"Normal\",\"Normal\",\"Member\",\"Normal\",\"Member\",\"Member\",\"Member\",\"Normal\",\"Member\",\"Member\",\"Member\",\"Member\",\"Member\",\"Normal\",\"Member\",\"Normal\",\"Normal\",\"Member\",\"Member\",\"Member\",\"Normal\",\"Member\",\"Normal\",\"Normal\",\"Normal\",\"Member\",\"Normal\",\"Member\",\"Member\",\"Member\",\"Normal\",\"Normal\",\"Normal\",\"Member\",\"Normal\",\"Member\",\"Normal\",\"Normal\",\"Member\",\"Normal\",\"Member\",\"Normal\",\"Normal\",\"Normal\",\"Normal\",\"Member\",\"Member\",\"Member\",\"Normal\",\"Normal\",\"Normal\",\"Normal\",\"Member\",\"Normal\",\"Normal\",\"Member\",\"Normal\",\"Member\"],\"x0\":\" \",\"xaxis\":\"x\",\"y\":[548.9715,80.22,340.5255,489.048,634.3785,627.6165,433.692,772.38,76.146,172.746,60.816,107.142,246.4875,453.495,749.49,590.436,506.6355,457.443,172.2105,84.63,451.71,277.137,69.72,181.44,279.1845,441.756,35.196,184.107,463.89,235.2105,494.1825,737.7615,703.752,202.818,417.564,71.526,328.755,575.316,461.328,253.008,91.056,117.831,435.456,829.08,32.277,394.632,535.7205,189.0945,119.259,867.615,671.79,234.0975,75.054,16.2015,33.936,722.232,93.114,752.64,759.675,192.843,77.931,351.099,520.4115,166.005,318.108,166.635,70.287,614.943,827.085,19.2465,939.54,652.26,152.838,478.233,705.6315,437.325,463.428,189.0945,822.255,106.995,624.897,304.542,161.7,337.512,256.7775,610.491,401.73,362.943,44.5935,485.037,198.996,471.03,161.553,608.202,94.2375,102.018,922.635,78.435,166.1625,521.01,51.1455,742.2975,218.0115,367.038,223.0725,931.035,172.494,391.419,321.111,860.685,34.629,309.3615,535.374,548.7615,763.4655,85.113,115.185,53.928,115.08,112.224,836.304,419.832,944.622,536.844,474.348,688.6215,169.3125,299.8485,575.736,853.146,291.207,580.419,146.328,550.935,512.19,284.193,138.1275,216.846,545.055,609.0,942.9,950.25,720.3,31.9305,491.085,291.438,316.47,277.788,603.624,272.664,384.468,254.016,786.618,103.824,680.148,484.5225,75.7785,263.97,918.729,588.357,362.712,66.8745,336.5565,160.44,418.95,357.588,1003.59,1039.29,323.064,510.972,367.5525,420.2625,175.14,333.207,166.236,319.788,186.228,165.4485,465.444,273.42,472.311,323.148,162.75,288.204,90.699,56.952,793.716,195.174,77.7735,293.202,242.676,154.392,829.71,107.31,171.7275,78.0045,91.77,26.5545,174.3,374.7975,120.645,241.458,451.3635,271.95,93.2925,217.6335,629.8425,299.565,95.6655,942.4485,247.8735,881.307,484.89,146.223,217.6335,19.194,130.0425,298.116,796.908,180.621,285.705,456.288,62.0025,13.167,90.825,183.036,655.5465,155.652,571.41,532.728,170.877,33.3585,794.6505,310.044,545.37,195.594,91.4025,232.155,69.405,94.1745,235.683,125.517,195.72,263.13,788.508,399.756,256.41,94.185,326.424,536.991,439.8975,369.495,30.219,99.75,494.76,137.004,69.6675,163.233,135.45,276.948,709.317,69.09,160.86,233.52,57.1725,723.24,148.974,783.3,297.108,373.17,354.0075,44.352,203.553,25.263,628.173,352.5795,229.11,400.764,745.395,462.21,587.664,38.85,16.107,628.929,200.214,350.07,78.603,224.4375,356.5485,697.368,423.15,204.6975,65.604,76.356,190.155,272.58,121.128,493.794,252.042,93.0405,209.622,40.9605,51.0405,214.998,125.664,530.67,295.6905,745.836,83.412,172.011,503.559,145.593,74.7075,146.9475,820.365,208.677,66.402,392.6475,218.0745,185.094,216.6885,41.391,96.138,324.2925,135.576,410.508,523.845,395.892,214.746,152.712,208.089,103.635,404.355,49.308,77.175,149.3625,721.98,365.085,150.0975,404.649,151.4835,411.3795,565.215,509.4075,140.6475,736.4385,75.5475,749.7,191.247,141.75,1042.65,379.9215,402.2655,255.15,31.752,374.388,394.275,1002.12,86.625,78.7185,680.064,793.548,209.559,461.286,173.208,343.056,484.974,276.948,150.78,203.175,193.011,128.016,441.693,265.104,352.2225,507.675,334.341,701.8515,407.316,99.33,345.786,55.881,523.3725,314.538,214.935,79.611,294.651,339.36,510.9615,133.917,253.512,398.475,80.661,548.73,83.727,406.875,284.9175,128.4255,258.678,181.818,248.409,194.124,14.679,208.6875,718.7565,282.492,72.3975,288.582,237.426,125.055,359.205,45.927,110.0925,81.396,427.812,100.9155,190.596,85.5855,120.162,185.367,121.59,264.7575,1020.705,213.528,17.094,383.7645,390.7995,65.7405,353.1675,951.825,145.068,90.867,147.798,702.219,49.812,937.818,348.306,214.137,71.568,343.224,91.56,742.812,843.0345,13.419,140.385,20.1075,290.43,144.081,28.4235,41.076,470.673,138.663,333.9525,26.25,87.234,155.19,731.43,833.595,488.985,37.6845,212.73,767.025,310.59,23.751,269.535,572.775,273.0525,233.226,22.659,103.782,527.751,168.21,452.865,609.588,338.31,205.317,174.615,353.094,360.885,40.53,554.148,344.4,194.985,633.99,388.29,207.858,431.445,156.03,24.108,734.076,72.87,206.43,212.688,127.26,209.769,637.728,132.762,568.512,103.0365,432.768,77.6685,33.495,145.74,195.951,92.8725,203.112,152.775,529.515,321.7725,100.485,666.939,225.2775,398.958,731.6925,429.1665,54.0435,288.015,206.7975,72.933,377.58,143.9865,523.971,235.872,132.027,514.773,479.9025,164.682,125.706,570.78,926.9505,160.209,728.112,240.975,154.1295,148.68,122.5245,77.658,102.837,306.81,551.124,96.642,79.674,84.756,118.251,74.76,163.002,308.91,575.9775,270.585,416.178,180.4005,513.2295,550.368,139.923,142.002,118.062,151.284,1034.46,262.458,228.123,203.931,936.6,356.328,469.413,208.425,852.705,517.965,621.243,586.971,543.753,430.71,280.035,74.4555,152.019,451.0275,597.6285,253.26,133.434,269.934,145.971,85.743,326.256,195.258,75.936,198.639,217.182,164.871,226.065,625.905,76.755,293.139,178.164,47.859,236.88,304.92,46.683,164.43,440.937,193.4625,147.672,87.234,68.2395,814.38,343.413,381.3915,133.35,394.3275,209.118,32.1405,121.569,30.408,935.2665,293.643,84.9765,708.225,365.904,457.38,461.5275,620.739,273.798,225.792,96.1905,695.2365,874.125,95.9175,165.648,127.827,867.09,167.895,12.6945,673.995,246.6765,175.917,314.055,251.7165,697.935,212.7825,48.51,92.5575,165.123,311.1885,743.82,116.907,609.168,63.2625,182.952,442.323,35.3115,32.529,259.77,397.215,351.603,764.19,352.674,252.756,49.4235,104.6745,277.6725,146.6325,58.2225,135.3555,125.979,370.125,914.55,207.48,204.246,181.881,75.474,300.573,85.302,588.42,196.14,231.2415,282.576,477.54,175.917,470.988,308.574,618.975,305.55,41.454,36.5505,310.716,45.108,145.404,103.11,136.143,667.38,153.048,211.365,663.2955,404.544,510.615,539.343,497.07,458.6925,113.568,261.198,657.531,1023.75,507.444,101.808,207.585,760.4415,835.2855,527.5095,180.6,72.429,131.208,80.955,507.906,317.226,733.6035,130.8825,829.08,187.32,525.231,37.611,142.947,110.124,187.866,856.4535,138.978,270.2595,98.028,239.4,175.0455,732.27,408.492,383.523,93.744,176.4,20.685,557.718,56.406,860.475,596.82,616.98,769.104,887.922,408.7335,89.0715,150.423,79.149,266.028,40.341,684.915,55.2825,116.1405,597.0405,93.744,143.22,182.91,384.72,267.3405,817.236,300.216,608.076,197.925,232.638,810.6,757.365,536.592,56.1225,233.1,801.864,239.589,86.247,401.688,72.009,401.268,631.1445,499.7265,55.041,137.865,151.515,480.0285,98.049,132.5625,830.3715,183.12,397.992,32.151,369.684,53.34,548.163,603.876,57.6975,190.4805,432.9885,48.7305,287.91,1022.385,680.61,97.881,57.078,63.9135,257.145,97.419,455.1225,144.963,253.68,495.3165,462.672,714.3255,325.374,195.678,210.966,18.6375,652.89,90.3,422.73,341.0925,99.9075,408.408,446.964,333.984,284.592,403.872,247.59,222.138,100.128,10.6785,216.4365,441.588,92.442,681.4395,130.032,681.975,779.31,88.704,262.794,99.54,95.865,299.3655,54.999,202.335,281.169,586.635,184.086,163.611,63.315,82.887,31.227,22.386,295.407,76.923,23.499,688.716,624.33,77.805,206.808,390.9465,554.295,503.7375,345.0195,177.408,118.902,362.817,450.1035,90.5835,26.796,106.596,375.3645,250.7085,106.5015,760.452,131.922,76.5765,271.278,182.427,59.325,225.015,561.078,97.818,548.184,54.9675,41.7375,756.168,101.64,348.705,85.512,335.895,216.846,175.014,335.013,92.295,771.435,102.396,807.66,439.215,486.444,485.5725,148.995,317.835,832.944,446.439,297.801,629.16,331.128,423.738,193.074,145.5825,84.7455,122.472,329.196,888.405,435.12,167.034,514.605,91.8225,235.746,782.208,431.256,313.74,223.587,44.9925,397.614,217.2555,82.719,338.2155,103.131,26.733,611.079,221.886,57.876,92.7255,374.409,833.9625,53.151,629.496,175.035,781.62,470.988,397.845,270.018,579.8415,469.77,290.0835,360.927,279.384,943.299,479.64,266.6475,74.088,690.018,176.925,56.469,188.0025,222.012,125.7165,68.985,263.97,88.368,415.233,312.8895,477.1305,289.926,165.9,932.337,96.579,43.869,16.275,304.983,69.993,80.367,314.685,255.1815,49.77,181.0725,888.615,271.2885,640.038,252.252,180.873,104.832,313.572,167.58,26.7225,71.1585,250.278,244.23,921.186,734.706,708.3195,334.4775,30.996,520.8,864.57,633.108,296.94,804.3,121.863,183.645,63.9975,42.3675,1022.49,33.432,69.111,649.299],\"y0\":\" \",\"yaxis\":\"y\",\"type\":\"box\"}],                        {\"template\":{\"data\":{\"histogram2dcontour\":[{\"type\":\"histogram2dcontour\",\"colorbar\":{\"outlinewidth\":0,\"ticks\":\"\"},\"colorscale\":[[0.0,\"#0d0887\"],[0.1111111111111111,\"#46039f\"],[0.2222222222222222,\"#7201a8\"],[0.3333333333333333,\"#9c179e\"],[0.4444444444444444,\"#bd3786\"],[0.5555555555555556,\"#d8576b\"],[0.6666666666666666,\"#ed7953\"],[0.7777777777777778,\"#fb9f3a\"],[0.8888888888888888,\"#fdca26\"],[1.0,\"#f0f921\"]]}],\"choropleth\":[{\"type\":\"choropleth\",\"colorbar\":{\"outlinewidth\":0,\"ticks\":\"\"}}],\"histogram2d\":[{\"type\":\"histogram2d\",\"colorbar\":{\"outlinewidth\":0,\"ticks\":\"\"},\"colorscale\":[[0.0,\"#0d0887\"],[0.1111111111111111,\"#46039f\"],[0.2222222222222222,\"#7201a8\"],[0.3333333333333333,\"#9c179e\"],[0.4444444444444444,\"#bd3786\"],[0.5555555555555556,\"#d8576b\"],[0.6666666666666666,\"#ed7953\"],[0.7777777777777778,\"#fb9f3a\"],[0.8888888888888888,\"#fdca26\"],[1.0,\"#f0f921\"]]}],\"heatmap\":[{\"type\":\"heatmap\",\"colorbar\":{\"outlinewidth\":0,\"ticks\":\"\"},\"colorscale\":[[0.0,\"#0d0887\"],[0.1111111111111111,\"#46039f\"],[0.2222222222222222,\"#7201a8\"],[0.3333333333333333,\"#9c179e\"],[0.4444444444444444,\"#bd3786\"],[0.5555555555555556,\"#d8576b\"],[0.6666666666666666,\"#ed7953\"],[0.7777777777777778,\"#fb9f3a\"],[0.8888888888888888,\"#fdca26\"],[1.0,\"#f0f921\"]]}],\"heatmapgl\":[{\"type\":\"heatmapgl\",\"colorbar\":{\"outlinewidth\":0,\"ticks\":\"\"},\"colorscale\":[[0.0,\"#0d0887\"],[0.1111111111111111,\"#46039f\"],[0.2222222222222222,\"#7201a8\"],[0.3333333333333333,\"#9c179e\"],[0.4444444444444444,\"#bd3786\"],[0.5555555555555556,\"#d8576b\"],[0.6666666666666666,\"#ed7953\"],[0.7777777777777778,\"#fb9f3a\"],[0.8888888888888888,\"#fdca26\"],[1.0,\"#f0f921\"]]}],\"contourcarpet\":[{\"type\":\"contourcarpet\",\"colorbar\":{\"outlinewidth\":0,\"ticks\":\"\"}}],\"contour\":[{\"type\":\"contour\",\"colorbar\":{\"outlinewidth\":0,\"ticks\":\"\"},\"colorscale\":[[0.0,\"#0d0887\"],[0.1111111111111111,\"#46039f\"],[0.2222222222222222,\"#7201a8\"],[0.3333333333333333,\"#9c179e\"],[0.4444444444444444,\"#bd3786\"],[0.5555555555555556,\"#d8576b\"],[0.6666666666666666,\"#ed7953\"],[0.7777777777777778,\"#fb9f3a\"],[0.8888888888888888,\"#fdca26\"],[1.0,\"#f0f921\"]]}],\"surface\":[{\"type\":\"surface\",\"colorbar\":{\"outlinewidth\":0,\"ticks\":\"\"},\"colorscale\":[[0.0,\"#0d0887\"],[0.1111111111111111,\"#46039f\"],[0.2222222222222222,\"#7201a8\"],[0.3333333333333333,\"#9c179e\"],[0.4444444444444444,\"#bd3786\"],[0.5555555555555556,\"#d8576b\"],[0.6666666666666666,\"#ed7953\"],[0.7777777777777778,\"#fb9f3a\"],[0.8888888888888888,\"#fdca26\"],[1.0,\"#f0f921\"]]}],\"mesh3d\":[{\"type\":\"mesh3d\",\"colorbar\":{\"outlinewidth\":0,\"ticks\":\"\"}}],\"scatter\":[{\"fillpattern\":{\"fillmode\":\"overlay\",\"size\":10,\"solidity\":0.2},\"type\":\"scatter\"}],\"parcoords\":[{\"type\":\"parcoords\",\"line\":{\"colorbar\":{\"outlinewidth\":0,\"ticks\":\"\"}}}],\"scatterpolargl\":[{\"type\":\"scatterpolargl\",\"marker\":{\"colorbar\":{\"outlinewidth\":0,\"ticks\":\"\"}}}],\"bar\":[{\"error_x\":{\"color\":\"#2a3f5f\"},\"error_y\":{\"color\":\"#2a3f5f\"},\"marker\":{\"line\":{\"color\":\"#E5ECF6\",\"width\":0.5},\"pattern\":{\"fillmode\":\"overlay\",\"size\":10,\"solidity\":0.2}},\"type\":\"bar\"}],\"scattergeo\":[{\"type\":\"scattergeo\",\"marker\":{\"colorbar\":{\"outlinewidth\":0,\"ticks\":\"\"}}}],\"scatterpolar\":[{\"type\":\"scatterpolar\",\"marker\":{\"colorbar\":{\"outlinewidth\":0,\"ticks\":\"\"}}}],\"histogram\":[{\"marker\":{\"pattern\":{\"fillmode\":\"overlay\",\"size\":10,\"solidity\":0.2}},\"type\":\"histogram\"}],\"scattergl\":[{\"type\":\"scattergl\",\"marker\":{\"colorbar\":{\"outlinewidth\":0,\"ticks\":\"\"}}}],\"scatter3d\":[{\"type\":\"scatter3d\",\"line\":{\"colorbar\":{\"outlinewidth\":0,\"ticks\":\"\"}},\"marker\":{\"colorbar\":{\"outlinewidth\":0,\"ticks\":\"\"}}}],\"scattermapbox\":[{\"type\":\"scattermapbox\",\"marker\":{\"colorbar\":{\"outlinewidth\":0,\"ticks\":\"\"}}}],\"scatterternary\":[{\"type\":\"scatterternary\",\"marker\":{\"colorbar\":{\"outlinewidth\":0,\"ticks\":\"\"}}}],\"scattercarpet\":[{\"type\":\"scattercarpet\",\"marker\":{\"colorbar\":{\"outlinewidth\":0,\"ticks\":\"\"}}}],\"carpet\":[{\"aaxis\":{\"endlinecolor\":\"#2a3f5f\",\"gridcolor\":\"white\",\"linecolor\":\"white\",\"minorgridcolor\":\"white\",\"startlinecolor\":\"#2a3f5f\"},\"baxis\":{\"endlinecolor\":\"#2a3f5f\",\"gridcolor\":\"white\",\"linecolor\":\"white\",\"minorgridcolor\":\"white\",\"startlinecolor\":\"#2a3f5f\"},\"type\":\"carpet\"}],\"table\":[{\"cells\":{\"fill\":{\"color\":\"#EBF0F8\"},\"line\":{\"color\":\"white\"}},\"header\":{\"fill\":{\"color\":\"#C8D4E3\"},\"line\":{\"color\":\"white\"}},\"type\":\"table\"}],\"barpolar\":[{\"marker\":{\"line\":{\"color\":\"#E5ECF6\",\"width\":0.5},\"pattern\":{\"fillmode\":\"overlay\",\"size\":10,\"solidity\":0.2}},\"type\":\"barpolar\"}],\"pie\":[{\"automargin\":true,\"type\":\"pie\"}]},\"layout\":{\"autotypenumbers\":\"strict\",\"colorway\":[\"#636efa\",\"#EF553B\",\"#00cc96\",\"#ab63fa\",\"#FFA15A\",\"#19d3f3\",\"#FF6692\",\"#B6E880\",\"#FF97FF\",\"#FECB52\"],\"font\":{\"color\":\"#2a3f5f\"},\"hovermode\":\"closest\",\"hoverlabel\":{\"align\":\"left\"},\"paper_bgcolor\":\"white\",\"plot_bgcolor\":\"#E5ECF6\",\"polar\":{\"bgcolor\":\"#E5ECF6\",\"angularaxis\":{\"gridcolor\":\"white\",\"linecolor\":\"white\",\"ticks\":\"\"},\"radialaxis\":{\"gridcolor\":\"white\",\"linecolor\":\"white\",\"ticks\":\"\"}},\"ternary\":{\"bgcolor\":\"#E5ECF6\",\"aaxis\":{\"gridcolor\":\"white\",\"linecolor\":\"white\",\"ticks\":\"\"},\"baxis\":{\"gridcolor\":\"white\",\"linecolor\":\"white\",\"ticks\":\"\"},\"caxis\":{\"gridcolor\":\"white\",\"linecolor\":\"white\",\"ticks\":\"\"}},\"coloraxis\":{\"colorbar\":{\"outlinewidth\":0,\"ticks\":\"\"}},\"colorscale\":{\"sequential\":[[0.0,\"#0d0887\"],[0.1111111111111111,\"#46039f\"],[0.2222222222222222,\"#7201a8\"],[0.3333333333333333,\"#9c179e\"],[0.4444444444444444,\"#bd3786\"],[0.5555555555555556,\"#d8576b\"],[0.6666666666666666,\"#ed7953\"],[0.7777777777777778,\"#fb9f3a\"],[0.8888888888888888,\"#fdca26\"],[1.0,\"#f0f921\"]],\"sequentialminus\":[[0.0,\"#0d0887\"],[0.1111111111111111,\"#46039f\"],[0.2222222222222222,\"#7201a8\"],[0.3333333333333333,\"#9c179e\"],[0.4444444444444444,\"#bd3786\"],[0.5555555555555556,\"#d8576b\"],[0.6666666666666666,\"#ed7953\"],[0.7777777777777778,\"#fb9f3a\"],[0.8888888888888888,\"#fdca26\"],[1.0,\"#f0f921\"]],\"diverging\":[[0,\"#8e0152\"],[0.1,\"#c51b7d\"],[0.2,\"#de77ae\"],[0.3,\"#f1b6da\"],[0.4,\"#fde0ef\"],[0.5,\"#f7f7f7\"],[0.6,\"#e6f5d0\"],[0.7,\"#b8e186\"],[0.8,\"#7fbc41\"],[0.9,\"#4d9221\"],[1,\"#276419\"]]},\"xaxis\":{\"gridcolor\":\"white\",\"linecolor\":\"white\",\"ticks\":\"\",\"title\":{\"standoff\":15},\"zerolinecolor\":\"white\",\"automargin\":true,\"zerolinewidth\":2},\"yaxis\":{\"gridcolor\":\"white\",\"linecolor\":\"white\",\"ticks\":\"\",\"title\":{\"standoff\":15},\"zerolinecolor\":\"white\",\"automargin\":true,\"zerolinewidth\":2},\"scene\":{\"xaxis\":{\"backgroundcolor\":\"#E5ECF6\",\"gridcolor\":\"white\",\"linecolor\":\"white\",\"showbackground\":true,\"ticks\":\"\",\"zerolinecolor\":\"white\",\"gridwidth\":2},\"yaxis\":{\"backgroundcolor\":\"#E5ECF6\",\"gridcolor\":\"white\",\"linecolor\":\"white\",\"showbackground\":true,\"ticks\":\"\",\"zerolinecolor\":\"white\",\"gridwidth\":2},\"zaxis\":{\"backgroundcolor\":\"#E5ECF6\",\"gridcolor\":\"white\",\"linecolor\":\"white\",\"showbackground\":true,\"ticks\":\"\",\"zerolinecolor\":\"white\",\"gridwidth\":2}},\"shapedefaults\":{\"line\":{\"color\":\"#2a3f5f\"}},\"annotationdefaults\":{\"arrowcolor\":\"#2a3f5f\",\"arrowhead\":0,\"arrowwidth\":1},\"geo\":{\"bgcolor\":\"white\",\"landcolor\":\"#E5ECF6\",\"subunitcolor\":\"white\",\"showland\":true,\"showlakes\":true,\"lakecolor\":\"white\"},\"title\":{\"x\":0.05},\"mapbox\":{\"style\":\"light\"}}},\"xaxis\":{\"anchor\":\"y\",\"domain\":[0.0,1.0],\"title\":{\"text\":\"Rodzaj klienta\"}},\"yaxis\":{\"anchor\":\"x\",\"domain\":[0.0,1.0],\"title\":{\"text\":\"Cena zakup\\u00f3w\"}},\"legend\":{\"tracegroupgap\":0},\"title\":{\"text\":\"Cena jednorazowych zakup\\u00f3w a rodzaj klienta\"},\"boxmode\":\"group\"},                        {\"responsive\": true}                    ).then(function(){\n",
              "                            \n",
              "var gd = document.getElementById('34d6b9d6-df33-4477-bf60-ede58271907f');\n",
              "var x = new MutationObserver(function (mutations, observer) {{\n",
              "        var display = window.getComputedStyle(gd).display;\n",
              "        if (!display || display === 'none') {{\n",
              "            console.log([gd, 'removed!']);\n",
              "            Plotly.purge(gd);\n",
              "            observer.disconnect();\n",
              "        }}\n",
              "}});\n",
              "\n",
              "// Listen for the removal of the full notebook cells\n",
              "var notebookContainer = gd.closest('#notebook-container');\n",
              "if (notebookContainer) {{\n",
              "    x.observe(notebookContainer, {childList: true});\n",
              "}}\n",
              "\n",
              "// Listen for the clearing of the current output cell\n",
              "var outputEl = gd.closest('.output');\n",
              "if (outputEl) {{\n",
              "    x.observe(outputEl, {childList: true});\n",
              "}}\n",
              "\n",
              "                        })                };                            </script>        </div>\n",
              "</body>\n",
              "</html>"
            ]
          },
          "metadata": {}
        }
      ],
      "source": [
        "fig = px.box(df, x='Customer type', y='Total',\n",
        "             labels={'Total': 'Cena zakupów', 'Customer type': 'Rodzaj klienta'},\n",
        "             title='Cena jednorazowych zakupów a rodzaj klienta')\n",
        "fig.show()"
      ],
      "metadata": {
        "ExecuteTime": {
          "end_time": "2024-01-22T11:49:12.927050800Z",
          "start_time": "2024-01-22T11:49:12.867922600Z"
        },
        "colab": {
          "base_uri": "https://localhost:8080/",
          "height": 542
        },
        "id": "zhJVyjBGAOBr",
        "outputId": "758b1edd-6a36-48a2-defe-9c969c1545e3"
      }
    },
    {
      "cell_type": "markdown",
      "source": [
        "Biorąc pod uwagę cenę zakupu i status klienta można zaobserwować, że członkowie wydają więcej pieniędzy na jednorazowe zakupy."
      ],
      "metadata": {
        "id": "W8HkWCxNoN6W"
      }
    },
    {
      "cell_type": "code",
      "execution_count": null,
      "outputs": [
        {
          "output_type": "display_data",
          "data": {
            "text/html": [
              "<html>\n",
              "<head><meta charset=\"utf-8\" /></head>\n",
              "<body>\n",
              "    <div>            <script src=\"https://cdnjs.cloudflare.com/ajax/libs/mathjax/2.7.5/MathJax.js?config=TeX-AMS-MML_SVG\"></script><script type=\"text/javascript\">if (window.MathJax && window.MathJax.Hub && window.MathJax.Hub.Config) {window.MathJax.Hub.Config({SVG: {font: \"STIX-Web\"}});}</script>                <script type=\"text/javascript\">window.PlotlyConfig = {MathJaxConfig: 'local'};</script>\n",
              "        <script charset=\"utf-8\" src=\"https://cdn.plot.ly/plotly-2.24.1.min.js\"></script>                <div id=\"211dccda-ebc3-485b-bb91-ed406ec38ba3\" class=\"plotly-graph-div\" style=\"height:525px; width:100%;\"></div>            <script type=\"text/javascript\">                                    window.PLOTLYENV=window.PLOTLYENV || {};                                    if (document.getElementById(\"211dccda-ebc3-485b-bb91-ed406ec38ba3\")) {                    Plotly.newPlot(                        \"211dccda-ebc3-485b-bb91-ed406ec38ba3\",                        [{\"alignmentgroup\":\"True\",\"hovertemplate\":\"Rodzaj p\\u0142atno\\u015bci=%{x}\\u003cbr\\u003eWarto\\u015b\\u0107 rachunku=%{y}\\u003cextra\\u003e\\u003c\\u002fextra\\u003e\",\"legendgroup\":\"\",\"marker\":{\"color\":\"#636efa\"},\"name\":\"\",\"notched\":false,\"offsetgroup\":\"\",\"orientation\":\"v\",\"showlegend\":false,\"x\":[\"Ewallet\",\"Cash\",\"Credit card\",\"Ewallet\",\"Ewallet\",\"Ewallet\",\"Ewallet\",\"Ewallet\",\"Credit card\",\"Credit card\",\"Ewallet\",\"Cash\",\"Ewallet\",\"Ewallet\",\"Cash\",\"Cash\",\"Credit card\",\"Credit card\",\"Credit card\",\"Ewallet\",\"Ewallet\",\"Ewallet\",\"Credit card\",\"Ewallet\",\"Ewallet\",\"Credit card\",\"Cash\",\"Credit card\",\"Cash\",\"Cash\",\"Credit card\",\"Cash\",\"Cash\",\"Credit card\",\"Ewallet\",\"Ewallet\",\"Ewallet\",\"Ewallet\",\"Ewallet\",\"Cash\",\"Ewallet\",\"Cash\",\"Cash\",\"Cash\",\"Cash\",\"Cash\",\"Credit card\",\"Ewallet\",\"Credit card\",\"Ewallet\",\"Cash\",\"Cash\",\"Ewallet\",\"Credit card\",\"Ewallet\",\"Cash\",\"Cash\",\"Ewallet\",\"Cash\",\"Cash\",\"Credit card\",\"Ewallet\",\"Ewallet\",\"Credit card\",\"Cash\",\"Cash\",\"Ewallet\",\"Ewallet\",\"Cash\",\"Cash\",\"Credit card\",\"Cash\",\"Ewallet\",\"Cash\",\"Ewallet\",\"Credit card\",\"Credit card\",\"Credit card\",\"Ewallet\",\"Cash\",\"Credit card\",\"Ewallet\",\"Ewallet\",\"Credit card\",\"Cash\",\"Ewallet\",\"Cash\",\"Credit card\",\"Cash\",\"Cash\",\"Cash\",\"Ewallet\",\"Ewallet\",\"Credit card\",\"Credit card\",\"Ewallet\",\"Ewallet\",\"Cash\",\"Ewallet\",\"Cash\",\"Cash\",\"Cash\",\"Cash\",\"Cash\",\"Cash\",\"Ewallet\",\"Credit card\",\"Cash\",\"Cash\",\"Cash\",\"Ewallet\",\"Credit card\",\"Cash\",\"Ewallet\",\"Credit card\",\"Credit card\",\"Ewallet\",\"Ewallet\",\"Ewallet\",\"Ewallet\",\"Credit card\",\"Credit card\",\"Credit card\",\"Credit card\",\"Ewallet\",\"Credit card\",\"Cash\",\"Credit card\",\"Ewallet\",\"Ewallet\",\"Cash\",\"Cash\",\"Cash\",\"Credit card\",\"Ewallet\",\"Cash\",\"Credit card\",\"Cash\",\"Cash\",\"Ewallet\",\"Credit card\",\"Cash\",\"Cash\",\"Credit card\",\"Ewallet\",\"Credit card\",\"Ewallet\",\"Credit card\",\"Credit card\",\"Credit card\",\"Credit card\",\"Credit card\",\"Credit card\",\"Ewallet\",\"Cash\",\"Credit card\",\"Cash\",\"Ewallet\",\"Ewallet\",\"Ewallet\",\"Credit card\",\"Cash\",\"Credit card\",\"Ewallet\",\"Credit card\",\"Ewallet\",\"Cash\",\"Credit card\",\"Cash\",\"Credit card\",\"Ewallet\",\"Credit card\",\"Cash\",\"Credit card\",\"Ewallet\",\"Ewallet\",\"Credit card\",\"Credit card\",\"Ewallet\",\"Ewallet\",\"Cash\",\"Cash\",\"Ewallet\",\"Ewallet\",\"Credit card\",\"Ewallet\",\"Ewallet\",\"Cash\",\"Ewallet\",\"Credit card\",\"Credit card\",\"Ewallet\",\"Cash\",\"Ewallet\",\"Credit card\",\"Cash\",\"Cash\",\"Ewallet\",\"Credit card\",\"Credit card\",\"Credit card\",\"Cash\",\"Cash\",\"Ewallet\",\"Credit card\",\"Ewallet\",\"Credit card\",\"Ewallet\",\"Ewallet\",\"Credit card\",\"Ewallet\",\"Cash\",\"Ewallet\",\"Credit card\",\"Cash\",\"Credit card\",\"Cash\",\"Cash\",\"Ewallet\",\"Credit card\",\"Ewallet\",\"Ewallet\",\"Cash\",\"Cash\",\"Cash\",\"Credit card\",\"Ewallet\",\"Ewallet\",\"Cash\",\"Ewallet\",\"Cash\",\"Credit card\",\"Cash\",\"Cash\",\"Ewallet\",\"Ewallet\",\"Credit card\",\"Credit card\",\"Cash\",\"Ewallet\",\"Credit card\",\"Credit card\",\"Credit card\",\"Cash\",\"Credit card\",\"Cash\",\"Cash\",\"Ewallet\",\"Credit card\",\"Credit card\",\"Ewallet\",\"Credit card\",\"Credit card\",\"Cash\",\"Cash\",\"Cash\",\"Credit card\",\"Ewallet\",\"Ewallet\",\"Credit card\",\"Ewallet\",\"Ewallet\",\"Cash\",\"Cash\",\"Ewallet\",\"Credit card\",\"Credit card\",\"Cash\",\"Credit card\",\"Ewallet\",\"Ewallet\",\"Cash\",\"Credit card\",\"Cash\",\"Ewallet\",\"Cash\",\"Cash\",\"Ewallet\",\"Cash\",\"Credit card\",\"Credit card\",\"Credit card\",\"Cash\",\"Ewallet\",\"Cash\",\"Cash\",\"Cash\",\"Cash\",\"Credit card\",\"Cash\",\"Credit card\",\"Ewallet\",\"Cash\",\"Cash\",\"Ewallet\",\"Cash\",\"Cash\",\"Ewallet\",\"Cash\",\"Cash\",\"Credit card\",\"Credit card\",\"Cash\",\"Credit card\",\"Cash\",\"Ewallet\",\"Cash\",\"Cash\",\"Ewallet\",\"Cash\",\"Cash\",\"Ewallet\",\"Credit card\",\"Cash\",\"Cash\",\"Cash\",\"Cash\",\"Cash\",\"Credit card\",\"Ewallet\",\"Cash\",\"Cash\",\"Ewallet\",\"Cash\",\"Credit card\",\"Ewallet\",\"Cash\",\"Cash\",\"Credit card\",\"Cash\",\"Cash\",\"Credit card\",\"Cash\",\"Credit card\",\"Ewallet\",\"Credit card\",\"Ewallet\",\"Cash\",\"Credit card\",\"Credit card\",\"Credit card\",\"Ewallet\",\"Cash\",\"Ewallet\",\"Cash\",\"Ewallet\",\"Cash\",\"Cash\",\"Cash\",\"Credit card\",\"Credit card\",\"Cash\",\"Credit card\",\"Cash\",\"Cash\",\"Credit card\",\"Credit card\",\"Cash\",\"Ewallet\",\"Cash\",\"Credit card\",\"Cash\",\"Ewallet\",\"Cash\",\"Cash\",\"Cash\",\"Cash\",\"Cash\",\"Cash\",\"Credit card\",\"Cash\",\"Credit card\",\"Ewallet\",\"Cash\",\"Credit card\",\"Ewallet\",\"Credit card\",\"Ewallet\",\"Ewallet\",\"Credit card\",\"Credit card\",\"Cash\",\"Cash\",\"Ewallet\",\"Ewallet\",\"Cash\",\"Cash\",\"Credit card\",\"Ewallet\",\"Credit card\",\"Cash\",\"Cash\",\"Ewallet\",\"Credit card\",\"Ewallet\",\"Ewallet\",\"Ewallet\",\"Cash\",\"Credit card\",\"Cash\",\"Credit card\",\"Credit card\",\"Ewallet\",\"Ewallet\",\"Ewallet\",\"Credit card\",\"Credit card\",\"Cash\",\"Ewallet\",\"Ewallet\",\"Cash\",\"Ewallet\",\"Cash\",\"Ewallet\",\"Ewallet\",\"Ewallet\",\"Credit card\",\"Ewallet\",\"Ewallet\",\"Cash\",\"Ewallet\",\"Cash\",\"Credit card\",\"Credit card\",\"Cash\",\"Cash\",\"Cash\",\"Credit card\",\"Cash\",\"Ewallet\",\"Credit card\",\"Ewallet\",\"Ewallet\",\"Credit card\",\"Credit card\",\"Ewallet\",\"Ewallet\",\"Credit card\",\"Ewallet\",\"Credit card\",\"Cash\",\"Credit card\",\"Credit card\",\"Ewallet\",\"Cash\",\"Credit card\",\"Credit card\",\"Credit card\",\"Credit card\",\"Credit card\",\"Cash\",\"Cash\",\"Ewallet\",\"Ewallet\",\"Cash\",\"Cash\",\"Credit card\",\"Cash\",\"Cash\",\"Credit card\",\"Cash\",\"Credit card\",\"Cash\",\"Cash\",\"Credit card\",\"Credit card\",\"Credit card\",\"Cash\",\"Ewallet\",\"Cash\",\"Ewallet\",\"Cash\",\"Credit card\",\"Cash\",\"Cash\",\"Credit card\",\"Credit card\",\"Ewallet\",\"Ewallet\",\"Ewallet\",\"Cash\",\"Cash\",\"Ewallet\",\"Cash\",\"Credit card\",\"Ewallet\",\"Cash\",\"Ewallet\",\"Cash\",\"Ewallet\",\"Ewallet\",\"Credit card\",\"Ewallet\",\"Credit card\",\"Ewallet\",\"Cash\",\"Cash\",\"Cash\",\"Cash\",\"Cash\",\"Credit card\",\"Ewallet\",\"Ewallet\",\"Cash\",\"Credit card\",\"Ewallet\",\"Cash\",\"Credit card\",\"Cash\",\"Credit card\",\"Credit card\",\"Ewallet\",\"Ewallet\",\"Cash\",\"Credit card\",\"Ewallet\",\"Ewallet\",\"Credit card\",\"Ewallet\",\"Credit card\",\"Credit card\",\"Cash\",\"Credit card\",\"Cash\",\"Credit card\",\"Ewallet\",\"Credit card\",\"Ewallet\",\"Credit card\",\"Cash\",\"Ewallet\",\"Credit card\",\"Ewallet\",\"Ewallet\",\"Ewallet\",\"Ewallet\",\"Credit card\",\"Ewallet\",\"Credit card\",\"Ewallet\",\"Ewallet\",\"Credit card\",\"Credit card\",\"Credit card\",\"Credit card\",\"Ewallet\",\"Ewallet\",\"Credit card\",\"Cash\",\"Cash\",\"Ewallet\",\"Cash\",\"Cash\",\"Credit card\",\"Cash\",\"Credit card\",\"Cash\",\"Ewallet\",\"Ewallet\",\"Ewallet\",\"Cash\",\"Credit card\",\"Ewallet\",\"Ewallet\",\"Cash\",\"Credit card\",\"Credit card\",\"Cash\",\"Credit card\",\"Ewallet\",\"Credit card\",\"Cash\",\"Ewallet\",\"Credit card\",\"Credit card\",\"Ewallet\",\"Cash\",\"Ewallet\",\"Cash\",\"Ewallet\",\"Cash\",\"Cash\",\"Credit card\",\"Credit card\",\"Ewallet\",\"Credit card\",\"Cash\",\"Ewallet\",\"Cash\",\"Cash\",\"Credit card\",\"Ewallet\",\"Cash\",\"Ewallet\",\"Cash\",\"Credit card\",\"Credit card\",\"Ewallet\",\"Cash\",\"Ewallet\",\"Ewallet\",\"Credit card\",\"Ewallet\",\"Ewallet\",\"Cash\",\"Cash\",\"Ewallet\",\"Credit card\",\"Ewallet\",\"Ewallet\",\"Credit card\",\"Cash\",\"Cash\",\"Credit card\",\"Ewallet\",\"Ewallet\",\"Cash\",\"Ewallet\",\"Credit card\",\"Ewallet\",\"Credit card\",\"Cash\",\"Credit card\",\"Credit card\",\"Cash\",\"Cash\",\"Ewallet\",\"Cash\",\"Ewallet\",\"Credit card\",\"Credit card\",\"Ewallet\",\"Credit card\",\"Ewallet\",\"Credit card\",\"Credit card\",\"Credit card\",\"Cash\",\"Cash\",\"Ewallet\",\"Ewallet\",\"Ewallet\",\"Ewallet\",\"Credit card\",\"Ewallet\",\"Ewallet\",\"Cash\",\"Cash\",\"Cash\",\"Cash\",\"Ewallet\",\"Cash\",\"Cash\",\"Ewallet\",\"Credit card\",\"Credit card\",\"Credit card\",\"Ewallet\",\"Cash\",\"Credit card\",\"Cash\",\"Credit card\",\"Credit card\",\"Credit card\",\"Cash\",\"Ewallet\",\"Ewallet\",\"Ewallet\",\"Ewallet\",\"Credit card\",\"Ewallet\",\"Cash\",\"Ewallet\",\"Credit card\",\"Credit card\",\"Cash\",\"Credit card\",\"Cash\",\"Ewallet\",\"Ewallet\",\"Cash\",\"Credit card\",\"Ewallet\",\"Ewallet\",\"Ewallet\",\"Credit card\",\"Credit card\",\"Cash\",\"Cash\",\"Cash\",\"Cash\",\"Ewallet\",\"Cash\",\"Cash\",\"Cash\",\"Cash\",\"Ewallet\",\"Ewallet\",\"Credit card\",\"Ewallet\",\"Ewallet\",\"Credit card\",\"Credit card\",\"Cash\",\"Cash\",\"Cash\",\"Ewallet\",\"Cash\",\"Ewallet\",\"Ewallet\",\"Cash\",\"Ewallet\",\"Ewallet\",\"Ewallet\",\"Ewallet\",\"Credit card\",\"Ewallet\",\"Credit card\",\"Credit card\",\"Credit card\",\"Cash\",\"Cash\",\"Credit card\",\"Cash\",\"Ewallet\",\"Cash\",\"Credit card\",\"Credit card\",\"Ewallet\",\"Cash\",\"Credit card\",\"Ewallet\",\"Ewallet\",\"Ewallet\",\"Ewallet\",\"Credit card\",\"Credit card\",\"Ewallet\",\"Ewallet\",\"Cash\",\"Cash\",\"Ewallet\",\"Ewallet\",\"Ewallet\",\"Credit card\",\"Cash\",\"Credit card\",\"Credit card\",\"Credit card\",\"Cash\",\"Ewallet\",\"Credit card\",\"Ewallet\",\"Ewallet\",\"Ewallet\",\"Credit card\",\"Ewallet\",\"Cash\",\"Ewallet\",\"Ewallet\",\"Credit card\",\"Credit card\",\"Ewallet\",\"Ewallet\",\"Credit card\",\"Ewallet\",\"Credit card\",\"Cash\",\"Cash\",\"Cash\",\"Ewallet\",\"Credit card\",\"Ewallet\",\"Credit card\",\"Cash\",\"Credit card\",\"Credit card\",\"Cash\",\"Cash\",\"Ewallet\",\"Cash\",\"Ewallet\",\"Credit card\",\"Cash\",\"Ewallet\",\"Credit card\",\"Ewallet\",\"Credit card\",\"Credit card\",\"Ewallet\",\"Credit card\",\"Credit card\",\"Credit card\",\"Credit card\",\"Credit card\",\"Ewallet\",\"Cash\",\"Cash\",\"Credit card\",\"Ewallet\",\"Ewallet\",\"Ewallet\",\"Ewallet\",\"Cash\",\"Cash\",\"Cash\",\"Credit card\",\"Cash\",\"Cash\",\"Ewallet\",\"Ewallet\",\"Credit card\",\"Credit card\",\"Cash\",\"Cash\",\"Ewallet\",\"Cash\",\"Ewallet\",\"Credit card\",\"Credit card\",\"Ewallet\",\"Credit card\",\"Cash\",\"Cash\",\"Credit card\",\"Credit card\",\"Credit card\",\"Credit card\",\"Cash\",\"Credit card\",\"Cash\",\"Cash\",\"Cash\",\"Ewallet\",\"Ewallet\",\"Cash\",\"Ewallet\",\"Credit card\",\"Cash\",\"Ewallet\",\"Cash\",\"Cash\",\"Credit card\",\"Credit card\",\"Cash\",\"Credit card\",\"Ewallet\",\"Credit card\",\"Cash\",\"Cash\",\"Cash\",\"Ewallet\",\"Ewallet\",\"Ewallet\",\"Ewallet\",\"Cash\",\"Cash\",\"Cash\",\"Cash\",\"Cash\",\"Ewallet\",\"Ewallet\",\"Credit card\",\"Cash\",\"Cash\",\"Ewallet\",\"Credit card\",\"Ewallet\",\"Credit card\",\"Ewallet\",\"Credit card\",\"Ewallet\",\"Cash\",\"Cash\",\"Credit card\",\"Ewallet\",\"Cash\",\"Cash\",\"Credit card\",\"Ewallet\",\"Ewallet\",\"Credit card\",\"Credit card\",\"Ewallet\",\"Cash\",\"Cash\",\"Ewallet\",\"Ewallet\",\"Ewallet\",\"Ewallet\",\"Cash\",\"Cash\",\"Credit card\",\"Cash\",\"Credit card\",\"Credit card\",\"Ewallet\",\"Cash\",\"Cash\",\"Ewallet\",\"Credit card\",\"Ewallet\",\"Credit card\",\"Cash\",\"Ewallet\",\"Cash\",\"Credit card\",\"Credit card\",\"Ewallet\",\"Credit card\",\"Credit card\",\"Ewallet\",\"Cash\",\"Ewallet\",\"Cash\",\"Cash\",\"Credit card\",\"Cash\",\"Ewallet\",\"Ewallet\",\"Credit card\",\"Cash\",\"Credit card\",\"Credit card\",\"Ewallet\",\"Ewallet\",\"Credit card\",\"Credit card\",\"Credit card\",\"Ewallet\",\"Ewallet\",\"Credit card\",\"Ewallet\",\"Ewallet\",\"Ewallet\",\"Ewallet\",\"Ewallet\",\"Cash\",\"Cash\",\"Ewallet\",\"Ewallet\",\"Cash\",\"Ewallet\",\"Credit card\",\"Cash\",\"Credit card\",\"Credit card\",\"Ewallet\",\"Ewallet\",\"Ewallet\",\"Ewallet\",\"Ewallet\",\"Ewallet\",\"Cash\",\"Cash\",\"Cash\",\"Cash\",\"Cash\",\"Cash\",\"Cash\",\"Cash\",\"Cash\",\"Credit card\",\"Cash\",\"Credit card\",\"Credit card\",\"Ewallet\",\"Credit card\",\"Cash\",\"Credit card\",\"Credit card\",\"Ewallet\",\"Cash\",\"Cash\",\"Cash\",\"Credit card\",\"Cash\",\"Ewallet\",\"Credit card\",\"Credit card\",\"Cash\",\"Cash\",\"Ewallet\",\"Cash\",\"Cash\",\"Ewallet\",\"Ewallet\",\"Credit card\",\"Ewallet\",\"Credit card\",\"Credit card\",\"Ewallet\",\"Ewallet\",\"Ewallet\",\"Ewallet\",\"Ewallet\",\"Ewallet\",\"Cash\",\"Cash\",\"Cash\"],\"x0\":\" \",\"xaxis\":\"x\",\"y\":[522.83,76.4,324.31,465.76,604.17,597.73,413.04,735.6,72.52,164.52,57.92,102.04,234.75,431.9,713.8,562.32,482.51,435.66,164.01,80.6,430.2,263.94,66.4,172.8,265.89,420.72,33.52,175.34,441.8,224.01,470.65,702.63,670.24,193.16,397.68,68.12,313.1,547.92,439.36,240.96,86.72,112.22,414.72,789.6,30.74,375.84,510.21,180.09,113.58,826.3,639.8,222.95,71.48,15.43,32.32,687.84,88.68,716.8,723.5,183.66,74.22,334.38,495.63,158.1,302.96,158.7,66.94,585.66,787.7,18.33,894.8,621.2,145.56,455.46,672.03,416.5,441.36,180.09,783.1,101.9,595.14,290.04,154.0,321.44,244.55,581.42,382.6,345.66,42.47,461.94,189.52,448.6,153.86,579.24,89.75,97.16,878.7,74.7,158.25,496.2,48.71,706.95,207.63,349.56,212.45,886.7,164.28,372.78,305.82,819.7,32.98,294.63,509.88,522.63,727.11,81.06,109.7,51.36,109.6,106.88,796.48,399.84,899.64,511.28,451.76,655.83,161.25,285.57,548.32,812.52,277.34,552.78,139.36,524.7,487.8,270.66,131.55,206.52,519.1,580.0,898.0,905.0,686.0,30.41,467.7,277.56,301.4,264.56,574.88,259.68,366.16,241.92,749.16,98.88,647.76,461.45,72.17,251.4,874.98,560.34,345.44,63.69,320.53,152.8,399.0,340.56,955.8,989.8,307.68,486.64,350.05,400.25,166.8,317.34,158.32,304.56,177.36,157.57,443.28,260.4,449.82,307.76,155.0,274.48,86.38,54.24,755.92,185.88,74.07,279.24,231.12,147.04,790.2,102.2,163.55,74.29,87.4,25.29,166.0,356.95,114.9,229.96,429.87,259.0,88.85,207.27,599.85,285.3,91.11,897.57,236.07,839.34,461.8,139.26,207.27,18.28,123.85,283.92,758.96,172.02,272.1,434.56,59.05,12.54,86.5,174.32,624.33,148.24,544.2,507.36,162.74,31.77,756.81,295.28,519.4,186.28,87.05,221.1,66.1,89.69,224.46,119.54,186.4,250.6,750.96,380.72,244.2,89.7,310.88,511.42,418.95,351.9,28.78,95.0,471.2,130.48,66.35,155.46,129.0,263.76,675.54,65.8,153.2,222.4,54.45,688.8,141.88,746.0,282.96,355.4,337.15,42.24,193.86,24.06,598.26,335.79,218.2,381.68,709.9,440.2,559.68,37.0,15.34,598.98,190.68,333.4,74.86,213.75,339.57,664.16,403.0,194.95,62.48,72.72,181.1,259.6,115.36,470.28,240.04,88.61,199.64,39.01,48.61,204.76,119.68,505.4,281.61,710.32,79.44,163.82,479.58,138.66,71.15,139.95,781.3,198.74,63.24,373.95,207.69,176.28,206.37,39.42,91.56,308.85,129.12,390.96,498.9,377.04,204.52,145.44,198.18,98.7,385.1,46.96,73.5,142.25,687.6,347.7,142.95,385.38,144.27,391.79,538.3,485.15,133.95,701.37,71.95,714.0,182.14,135.0,993.0,361.83,383.11,243.0,30.24,356.56,375.5,954.4,82.5,74.97,647.68,755.76,199.58,439.32,164.96,326.72,461.88,263.76,143.6,193.5,183.82,121.92,420.66,252.48,335.45,483.5,318.42,668.43,387.92,94.6,329.32,53.22,498.45,299.56,204.7,75.82,280.62,323.2,486.63,127.54,241.44,379.5,76.82,522.6,79.74,387.5,271.35,122.31,246.36,173.16,236.58,184.88,13.98,198.75,684.53,269.04,68.95,274.84,226.12,119.1,342.1,43.74,104.85,77.52,407.44,96.11,181.52,81.51,114.44,176.54,115.8,252.15,972.1,203.36,16.28,365.49,372.19,62.61,336.35,906.5,138.16,86.54,140.76,668.78,47.44,893.16,331.72,203.94,68.16,326.88,87.2,707.44,802.89,12.78,133.7,19.15,276.6,137.22,27.07,39.12,448.26,132.06,318.05,25.0,83.08,147.8,696.6,793.9,465.7,35.89,202.6,730.5,295.8,22.62,256.7,545.5,260.05,222.12,21.58,98.84,502.62,160.2,431.3,580.56,322.2,195.54,166.3,336.28,343.7,38.6,527.76,328.0,185.7,603.8,369.8,197.96,410.9,148.6,22.96,699.12,69.4,196.6,202.56,121.2,199.78,607.36,126.44,541.44,98.13,412.16,73.97,31.9,138.8,186.62,88.45,193.44,145.5,504.3,306.45,95.7,635.18,214.55,379.96,696.85,408.73,51.47,274.3,196.95,69.46,359.6,137.13,499.02,224.64,125.74,490.26,457.05,156.84,119.72,543.6,882.81,152.58,693.44,229.5,146.79,141.6,116.69,73.96,97.94,292.2,524.88,92.04,75.88,80.72,112.62,71.2,155.24,294.2,548.55,257.7,396.36,171.81,488.79,524.16,133.26,135.24,112.44,144.08,985.2,249.96,217.26,194.22,892.0,339.36,447.06,198.5,812.1,493.3,591.66,559.02,517.86,410.2,266.7,70.91,144.78,429.55,569.17,241.2,127.08,257.08,139.02,81.66,310.72,185.96,72.32,189.18,206.84,157.02,215.3,596.1,73.1,279.18,169.68,45.58,225.6,290.4,44.46,156.6,419.94,184.25,140.64,83.08,64.99,775.6,327.06,363.23,127.0,375.55,199.16,30.61,115.78,28.96,890.73,279.66,80.93,674.5,348.48,435.6,439.55,591.18,260.76,215.04,91.61,662.13,832.5,91.35,157.76,121.74,825.8,159.9,12.09,641.9,234.93,167.54,299.1,239.73,664.7,202.65,46.2,88.15,157.26,296.37,708.4,111.34,580.16,60.25,174.24,421.26,33.63,30.98,247.4,378.3,334.86,727.8,335.88,240.72,47.07,99.69,264.45,139.65,55.45,128.91,119.98,352.5,871.0,197.6,194.52,173.22,71.88,286.26,81.24,560.4,186.8,220.23,269.12,454.8,167.54,448.56,293.88,589.5,291.0,39.48,34.81,295.92,42.96,138.48,98.2,129.66,635.6,145.76,201.3,631.71,385.28,486.3,513.66,473.4,436.85,108.16,248.76,626.22,975.0,483.28,96.96,197.7,724.23,795.51,502.39,172.0,68.98,124.96,77.1,483.72,302.12,698.67,124.65,789.6,178.4,500.22,35.82,136.14,104.88,178.92,815.67,132.36,257.39,93.36,228.0,166.71,697.4,389.04,365.26,89.28,168.0,19.7,531.16,53.72,819.5,568.4,587.6,732.48,845.64,389.27,84.83,143.26,75.38,253.36,38.42,652.3,52.65,110.61,568.61,89.28,136.4,174.2,366.4,254.61,778.32,285.92,579.12,188.5,221.56,772.0,721.3,511.04,53.45,222.0,763.68,228.18,82.14,382.56,68.58,382.16,601.09,475.93,52.42,131.3,144.3,457.17,93.38,126.25,790.83,174.4,379.04,30.62,352.08,50.8,522.06,575.12,54.95,181.41,412.37,46.41,274.2,973.7,648.2,93.22,54.36,60.87,244.9,92.78,433.45,138.06,241.6,471.73,440.64,680.31,309.88,186.36,200.92,17.75,621.8,86.0,402.6,324.85,95.15,388.96,425.68,318.08,271.04,384.64,235.8,211.56,95.36,10.17,206.13,420.56,88.04,648.99,123.84,649.5,742.2,84.48,250.28,94.8,91.3,285.11,52.38,192.7,267.78,558.7,175.32,155.82,60.3,78.94,29.74,21.32,281.34,73.26,22.38,655.92,594.6,74.1,196.96,372.33,527.9,479.75,328.59,168.96,113.24,345.54,428.67,86.27,25.52,101.52,357.49,238.77,101.43,724.24,125.64,72.93,258.36,173.74,56.5,214.3,534.36,93.16,522.08,52.35,39.75,720.16,96.8,332.1,81.44,319.9,206.52,166.68,319.06,87.9,734.7,97.52,769.2,418.3,463.28,462.45,141.9,302.7,793.28,425.18,283.62,599.2,315.36,403.56,183.88,138.65,80.71,116.64,313.52,846.1,414.4,159.08,490.1,87.45,224.52,744.96,410.72,298.8,212.94,42.85,378.68,206.91,78.78,322.11,98.22,25.46,581.98,211.32,55.12,88.31,356.58,794.25,50.62,599.52,166.7,744.4,448.56,378.9,257.16,552.23,447.4,276.27,343.74,266.08,898.38,456.8,253.95,70.56,657.16,168.5,53.78,179.05,211.44,119.73,65.7,251.4,84.16,395.46,297.99,454.41,276.12,158.0,887.94,91.98,41.78,15.5,290.46,66.66,76.54,299.7,243.03,47.4,172.45,846.3,258.37,609.56,240.24,172.26,99.84,298.64,159.6,25.45,67.77,238.36,232.6,877.32,699.72,674.59,318.55,29.52,496.0,823.4,602.96,282.8,766.0,116.06,174.9,60.95,40.35,973.8,31.84,65.82,618.38],\"y0\":\" \",\"yaxis\":\"y\",\"type\":\"box\"}],                        {\"template\":{\"data\":{\"histogram2dcontour\":[{\"type\":\"histogram2dcontour\",\"colorbar\":{\"outlinewidth\":0,\"ticks\":\"\"},\"colorscale\":[[0.0,\"#0d0887\"],[0.1111111111111111,\"#46039f\"],[0.2222222222222222,\"#7201a8\"],[0.3333333333333333,\"#9c179e\"],[0.4444444444444444,\"#bd3786\"],[0.5555555555555556,\"#d8576b\"],[0.6666666666666666,\"#ed7953\"],[0.7777777777777778,\"#fb9f3a\"],[0.8888888888888888,\"#fdca26\"],[1.0,\"#f0f921\"]]}],\"choropleth\":[{\"type\":\"choropleth\",\"colorbar\":{\"outlinewidth\":0,\"ticks\":\"\"}}],\"histogram2d\":[{\"type\":\"histogram2d\",\"colorbar\":{\"outlinewidth\":0,\"ticks\":\"\"},\"colorscale\":[[0.0,\"#0d0887\"],[0.1111111111111111,\"#46039f\"],[0.2222222222222222,\"#7201a8\"],[0.3333333333333333,\"#9c179e\"],[0.4444444444444444,\"#bd3786\"],[0.5555555555555556,\"#d8576b\"],[0.6666666666666666,\"#ed7953\"],[0.7777777777777778,\"#fb9f3a\"],[0.8888888888888888,\"#fdca26\"],[1.0,\"#f0f921\"]]}],\"heatmap\":[{\"type\":\"heatmap\",\"colorbar\":{\"outlinewidth\":0,\"ticks\":\"\"},\"colorscale\":[[0.0,\"#0d0887\"],[0.1111111111111111,\"#46039f\"],[0.2222222222222222,\"#7201a8\"],[0.3333333333333333,\"#9c179e\"],[0.4444444444444444,\"#bd3786\"],[0.5555555555555556,\"#d8576b\"],[0.6666666666666666,\"#ed7953\"],[0.7777777777777778,\"#fb9f3a\"],[0.8888888888888888,\"#fdca26\"],[1.0,\"#f0f921\"]]}],\"heatmapgl\":[{\"type\":\"heatmapgl\",\"colorbar\":{\"outlinewidth\":0,\"ticks\":\"\"},\"colorscale\":[[0.0,\"#0d0887\"],[0.1111111111111111,\"#46039f\"],[0.2222222222222222,\"#7201a8\"],[0.3333333333333333,\"#9c179e\"],[0.4444444444444444,\"#bd3786\"],[0.5555555555555556,\"#d8576b\"],[0.6666666666666666,\"#ed7953\"],[0.7777777777777778,\"#fb9f3a\"],[0.8888888888888888,\"#fdca26\"],[1.0,\"#f0f921\"]]}],\"contourcarpet\":[{\"type\":\"contourcarpet\",\"colorbar\":{\"outlinewidth\":0,\"ticks\":\"\"}}],\"contour\":[{\"type\":\"contour\",\"colorbar\":{\"outlinewidth\":0,\"ticks\":\"\"},\"colorscale\":[[0.0,\"#0d0887\"],[0.1111111111111111,\"#46039f\"],[0.2222222222222222,\"#7201a8\"],[0.3333333333333333,\"#9c179e\"],[0.4444444444444444,\"#bd3786\"],[0.5555555555555556,\"#d8576b\"],[0.6666666666666666,\"#ed7953\"],[0.7777777777777778,\"#fb9f3a\"],[0.8888888888888888,\"#fdca26\"],[1.0,\"#f0f921\"]]}],\"surface\":[{\"type\":\"surface\",\"colorbar\":{\"outlinewidth\":0,\"ticks\":\"\"},\"colorscale\":[[0.0,\"#0d0887\"],[0.1111111111111111,\"#46039f\"],[0.2222222222222222,\"#7201a8\"],[0.3333333333333333,\"#9c179e\"],[0.4444444444444444,\"#bd3786\"],[0.5555555555555556,\"#d8576b\"],[0.6666666666666666,\"#ed7953\"],[0.7777777777777778,\"#fb9f3a\"],[0.8888888888888888,\"#fdca26\"],[1.0,\"#f0f921\"]]}],\"mesh3d\":[{\"type\":\"mesh3d\",\"colorbar\":{\"outlinewidth\":0,\"ticks\":\"\"}}],\"scatter\":[{\"fillpattern\":{\"fillmode\":\"overlay\",\"size\":10,\"solidity\":0.2},\"type\":\"scatter\"}],\"parcoords\":[{\"type\":\"parcoords\",\"line\":{\"colorbar\":{\"outlinewidth\":0,\"ticks\":\"\"}}}],\"scatterpolargl\":[{\"type\":\"scatterpolargl\",\"marker\":{\"colorbar\":{\"outlinewidth\":0,\"ticks\":\"\"}}}],\"bar\":[{\"error_x\":{\"color\":\"#2a3f5f\"},\"error_y\":{\"color\":\"#2a3f5f\"},\"marker\":{\"line\":{\"color\":\"#E5ECF6\",\"width\":0.5},\"pattern\":{\"fillmode\":\"overlay\",\"size\":10,\"solidity\":0.2}},\"type\":\"bar\"}],\"scattergeo\":[{\"type\":\"scattergeo\",\"marker\":{\"colorbar\":{\"outlinewidth\":0,\"ticks\":\"\"}}}],\"scatterpolar\":[{\"type\":\"scatterpolar\",\"marker\":{\"colorbar\":{\"outlinewidth\":0,\"ticks\":\"\"}}}],\"histogram\":[{\"marker\":{\"pattern\":{\"fillmode\":\"overlay\",\"size\":10,\"solidity\":0.2}},\"type\":\"histogram\"}],\"scattergl\":[{\"type\":\"scattergl\",\"marker\":{\"colorbar\":{\"outlinewidth\":0,\"ticks\":\"\"}}}],\"scatter3d\":[{\"type\":\"scatter3d\",\"line\":{\"colorbar\":{\"outlinewidth\":0,\"ticks\":\"\"}},\"marker\":{\"colorbar\":{\"outlinewidth\":0,\"ticks\":\"\"}}}],\"scattermapbox\":[{\"type\":\"scattermapbox\",\"marker\":{\"colorbar\":{\"outlinewidth\":0,\"ticks\":\"\"}}}],\"scatterternary\":[{\"type\":\"scatterternary\",\"marker\":{\"colorbar\":{\"outlinewidth\":0,\"ticks\":\"\"}}}],\"scattercarpet\":[{\"type\":\"scattercarpet\",\"marker\":{\"colorbar\":{\"outlinewidth\":0,\"ticks\":\"\"}}}],\"carpet\":[{\"aaxis\":{\"endlinecolor\":\"#2a3f5f\",\"gridcolor\":\"white\",\"linecolor\":\"white\",\"minorgridcolor\":\"white\",\"startlinecolor\":\"#2a3f5f\"},\"baxis\":{\"endlinecolor\":\"#2a3f5f\",\"gridcolor\":\"white\",\"linecolor\":\"white\",\"minorgridcolor\":\"white\",\"startlinecolor\":\"#2a3f5f\"},\"type\":\"carpet\"}],\"table\":[{\"cells\":{\"fill\":{\"color\":\"#EBF0F8\"},\"line\":{\"color\":\"white\"}},\"header\":{\"fill\":{\"color\":\"#C8D4E3\"},\"line\":{\"color\":\"white\"}},\"type\":\"table\"}],\"barpolar\":[{\"marker\":{\"line\":{\"color\":\"#E5ECF6\",\"width\":0.5},\"pattern\":{\"fillmode\":\"overlay\",\"size\":10,\"solidity\":0.2}},\"type\":\"barpolar\"}],\"pie\":[{\"automargin\":true,\"type\":\"pie\"}]},\"layout\":{\"autotypenumbers\":\"strict\",\"colorway\":[\"#636efa\",\"#EF553B\",\"#00cc96\",\"#ab63fa\",\"#FFA15A\",\"#19d3f3\",\"#FF6692\",\"#B6E880\",\"#FF97FF\",\"#FECB52\"],\"font\":{\"color\":\"#2a3f5f\"},\"hovermode\":\"closest\",\"hoverlabel\":{\"align\":\"left\"},\"paper_bgcolor\":\"white\",\"plot_bgcolor\":\"#E5ECF6\",\"polar\":{\"bgcolor\":\"#E5ECF6\",\"angularaxis\":{\"gridcolor\":\"white\",\"linecolor\":\"white\",\"ticks\":\"\"},\"radialaxis\":{\"gridcolor\":\"white\",\"linecolor\":\"white\",\"ticks\":\"\"}},\"ternary\":{\"bgcolor\":\"#E5ECF6\",\"aaxis\":{\"gridcolor\":\"white\",\"linecolor\":\"white\",\"ticks\":\"\"},\"baxis\":{\"gridcolor\":\"white\",\"linecolor\":\"white\",\"ticks\":\"\"},\"caxis\":{\"gridcolor\":\"white\",\"linecolor\":\"white\",\"ticks\":\"\"}},\"coloraxis\":{\"colorbar\":{\"outlinewidth\":0,\"ticks\":\"\"}},\"colorscale\":{\"sequential\":[[0.0,\"#0d0887\"],[0.1111111111111111,\"#46039f\"],[0.2222222222222222,\"#7201a8\"],[0.3333333333333333,\"#9c179e\"],[0.4444444444444444,\"#bd3786\"],[0.5555555555555556,\"#d8576b\"],[0.6666666666666666,\"#ed7953\"],[0.7777777777777778,\"#fb9f3a\"],[0.8888888888888888,\"#fdca26\"],[1.0,\"#f0f921\"]],\"sequentialminus\":[[0.0,\"#0d0887\"],[0.1111111111111111,\"#46039f\"],[0.2222222222222222,\"#7201a8\"],[0.3333333333333333,\"#9c179e\"],[0.4444444444444444,\"#bd3786\"],[0.5555555555555556,\"#d8576b\"],[0.6666666666666666,\"#ed7953\"],[0.7777777777777778,\"#fb9f3a\"],[0.8888888888888888,\"#fdca26\"],[1.0,\"#f0f921\"]],\"diverging\":[[0,\"#8e0152\"],[0.1,\"#c51b7d\"],[0.2,\"#de77ae\"],[0.3,\"#f1b6da\"],[0.4,\"#fde0ef\"],[0.5,\"#f7f7f7\"],[0.6,\"#e6f5d0\"],[0.7,\"#b8e186\"],[0.8,\"#7fbc41\"],[0.9,\"#4d9221\"],[1,\"#276419\"]]},\"xaxis\":{\"gridcolor\":\"white\",\"linecolor\":\"white\",\"ticks\":\"\",\"title\":{\"standoff\":15},\"zerolinecolor\":\"white\",\"automargin\":true,\"zerolinewidth\":2},\"yaxis\":{\"gridcolor\":\"white\",\"linecolor\":\"white\",\"ticks\":\"\",\"title\":{\"standoff\":15},\"zerolinecolor\":\"white\",\"automargin\":true,\"zerolinewidth\":2},\"scene\":{\"xaxis\":{\"backgroundcolor\":\"#E5ECF6\",\"gridcolor\":\"white\",\"linecolor\":\"white\",\"showbackground\":true,\"ticks\":\"\",\"zerolinecolor\":\"white\",\"gridwidth\":2},\"yaxis\":{\"backgroundcolor\":\"#E5ECF6\",\"gridcolor\":\"white\",\"linecolor\":\"white\",\"showbackground\":true,\"ticks\":\"\",\"zerolinecolor\":\"white\",\"gridwidth\":2},\"zaxis\":{\"backgroundcolor\":\"#E5ECF6\",\"gridcolor\":\"white\",\"linecolor\":\"white\",\"showbackground\":true,\"ticks\":\"\",\"zerolinecolor\":\"white\",\"gridwidth\":2}},\"shapedefaults\":{\"line\":{\"color\":\"#2a3f5f\"}},\"annotationdefaults\":{\"arrowcolor\":\"#2a3f5f\",\"arrowhead\":0,\"arrowwidth\":1},\"geo\":{\"bgcolor\":\"white\",\"landcolor\":\"#E5ECF6\",\"subunitcolor\":\"white\",\"showland\":true,\"showlakes\":true,\"lakecolor\":\"white\"},\"title\":{\"x\":0.05},\"mapbox\":{\"style\":\"light\"}}},\"xaxis\":{\"anchor\":\"y\",\"domain\":[0.0,1.0],\"title\":{\"text\":\"Rodzaj p\\u0142atno\\u015bci\"}},\"yaxis\":{\"anchor\":\"x\",\"domain\":[0.0,1.0],\"title\":{\"text\":\"Warto\\u015b\\u0107 rachunku\"}},\"legend\":{\"tracegroupgap\":0},\"title\":{\"text\":\"Cena jednorazowych zakup\\u00f3w a rodzaj p\\u0142atno\\u015bci\"},\"boxmode\":\"group\"},                        {\"responsive\": true}                    ).then(function(){\n",
              "                            \n",
              "var gd = document.getElementById('211dccda-ebc3-485b-bb91-ed406ec38ba3');\n",
              "var x = new MutationObserver(function (mutations, observer) {{\n",
              "        var display = window.getComputedStyle(gd).display;\n",
              "        if (!display || display === 'none') {{\n",
              "            console.log([gd, 'removed!']);\n",
              "            Plotly.purge(gd);\n",
              "            observer.disconnect();\n",
              "        }}\n",
              "}});\n",
              "\n",
              "// Listen for the removal of the full notebook cells\n",
              "var notebookContainer = gd.closest('#notebook-container');\n",
              "if (notebookContainer) {{\n",
              "    x.observe(notebookContainer, {childList: true});\n",
              "}}\n",
              "\n",
              "// Listen for the clearing of the current output cell\n",
              "var outputEl = gd.closest('.output');\n",
              "if (outputEl) {{\n",
              "    x.observe(outputEl, {childList: true});\n",
              "}}\n",
              "\n",
              "                        })                };                            </script>        </div>\n",
              "</body>\n",
              "</html>"
            ]
          },
          "metadata": {}
        }
      ],
      "source": [
        "fig = px.box(df, x='Payment', y='cogs',\n",
        "             labels={'Payment': 'Rodzaj płatności', 'cogs': 'Wartość rachunku'},\n",
        "             title='Cena jednorazowych zakupów a rodzaj płatności')\n",
        "fig.show()"
      ],
      "metadata": {
        "ExecuteTime": {
          "end_time": "2024-01-22T11:49:13.000312800Z",
          "start_time": "2024-01-22T11:49:12.914164100Z"
        },
        "colab": {
          "base_uri": "https://localhost:8080/",
          "height": 542
        },
        "id": "QPvQLifwAOBr",
        "outputId": "aa79948f-09f2-4830-84e7-89e87d5449ab"
      }
    },
    {
      "cell_type": "markdown",
      "source": [
        "Rodzaj płatności nie ma wpływu na ilość pieniędzy zostawionych w sklepie. Co prawda płatności kartą kredytową mają wyższe maksymalne wartości, natomiast mediana wskazuje, że pozostałe rodzaje płatności wypadają lepiej."
      ],
      "metadata": {
        "id": "aH1MjSeFoaFq"
      }
    },
    {
      "cell_type": "code",
      "execution_count": null,
      "outputs": [
        {
          "output_type": "display_data",
          "data": {
            "text/html": [
              "<html>\n",
              "<head><meta charset=\"utf-8\" /></head>\n",
              "<body>\n",
              "    <div>            <script src=\"https://cdnjs.cloudflare.com/ajax/libs/mathjax/2.7.5/MathJax.js?config=TeX-AMS-MML_SVG\"></script><script type=\"text/javascript\">if (window.MathJax && window.MathJax.Hub && window.MathJax.Hub.Config) {window.MathJax.Hub.Config({SVG: {font: \"STIX-Web\"}});}</script>                <script type=\"text/javascript\">window.PlotlyConfig = {MathJaxConfig: 'local'};</script>\n",
              "        <script charset=\"utf-8\" src=\"https://cdn.plot.ly/plotly-2.24.1.min.js\"></script>                <div id=\"4ddaca61-b6ea-494e-a0ea-3e3b409d5fea\" class=\"plotly-graph-div\" style=\"height:525px; width:100%;\"></div>            <script type=\"text/javascript\">                                    window.PLOTLYENV=window.PLOTLYENV || {};                                    if (document.getElementById(\"4ddaca61-b6ea-494e-a0ea-3e3b409d5fea\")) {                    Plotly.newPlot(                        \"4ddaca61-b6ea-494e-a0ea-3e3b409d5fea\",                        [{\"alignmentgroup\":\"True\",\"hovertemplate\":\"Metoda p\\u0142atno\\u015bci=%{x}\\u003cbr\\u003eLiczba p\\u0142atno\\u015bci=%{y}\\u003cextra\\u003e\\u003c\\u002fextra\\u003e\",\"legendgroup\":\"\",\"marker\":{\"color\":\"#636efa\",\"pattern\":{\"shape\":\"\"}},\"name\":\"\",\"offsetgroup\":\"\",\"orientation\":\"v\",\"showlegend\":false,\"textposition\":\"auto\",\"x\":[\"Cash\",\"Credit card\",\"Ewallet\"],\"xaxis\":\"x\",\"y\":[344,311,345],\"yaxis\":\"y\",\"type\":\"bar\"}],                        {\"template\":{\"data\":{\"histogram2dcontour\":[{\"type\":\"histogram2dcontour\",\"colorbar\":{\"outlinewidth\":0,\"ticks\":\"\"},\"colorscale\":[[0.0,\"#0d0887\"],[0.1111111111111111,\"#46039f\"],[0.2222222222222222,\"#7201a8\"],[0.3333333333333333,\"#9c179e\"],[0.4444444444444444,\"#bd3786\"],[0.5555555555555556,\"#d8576b\"],[0.6666666666666666,\"#ed7953\"],[0.7777777777777778,\"#fb9f3a\"],[0.8888888888888888,\"#fdca26\"],[1.0,\"#f0f921\"]]}],\"choropleth\":[{\"type\":\"choropleth\",\"colorbar\":{\"outlinewidth\":0,\"ticks\":\"\"}}],\"histogram2d\":[{\"type\":\"histogram2d\",\"colorbar\":{\"outlinewidth\":0,\"ticks\":\"\"},\"colorscale\":[[0.0,\"#0d0887\"],[0.1111111111111111,\"#46039f\"],[0.2222222222222222,\"#7201a8\"],[0.3333333333333333,\"#9c179e\"],[0.4444444444444444,\"#bd3786\"],[0.5555555555555556,\"#d8576b\"],[0.6666666666666666,\"#ed7953\"],[0.7777777777777778,\"#fb9f3a\"],[0.8888888888888888,\"#fdca26\"],[1.0,\"#f0f921\"]]}],\"heatmap\":[{\"type\":\"heatmap\",\"colorbar\":{\"outlinewidth\":0,\"ticks\":\"\"},\"colorscale\":[[0.0,\"#0d0887\"],[0.1111111111111111,\"#46039f\"],[0.2222222222222222,\"#7201a8\"],[0.3333333333333333,\"#9c179e\"],[0.4444444444444444,\"#bd3786\"],[0.5555555555555556,\"#d8576b\"],[0.6666666666666666,\"#ed7953\"],[0.7777777777777778,\"#fb9f3a\"],[0.8888888888888888,\"#fdca26\"],[1.0,\"#f0f921\"]]}],\"heatmapgl\":[{\"type\":\"heatmapgl\",\"colorbar\":{\"outlinewidth\":0,\"ticks\":\"\"},\"colorscale\":[[0.0,\"#0d0887\"],[0.1111111111111111,\"#46039f\"],[0.2222222222222222,\"#7201a8\"],[0.3333333333333333,\"#9c179e\"],[0.4444444444444444,\"#bd3786\"],[0.5555555555555556,\"#d8576b\"],[0.6666666666666666,\"#ed7953\"],[0.7777777777777778,\"#fb9f3a\"],[0.8888888888888888,\"#fdca26\"],[1.0,\"#f0f921\"]]}],\"contourcarpet\":[{\"type\":\"contourcarpet\",\"colorbar\":{\"outlinewidth\":0,\"ticks\":\"\"}}],\"contour\":[{\"type\":\"contour\",\"colorbar\":{\"outlinewidth\":0,\"ticks\":\"\"},\"colorscale\":[[0.0,\"#0d0887\"],[0.1111111111111111,\"#46039f\"],[0.2222222222222222,\"#7201a8\"],[0.3333333333333333,\"#9c179e\"],[0.4444444444444444,\"#bd3786\"],[0.5555555555555556,\"#d8576b\"],[0.6666666666666666,\"#ed7953\"],[0.7777777777777778,\"#fb9f3a\"],[0.8888888888888888,\"#fdca26\"],[1.0,\"#f0f921\"]]}],\"surface\":[{\"type\":\"surface\",\"colorbar\":{\"outlinewidth\":0,\"ticks\":\"\"},\"colorscale\":[[0.0,\"#0d0887\"],[0.1111111111111111,\"#46039f\"],[0.2222222222222222,\"#7201a8\"],[0.3333333333333333,\"#9c179e\"],[0.4444444444444444,\"#bd3786\"],[0.5555555555555556,\"#d8576b\"],[0.6666666666666666,\"#ed7953\"],[0.7777777777777778,\"#fb9f3a\"],[0.8888888888888888,\"#fdca26\"],[1.0,\"#f0f921\"]]}],\"mesh3d\":[{\"type\":\"mesh3d\",\"colorbar\":{\"outlinewidth\":0,\"ticks\":\"\"}}],\"scatter\":[{\"fillpattern\":{\"fillmode\":\"overlay\",\"size\":10,\"solidity\":0.2},\"type\":\"scatter\"}],\"parcoords\":[{\"type\":\"parcoords\",\"line\":{\"colorbar\":{\"outlinewidth\":0,\"ticks\":\"\"}}}],\"scatterpolargl\":[{\"type\":\"scatterpolargl\",\"marker\":{\"colorbar\":{\"outlinewidth\":0,\"ticks\":\"\"}}}],\"bar\":[{\"error_x\":{\"color\":\"#2a3f5f\"},\"error_y\":{\"color\":\"#2a3f5f\"},\"marker\":{\"line\":{\"color\":\"#E5ECF6\",\"width\":0.5},\"pattern\":{\"fillmode\":\"overlay\",\"size\":10,\"solidity\":0.2}},\"type\":\"bar\"}],\"scattergeo\":[{\"type\":\"scattergeo\",\"marker\":{\"colorbar\":{\"outlinewidth\":0,\"ticks\":\"\"}}}],\"scatterpolar\":[{\"type\":\"scatterpolar\",\"marker\":{\"colorbar\":{\"outlinewidth\":0,\"ticks\":\"\"}}}],\"histogram\":[{\"marker\":{\"pattern\":{\"fillmode\":\"overlay\",\"size\":10,\"solidity\":0.2}},\"type\":\"histogram\"}],\"scattergl\":[{\"type\":\"scattergl\",\"marker\":{\"colorbar\":{\"outlinewidth\":0,\"ticks\":\"\"}}}],\"scatter3d\":[{\"type\":\"scatter3d\",\"line\":{\"colorbar\":{\"outlinewidth\":0,\"ticks\":\"\"}},\"marker\":{\"colorbar\":{\"outlinewidth\":0,\"ticks\":\"\"}}}],\"scattermapbox\":[{\"type\":\"scattermapbox\",\"marker\":{\"colorbar\":{\"outlinewidth\":0,\"ticks\":\"\"}}}],\"scatterternary\":[{\"type\":\"scatterternary\",\"marker\":{\"colorbar\":{\"outlinewidth\":0,\"ticks\":\"\"}}}],\"scattercarpet\":[{\"type\":\"scattercarpet\",\"marker\":{\"colorbar\":{\"outlinewidth\":0,\"ticks\":\"\"}}}],\"carpet\":[{\"aaxis\":{\"endlinecolor\":\"#2a3f5f\",\"gridcolor\":\"white\",\"linecolor\":\"white\",\"minorgridcolor\":\"white\",\"startlinecolor\":\"#2a3f5f\"},\"baxis\":{\"endlinecolor\":\"#2a3f5f\",\"gridcolor\":\"white\",\"linecolor\":\"white\",\"minorgridcolor\":\"white\",\"startlinecolor\":\"#2a3f5f\"},\"type\":\"carpet\"}],\"table\":[{\"cells\":{\"fill\":{\"color\":\"#EBF0F8\"},\"line\":{\"color\":\"white\"}},\"header\":{\"fill\":{\"color\":\"#C8D4E3\"},\"line\":{\"color\":\"white\"}},\"type\":\"table\"}],\"barpolar\":[{\"marker\":{\"line\":{\"color\":\"#E5ECF6\",\"width\":0.5},\"pattern\":{\"fillmode\":\"overlay\",\"size\":10,\"solidity\":0.2}},\"type\":\"barpolar\"}],\"pie\":[{\"automargin\":true,\"type\":\"pie\"}]},\"layout\":{\"autotypenumbers\":\"strict\",\"colorway\":[\"#636efa\",\"#EF553B\",\"#00cc96\",\"#ab63fa\",\"#FFA15A\",\"#19d3f3\",\"#FF6692\",\"#B6E880\",\"#FF97FF\",\"#FECB52\"],\"font\":{\"color\":\"#2a3f5f\"},\"hovermode\":\"closest\",\"hoverlabel\":{\"align\":\"left\"},\"paper_bgcolor\":\"white\",\"plot_bgcolor\":\"#E5ECF6\",\"polar\":{\"bgcolor\":\"#E5ECF6\",\"angularaxis\":{\"gridcolor\":\"white\",\"linecolor\":\"white\",\"ticks\":\"\"},\"radialaxis\":{\"gridcolor\":\"white\",\"linecolor\":\"white\",\"ticks\":\"\"}},\"ternary\":{\"bgcolor\":\"#E5ECF6\",\"aaxis\":{\"gridcolor\":\"white\",\"linecolor\":\"white\",\"ticks\":\"\"},\"baxis\":{\"gridcolor\":\"white\",\"linecolor\":\"white\",\"ticks\":\"\"},\"caxis\":{\"gridcolor\":\"white\",\"linecolor\":\"white\",\"ticks\":\"\"}},\"coloraxis\":{\"colorbar\":{\"outlinewidth\":0,\"ticks\":\"\"}},\"colorscale\":{\"sequential\":[[0.0,\"#0d0887\"],[0.1111111111111111,\"#46039f\"],[0.2222222222222222,\"#7201a8\"],[0.3333333333333333,\"#9c179e\"],[0.4444444444444444,\"#bd3786\"],[0.5555555555555556,\"#d8576b\"],[0.6666666666666666,\"#ed7953\"],[0.7777777777777778,\"#fb9f3a\"],[0.8888888888888888,\"#fdca26\"],[1.0,\"#f0f921\"]],\"sequentialminus\":[[0.0,\"#0d0887\"],[0.1111111111111111,\"#46039f\"],[0.2222222222222222,\"#7201a8\"],[0.3333333333333333,\"#9c179e\"],[0.4444444444444444,\"#bd3786\"],[0.5555555555555556,\"#d8576b\"],[0.6666666666666666,\"#ed7953\"],[0.7777777777777778,\"#fb9f3a\"],[0.8888888888888888,\"#fdca26\"],[1.0,\"#f0f921\"]],\"diverging\":[[0,\"#8e0152\"],[0.1,\"#c51b7d\"],[0.2,\"#de77ae\"],[0.3,\"#f1b6da\"],[0.4,\"#fde0ef\"],[0.5,\"#f7f7f7\"],[0.6,\"#e6f5d0\"],[0.7,\"#b8e186\"],[0.8,\"#7fbc41\"],[0.9,\"#4d9221\"],[1,\"#276419\"]]},\"xaxis\":{\"gridcolor\":\"white\",\"linecolor\":\"white\",\"ticks\":\"\",\"title\":{\"standoff\":15},\"zerolinecolor\":\"white\",\"automargin\":true,\"zerolinewidth\":2},\"yaxis\":{\"gridcolor\":\"white\",\"linecolor\":\"white\",\"ticks\":\"\",\"title\":{\"standoff\":15},\"zerolinecolor\":\"white\",\"automargin\":true,\"zerolinewidth\":2},\"scene\":{\"xaxis\":{\"backgroundcolor\":\"#E5ECF6\",\"gridcolor\":\"white\",\"linecolor\":\"white\",\"showbackground\":true,\"ticks\":\"\",\"zerolinecolor\":\"white\",\"gridwidth\":2},\"yaxis\":{\"backgroundcolor\":\"#E5ECF6\",\"gridcolor\":\"white\",\"linecolor\":\"white\",\"showbackground\":true,\"ticks\":\"\",\"zerolinecolor\":\"white\",\"gridwidth\":2},\"zaxis\":{\"backgroundcolor\":\"#E5ECF6\",\"gridcolor\":\"white\",\"linecolor\":\"white\",\"showbackground\":true,\"ticks\":\"\",\"zerolinecolor\":\"white\",\"gridwidth\":2}},\"shapedefaults\":{\"line\":{\"color\":\"#2a3f5f\"}},\"annotationdefaults\":{\"arrowcolor\":\"#2a3f5f\",\"arrowhead\":0,\"arrowwidth\":1},\"geo\":{\"bgcolor\":\"white\",\"landcolor\":\"#E5ECF6\",\"subunitcolor\":\"white\",\"showland\":true,\"showlakes\":true,\"lakecolor\":\"white\"},\"title\":{\"x\":0.05},\"mapbox\":{\"style\":\"light\"}}},\"xaxis\":{\"anchor\":\"y\",\"domain\":[0.0,1.0],\"title\":{\"text\":\"Metoda p\\u0142atno\\u015bci\"}},\"yaxis\":{\"anchor\":\"x\",\"domain\":[0.0,1.0],\"title\":{\"text\":\"Liczba p\\u0142atno\\u015bci\"}},\"legend\":{\"tracegroupgap\":0},\"title\":{\"text\":\"Popularno\\u015b\\u0107 poszczeg\\u00f3lnych metod p\\u0142atno\\u015bci\"},\"barmode\":\"relative\"},                        {\"responsive\": true}                    ).then(function(){\n",
              "                            \n",
              "var gd = document.getElementById('4ddaca61-b6ea-494e-a0ea-3e3b409d5fea');\n",
              "var x = new MutationObserver(function (mutations, observer) {{\n",
              "        var display = window.getComputedStyle(gd).display;\n",
              "        if (!display || display === 'none') {{\n",
              "            console.log([gd, 'removed!']);\n",
              "            Plotly.purge(gd);\n",
              "            observer.disconnect();\n",
              "        }}\n",
              "}});\n",
              "\n",
              "// Listen for the removal of the full notebook cells\n",
              "var notebookContainer = gd.closest('#notebook-container');\n",
              "if (notebookContainer) {{\n",
              "    x.observe(notebookContainer, {childList: true});\n",
              "}}\n",
              "\n",
              "// Listen for the clearing of the current output cell\n",
              "var outputEl = gd.closest('.output');\n",
              "if (outputEl) {{\n",
              "    x.observe(outputEl, {childList: true});\n",
              "}}\n",
              "\n",
              "                        })                };                            </script>        </div>\n",
              "</body>\n",
              "</html>"
            ]
          },
          "metadata": {}
        }
      ],
      "source": [
        "payment_count = df.groupby('Payment').size().reset_index(name='sum_of_payments')\n",
        "\n",
        "fig = px.bar(payment_count, x='Payment', y='sum_of_payments',\n",
        "             labels={'sum_of_payments': 'Liczba płatności', 'Payment': 'Metoda płatności'},\n",
        "             title='Popularność poszczególnych metod płatności')\n",
        "fig.show()"
      ],
      "metadata": {
        "ExecuteTime": {
          "end_time": "2024-01-22T11:49:13.073616Z",
          "start_time": "2024-01-22T11:49:13.023205600Z"
        },
        "colab": {
          "base_uri": "https://localhost:8080/",
          "height": 542
        },
        "id": "dwwGpW99AOBs",
        "outputId": "805ac77b-fc6e-46ca-bdc1-c336146e1174"
      }
    },
    {
      "cell_type": "markdown",
      "source": [
        "Płatności kartą kredytową są najmniej popularne. Ewallet i płatności gotówkowe są niemal na tym samym poziomie."
      ],
      "metadata": {
        "id": "pYzDIRJKpU1k"
      }
    },
    {
      "cell_type": "code",
      "execution_count": null,
      "outputs": [
        {
          "output_type": "display_data",
          "data": {
            "text/html": [
              "<html>\n",
              "<head><meta charset=\"utf-8\" /></head>\n",
              "<body>\n",
              "    <div>            <script src=\"https://cdnjs.cloudflare.com/ajax/libs/mathjax/2.7.5/MathJax.js?config=TeX-AMS-MML_SVG\"></script><script type=\"text/javascript\">if (window.MathJax && window.MathJax.Hub && window.MathJax.Hub.Config) {window.MathJax.Hub.Config({SVG: {font: \"STIX-Web\"}});}</script>                <script type=\"text/javascript\">window.PlotlyConfig = {MathJaxConfig: 'local'};</script>\n",
              "        <script charset=\"utf-8\" src=\"https://cdn.plot.ly/plotly-2.24.1.min.js\"></script>                <div id=\"f7399004-dc8e-4b4a-9d17-361c3007e77a\" class=\"plotly-graph-div\" style=\"height:525px; width:100%;\"></div>            <script type=\"text/javascript\">                                    window.PLOTLYENV=window.PLOTLYENV || {};                                    if (document.getElementById(\"f7399004-dc8e-4b4a-9d17-361c3007e77a\")) {                    Plotly.newPlot(                        \"f7399004-dc8e-4b4a-9d17-361c3007e77a\",                        [{\"alignmentgroup\":\"True\",\"hovertemplate\":\"Przygody=%{x}\\u003cbr\\u003eMetoda p\\u0142atno\\u015bci=%{y}\\u003cextra\\u003e\\u003c\\u002fextra\\u003e\",\"legendgroup\":\"\",\"marker\":{\"color\":\"#636efa\",\"pattern\":{\"shape\":\"\"}},\"name\":\"\",\"offsetgroup\":\"\",\"orientation\":\"v\",\"showlegend\":false,\"textposition\":\"auto\",\"x\":[\"Cash\",\"Credit card\",\"Ewallet\"],\"xaxis\":\"x\",\"y\":[112206.57,100767.072,109993.107],\"yaxis\":\"y\",\"type\":\"bar\"}],                        {\"template\":{\"data\":{\"histogram2dcontour\":[{\"type\":\"histogram2dcontour\",\"colorbar\":{\"outlinewidth\":0,\"ticks\":\"\"},\"colorscale\":[[0.0,\"#0d0887\"],[0.1111111111111111,\"#46039f\"],[0.2222222222222222,\"#7201a8\"],[0.3333333333333333,\"#9c179e\"],[0.4444444444444444,\"#bd3786\"],[0.5555555555555556,\"#d8576b\"],[0.6666666666666666,\"#ed7953\"],[0.7777777777777778,\"#fb9f3a\"],[0.8888888888888888,\"#fdca26\"],[1.0,\"#f0f921\"]]}],\"choropleth\":[{\"type\":\"choropleth\",\"colorbar\":{\"outlinewidth\":0,\"ticks\":\"\"}}],\"histogram2d\":[{\"type\":\"histogram2d\",\"colorbar\":{\"outlinewidth\":0,\"ticks\":\"\"},\"colorscale\":[[0.0,\"#0d0887\"],[0.1111111111111111,\"#46039f\"],[0.2222222222222222,\"#7201a8\"],[0.3333333333333333,\"#9c179e\"],[0.4444444444444444,\"#bd3786\"],[0.5555555555555556,\"#d8576b\"],[0.6666666666666666,\"#ed7953\"],[0.7777777777777778,\"#fb9f3a\"],[0.8888888888888888,\"#fdca26\"],[1.0,\"#f0f921\"]]}],\"heatmap\":[{\"type\":\"heatmap\",\"colorbar\":{\"outlinewidth\":0,\"ticks\":\"\"},\"colorscale\":[[0.0,\"#0d0887\"],[0.1111111111111111,\"#46039f\"],[0.2222222222222222,\"#7201a8\"],[0.3333333333333333,\"#9c179e\"],[0.4444444444444444,\"#bd3786\"],[0.5555555555555556,\"#d8576b\"],[0.6666666666666666,\"#ed7953\"],[0.7777777777777778,\"#fb9f3a\"],[0.8888888888888888,\"#fdca26\"],[1.0,\"#f0f921\"]]}],\"heatmapgl\":[{\"type\":\"heatmapgl\",\"colorbar\":{\"outlinewidth\":0,\"ticks\":\"\"},\"colorscale\":[[0.0,\"#0d0887\"],[0.1111111111111111,\"#46039f\"],[0.2222222222222222,\"#7201a8\"],[0.3333333333333333,\"#9c179e\"],[0.4444444444444444,\"#bd3786\"],[0.5555555555555556,\"#d8576b\"],[0.6666666666666666,\"#ed7953\"],[0.7777777777777778,\"#fb9f3a\"],[0.8888888888888888,\"#fdca26\"],[1.0,\"#f0f921\"]]}],\"contourcarpet\":[{\"type\":\"contourcarpet\",\"colorbar\":{\"outlinewidth\":0,\"ticks\":\"\"}}],\"contour\":[{\"type\":\"contour\",\"colorbar\":{\"outlinewidth\":0,\"ticks\":\"\"},\"colorscale\":[[0.0,\"#0d0887\"],[0.1111111111111111,\"#46039f\"],[0.2222222222222222,\"#7201a8\"],[0.3333333333333333,\"#9c179e\"],[0.4444444444444444,\"#bd3786\"],[0.5555555555555556,\"#d8576b\"],[0.6666666666666666,\"#ed7953\"],[0.7777777777777778,\"#fb9f3a\"],[0.8888888888888888,\"#fdca26\"],[1.0,\"#f0f921\"]]}],\"surface\":[{\"type\":\"surface\",\"colorbar\":{\"outlinewidth\":0,\"ticks\":\"\"},\"colorscale\":[[0.0,\"#0d0887\"],[0.1111111111111111,\"#46039f\"],[0.2222222222222222,\"#7201a8\"],[0.3333333333333333,\"#9c179e\"],[0.4444444444444444,\"#bd3786\"],[0.5555555555555556,\"#d8576b\"],[0.6666666666666666,\"#ed7953\"],[0.7777777777777778,\"#fb9f3a\"],[0.8888888888888888,\"#fdca26\"],[1.0,\"#f0f921\"]]}],\"mesh3d\":[{\"type\":\"mesh3d\",\"colorbar\":{\"outlinewidth\":0,\"ticks\":\"\"}}],\"scatter\":[{\"fillpattern\":{\"fillmode\":\"overlay\",\"size\":10,\"solidity\":0.2},\"type\":\"scatter\"}],\"parcoords\":[{\"type\":\"parcoords\",\"line\":{\"colorbar\":{\"outlinewidth\":0,\"ticks\":\"\"}}}],\"scatterpolargl\":[{\"type\":\"scatterpolargl\",\"marker\":{\"colorbar\":{\"outlinewidth\":0,\"ticks\":\"\"}}}],\"bar\":[{\"error_x\":{\"color\":\"#2a3f5f\"},\"error_y\":{\"color\":\"#2a3f5f\"},\"marker\":{\"line\":{\"color\":\"#E5ECF6\",\"width\":0.5},\"pattern\":{\"fillmode\":\"overlay\",\"size\":10,\"solidity\":0.2}},\"type\":\"bar\"}],\"scattergeo\":[{\"type\":\"scattergeo\",\"marker\":{\"colorbar\":{\"outlinewidth\":0,\"ticks\":\"\"}}}],\"scatterpolar\":[{\"type\":\"scatterpolar\",\"marker\":{\"colorbar\":{\"outlinewidth\":0,\"ticks\":\"\"}}}],\"histogram\":[{\"marker\":{\"pattern\":{\"fillmode\":\"overlay\",\"size\":10,\"solidity\":0.2}},\"type\":\"histogram\"}],\"scattergl\":[{\"type\":\"scattergl\",\"marker\":{\"colorbar\":{\"outlinewidth\":0,\"ticks\":\"\"}}}],\"scatter3d\":[{\"type\":\"scatter3d\",\"line\":{\"colorbar\":{\"outlinewidth\":0,\"ticks\":\"\"}},\"marker\":{\"colorbar\":{\"outlinewidth\":0,\"ticks\":\"\"}}}],\"scattermapbox\":[{\"type\":\"scattermapbox\",\"marker\":{\"colorbar\":{\"outlinewidth\":0,\"ticks\":\"\"}}}],\"scatterternary\":[{\"type\":\"scatterternary\",\"marker\":{\"colorbar\":{\"outlinewidth\":0,\"ticks\":\"\"}}}],\"scattercarpet\":[{\"type\":\"scattercarpet\",\"marker\":{\"colorbar\":{\"outlinewidth\":0,\"ticks\":\"\"}}}],\"carpet\":[{\"aaxis\":{\"endlinecolor\":\"#2a3f5f\",\"gridcolor\":\"white\",\"linecolor\":\"white\",\"minorgridcolor\":\"white\",\"startlinecolor\":\"#2a3f5f\"},\"baxis\":{\"endlinecolor\":\"#2a3f5f\",\"gridcolor\":\"white\",\"linecolor\":\"white\",\"minorgridcolor\":\"white\",\"startlinecolor\":\"#2a3f5f\"},\"type\":\"carpet\"}],\"table\":[{\"cells\":{\"fill\":{\"color\":\"#EBF0F8\"},\"line\":{\"color\":\"white\"}},\"header\":{\"fill\":{\"color\":\"#C8D4E3\"},\"line\":{\"color\":\"white\"}},\"type\":\"table\"}],\"barpolar\":[{\"marker\":{\"line\":{\"color\":\"#E5ECF6\",\"width\":0.5},\"pattern\":{\"fillmode\":\"overlay\",\"size\":10,\"solidity\":0.2}},\"type\":\"barpolar\"}],\"pie\":[{\"automargin\":true,\"type\":\"pie\"}]},\"layout\":{\"autotypenumbers\":\"strict\",\"colorway\":[\"#636efa\",\"#EF553B\",\"#00cc96\",\"#ab63fa\",\"#FFA15A\",\"#19d3f3\",\"#FF6692\",\"#B6E880\",\"#FF97FF\",\"#FECB52\"],\"font\":{\"color\":\"#2a3f5f\"},\"hovermode\":\"closest\",\"hoverlabel\":{\"align\":\"left\"},\"paper_bgcolor\":\"white\",\"plot_bgcolor\":\"#E5ECF6\",\"polar\":{\"bgcolor\":\"#E5ECF6\",\"angularaxis\":{\"gridcolor\":\"white\",\"linecolor\":\"white\",\"ticks\":\"\"},\"radialaxis\":{\"gridcolor\":\"white\",\"linecolor\":\"white\",\"ticks\":\"\"}},\"ternary\":{\"bgcolor\":\"#E5ECF6\",\"aaxis\":{\"gridcolor\":\"white\",\"linecolor\":\"white\",\"ticks\":\"\"},\"baxis\":{\"gridcolor\":\"white\",\"linecolor\":\"white\",\"ticks\":\"\"},\"caxis\":{\"gridcolor\":\"white\",\"linecolor\":\"white\",\"ticks\":\"\"}},\"coloraxis\":{\"colorbar\":{\"outlinewidth\":0,\"ticks\":\"\"}},\"colorscale\":{\"sequential\":[[0.0,\"#0d0887\"],[0.1111111111111111,\"#46039f\"],[0.2222222222222222,\"#7201a8\"],[0.3333333333333333,\"#9c179e\"],[0.4444444444444444,\"#bd3786\"],[0.5555555555555556,\"#d8576b\"],[0.6666666666666666,\"#ed7953\"],[0.7777777777777778,\"#fb9f3a\"],[0.8888888888888888,\"#fdca26\"],[1.0,\"#f0f921\"]],\"sequentialminus\":[[0.0,\"#0d0887\"],[0.1111111111111111,\"#46039f\"],[0.2222222222222222,\"#7201a8\"],[0.3333333333333333,\"#9c179e\"],[0.4444444444444444,\"#bd3786\"],[0.5555555555555556,\"#d8576b\"],[0.6666666666666666,\"#ed7953\"],[0.7777777777777778,\"#fb9f3a\"],[0.8888888888888888,\"#fdca26\"],[1.0,\"#f0f921\"]],\"diverging\":[[0,\"#8e0152\"],[0.1,\"#c51b7d\"],[0.2,\"#de77ae\"],[0.3,\"#f1b6da\"],[0.4,\"#fde0ef\"],[0.5,\"#f7f7f7\"],[0.6,\"#e6f5d0\"],[0.7,\"#b8e186\"],[0.8,\"#7fbc41\"],[0.9,\"#4d9221\"],[1,\"#276419\"]]},\"xaxis\":{\"gridcolor\":\"white\",\"linecolor\":\"white\",\"ticks\":\"\",\"title\":{\"standoff\":15},\"zerolinecolor\":\"white\",\"automargin\":true,\"zerolinewidth\":2},\"yaxis\":{\"gridcolor\":\"white\",\"linecolor\":\"white\",\"ticks\":\"\",\"title\":{\"standoff\":15},\"zerolinecolor\":\"white\",\"automargin\":true,\"zerolinewidth\":2},\"scene\":{\"xaxis\":{\"backgroundcolor\":\"#E5ECF6\",\"gridcolor\":\"white\",\"linecolor\":\"white\",\"showbackground\":true,\"ticks\":\"\",\"zerolinecolor\":\"white\",\"gridwidth\":2},\"yaxis\":{\"backgroundcolor\":\"#E5ECF6\",\"gridcolor\":\"white\",\"linecolor\":\"white\",\"showbackground\":true,\"ticks\":\"\",\"zerolinecolor\":\"white\",\"gridwidth\":2},\"zaxis\":{\"backgroundcolor\":\"#E5ECF6\",\"gridcolor\":\"white\",\"linecolor\":\"white\",\"showbackground\":true,\"ticks\":\"\",\"zerolinecolor\":\"white\",\"gridwidth\":2}},\"shapedefaults\":{\"line\":{\"color\":\"#2a3f5f\"}},\"annotationdefaults\":{\"arrowcolor\":\"#2a3f5f\",\"arrowhead\":0,\"arrowwidth\":1},\"geo\":{\"bgcolor\":\"white\",\"landcolor\":\"#E5ECF6\",\"subunitcolor\":\"white\",\"showland\":true,\"showlakes\":true,\"lakecolor\":\"white\"},\"title\":{\"x\":0.05},\"mapbox\":{\"style\":\"light\"}}},\"xaxis\":{\"anchor\":\"y\",\"domain\":[0.0,1.0],\"title\":{\"text\":\"Przygody\"}},\"yaxis\":{\"anchor\":\"x\",\"domain\":[0.0,1.0],\"title\":{\"text\":\"Metoda p\\u0142atno\\u015bci\"}},\"legend\":{\"tracegroupgap\":0},\"title\":{\"text\":\"Suma przychod\\u00f3w z podzia\\u0142em na metody p\\u0142atno\\u015bci\"},\"barmode\":\"relative\"},                        {\"responsive\": true}                    ).then(function(){\n",
              "                            \n",
              "var gd = document.getElementById('f7399004-dc8e-4b4a-9d17-361c3007e77a');\n",
              "var x = new MutationObserver(function (mutations, observer) {{\n",
              "        var display = window.getComputedStyle(gd).display;\n",
              "        if (!display || display === 'none') {{\n",
              "            console.log([gd, 'removed!']);\n",
              "            Plotly.purge(gd);\n",
              "            observer.disconnect();\n",
              "        }}\n",
              "}});\n",
              "\n",
              "// Listen for the removal of the full notebook cells\n",
              "var notebookContainer = gd.closest('#notebook-container');\n",
              "if (notebookContainer) {{\n",
              "    x.observe(notebookContainer, {childList: true});\n",
              "}}\n",
              "\n",
              "// Listen for the clearing of the current output cell\n",
              "var outputEl = gd.closest('.output');\n",
              "if (outputEl) {{\n",
              "    x.observe(outputEl, {childList: true});\n",
              "}}\n",
              "\n",
              "                        })                };                            </script>        </div>\n",
              "</body>\n",
              "</html>"
            ]
          },
          "metadata": {}
        }
      ],
      "source": [
        "revenues_payment = df.groupby('Payment')['Total'].sum().reset_index(name='revenues by payment method')\n",
        "fig = px.bar(revenues_payment, x='Payment', y= 'revenues by payment method',\n",
        "             labels={'Payment': 'Przygody', 'revenues by payment method': 'Metoda płatności'},\n",
        "             title='Suma przychodów z podziałem na metody płatności')\n",
        "fig.show()"
      ],
      "metadata": {
        "ExecuteTime": {
          "end_time": "2024-01-22T11:49:13.146622Z",
          "start_time": "2024-01-22T11:49:13.074613600Z"
        },
        "colab": {
          "base_uri": "https://localhost:8080/",
          "height": 542
        },
        "id": "gne1oaFSAOBs",
        "outputId": "1078df4e-cd46-4c24-8ad4-c6b124be1c2a"
      }
    },
    {
      "cell_type": "markdown",
      "source": [
        "Najwięcej przychodów generują płatności gotówkowe."
      ],
      "metadata": {
        "id": "FkSkgymPpesQ"
      }
    },
    {
      "cell_type": "markdown",
      "source": [
        "Popularnym w mediach zjawiskiem jest efekt stycznia, kiedy w wyniku postanowień noworocznych można zaobserwować wśród ludzi zwiększoną aktywność fizyczną, która następnie wraca do normalnego poziomu. Chcę sprawdzić, czy te zjawisko przekłada się na zakupy związane z artykułami sportowymi."
      ],
      "metadata": {
        "id": "TqWLijaYpmbX"
      }
    },
    {
      "cell_type": "code",
      "execution_count": null,
      "outputs": [
        {
          "output_type": "display_data",
          "data": {
            "text/html": [
              "<html>\n",
              "<head><meta charset=\"utf-8\" /></head>\n",
              "<body>\n",
              "    <div>            <script src=\"https://cdnjs.cloudflare.com/ajax/libs/mathjax/2.7.5/MathJax.js?config=TeX-AMS-MML_SVG\"></script><script type=\"text/javascript\">if (window.MathJax && window.MathJax.Hub && window.MathJax.Hub.Config) {window.MathJax.Hub.Config({SVG: {font: \"STIX-Web\"}});}</script>                <script type=\"text/javascript\">window.PlotlyConfig = {MathJaxConfig: 'local'};</script>\n",
              "        <script charset=\"utf-8\" src=\"https://cdn.plot.ly/plotly-2.24.1.min.js\"></script>                <div id=\"09b1d4d9-e88d-4c9e-846d-a0d50855d553\" class=\"plotly-graph-div\" style=\"height:525px; width:100%;\"></div>            <script type=\"text/javascript\">                                    window.PLOTLYENV=window.PLOTLYENV || {};                                    if (document.getElementById(\"09b1d4d9-e88d-4c9e-846d-a0d50855d553\")) {                    Plotly.newPlot(                        \"09b1d4d9-e88d-4c9e-846d-a0d50855d553\",                        [{\"hovertemplate\":\"Tydzie\\u0144=%{x}\\u003cbr\\u003ePrzychody tygodniowe=%{y}\\u003cextra\\u003e\\u003c\\u002fextra\\u003e\",\"legendgroup\":\"\",\"marker\":{\"color\":\"#636efa\",\"symbol\":\"circle\"},\"mode\":\"markers\",\"name\":\"\",\"orientation\":\"v\",\"showlegend\":false,\"x\":[1,2,3,4,5,6,7,8,9,10,11,12,13],\"xaxis\":\"x\",\"y\":[2266.8345,5622.2564999999995,5966.856,4761.8655,5554.941,3200.0325000000003,3884.9790000000003,2767.611,3013.227,5174.673,6211.5585,5107.1475,1590.8445],\"yaxis\":\"y\",\"type\":\"scatter\"},{\"hovertemplate\":\"\\u003cb\\u003eLOWESS trendline\\u003c\\u002fb\\u003e\\u003cbr\\u003e\\u003cbr\\u003eTydzie\\u0144=%{x}\\u003cbr\\u003ePrzychody tygodniowe=%{y} \\u003cb\\u003e(trend)\\u003c\\u002fb\\u003e\\u003cextra\\u003e\\u003c\\u002fextra\\u003e\",\"legendgroup\":\"\",\"marker\":{\"color\":\"#636efa\",\"symbol\":\"circle\"},\"mode\":\"lines\",\"name\":\"\",\"showlegend\":false,\"x\":[1,2,3,4,5,6,7,8,9,10,11,12,13],\"xaxis\":\"x\",\"y\":[4145.758180924827,4468.684622189012,4723.688767369221,4942.7704093769935,4608.373927623005,4095.157934753932,3722.551990750441,3714.0294030717714,4080.189562966403,4390.626128119102,4295.068314591946,4195.565796958048,4010.3010836421304],\"yaxis\":\"y\",\"type\":\"scatter\"}],                        {\"template\":{\"data\":{\"histogram2dcontour\":[{\"type\":\"histogram2dcontour\",\"colorbar\":{\"outlinewidth\":0,\"ticks\":\"\"},\"colorscale\":[[0.0,\"#0d0887\"],[0.1111111111111111,\"#46039f\"],[0.2222222222222222,\"#7201a8\"],[0.3333333333333333,\"#9c179e\"],[0.4444444444444444,\"#bd3786\"],[0.5555555555555556,\"#d8576b\"],[0.6666666666666666,\"#ed7953\"],[0.7777777777777778,\"#fb9f3a\"],[0.8888888888888888,\"#fdca26\"],[1.0,\"#f0f921\"]]}],\"choropleth\":[{\"type\":\"choropleth\",\"colorbar\":{\"outlinewidth\":0,\"ticks\":\"\"}}],\"histogram2d\":[{\"type\":\"histogram2d\",\"colorbar\":{\"outlinewidth\":0,\"ticks\":\"\"},\"colorscale\":[[0.0,\"#0d0887\"],[0.1111111111111111,\"#46039f\"],[0.2222222222222222,\"#7201a8\"],[0.3333333333333333,\"#9c179e\"],[0.4444444444444444,\"#bd3786\"],[0.5555555555555556,\"#d8576b\"],[0.6666666666666666,\"#ed7953\"],[0.7777777777777778,\"#fb9f3a\"],[0.8888888888888888,\"#fdca26\"],[1.0,\"#f0f921\"]]}],\"heatmap\":[{\"type\":\"heatmap\",\"colorbar\":{\"outlinewidth\":0,\"ticks\":\"\"},\"colorscale\":[[0.0,\"#0d0887\"],[0.1111111111111111,\"#46039f\"],[0.2222222222222222,\"#7201a8\"],[0.3333333333333333,\"#9c179e\"],[0.4444444444444444,\"#bd3786\"],[0.5555555555555556,\"#d8576b\"],[0.6666666666666666,\"#ed7953\"],[0.7777777777777778,\"#fb9f3a\"],[0.8888888888888888,\"#fdca26\"],[1.0,\"#f0f921\"]]}],\"heatmapgl\":[{\"type\":\"heatmapgl\",\"colorbar\":{\"outlinewidth\":0,\"ticks\":\"\"},\"colorscale\":[[0.0,\"#0d0887\"],[0.1111111111111111,\"#46039f\"],[0.2222222222222222,\"#7201a8\"],[0.3333333333333333,\"#9c179e\"],[0.4444444444444444,\"#bd3786\"],[0.5555555555555556,\"#d8576b\"],[0.6666666666666666,\"#ed7953\"],[0.7777777777777778,\"#fb9f3a\"],[0.8888888888888888,\"#fdca26\"],[1.0,\"#f0f921\"]]}],\"contourcarpet\":[{\"type\":\"contourcarpet\",\"colorbar\":{\"outlinewidth\":0,\"ticks\":\"\"}}],\"contour\":[{\"type\":\"contour\",\"colorbar\":{\"outlinewidth\":0,\"ticks\":\"\"},\"colorscale\":[[0.0,\"#0d0887\"],[0.1111111111111111,\"#46039f\"],[0.2222222222222222,\"#7201a8\"],[0.3333333333333333,\"#9c179e\"],[0.4444444444444444,\"#bd3786\"],[0.5555555555555556,\"#d8576b\"],[0.6666666666666666,\"#ed7953\"],[0.7777777777777778,\"#fb9f3a\"],[0.8888888888888888,\"#fdca26\"],[1.0,\"#f0f921\"]]}],\"surface\":[{\"type\":\"surface\",\"colorbar\":{\"outlinewidth\":0,\"ticks\":\"\"},\"colorscale\":[[0.0,\"#0d0887\"],[0.1111111111111111,\"#46039f\"],[0.2222222222222222,\"#7201a8\"],[0.3333333333333333,\"#9c179e\"],[0.4444444444444444,\"#bd3786\"],[0.5555555555555556,\"#d8576b\"],[0.6666666666666666,\"#ed7953\"],[0.7777777777777778,\"#fb9f3a\"],[0.8888888888888888,\"#fdca26\"],[1.0,\"#f0f921\"]]}],\"mesh3d\":[{\"type\":\"mesh3d\",\"colorbar\":{\"outlinewidth\":0,\"ticks\":\"\"}}],\"scatter\":[{\"fillpattern\":{\"fillmode\":\"overlay\",\"size\":10,\"solidity\":0.2},\"type\":\"scatter\"}],\"parcoords\":[{\"type\":\"parcoords\",\"line\":{\"colorbar\":{\"outlinewidth\":0,\"ticks\":\"\"}}}],\"scatterpolargl\":[{\"type\":\"scatterpolargl\",\"marker\":{\"colorbar\":{\"outlinewidth\":0,\"ticks\":\"\"}}}],\"bar\":[{\"error_x\":{\"color\":\"#2a3f5f\"},\"error_y\":{\"color\":\"#2a3f5f\"},\"marker\":{\"line\":{\"color\":\"#E5ECF6\",\"width\":0.5},\"pattern\":{\"fillmode\":\"overlay\",\"size\":10,\"solidity\":0.2}},\"type\":\"bar\"}],\"scattergeo\":[{\"type\":\"scattergeo\",\"marker\":{\"colorbar\":{\"outlinewidth\":0,\"ticks\":\"\"}}}],\"scatterpolar\":[{\"type\":\"scatterpolar\",\"marker\":{\"colorbar\":{\"outlinewidth\":0,\"ticks\":\"\"}}}],\"histogram\":[{\"marker\":{\"pattern\":{\"fillmode\":\"overlay\",\"size\":10,\"solidity\":0.2}},\"type\":\"histogram\"}],\"scattergl\":[{\"type\":\"scattergl\",\"marker\":{\"colorbar\":{\"outlinewidth\":0,\"ticks\":\"\"}}}],\"scatter3d\":[{\"type\":\"scatter3d\",\"line\":{\"colorbar\":{\"outlinewidth\":0,\"ticks\":\"\"}},\"marker\":{\"colorbar\":{\"outlinewidth\":0,\"ticks\":\"\"}}}],\"scattermapbox\":[{\"type\":\"scattermapbox\",\"marker\":{\"colorbar\":{\"outlinewidth\":0,\"ticks\":\"\"}}}],\"scatterternary\":[{\"type\":\"scatterternary\",\"marker\":{\"colorbar\":{\"outlinewidth\":0,\"ticks\":\"\"}}}],\"scattercarpet\":[{\"type\":\"scattercarpet\",\"marker\":{\"colorbar\":{\"outlinewidth\":0,\"ticks\":\"\"}}}],\"carpet\":[{\"aaxis\":{\"endlinecolor\":\"#2a3f5f\",\"gridcolor\":\"white\",\"linecolor\":\"white\",\"minorgridcolor\":\"white\",\"startlinecolor\":\"#2a3f5f\"},\"baxis\":{\"endlinecolor\":\"#2a3f5f\",\"gridcolor\":\"white\",\"linecolor\":\"white\",\"minorgridcolor\":\"white\",\"startlinecolor\":\"#2a3f5f\"},\"type\":\"carpet\"}],\"table\":[{\"cells\":{\"fill\":{\"color\":\"#EBF0F8\"},\"line\":{\"color\":\"white\"}},\"header\":{\"fill\":{\"color\":\"#C8D4E3\"},\"line\":{\"color\":\"white\"}},\"type\":\"table\"}],\"barpolar\":[{\"marker\":{\"line\":{\"color\":\"#E5ECF6\",\"width\":0.5},\"pattern\":{\"fillmode\":\"overlay\",\"size\":10,\"solidity\":0.2}},\"type\":\"barpolar\"}],\"pie\":[{\"automargin\":true,\"type\":\"pie\"}]},\"layout\":{\"autotypenumbers\":\"strict\",\"colorway\":[\"#636efa\",\"#EF553B\",\"#00cc96\",\"#ab63fa\",\"#FFA15A\",\"#19d3f3\",\"#FF6692\",\"#B6E880\",\"#FF97FF\",\"#FECB52\"],\"font\":{\"color\":\"#2a3f5f\"},\"hovermode\":\"closest\",\"hoverlabel\":{\"align\":\"left\"},\"paper_bgcolor\":\"white\",\"plot_bgcolor\":\"#E5ECF6\",\"polar\":{\"bgcolor\":\"#E5ECF6\",\"angularaxis\":{\"gridcolor\":\"white\",\"linecolor\":\"white\",\"ticks\":\"\"},\"radialaxis\":{\"gridcolor\":\"white\",\"linecolor\":\"white\",\"ticks\":\"\"}},\"ternary\":{\"bgcolor\":\"#E5ECF6\",\"aaxis\":{\"gridcolor\":\"white\",\"linecolor\":\"white\",\"ticks\":\"\"},\"baxis\":{\"gridcolor\":\"white\",\"linecolor\":\"white\",\"ticks\":\"\"},\"caxis\":{\"gridcolor\":\"white\",\"linecolor\":\"white\",\"ticks\":\"\"}},\"coloraxis\":{\"colorbar\":{\"outlinewidth\":0,\"ticks\":\"\"}},\"colorscale\":{\"sequential\":[[0.0,\"#0d0887\"],[0.1111111111111111,\"#46039f\"],[0.2222222222222222,\"#7201a8\"],[0.3333333333333333,\"#9c179e\"],[0.4444444444444444,\"#bd3786\"],[0.5555555555555556,\"#d8576b\"],[0.6666666666666666,\"#ed7953\"],[0.7777777777777778,\"#fb9f3a\"],[0.8888888888888888,\"#fdca26\"],[1.0,\"#f0f921\"]],\"sequentialminus\":[[0.0,\"#0d0887\"],[0.1111111111111111,\"#46039f\"],[0.2222222222222222,\"#7201a8\"],[0.3333333333333333,\"#9c179e\"],[0.4444444444444444,\"#bd3786\"],[0.5555555555555556,\"#d8576b\"],[0.6666666666666666,\"#ed7953\"],[0.7777777777777778,\"#fb9f3a\"],[0.8888888888888888,\"#fdca26\"],[1.0,\"#f0f921\"]],\"diverging\":[[0,\"#8e0152\"],[0.1,\"#c51b7d\"],[0.2,\"#de77ae\"],[0.3,\"#f1b6da\"],[0.4,\"#fde0ef\"],[0.5,\"#f7f7f7\"],[0.6,\"#e6f5d0\"],[0.7,\"#b8e186\"],[0.8,\"#7fbc41\"],[0.9,\"#4d9221\"],[1,\"#276419\"]]},\"xaxis\":{\"gridcolor\":\"white\",\"linecolor\":\"white\",\"ticks\":\"\",\"title\":{\"standoff\":15},\"zerolinecolor\":\"white\",\"automargin\":true,\"zerolinewidth\":2},\"yaxis\":{\"gridcolor\":\"white\",\"linecolor\":\"white\",\"ticks\":\"\",\"title\":{\"standoff\":15},\"zerolinecolor\":\"white\",\"automargin\":true,\"zerolinewidth\":2},\"scene\":{\"xaxis\":{\"backgroundcolor\":\"#E5ECF6\",\"gridcolor\":\"white\",\"linecolor\":\"white\",\"showbackground\":true,\"ticks\":\"\",\"zerolinecolor\":\"white\",\"gridwidth\":2},\"yaxis\":{\"backgroundcolor\":\"#E5ECF6\",\"gridcolor\":\"white\",\"linecolor\":\"white\",\"showbackground\":true,\"ticks\":\"\",\"zerolinecolor\":\"white\",\"gridwidth\":2},\"zaxis\":{\"backgroundcolor\":\"#E5ECF6\",\"gridcolor\":\"white\",\"linecolor\":\"white\",\"showbackground\":true,\"ticks\":\"\",\"zerolinecolor\":\"white\",\"gridwidth\":2}},\"shapedefaults\":{\"line\":{\"color\":\"#2a3f5f\"}},\"annotationdefaults\":{\"arrowcolor\":\"#2a3f5f\",\"arrowhead\":0,\"arrowwidth\":1},\"geo\":{\"bgcolor\":\"white\",\"landcolor\":\"#E5ECF6\",\"subunitcolor\":\"white\",\"showland\":true,\"showlakes\":true,\"lakecolor\":\"white\"},\"title\":{\"x\":0.05},\"mapbox\":{\"style\":\"light\"}}},\"xaxis\":{\"anchor\":\"y\",\"domain\":[0.0,1.0],\"title\":{\"text\":\"Tydzie\\u0144\"}},\"yaxis\":{\"anchor\":\"x\",\"domain\":[0.0,1.0],\"title\":{\"text\":\"Przychody tygodniowe\"}},\"legend\":{\"tracegroupgap\":0},\"title\":{\"text\":\"\\u0141\\u0105czny przych\\u00f3d z \\\"Sports and travel\\\" ka\\u017cdego tygodnia od pocz\\u0105tku roku\"}},                        {\"responsive\": true}                    ).then(function(){\n",
              "                            \n",
              "var gd = document.getElementById('09b1d4d9-e88d-4c9e-846d-a0d50855d553');\n",
              "var x = new MutationObserver(function (mutations, observer) {{\n",
              "        var display = window.getComputedStyle(gd).display;\n",
              "        if (!display || display === 'none') {{\n",
              "            console.log([gd, 'removed!']);\n",
              "            Plotly.purge(gd);\n",
              "            observer.disconnect();\n",
              "        }}\n",
              "}});\n",
              "\n",
              "// Listen for the removal of the full notebook cells\n",
              "var notebookContainer = gd.closest('#notebook-container');\n",
              "if (notebookContainer) {{\n",
              "    x.observe(notebookContainer, {childList: true});\n",
              "}}\n",
              "\n",
              "// Listen for the clearing of the current output cell\n",
              "var outputEl = gd.closest('.output');\n",
              "if (outputEl) {{\n",
              "    x.observe(outputEl, {childList: true});\n",
              "}}\n",
              "\n",
              "                        })                };                            </script>        </div>\n",
              "</body>\n",
              "</html>"
            ]
          },
          "metadata": {}
        }
      ],
      "source": [
        "filtered = df[df['Product line'] == 'Sports and travel'].copy()\n",
        "filtered['Week'] = filtered['Date'].dt.isocalendar().week.astype(int)\n",
        "grouped_df = filtered.groupby('Week')['Total'].sum().reset_index(name='Weekly Revenues')\n",
        "fig = px.scatter(grouped_df, x='Week', y='Weekly Revenues', trendline='lowess',\n",
        "                 labels={'Weekly Revenues': 'Przychody tygodniowe', 'Week': 'Tydzień'},\n",
        "                 title='Łączny przychód z \"Sports and travel\" każdego tygodnia od początku roku')\n",
        "\n",
        "fig.show()"
      ],
      "metadata": {
        "ExecuteTime": {
          "end_time": "2024-01-22T11:49:13.188760800Z",
          "start_time": "2024-01-22T11:49:13.130688400Z"
        },
        "colab": {
          "base_uri": "https://localhost:8080/",
          "height": 542
        },
        "id": "Me0sA9HeAOBs",
        "outputId": "6c2afd1a-2946-450a-c9a1-4c7241e9900d"
      }
    },
    {
      "cell_type": "markdown",
      "source": [
        "Jak widać przychód generowany ze sprzedaży artykułów sportowych na początku roku jest zbliżony do przychodu z końca marca. Natomiast można zauważyć zwiąkszony wpływ w czwartym tygodniu stycznia, co wskazywałoby, że faktycznie postanowienia noworoczne przekładają się na ilość wydawanych pieniędzy."
      ],
      "metadata": {
        "id": "n2NLmaV0qGVe"
      }
    },
    {
      "cell_type": "code",
      "execution_count": null,
      "outputs": [
        {
          "output_type": "display_data",
          "data": {
            "text/html": [
              "<html>\n",
              "<head><meta charset=\"utf-8\" /></head>\n",
              "<body>\n",
              "    <div>            <script src=\"https://cdnjs.cloudflare.com/ajax/libs/mathjax/2.7.5/MathJax.js?config=TeX-AMS-MML_SVG\"></script><script type=\"text/javascript\">if (window.MathJax && window.MathJax.Hub && window.MathJax.Hub.Config) {window.MathJax.Hub.Config({SVG: {font: \"STIX-Web\"}});}</script>                <script type=\"text/javascript\">window.PlotlyConfig = {MathJaxConfig: 'local'};</script>\n",
              "        <script charset=\"utf-8\" src=\"https://cdn.plot.ly/plotly-2.24.1.min.js\"></script>                <div id=\"2b1405e1-42fc-4132-bdac-26c5fdf24307\" class=\"plotly-graph-div\" style=\"height:525px; width:100%;\"></div>            <script type=\"text/javascript\">                                    window.PLOTLYENV=window.PLOTLYENV || {};                                    if (document.getElementById(\"2b1405e1-42fc-4132-bdac-26c5fdf24307\")) {                    Plotly.newPlot(                        \"2b1405e1-42fc-4132-bdac-26c5fdf24307\",                        [{\"hovertemplate\":\"Tydzie\\u0144=%{x}\\u003cbr\\u003eLiczba Zakup\\u00f3w=%{y}\\u003cextra\\u003e\\u003c\\u002fextra\\u003e\",\"legendgroup\":\"\",\"marker\":{\"color\":\"#636efa\",\"symbol\":\"circle\"},\"mode\":\"markers\",\"name\":\"\",\"orientation\":\"v\",\"showlegend\":false,\"x\":[1,2,3,4,5,6,7,8,9,10,11,12,13],\"xaxis\":\"x\",\"y\":[11,17,19,12,18,11,12,7,12,13,15,14,5],\"yaxis\":\"y\",\"type\":\"scatter\"},{\"hovertemplate\":\"\\u003cb\\u003eLOWESS trendline\\u003c\\u002fb\\u003e\\u003cbr\\u003e\\u003cbr\\u003eTydzie\\u0144=%{x}\\u003cbr\\u003eLiczba Zakup\\u00f3w=%{y} \\u003cb\\u003e(trend)\\u003c\\u002fb\\u003e\\u003cextra\\u003e\\u003c\\u002fextra\\u003e\",\"legendgroup\":\"\",\"marker\":{\"color\":\"#636efa\",\"symbol\":\"circle\"},\"mode\":\"lines\",\"name\":\"\",\"showlegend\":false,\"x\":[1,2,3,4,5,6,7,8,9,10,11,12,13],\"xaxis\":\"x\",\"y\":[14.431286484394413,14.755911771900893,14.968893465104708,15.152277592873979,14.060939705677187,12.584245036811398,11.710449354999923,11.35948428704638,11.719274111842736,12.186850928721173,11.596590263670707,10.924726940853976,10.053842113778225],\"yaxis\":\"y\",\"type\":\"scatter\"}],                        {\"template\":{\"data\":{\"histogram2dcontour\":[{\"type\":\"histogram2dcontour\",\"colorbar\":{\"outlinewidth\":0,\"ticks\":\"\"},\"colorscale\":[[0.0,\"#0d0887\"],[0.1111111111111111,\"#46039f\"],[0.2222222222222222,\"#7201a8\"],[0.3333333333333333,\"#9c179e\"],[0.4444444444444444,\"#bd3786\"],[0.5555555555555556,\"#d8576b\"],[0.6666666666666666,\"#ed7953\"],[0.7777777777777778,\"#fb9f3a\"],[0.8888888888888888,\"#fdca26\"],[1.0,\"#f0f921\"]]}],\"choropleth\":[{\"type\":\"choropleth\",\"colorbar\":{\"outlinewidth\":0,\"ticks\":\"\"}}],\"histogram2d\":[{\"type\":\"histogram2d\",\"colorbar\":{\"outlinewidth\":0,\"ticks\":\"\"},\"colorscale\":[[0.0,\"#0d0887\"],[0.1111111111111111,\"#46039f\"],[0.2222222222222222,\"#7201a8\"],[0.3333333333333333,\"#9c179e\"],[0.4444444444444444,\"#bd3786\"],[0.5555555555555556,\"#d8576b\"],[0.6666666666666666,\"#ed7953\"],[0.7777777777777778,\"#fb9f3a\"],[0.8888888888888888,\"#fdca26\"],[1.0,\"#f0f921\"]]}],\"heatmap\":[{\"type\":\"heatmap\",\"colorbar\":{\"outlinewidth\":0,\"ticks\":\"\"},\"colorscale\":[[0.0,\"#0d0887\"],[0.1111111111111111,\"#46039f\"],[0.2222222222222222,\"#7201a8\"],[0.3333333333333333,\"#9c179e\"],[0.4444444444444444,\"#bd3786\"],[0.5555555555555556,\"#d8576b\"],[0.6666666666666666,\"#ed7953\"],[0.7777777777777778,\"#fb9f3a\"],[0.8888888888888888,\"#fdca26\"],[1.0,\"#f0f921\"]]}],\"heatmapgl\":[{\"type\":\"heatmapgl\",\"colorbar\":{\"outlinewidth\":0,\"ticks\":\"\"},\"colorscale\":[[0.0,\"#0d0887\"],[0.1111111111111111,\"#46039f\"],[0.2222222222222222,\"#7201a8\"],[0.3333333333333333,\"#9c179e\"],[0.4444444444444444,\"#bd3786\"],[0.5555555555555556,\"#d8576b\"],[0.6666666666666666,\"#ed7953\"],[0.7777777777777778,\"#fb9f3a\"],[0.8888888888888888,\"#fdca26\"],[1.0,\"#f0f921\"]]}],\"contourcarpet\":[{\"type\":\"contourcarpet\",\"colorbar\":{\"outlinewidth\":0,\"ticks\":\"\"}}],\"contour\":[{\"type\":\"contour\",\"colorbar\":{\"outlinewidth\":0,\"ticks\":\"\"},\"colorscale\":[[0.0,\"#0d0887\"],[0.1111111111111111,\"#46039f\"],[0.2222222222222222,\"#7201a8\"],[0.3333333333333333,\"#9c179e\"],[0.4444444444444444,\"#bd3786\"],[0.5555555555555556,\"#d8576b\"],[0.6666666666666666,\"#ed7953\"],[0.7777777777777778,\"#fb9f3a\"],[0.8888888888888888,\"#fdca26\"],[1.0,\"#f0f921\"]]}],\"surface\":[{\"type\":\"surface\",\"colorbar\":{\"outlinewidth\":0,\"ticks\":\"\"},\"colorscale\":[[0.0,\"#0d0887\"],[0.1111111111111111,\"#46039f\"],[0.2222222222222222,\"#7201a8\"],[0.3333333333333333,\"#9c179e\"],[0.4444444444444444,\"#bd3786\"],[0.5555555555555556,\"#d8576b\"],[0.6666666666666666,\"#ed7953\"],[0.7777777777777778,\"#fb9f3a\"],[0.8888888888888888,\"#fdca26\"],[1.0,\"#f0f921\"]]}],\"mesh3d\":[{\"type\":\"mesh3d\",\"colorbar\":{\"outlinewidth\":0,\"ticks\":\"\"}}],\"scatter\":[{\"fillpattern\":{\"fillmode\":\"overlay\",\"size\":10,\"solidity\":0.2},\"type\":\"scatter\"}],\"parcoords\":[{\"type\":\"parcoords\",\"line\":{\"colorbar\":{\"outlinewidth\":0,\"ticks\":\"\"}}}],\"scatterpolargl\":[{\"type\":\"scatterpolargl\",\"marker\":{\"colorbar\":{\"outlinewidth\":0,\"ticks\":\"\"}}}],\"bar\":[{\"error_x\":{\"color\":\"#2a3f5f\"},\"error_y\":{\"color\":\"#2a3f5f\"},\"marker\":{\"line\":{\"color\":\"#E5ECF6\",\"width\":0.5},\"pattern\":{\"fillmode\":\"overlay\",\"size\":10,\"solidity\":0.2}},\"type\":\"bar\"}],\"scattergeo\":[{\"type\":\"scattergeo\",\"marker\":{\"colorbar\":{\"outlinewidth\":0,\"ticks\":\"\"}}}],\"scatterpolar\":[{\"type\":\"scatterpolar\",\"marker\":{\"colorbar\":{\"outlinewidth\":0,\"ticks\":\"\"}}}],\"histogram\":[{\"marker\":{\"pattern\":{\"fillmode\":\"overlay\",\"size\":10,\"solidity\":0.2}},\"type\":\"histogram\"}],\"scattergl\":[{\"type\":\"scattergl\",\"marker\":{\"colorbar\":{\"outlinewidth\":0,\"ticks\":\"\"}}}],\"scatter3d\":[{\"type\":\"scatter3d\",\"line\":{\"colorbar\":{\"outlinewidth\":0,\"ticks\":\"\"}},\"marker\":{\"colorbar\":{\"outlinewidth\":0,\"ticks\":\"\"}}}],\"scattermapbox\":[{\"type\":\"scattermapbox\",\"marker\":{\"colorbar\":{\"outlinewidth\":0,\"ticks\":\"\"}}}],\"scatterternary\":[{\"type\":\"scatterternary\",\"marker\":{\"colorbar\":{\"outlinewidth\":0,\"ticks\":\"\"}}}],\"scattercarpet\":[{\"type\":\"scattercarpet\",\"marker\":{\"colorbar\":{\"outlinewidth\":0,\"ticks\":\"\"}}}],\"carpet\":[{\"aaxis\":{\"endlinecolor\":\"#2a3f5f\",\"gridcolor\":\"white\",\"linecolor\":\"white\",\"minorgridcolor\":\"white\",\"startlinecolor\":\"#2a3f5f\"},\"baxis\":{\"endlinecolor\":\"#2a3f5f\",\"gridcolor\":\"white\",\"linecolor\":\"white\",\"minorgridcolor\":\"white\",\"startlinecolor\":\"#2a3f5f\"},\"type\":\"carpet\"}],\"table\":[{\"cells\":{\"fill\":{\"color\":\"#EBF0F8\"},\"line\":{\"color\":\"white\"}},\"header\":{\"fill\":{\"color\":\"#C8D4E3\"},\"line\":{\"color\":\"white\"}},\"type\":\"table\"}],\"barpolar\":[{\"marker\":{\"line\":{\"color\":\"#E5ECF6\",\"width\":0.5},\"pattern\":{\"fillmode\":\"overlay\",\"size\":10,\"solidity\":0.2}},\"type\":\"barpolar\"}],\"pie\":[{\"automargin\":true,\"type\":\"pie\"}]},\"layout\":{\"autotypenumbers\":\"strict\",\"colorway\":[\"#636efa\",\"#EF553B\",\"#00cc96\",\"#ab63fa\",\"#FFA15A\",\"#19d3f3\",\"#FF6692\",\"#B6E880\",\"#FF97FF\",\"#FECB52\"],\"font\":{\"color\":\"#2a3f5f\"},\"hovermode\":\"closest\",\"hoverlabel\":{\"align\":\"left\"},\"paper_bgcolor\":\"white\",\"plot_bgcolor\":\"#E5ECF6\",\"polar\":{\"bgcolor\":\"#E5ECF6\",\"angularaxis\":{\"gridcolor\":\"white\",\"linecolor\":\"white\",\"ticks\":\"\"},\"radialaxis\":{\"gridcolor\":\"white\",\"linecolor\":\"white\",\"ticks\":\"\"}},\"ternary\":{\"bgcolor\":\"#E5ECF6\",\"aaxis\":{\"gridcolor\":\"white\",\"linecolor\":\"white\",\"ticks\":\"\"},\"baxis\":{\"gridcolor\":\"white\",\"linecolor\":\"white\",\"ticks\":\"\"},\"caxis\":{\"gridcolor\":\"white\",\"linecolor\":\"white\",\"ticks\":\"\"}},\"coloraxis\":{\"colorbar\":{\"outlinewidth\":0,\"ticks\":\"\"}},\"colorscale\":{\"sequential\":[[0.0,\"#0d0887\"],[0.1111111111111111,\"#46039f\"],[0.2222222222222222,\"#7201a8\"],[0.3333333333333333,\"#9c179e\"],[0.4444444444444444,\"#bd3786\"],[0.5555555555555556,\"#d8576b\"],[0.6666666666666666,\"#ed7953\"],[0.7777777777777778,\"#fb9f3a\"],[0.8888888888888888,\"#fdca26\"],[1.0,\"#f0f921\"]],\"sequentialminus\":[[0.0,\"#0d0887\"],[0.1111111111111111,\"#46039f\"],[0.2222222222222222,\"#7201a8\"],[0.3333333333333333,\"#9c179e\"],[0.4444444444444444,\"#bd3786\"],[0.5555555555555556,\"#d8576b\"],[0.6666666666666666,\"#ed7953\"],[0.7777777777777778,\"#fb9f3a\"],[0.8888888888888888,\"#fdca26\"],[1.0,\"#f0f921\"]],\"diverging\":[[0,\"#8e0152\"],[0.1,\"#c51b7d\"],[0.2,\"#de77ae\"],[0.3,\"#f1b6da\"],[0.4,\"#fde0ef\"],[0.5,\"#f7f7f7\"],[0.6,\"#e6f5d0\"],[0.7,\"#b8e186\"],[0.8,\"#7fbc41\"],[0.9,\"#4d9221\"],[1,\"#276419\"]]},\"xaxis\":{\"gridcolor\":\"white\",\"linecolor\":\"white\",\"ticks\":\"\",\"title\":{\"standoff\":15},\"zerolinecolor\":\"white\",\"automargin\":true,\"zerolinewidth\":2},\"yaxis\":{\"gridcolor\":\"white\",\"linecolor\":\"white\",\"ticks\":\"\",\"title\":{\"standoff\":15},\"zerolinecolor\":\"white\",\"automargin\":true,\"zerolinewidth\":2},\"scene\":{\"xaxis\":{\"backgroundcolor\":\"#E5ECF6\",\"gridcolor\":\"white\",\"linecolor\":\"white\",\"showbackground\":true,\"ticks\":\"\",\"zerolinecolor\":\"white\",\"gridwidth\":2},\"yaxis\":{\"backgroundcolor\":\"#E5ECF6\",\"gridcolor\":\"white\",\"linecolor\":\"white\",\"showbackground\":true,\"ticks\":\"\",\"zerolinecolor\":\"white\",\"gridwidth\":2},\"zaxis\":{\"backgroundcolor\":\"#E5ECF6\",\"gridcolor\":\"white\",\"linecolor\":\"white\",\"showbackground\":true,\"ticks\":\"\",\"zerolinecolor\":\"white\",\"gridwidth\":2}},\"shapedefaults\":{\"line\":{\"color\":\"#2a3f5f\"}},\"annotationdefaults\":{\"arrowcolor\":\"#2a3f5f\",\"arrowhead\":0,\"arrowwidth\":1},\"geo\":{\"bgcolor\":\"white\",\"landcolor\":\"#E5ECF6\",\"subunitcolor\":\"white\",\"showland\":true,\"showlakes\":true,\"lakecolor\":\"white\"},\"title\":{\"x\":0.05},\"mapbox\":{\"style\":\"light\"}}},\"xaxis\":{\"anchor\":\"y\",\"domain\":[0.0,1.0],\"title\":{\"text\":\"Tydzie\\u0144\"}},\"yaxis\":{\"anchor\":\"x\",\"domain\":[0.0,1.0],\"title\":{\"text\":\"Liczba Zakup\\u00f3w\"}},\"legend\":{\"tracegroupgap\":0},\"title\":{\"text\":\"Liczba zakup\\u00f3w \\\"Sports and travel\\\" ka\\u017cdego tygodnia\"}},                        {\"responsive\": true}                    ).then(function(){\n",
              "                            \n",
              "var gd = document.getElementById('2b1405e1-42fc-4132-bdac-26c5fdf24307');\n",
              "var x = new MutationObserver(function (mutations, observer) {{\n",
              "        var display = window.getComputedStyle(gd).display;\n",
              "        if (!display || display === 'none') {{\n",
              "            console.log([gd, 'removed!']);\n",
              "            Plotly.purge(gd);\n",
              "            observer.disconnect();\n",
              "        }}\n",
              "}});\n",
              "\n",
              "// Listen for the removal of the full notebook cells\n",
              "var notebookContainer = gd.closest('#notebook-container');\n",
              "if (notebookContainer) {{\n",
              "    x.observe(notebookContainer, {childList: true});\n",
              "}}\n",
              "\n",
              "// Listen for the clearing of the current output cell\n",
              "var outputEl = gd.closest('.output');\n",
              "if (outputEl) {{\n",
              "    x.observe(outputEl, {childList: true});\n",
              "}}\n",
              "\n",
              "                        })                };                            </script>        </div>\n",
              "</body>\n",
              "</html>"
            ]
          },
          "metadata": {}
        }
      ],
      "source": [
        "weekly_counts = filtered.groupby('Week').size().reset_index(name='Liczba Zakupów')\n",
        "fig = px.scatter(weekly_counts, x='Week', y='Liczba Zakupów', trendline='lowess',\n",
        "                 labels={'Week':'Tydzień'},\n",
        "                 title='Liczba zakupów \"Sports and travel\" każdego tygodnia')\n",
        "fig.show()\n"
      ],
      "metadata": {
        "ExecuteTime": {
          "end_time": "2024-01-22T11:49:13.245240400Z",
          "start_time": "2024-01-22T11:49:13.189759200Z"
        },
        "colab": {
          "base_uri": "https://localhost:8080/",
          "height": 542
        },
        "id": "A6HdMfGwAOBt",
        "outputId": "5882a797-5ddd-434f-a163-70c62dab38c4"
      }
    },
    {
      "cell_type": "markdown",
      "source": [
        "W przypadku liczby zakupów widzimy wyraźną tendencję spadkową zakupów związanych ze sportem i podróżami zaczynającą się z końcem stycznia i trwającą do końca marca."
      ],
      "metadata": {
        "id": "uX0vtQHmqwJ3"
      }
    },
    {
      "cell_type": "code",
      "source": [],
      "metadata": {
        "id": "MS3sL2eOzOML"
      },
      "execution_count": null,
      "outputs": []
    }
  ],
  "metadata": {
    "kernelspec": {
      "display_name": "Python 3",
      "language": "python",
      "name": "python3"
    },
    "language_info": {
      "codemirror_mode": {
        "name": "ipython",
        "version": 2
      },
      "file_extension": ".py",
      "mimetype": "text/x-python",
      "name": "python",
      "nbconvert_exporter": "python",
      "pygments_lexer": "ipython2",
      "version": "2.7.6"
    },
    "colab": {
      "provenance": [],
      "include_colab_link": true
    }
  },
  "nbformat": 4,
  "nbformat_minor": 0
}